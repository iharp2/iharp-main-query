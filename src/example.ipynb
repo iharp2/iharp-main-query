{
 "cells": [
  {
   "cell_type": "code",
   "execution_count": 1,
   "metadata": {},
   "outputs": [
    {
     "data": {
      "application/javascript": "(function(root) {\n  function now() {\n    return new Date();\n  }\n\n  var force = true;\n  var py_version = '3.3.4'.replace('rc', '-rc.').replace('.dev', '-dev.');\n  var reloading = false;\n  var Bokeh = root.Bokeh;\n\n  if (typeof (root._bokeh_timeout) === \"undefined\" || force) {\n    root._bokeh_timeout = Date.now() + 5000;\n    root._bokeh_failed_load = false;\n  }\n\n  function run_callbacks() {\n    try {\n      root._bokeh_onload_callbacks.forEach(function(callback) {\n        if (callback != null)\n          callback();\n      });\n    } finally {\n      delete root._bokeh_onload_callbacks;\n    }\n    console.debug(\"Bokeh: all callbacks have finished\");\n  }\n\n  function load_libs(css_urls, js_urls, js_modules, js_exports, callback) {\n    if (css_urls == null) css_urls = [];\n    if (js_urls == null) js_urls = [];\n    if (js_modules == null) js_modules = [];\n    if (js_exports == null) js_exports = {};\n\n    root._bokeh_onload_callbacks.push(callback);\n\n    if (root._bokeh_is_loading > 0) {\n      console.debug(\"Bokeh: BokehJS is being loaded, scheduling callback at\", now());\n      return null;\n    }\n    if (js_urls.length === 0 && js_modules.length === 0 && Object.keys(js_exports).length === 0) {\n      run_callbacks();\n      return null;\n    }\n    if (!reloading) {\n      console.debug(\"Bokeh: BokehJS not loaded, scheduling load and callback at\", now());\n    }\n\n    function on_load() {\n      root._bokeh_is_loading--;\n      if (root._bokeh_is_loading === 0) {\n        console.debug(\"Bokeh: all BokehJS libraries/stylesheets loaded\");\n        run_callbacks()\n      }\n    }\n    window._bokeh_on_load = on_load\n\n    function on_error() {\n      console.error(\"failed to load \" + url);\n    }\n\n    var skip = [];\n    if (window.requirejs) {\n      window.requirejs.config({'packages': {}, 'paths': {'jspanel': 'https://cdn.jsdelivr.net/npm/jspanel4@4.12.0/dist/jspanel', 'jspanel-modal': 'https://cdn.jsdelivr.net/npm/jspanel4@4.12.0/dist/extensions/modal/jspanel.modal', 'jspanel-tooltip': 'https://cdn.jsdelivr.net/npm/jspanel4@4.12.0/dist/extensions/tooltip/jspanel.tooltip', 'jspanel-hint': 'https://cdn.jsdelivr.net/npm/jspanel4@4.12.0/dist/extensions/hint/jspanel.hint', 'jspanel-layout': 'https://cdn.jsdelivr.net/npm/jspanel4@4.12.0/dist/extensions/layout/jspanel.layout', 'jspanel-contextmenu': 'https://cdn.jsdelivr.net/npm/jspanel4@4.12.0/dist/extensions/contextmenu/jspanel.contextmenu', 'jspanel-dock': 'https://cdn.jsdelivr.net/npm/jspanel4@4.12.0/dist/extensions/dock/jspanel.dock', 'gridstack': 'https://cdn.jsdelivr.net/npm/gridstack@7.2.3/dist/gridstack-all', 'notyf': 'https://cdn.jsdelivr.net/npm/notyf@3/notyf.min'}, 'shim': {'jspanel': {'exports': 'jsPanel'}, 'gridstack': {'exports': 'GridStack'}}});\n      require([\"jspanel\"], function(jsPanel) {\n\twindow.jsPanel = jsPanel\n\ton_load()\n      })\n      require([\"jspanel-modal\"], function() {\n\ton_load()\n      })\n      require([\"jspanel-tooltip\"], function() {\n\ton_load()\n      })\n      require([\"jspanel-hint\"], function() {\n\ton_load()\n      })\n      require([\"jspanel-layout\"], function() {\n\ton_load()\n      })\n      require([\"jspanel-contextmenu\"], function() {\n\ton_load()\n      })\n      require([\"jspanel-dock\"], function() {\n\ton_load()\n      })\n      require([\"gridstack\"], function(GridStack) {\n\twindow.GridStack = GridStack\n\ton_load()\n      })\n      require([\"notyf\"], function() {\n\ton_load()\n      })\n      root._bokeh_is_loading = css_urls.length + 9;\n    } else {\n      root._bokeh_is_loading = css_urls.length + js_urls.length + js_modules.length + Object.keys(js_exports).length;\n    }\n\n    var existing_stylesheets = []\n    var links = document.getElementsByTagName('link')\n    for (var i = 0; i < links.length; i++) {\n      var link = links[i]\n      if (link.href != null) {\n\texisting_stylesheets.push(link.href)\n      }\n    }\n    for (var i = 0; i < css_urls.length; i++) {\n      var url = css_urls[i];\n      if (existing_stylesheets.indexOf(url) !== -1) {\n\ton_load()\n\tcontinue;\n      }\n      const element = document.createElement(\"link\");\n      element.onload = on_load;\n      element.onerror = on_error;\n      element.rel = \"stylesheet\";\n      element.type = \"text/css\";\n      element.href = url;\n      console.debug(\"Bokeh: injecting link tag for BokehJS stylesheet: \", url);\n      document.body.appendChild(element);\n    }    if (((window['jsPanel'] !== undefined) && (!(window['jsPanel'] instanceof HTMLElement))) || window.requirejs) {\n      var urls = ['https://cdn.holoviz.org/panel/1.3.8/dist/bundled/floatpanel/jspanel4@4.12.0/dist/jspanel.js', 'https://cdn.holoviz.org/panel/1.3.8/dist/bundled/floatpanel/jspanel4@4.12.0/dist/extensions/modal/jspanel.modal.js', 'https://cdn.holoviz.org/panel/1.3.8/dist/bundled/floatpanel/jspanel4@4.12.0/dist/extensions/tooltip/jspanel.tooltip.js', 'https://cdn.holoviz.org/panel/1.3.8/dist/bundled/floatpanel/jspanel4@4.12.0/dist/extensions/hint/jspanel.hint.js', 'https://cdn.holoviz.org/panel/1.3.8/dist/bundled/floatpanel/jspanel4@4.12.0/dist/extensions/layout/jspanel.layout.js', 'https://cdn.holoviz.org/panel/1.3.8/dist/bundled/floatpanel/jspanel4@4.12.0/dist/extensions/contextmenu/jspanel.contextmenu.js', 'https://cdn.holoviz.org/panel/1.3.8/dist/bundled/floatpanel/jspanel4@4.12.0/dist/extensions/dock/jspanel.dock.js'];\n      for (var i = 0; i < urls.length; i++) {\n        skip.push(urls[i])\n      }\n    }    if (((window['GridStack'] !== undefined) && (!(window['GridStack'] instanceof HTMLElement))) || window.requirejs) {\n      var urls = ['https://cdn.holoviz.org/panel/1.3.8/dist/bundled/gridstack/gridstack@7.2.3/dist/gridstack-all.js'];\n      for (var i = 0; i < urls.length; i++) {\n        skip.push(urls[i])\n      }\n    }    if (((window['Notyf'] !== undefined) && (!(window['Notyf'] instanceof HTMLElement))) || window.requirejs) {\n      var urls = ['https://cdn.holoviz.org/panel/1.3.8/dist/bundled/notificationarea/notyf@3/notyf.min.js'];\n      for (var i = 0; i < urls.length; i++) {\n        skip.push(urls[i])\n      }\n    }    var existing_scripts = []\n    var scripts = document.getElementsByTagName('script')\n    for (var i = 0; i < scripts.length; i++) {\n      var script = scripts[i]\n      if (script.src != null) {\n\texisting_scripts.push(script.src)\n      }\n    }\n    for (var i = 0; i < js_urls.length; i++) {\n      var url = js_urls[i];\n      if (skip.indexOf(url) !== -1 || existing_scripts.indexOf(url) !== -1) {\n\tif (!window.requirejs) {\n\t  on_load();\n\t}\n\tcontinue;\n      }\n      var element = document.createElement('script');\n      element.onload = on_load;\n      element.onerror = on_error;\n      element.async = false;\n      element.src = url;\n      console.debug(\"Bokeh: injecting script tag for BokehJS library: \", url);\n      document.head.appendChild(element);\n    }\n    for (var i = 0; i < js_modules.length; i++) {\n      var url = js_modules[i];\n      if (skip.indexOf(url) !== -1 || existing_scripts.indexOf(url) !== -1) {\n\tif (!window.requirejs) {\n\t  on_load();\n\t}\n\tcontinue;\n      }\n      var element = document.createElement('script');\n      element.onload = on_load;\n      element.onerror = on_error;\n      element.async = false;\n      element.src = url;\n      element.type = \"module\";\n      console.debug(\"Bokeh: injecting script tag for BokehJS library: \", url);\n      document.head.appendChild(element);\n    }\n    for (const name in js_exports) {\n      var url = js_exports[name];\n      if (skip.indexOf(url) >= 0 || root[name] != null) {\n\tif (!window.requirejs) {\n\t  on_load();\n\t}\n\tcontinue;\n      }\n      var element = document.createElement('script');\n      element.onerror = on_error;\n      element.async = false;\n      element.type = \"module\";\n      console.debug(\"Bokeh: injecting script tag for BokehJS library: \", url);\n      element.textContent = `\n      import ${name} from \"${url}\"\n      window.${name} = ${name}\n      window._bokeh_on_load()\n      `\n      document.head.appendChild(element);\n    }\n    if (!js_urls.length && !js_modules.length) {\n      on_load()\n    }\n  };\n\n  function inject_raw_css(css) {\n    const element = document.createElement(\"style\");\n    element.appendChild(document.createTextNode(css));\n    document.body.appendChild(element);\n  }\n\n  var js_urls = [\"https://cdn.bokeh.org/bokeh/release/bokeh-3.3.4.min.js\", \"https://cdn.bokeh.org/bokeh/release/bokeh-gl-3.3.4.min.js\", \"https://cdn.bokeh.org/bokeh/release/bokeh-widgets-3.3.4.min.js\", \"https://cdn.bokeh.org/bokeh/release/bokeh-tables-3.3.4.min.js\", \"https://cdn.holoviz.org/panel/1.3.8/dist/panel.min.js\", \"https://cdn.jsdelivr.net/npm/@holoviz/geoviews@1.11.1/dist/geoviews.min.js\"];\n  var js_modules = [];\n  var js_exports = {};\n  var css_urls = [];\n  var inline_js = [    function(Bokeh) {\n      Bokeh.set_log_level(\"info\");\n    },\nfunction(Bokeh) {} // ensure no trailing comma for IE\n  ];\n\n  function run_inline_js() {\n    if ((root.Bokeh !== undefined) || (force === true)) {\n      for (var i = 0; i < inline_js.length; i++) {\n\ttry {\n          inline_js[i].call(root, root.Bokeh);\n\t} catch(e) {\n\t  if (!reloading) {\n\t    throw e;\n\t  }\n\t}\n      }\n      // Cache old bokeh versions\n      if (Bokeh != undefined && !reloading) {\n\tvar NewBokeh = root.Bokeh;\n\tif (Bokeh.versions === undefined) {\n\t  Bokeh.versions = new Map();\n\t}\n\tif (NewBokeh.version !== Bokeh.version) {\n\t  Bokeh.versions.set(NewBokeh.version, NewBokeh)\n\t}\n\troot.Bokeh = Bokeh;\n      }} else if (Date.now() < root._bokeh_timeout) {\n      setTimeout(run_inline_js, 100);\n    } else if (!root._bokeh_failed_load) {\n      console.log(\"Bokeh: BokehJS failed to load within specified timeout.\");\n      root._bokeh_failed_load = true;\n    }\n    root._bokeh_is_initializing = false\n  }\n\n  function load_or_wait() {\n    // Implement a backoff loop that tries to ensure we do not load multiple\n    // versions of Bokeh and its dependencies at the same time.\n    // In recent versions we use the root._bokeh_is_initializing flag\n    // to determine whether there is an ongoing attempt to initialize\n    // bokeh, however for backward compatibility we also try to ensure\n    // that we do not start loading a newer (Panel>=1.0 and Bokeh>3) version\n    // before older versions are fully initialized.\n    if (root._bokeh_is_initializing && Date.now() > root._bokeh_timeout) {\n      root._bokeh_is_initializing = false;\n      root._bokeh_onload_callbacks = undefined;\n      console.log(\"Bokeh: BokehJS was loaded multiple times but one version failed to initialize.\");\n      load_or_wait();\n    } else if (root._bokeh_is_initializing || (typeof root._bokeh_is_initializing === \"undefined\" && root._bokeh_onload_callbacks !== undefined)) {\n      setTimeout(load_or_wait, 100);\n    } else {\n      root._bokeh_is_initializing = true\n      root._bokeh_onload_callbacks = []\n      var bokeh_loaded = Bokeh != null && (Bokeh.version === py_version || (Bokeh.versions !== undefined && Bokeh.versions.has(py_version)));\n      if (!reloading && !bokeh_loaded) {\n\troot.Bokeh = undefined;\n      }\n      load_libs(css_urls, js_urls, js_modules, js_exports, function() {\n\tconsole.debug(\"Bokeh: BokehJS plotting callback run at\", now());\n\trun_inline_js();\n      });\n    }\n  }\n  // Give older versions of the autoload script a head-start to ensure\n  // they initialize before we start loading newer version.\n  setTimeout(load_or_wait, 100)\n}(window));",
      "application/vnd.holoviews_load.v0+json": ""
     },
     "metadata": {},
     "output_type": "display_data"
    },
    {
     "data": {
      "application/javascript": "\nif ((window.PyViz === undefined) || (window.PyViz instanceof HTMLElement)) {\n  window.PyViz = {comms: {}, comm_status:{}, kernels:{}, receivers: {}, plot_index: []}\n}\n\n\n    function JupyterCommManager() {\n    }\n\n    JupyterCommManager.prototype.register_target = function(plot_id, comm_id, msg_handler) {\n      if (window.comm_manager || ((window.Jupyter !== undefined) && (Jupyter.notebook.kernel != null))) {\n        var comm_manager = window.comm_manager || Jupyter.notebook.kernel.comm_manager;\n        comm_manager.register_target(comm_id, function(comm) {\n          comm.on_msg(msg_handler);\n        });\n      } else if ((plot_id in window.PyViz.kernels) && (window.PyViz.kernels[plot_id])) {\n        window.PyViz.kernels[plot_id].registerCommTarget(comm_id, function(comm) {\n          comm.onMsg = msg_handler;\n        });\n      } else if (typeof google != 'undefined' && google.colab.kernel != null) {\n        google.colab.kernel.comms.registerTarget(comm_id, (comm) => {\n          var messages = comm.messages[Symbol.asyncIterator]();\n          function processIteratorResult(result) {\n            var message = result.value;\n            console.log(message)\n            var content = {data: message.data, comm_id};\n            var buffers = []\n            for (var buffer of message.buffers || []) {\n              buffers.push(new DataView(buffer))\n            }\n            var metadata = message.metadata || {};\n            var msg = {content, buffers, metadata}\n            msg_handler(msg);\n            return messages.next().then(processIteratorResult);\n          }\n          return messages.next().then(processIteratorResult);\n        })\n      }\n    }\n\n    JupyterCommManager.prototype.get_client_comm = function(plot_id, comm_id, msg_handler) {\n      if (comm_id in window.PyViz.comms) {\n        return window.PyViz.comms[comm_id];\n      } else if (window.comm_manager || ((window.Jupyter !== undefined) && (Jupyter.notebook.kernel != null))) {\n        var comm_manager = window.comm_manager || Jupyter.notebook.kernel.comm_manager;\n        var comm = comm_manager.new_comm(comm_id, {}, {}, {}, comm_id);\n        if (msg_handler) {\n          comm.on_msg(msg_handler);\n        }\n      } else if ((plot_id in window.PyViz.kernels) && (window.PyViz.kernels[plot_id])) {\n        var comm = window.PyViz.kernels[plot_id].connectToComm(comm_id);\n        comm.open();\n        if (msg_handler) {\n          comm.onMsg = msg_handler;\n        }\n      } else if (typeof google != 'undefined' && google.colab.kernel != null) {\n        var comm_promise = google.colab.kernel.comms.open(comm_id)\n        comm_promise.then((comm) => {\n          window.PyViz.comms[comm_id] = comm;\n          if (msg_handler) {\n            var messages = comm.messages[Symbol.asyncIterator]();\n            function processIteratorResult(result) {\n              var message = result.value;\n              var content = {data: message.data};\n              var metadata = message.metadata || {comm_id};\n              var msg = {content, metadata}\n              msg_handler(msg);\n              return messages.next().then(processIteratorResult);\n            }\n            return messages.next().then(processIteratorResult);\n          }\n        }) \n        var sendClosure = (data, metadata, buffers, disposeOnDone) => {\n          return comm_promise.then((comm) => {\n            comm.send(data, metadata, buffers, disposeOnDone);\n          });\n        };\n        var comm = {\n          send: sendClosure\n        };\n      }\n      window.PyViz.comms[comm_id] = comm;\n      return comm;\n    }\n    window.PyViz.comm_manager = new JupyterCommManager();\n    \n\n\nvar JS_MIME_TYPE = 'application/javascript';\nvar HTML_MIME_TYPE = 'text/html';\nvar EXEC_MIME_TYPE = 'application/vnd.holoviews_exec.v0+json';\nvar CLASS_NAME = 'output';\n\n/**\n * Render data to the DOM node\n */\nfunction render(props, node) {\n  var div = document.createElement(\"div\");\n  var script = document.createElement(\"script\");\n  node.appendChild(div);\n  node.appendChild(script);\n}\n\n/**\n * Handle when a new output is added\n */\nfunction handle_add_output(event, handle) {\n  var output_area = handle.output_area;\n  var output = handle.output;\n  if ((output.data == undefined) || (!output.data.hasOwnProperty(EXEC_MIME_TYPE))) {\n    return\n  }\n  var id = output.metadata[EXEC_MIME_TYPE][\"id\"];\n  var toinsert = output_area.element.find(\".\" + CLASS_NAME.split(' ')[0]);\n  if (id !== undefined) {\n    var nchildren = toinsert.length;\n    var html_node = toinsert[nchildren-1].children[0];\n    html_node.innerHTML = output.data[HTML_MIME_TYPE];\n    var scripts = [];\n    var nodelist = html_node.querySelectorAll(\"script\");\n    for (var i in nodelist) {\n      if (nodelist.hasOwnProperty(i)) {\n        scripts.push(nodelist[i])\n      }\n    }\n\n    scripts.forEach( function (oldScript) {\n      var newScript = document.createElement(\"script\");\n      var attrs = [];\n      var nodemap = oldScript.attributes;\n      for (var j in nodemap) {\n        if (nodemap.hasOwnProperty(j)) {\n          attrs.push(nodemap[j])\n        }\n      }\n      attrs.forEach(function(attr) { newScript.setAttribute(attr.name, attr.value) });\n      newScript.appendChild(document.createTextNode(oldScript.innerHTML));\n      oldScript.parentNode.replaceChild(newScript, oldScript);\n    });\n    if (JS_MIME_TYPE in output.data) {\n      toinsert[nchildren-1].children[1].textContent = output.data[JS_MIME_TYPE];\n    }\n    output_area._hv_plot_id = id;\n    if ((window.Bokeh !== undefined) && (id in Bokeh.index)) {\n      window.PyViz.plot_index[id] = Bokeh.index[id];\n    } else {\n      window.PyViz.plot_index[id] = null;\n    }\n  } else if (output.metadata[EXEC_MIME_TYPE][\"server_id\"] !== undefined) {\n    var bk_div = document.createElement(\"div\");\n    bk_div.innerHTML = output.data[HTML_MIME_TYPE];\n    var script_attrs = bk_div.children[0].attributes;\n    for (var i = 0; i < script_attrs.length; i++) {\n      toinsert[toinsert.length - 1].childNodes[1].setAttribute(script_attrs[i].name, script_attrs[i].value);\n    }\n    // store reference to server id on output_area\n    output_area._bokeh_server_id = output.metadata[EXEC_MIME_TYPE][\"server_id\"];\n  }\n}\n\n/**\n * Handle when an output is cleared or removed\n */\nfunction handle_clear_output(event, handle) {\n  var id = handle.cell.output_area._hv_plot_id;\n  var server_id = handle.cell.output_area._bokeh_server_id;\n  if (((id === undefined) || !(id in PyViz.plot_index)) && (server_id !== undefined)) { return; }\n  var comm = window.PyViz.comm_manager.get_client_comm(\"hv-extension-comm\", \"hv-extension-comm\", function () {});\n  if (server_id !== null) {\n    comm.send({event_type: 'server_delete', 'id': server_id});\n    return;\n  } else if (comm !== null) {\n    comm.send({event_type: 'delete', 'id': id});\n  }\n  delete PyViz.plot_index[id];\n  if ((window.Bokeh !== undefined) & (id in window.Bokeh.index)) {\n    var doc = window.Bokeh.index[id].model.document\n    doc.clear();\n    const i = window.Bokeh.documents.indexOf(doc);\n    if (i > -1) {\n      window.Bokeh.documents.splice(i, 1);\n    }\n  }\n}\n\n/**\n * Handle kernel restart event\n */\nfunction handle_kernel_cleanup(event, handle) {\n  delete PyViz.comms[\"hv-extension-comm\"];\n  window.PyViz.plot_index = {}\n}\n\n/**\n * Handle update_display_data messages\n */\nfunction handle_update_output(event, handle) {\n  handle_clear_output(event, {cell: {output_area: handle.output_area}})\n  handle_add_output(event, handle)\n}\n\nfunction register_renderer(events, OutputArea) {\n  function append_mime(data, metadata, element) {\n    // create a DOM node to render to\n    var toinsert = this.create_output_subarea(\n    metadata,\n    CLASS_NAME,\n    EXEC_MIME_TYPE\n    );\n    this.keyboard_manager.register_events(toinsert);\n    // Render to node\n    var props = {data: data, metadata: metadata[EXEC_MIME_TYPE]};\n    render(props, toinsert[0]);\n    element.append(toinsert);\n    return toinsert\n  }\n\n  events.on('output_added.OutputArea', handle_add_output);\n  events.on('output_updated.OutputArea', handle_update_output);\n  events.on('clear_output.CodeCell', handle_clear_output);\n  events.on('delete.Cell', handle_clear_output);\n  events.on('kernel_ready.Kernel', handle_kernel_cleanup);\n\n  OutputArea.prototype.register_mime_type(EXEC_MIME_TYPE, append_mime, {\n    safe: true,\n    index: 0\n  });\n}\n\nif (window.Jupyter !== undefined) {\n  try {\n    var events = require('base/js/events');\n    var OutputArea = require('notebook/js/outputarea').OutputArea;\n    if (OutputArea.prototype.mime_types().indexOf(EXEC_MIME_TYPE) == -1) {\n      register_renderer(events, OutputArea);\n    }\n  } catch(err) {\n  }\n}\n",
      "application/vnd.holoviews_load.v0+json": ""
     },
     "metadata": {},
     "output_type": "display_data"
    },
    {
     "data": {
      "text/html": [
       "<style>*[data-root-id],\n",
       "*[data-root-id] > * {\n",
       "  box-sizing: border-box;\n",
       "  font-family: var(--jp-ui-font-family);\n",
       "  font-size: var(--jp-ui-font-size1);\n",
       "  color: var(--vscode-editor-foreground, var(--jp-ui-font-color1));\n",
       "}\n",
       "\n",
       "/* Override VSCode background color */\n",
       ".cell-output-ipywidget-background:has(\n",
       "    > .cell-output-ipywidget-background > .lm-Widget > *[data-root-id]\n",
       "  ),\n",
       ".cell-output-ipywidget-background:has(> .lm-Widget > *[data-root-id]) {\n",
       "  background-color: transparent !important;\n",
       "}\n",
       "</style>"
      ]
     },
     "metadata": {},
     "output_type": "display_data"
    },
    {
     "data": {
      "application/vnd.holoviews_exec.v0+json": "",
      "text/html": [
       "<div id='p1009'>\n",
       "  <div id=\"f6153b7f-a204-48de-9f36-9638d7eb52bf\" data-root-id=\"p1009\" style=\"display: contents;\"></div>\n",
       "</div>\n",
       "<script type=\"application/javascript\">(function(root) {\n",
       "  var docs_json = {\"7f155343-662c-4cf4-9e98-cf1df0ae73a3\":{\"version\":\"3.3.4\",\"title\":\"Bokeh Application\",\"roots\":[{\"type\":\"object\",\"name\":\"panel.models.browser.BrowserInfo\",\"id\":\"p1009\"},{\"type\":\"object\",\"name\":\"panel.models.comm_manager.CommManager\",\"id\":\"p1010\",\"attributes\":{\"plot_id\":\"p1009\",\"comm_id\":\"32b6c66ea1c64cbbb53333bedd4361ed\",\"client_comm_id\":\"003b68de59ae42498b7ecc0c7d265692\"}}],\"defs\":[{\"type\":\"model\",\"name\":\"ReactiveHTML1\"},{\"type\":\"model\",\"name\":\"FlexBox1\",\"properties\":[{\"name\":\"align_content\",\"kind\":\"Any\",\"default\":\"flex-start\"},{\"name\":\"align_items\",\"kind\":\"Any\",\"default\":\"flex-start\"},{\"name\":\"flex_direction\",\"kind\":\"Any\",\"default\":\"row\"},{\"name\":\"flex_wrap\",\"kind\":\"Any\",\"default\":\"wrap\"},{\"name\":\"justify_content\",\"kind\":\"Any\",\"default\":\"flex-start\"}]},{\"type\":\"model\",\"name\":\"FloatPanel1\",\"properties\":[{\"name\":\"config\",\"kind\":\"Any\",\"default\":{\"type\":\"map\"}},{\"name\":\"contained\",\"kind\":\"Any\",\"default\":true},{\"name\":\"position\",\"kind\":\"Any\",\"default\":\"right-top\"},{\"name\":\"offsetx\",\"kind\":\"Any\",\"default\":null},{\"name\":\"offsety\",\"kind\":\"Any\",\"default\":null},{\"name\":\"theme\",\"kind\":\"Any\",\"default\":\"primary\"},{\"name\":\"status\",\"kind\":\"Any\",\"default\":\"normalized\"}]},{\"type\":\"model\",\"name\":\"GridStack1\",\"properties\":[{\"name\":\"mode\",\"kind\":\"Any\",\"default\":\"warn\"},{\"name\":\"ncols\",\"kind\":\"Any\",\"default\":null},{\"name\":\"nrows\",\"kind\":\"Any\",\"default\":null},{\"name\":\"allow_resize\",\"kind\":\"Any\",\"default\":true},{\"name\":\"allow_drag\",\"kind\":\"Any\",\"default\":true},{\"name\":\"state\",\"kind\":\"Any\",\"default\":[]}]},{\"type\":\"model\",\"name\":\"drag1\",\"properties\":[{\"name\":\"slider_width\",\"kind\":\"Any\",\"default\":5},{\"name\":\"slider_color\",\"kind\":\"Any\",\"default\":\"black\"},{\"name\":\"value\",\"kind\":\"Any\",\"default\":50}]},{\"type\":\"model\",\"name\":\"click1\",\"properties\":[{\"name\":\"terminal_output\",\"kind\":\"Any\",\"default\":\"\"},{\"name\":\"debug_name\",\"kind\":\"Any\",\"default\":\"\"},{\"name\":\"clears\",\"kind\":\"Any\",\"default\":0}]},{\"type\":\"model\",\"name\":\"copy_to_clipboard1\",\"properties\":[{\"name\":\"fill\",\"kind\":\"Any\",\"default\":\"none\"},{\"name\":\"value\",\"kind\":\"Any\",\"default\":null}]},{\"type\":\"model\",\"name\":\"FastWrapper1\",\"properties\":[{\"name\":\"object\",\"kind\":\"Any\",\"default\":null},{\"name\":\"style\",\"kind\":\"Any\",\"default\":null}]},{\"type\":\"model\",\"name\":\"NotificationAreaBase1\",\"properties\":[{\"name\":\"js_events\",\"kind\":\"Any\",\"default\":{\"type\":\"map\"}},{\"name\":\"position\",\"kind\":\"Any\",\"default\":\"bottom-right\"},{\"name\":\"_clear\",\"kind\":\"Any\",\"default\":0}]},{\"type\":\"model\",\"name\":\"NotificationArea1\",\"properties\":[{\"name\":\"js_events\",\"kind\":\"Any\",\"default\":{\"type\":\"map\"}},{\"name\":\"notifications\",\"kind\":\"Any\",\"default\":[]},{\"name\":\"position\",\"kind\":\"Any\",\"default\":\"bottom-right\"},{\"name\":\"_clear\",\"kind\":\"Any\",\"default\":0},{\"name\":\"types\",\"kind\":\"Any\",\"default\":[{\"type\":\"map\",\"entries\":[[\"type\",\"warning\"],[\"background\",\"#ffc107\"],[\"icon\",{\"type\":\"map\",\"entries\":[[\"className\",\"fas fa-exclamation-triangle\"],[\"tagName\",\"i\"],[\"color\",\"white\"]]}]]},{\"type\":\"map\",\"entries\":[[\"type\",\"info\"],[\"background\",\"#007bff\"],[\"icon\",{\"type\":\"map\",\"entries\":[[\"className\",\"fas fa-info-circle\"],[\"tagName\",\"i\"],[\"color\",\"white\"]]}]]}]}]},{\"type\":\"model\",\"name\":\"Notification\",\"properties\":[{\"name\":\"background\",\"kind\":\"Any\",\"default\":null},{\"name\":\"duration\",\"kind\":\"Any\",\"default\":3000},{\"name\":\"icon\",\"kind\":\"Any\",\"default\":null},{\"name\":\"message\",\"kind\":\"Any\",\"default\":\"\"},{\"name\":\"notification_type\",\"kind\":\"Any\",\"default\":null},{\"name\":\"_destroyed\",\"kind\":\"Any\",\"default\":false}]},{\"type\":\"model\",\"name\":\"TemplateActions1\",\"properties\":[{\"name\":\"open_modal\",\"kind\":\"Any\",\"default\":0},{\"name\":\"close_modal\",\"kind\":\"Any\",\"default\":0}]},{\"type\":\"model\",\"name\":\"BootstrapTemplateActions1\",\"properties\":[{\"name\":\"open_modal\",\"kind\":\"Any\",\"default\":0},{\"name\":\"close_modal\",\"kind\":\"Any\",\"default\":0}]},{\"type\":\"model\",\"name\":\"MaterialTemplateActions1\",\"properties\":[{\"name\":\"open_modal\",\"kind\":\"Any\",\"default\":0},{\"name\":\"close_modal\",\"kind\":\"Any\",\"default\":0}]}]}};\n",
       "  var render_items = [{\"docid\":\"7f155343-662c-4cf4-9e98-cf1df0ae73a3\",\"roots\":{\"p1009\":\"f6153b7f-a204-48de-9f36-9638d7eb52bf\"},\"root_ids\":[\"p1009\"]}];\n",
       "  var docs = Object.values(docs_json)\n",
       "  if (!docs) {\n",
       "    return\n",
       "  }\n",
       "  const py_version = docs[0].version.replace('rc', '-rc.').replace('.dev', '-dev.')\n",
       "  function embed_document(root) {\n",
       "    var Bokeh = get_bokeh(root)\n",
       "    Bokeh.embed.embed_items_notebook(docs_json, render_items);\n",
       "    for (const render_item of render_items) {\n",
       "      for (const root_id of render_item.root_ids) {\n",
       "\tconst id_el = document.getElementById(root_id)\n",
       "\tif (id_el.children.length && (id_el.children[0].className === 'bk-root')) {\n",
       "\t  const root_el = id_el.children[0]\n",
       "\t  root_el.id = root_el.id + '-rendered'\n",
       "\t}\n",
       "      }\n",
       "    }\n",
       "  }\n",
       "  function get_bokeh(root) {\n",
       "    if (root.Bokeh === undefined) {\n",
       "      return null\n",
       "    } else if (root.Bokeh.version !== py_version) {\n",
       "      if (root.Bokeh.versions === undefined || !root.Bokeh.versions.has(py_version)) {\n",
       "\treturn null\n",
       "      }\n",
       "      return root.Bokeh.versions.get(py_version);\n",
       "    } else if (root.Bokeh.version === py_version) {\n",
       "      return root.Bokeh\n",
       "    }\n",
       "    return null\n",
       "  }\n",
       "  function is_loaded(root) {\n",
       "    var Bokeh = get_bokeh(root)\n",
       "    return (Bokeh != null && Bokeh.Panel !== undefined)\n",
       "  }\n",
       "  if (is_loaded(root)) {\n",
       "    embed_document(root);\n",
       "  } else {\n",
       "    var attempts = 0;\n",
       "    var timer = setInterval(function(root) {\n",
       "      if (is_loaded(root)) {\n",
       "        clearInterval(timer);\n",
       "        embed_document(root);\n",
       "      } else if (document.readyState == \"complete\") {\n",
       "        attempts++;\n",
       "        if (attempts > 200) {\n",
       "          clearInterval(timer);\n",
       "\t  var Bokeh = get_bokeh(root)\n",
       "\t  if (Bokeh == null || Bokeh.Panel == null) {\n",
       "            console.warn(\"Panel: ERROR: Unable to run Panel code because Bokeh or Panel library is missing\");\n",
       "\t  } else {\n",
       "\t    console.warn(\"Panel: WARNING: Attempting to render but not all required libraries could be resolved.\")\n",
       "\t    embed_document(root)\n",
       "\t  }\n",
       "        }\n",
       "      }\n",
       "    }, 25, root)\n",
       "  }\n",
       "})(window);</script>"
      ]
     },
     "metadata": {
      "application/vnd.holoviews_exec.v0+json": {
       "id": "p1009"
      }
     },
     "output_type": "display_data"
    },
    {
     "data": {
      "text/html": [
       "\n",
       "<div class=\"logo-block\">\n",
       "<img src='data:image/png;base64,iVBORw0KGgoAAAANSUhEUgAAAEAAAABACAYAAACqaXHeAAAABHNCSVQICAgIfAhkiAAAAAlwSFlz\n",
       "AAAB+wAAAfsBxc2miwAAABl0RVh0U29mdHdhcmUAd3d3Lmlua3NjYXBlLm9yZ5vuPBoAAA6zSURB\n",
       "VHic7ZtpeFRVmsf/5966taWqUlUJ2UioBBJiIBAwCZtog9IOgjqACsogKtqirT2ttt069nQ/zDzt\n",
       "tI4+CrJIREFaFgWhBXpUNhHZQoKBkIUASchWla1S+3ar7r1nPkDaCAnZKoQP/D7mnPOe9/xy76n3\n",
       "nFSAW9ziFoPFNED2LLK5wcyBDObkb8ZkxuaoSYlI6ZcOKq1eWFdedqNzGHQBk9RMEwFAASkk0Xw3\n",
       "ETacDNi2vtvc7L0ROdw0AjoSotQVkKSvHQz/wRO1lScGModBFbDMaNRN1A4tUBCS3lk7BWhQkgpD\n",
       "lG4852/+7DWr1R3uHAZVQDsbh6ZPN7CyxUrCzJMRouusj0ipRwD2uKm0Zn5d2dFwzX1TCGhnmdGo\n",
       "G62Nna+isiUqhkzuKrkQaJlPEv5mFl2fvGg2t/VnzkEV8F5ioioOEWkLG86fvbpthynjdhXYZziQ\n",
       "x1hC9J2NFyi8vCTt91Fh04KGip0AaG9zuCk2wQCVyoNU3Hjezee9bq92duzzTmxsRJoy+jEZZZYo\n",
       "GTKJ6SJngdJqAfRzpze0+jHreUtPc7gpBLQnIYK6BYp/uGhw9YK688eu7v95ysgshcg9qSLMo3JC\n",
       "4jqLKQFBgdKDPoQ+Pltb8dUyQLpeDjeVgI6EgLIQFT5tEl3rn2losHVsexbZ3EyT9wE1uGdkIPcy\n",
       "BGxn8QUq1QrA5nqW5i2tLqvrrM9NK6AdkVIvL9E9bZL/oyfMVd/jqvc8LylzRBKDJSzIExwhQzuL\n",
       "QYGQj4rHfFTc8mUdu3E7yoLtbTe9gI4EqVgVkug2i5+uXGo919ixbRog+3fTbQ8qJe4ZOYNfMoTI\n",
       "OoshUNosgO60AisX15aeI2PSIp5KiFLI9ubb1vV3Qb2ltwLakUCDAkWX7/nHKRmmGIl9VgYsUhJm\n",
       "2NXjKYADtM1ygne9QQDIXlk49FBstMKx66D1v4+XuQr7vqTe0VcBHQlRWiOCbmmSYe2SqtL6q5rJ\n",
       "zsTb7lKx3FKOYC4DoqyS/B5bvLPxvD9Qtf6saxYLQGJErmDOdOMr/zo96km1nElr8bmPOBwI9COv\n",
       "HnFPRIwmkSOv9kcAS4heRsidOkpeWBgZM+UBrTFAXNYL5Vf2ii9c1trNzpYdaoVil3WIc+wdk+gQ\n",
       "noie3ecCcxt9ITcLAPWt/laGEO/9U6PmzZkenTtsSMQ8uYywJVW+grCstAvCIaAdArAsIWkRDDs/\n",
       "KzLm2YcjY1Lv0UdW73HabE9n6V66cxSzfEmuJssTpKGVp+0vHq73FwL46eOjpMpbRAnNmJFrGJNu\n",
       "Ukf9Yrz+3rghiumCKNXXWPhLYcjxGsIpoCMsIRoFITkW8AuyM8jC1+/QLx4bozCEJIq38+1rtpR6\n",
       "V/yzb8eBlRb3fo5l783N0CWolAzJHaVNzkrTzlEp2bQ2q3TC5gn6wpnoQAmwSiGh2GitnTmVMc5O\n",
       "UyfKWUKCIsU7+fZDKwqdT6DDpvkzAX4/+AMFjk0tDp5GRXLpQ2MUmhgDp5gxQT8+Y7hyPsMi8uxF\n",
       "71H0oebujHALECjFKaW9Lm68n18wXp2kVzIcABytD5iXFzg+WVXkegpAsOOYziqo0OkK76GyquC3\n",
       "ltZAzMhhqlSNmmWTE5T6e3IN05ITFLM4GdN0vtZ3ob8Jh1NAKXFbm5PtLU/eqTSlGjkNAJjdgn/N\n",
       "aedXa0tdi7+t9G0FIF49rtMSEgAs1kDLkTPO7ebm4IUWeyh1bKomXqlgMG6kJmHcSM0clYLJ8XtR\n",
       "1GTnbV3F6I5wCGikAb402npp1h1s7LQUZZSMIfALFOuL3UUrfnS8+rez7v9qcold5tilgHbO1fjK\n",
       "9ubb17u9oshxzMiUBKXWqJNxd+fqb0tLVs4lILFnK71H0Ind7uiPgACVcFJlrb0tV6DzxqqTIhUM\n",
       "CwDf1/rrVhTa33/3pGPxJYdQ2l2cbgVcQSosdx8uqnDtbGjh9SlDVSMNWhlnilfqZk42Th2ZpLpf\n",
       "xrHec5e815zrr0dfBZSwzkZfqsv+1FS1KUknUwPARVvItfKUY+cn57yP7qv07UE3p8B2uhUwLk09\n",
       "e0SCOrK+hbdYHYLjRIl71wWzv9jpEoeOHhGRrJAzyEyNiJuUqX0g2sBN5kGK6y2Blp5M3lsB9Qh4\n",
       "y2Ja6x6+i0ucmKgwMATwhSjdUu49tKrQ/pvN5d53ml2CGwCmJipmKjgmyuaXzNeL2a0AkQ01Th5j\n",
       "2DktO3Jyk8f9vcOBQHV94OK+fPumJmvQHxJoWkaKWq9Vs+yUsbq0zGT1I4RgeH2b5wef7+c7bl8F\n",
       "eKgoHVVZa8ZPEORzR6sT1BzDUAD/d9F78e2Tzv99v8D+fLVTqAKAsbGamKey1Mt9Ann4eH3gTXTz\n",
       "idWtAJ8PQWOk7NzSeQn/OTHDuEikVF1R4z8BQCy+6D1aWRfY0tTGG2OM8rRoPaeIj5ZHzJxszElN\n",
       "VM8K8JS5WOfv8mzRnQAKoEhmt8gyPM4lU9SmBK1MCQBnW4KONT86v1hZ1PbwSXPw4JWussVjtH9Y\n",
       "NCoiL9UoH/6PSu8jFrfY2t36erQHXLIEakMi1SydmzB31h3GGXFDFNPaK8Rme9B79Ixrd0WN+1ij\n",
       "NRQ/doRmuFLBkHSTOm5GruG+pFjFdAmorG4IXH1Qua6ASniclfFtDYt+oUjKipPrCQB7QBQ2lrgP\n",
       "fFzm+9XWUtcqJ3/5vDLDpJ79XHZk3u8nGZ42qlj1+ydtbxysCezrydp6ugmipNJ7WBPB5tydY0jP\n",
       "HaVNzs3QzeE4ZpTbI+ZbnSFPbVOw9vsfnVvqWnirPyCNGD08IlqtYkh2hjZ5dErEQzoNm+6ykyOt\n",
       "Lt5/PQEuSRRKo22VkydK+vvS1XEKlhCJAnsqvcVvH7f/ZU2R67eXbMEGAMiIV5oWZWiWvz5Fv2xG\n",
       "sjqNJQRvn3Rs2lji/lNP19VjAQDgD7FHhujZB9OGqYxRkZxixgRDVlqS6uEOFaJUVu0rPFzctrnF\n",
       "JqijImVp8dEKVWyUXDk92zAuMZ6bFwpBU1HrOw6AdhQgUooChb0+ItMbWJitSo5Ws3IAOGEOtL53\n",
       "0vHZih9sC4vtofZ7Qu6523V/fmGcds1TY3V36pUsBwAbSlxnVh2xLfAD/IAIMDf7XYIkNmXfpp2l\n",
       "18rkAJAy9HKFaIr/qULkeQQKy9zf1JgDB2uaeFNGijo5QsUyacNUUTOnGO42xSnv4oOwpDi1zYkc\n",
       "efUc3I5Gk6PhyTuVKaOGyLUAYPGIoY9Pu/atL/L92+4q9wbflRJ2Trpm/jPjdBtfnqB/dIThcl8A\n",
       "KG7hbRuKnb8qsQsVvVlTrwQAQMUlf3kwJI24Z4JhPMtcfng5GcH49GsrxJpGvvHIaeem2ma+KSjQ\n",
       "lIwUdYyCY8j4dE1KzijNnIP2llF2wcXNnsoapw9XxsgYAl6k+KzUXbi2yP3KR2ecf6z3BFsBICdW\n",
       "nvnIaG3eHybqX7vbpEqUMT+9OL4Qpe8VON7dXuFd39v19FoAABRVePbGGuXTszO0P7tu6lghUonE\n",
       "llRdrhArLvmKdh9u29jcFiRRkfLUxBiFNiqSU9icoZQHo5mYBI1MBgBH6wMNb+U7Pnw337H4gi1Y\n",
       "ciWs+uks3Z9fztUvfzxTm9Ne8XXkvQLHNytOOZeiD4e0PgkAIAYCYknKUNUDSXEKzdWNpnil7r4p\n",
       "xqkjTarZMtk/K8TQ6Qve78qqvXurGwIJqcOUKfUWHsm8KGvxSP68YudXq4pcj39X49uOK2X142O0\n",
       "Tz5/u/7TVybqH0rSya6ZBwD21/gubbrgWdDgEOx9WUhfBaC2ibcEBYm7a7x+ukrBMNcEZggyR0TE\n",
       "T8zUPjikQ4VosQZbTpS4vqizBKvqmvjsqnpfzaZyx9JPiz1/bfGKdgD45XB1zoIMzYbfTdS/NClB\n",
       "Gct0USiY3YL/g0LHy/uq/Ef6uo5+n0R/vyhp17Klpge763f8rMu6YU/zrn2nml+2WtH+Z+5IAAFc\n",
       "2bUTdTDOSNa9+cQY7YLsOIXhevEkCvzph7a8laecz/Un/z4/Ae04XeL3UQb57IwU9ZDr9UuKVajv\n",
       "nxp1+1UVIo/LjztZkKH59fO3G/JemqCfmaCRqbqbd90ZZ8FfjtkfAyD0J/9+C2h1hDwsSxvGjNDc\n",
       "b4zk5NfrSwiQblLHzZhg+Jf4aPlUwpDqkQqa9nimbt1/TDH8OitGMaQnj+RJS6B1fbF7SY1TqO5v\n",
       "/v0WAADl1f7zokgS7s7VT2DZ7pegUjBM7mjtiDZbcN4j0YrHH0rXpCtY0qPX0cVL0rv5jv/ZXend\n",
       "0u/EESYBAFBU4T4Qa5TflZOhTe7pmKpaP8kCVUVw1+yhXfJWvn1P3hnXi33JsTN6PnP3hHZ8Z3/h\n",
       "aLHzmkNPuPj7Bc/F/Q38CwjTpSwQXgE4Vmwry9tpfq/ZFgqFMy4AVDtCvi8rvMvOmv0N4YwbVgEA\n",
       "sPM72/KVnzfspmH7HQGCRLG2yL1+z8XwvPcdCbsAANh+xPzstgMtxeGKt+6MK3/tacfvwhWvIwMi\n",
       "oKEBtm0H7W+UVfkc/Y1V0BhoPlDr/w1w/eu1vjIgAgDg22OtX6/eYfnEz/focrZTHAFR+PSs56/7\n",
       "q32nwpjazxgwAQCwcU/T62t3WL7r6/jVRa6/byp1rei+Z98ZUAEAhEPHPc8fKnTU9nbgtnOe8h0l\n",
       "9hcGIqmODLQAHCy2Xti6v/XNRivf43f4fFvIteu854+VHnR7q9tfBlwAAGz+pnndB9vM26UebAe8\n",
       "SLHujPOTPVW+rwY+sxskAAC2HrA8t2Vvc7ffP1r9o+vwR2dcr92InIAbKKC1FZ5tB1tf+/G8p8sv\n",
       "N/9Q5zd/XR34LYCwV5JdccMEAMDBk45DH243r/X4xGvqxFa/GNpS7n6rwOwNWwHVE26oAADYurf1\n",
       "zx/utOzt+DMKYM0p17YtZZ5VNzqfsB2HewG1WXE8PoZ7gOclbTIvynZf9JV+fqZtfgs/8F/Nu5rB\n",
       "EIBmJ+8QRMmpU7EzGRsf2FzuePqYRbzh/zE26EwdrT10f6r6o8HOYzCJB9Dpff8tbnGLG8L/A/WE\n",
       "roTBs2RqAAAAAElFTkSuQmCC'\n",
       "     style='height:25px; border-radius:12px; display: inline-block; float: left; vertical-align: middle'></img>\n",
       "\n",
       "\n",
       "  <img src='data:image/png;base64,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'\n",
       "       style='height:15px; border-radius:12px; display: inline-block; float: left'></img>\n",
       "  \n",
       "\n",
       "\n",
       "\n",
       "\n",
       "</div>\n"
      ]
     },
     "metadata": {},
     "output_type": "display_data"
    }
   ],
   "source": [
    "from query import *\n",
    "import panel as pn\n",
    "import geoviews as gv\n",
    "import geoviews.feature as gf\n",
    "import plotly.express as px\n",
    "import geopandas as gpd\n",
    "from shapely.geometry import Polygon\n",
    "\n",
    "gv.extension(\"bokeh\")\n",
    "\n",
    "VARIABLE = \"2m_temperature\"\n",
    "MIN_LAT = 60\n",
    "MAX_LAT = 80\n",
    "MIN_LON = 285\n",
    "MAX_LON = 350\n",
    "START_DATETIME = \"2023-01-01 00:00:00\"\n",
    "END_DATETIME = \"2023-01-07 09:00:00\""
   ]
  },
  {
   "cell_type": "markdown",
   "metadata": {},
   "source": [
    "### 1. Single Value Aggregation\n",
    "\n",
    "Get a single aggregation min/max/average value of the **certain area** in a **certain period of time**"
   ]
  },
  {
   "cell_type": "code",
   "execution_count": 2,
   "metadata": {},
   "outputs": [
    {
     "data": {
      "text/html": [
       "<div><svg style=\"position: absolute; width: 0; height: 0; overflow: hidden\">\n",
       "<defs>\n",
       "<symbol id=\"icon-database\" viewBox=\"0 0 32 32\">\n",
       "<path d=\"M16 0c-8.837 0-16 2.239-16 5v4c0 2.761 7.163 5 16 5s16-2.239 16-5v-4c0-2.761-7.163-5-16-5z\"></path>\n",
       "<path d=\"M16 17c-8.837 0-16-2.239-16-5v6c0 2.761 7.163 5 16 5s16-2.239 16-5v-6c0 2.761-7.163 5-16 5z\"></path>\n",
       "<path d=\"M16 26c-8.837 0-16-2.239-16-5v6c0 2.761 7.163 5 16 5s16-2.239 16-5v-6c0 2.761-7.163 5-16 5z\"></path>\n",
       "</symbol>\n",
       "<symbol id=\"icon-file-text2\" viewBox=\"0 0 32 32\">\n",
       "<path d=\"M28.681 7.159c-0.694-0.947-1.662-2.053-2.724-3.116s-2.169-2.030-3.116-2.724c-1.612-1.182-2.393-1.319-2.841-1.319h-15.5c-1.378 0-2.5 1.121-2.5 2.5v27c0 1.378 1.122 2.5 2.5 2.5h23c1.378 0 2.5-1.122 2.5-2.5v-19.5c0-0.448-0.137-1.23-1.319-2.841zM24.543 5.457c0.959 0.959 1.712 1.825 2.268 2.543h-4.811v-4.811c0.718 0.556 1.584 1.309 2.543 2.268zM28 29.5c0 0.271-0.229 0.5-0.5 0.5h-23c-0.271 0-0.5-0.229-0.5-0.5v-27c0-0.271 0.229-0.5 0.5-0.5 0 0 15.499-0 15.5 0v7c0 0.552 0.448 1 1 1h7v19.5z\"></path>\n",
       "<path d=\"M23 26h-14c-0.552 0-1-0.448-1-1s0.448-1 1-1h14c0.552 0 1 0.448 1 1s-0.448 1-1 1z\"></path>\n",
       "<path d=\"M23 22h-14c-0.552 0-1-0.448-1-1s0.448-1 1-1h14c0.552 0 1 0.448 1 1s-0.448 1-1 1z\"></path>\n",
       "<path d=\"M23 18h-14c-0.552 0-1-0.448-1-1s0.448-1 1-1h14c0.552 0 1 0.448 1 1s-0.448 1-1 1z\"></path>\n",
       "</symbol>\n",
       "</defs>\n",
       "</svg>\n",
       "<style>/* CSS stylesheet for displaying xarray objects in jupyterlab.\n",
       " *\n",
       " */\n",
       "\n",
       ":root {\n",
       "  --xr-font-color0: var(--jp-content-font-color0, rgba(0, 0, 0, 1));\n",
       "  --xr-font-color2: var(--jp-content-font-color2, rgba(0, 0, 0, 0.54));\n",
       "  --xr-font-color3: var(--jp-content-font-color3, rgba(0, 0, 0, 0.38));\n",
       "  --xr-border-color: var(--jp-border-color2, #e0e0e0);\n",
       "  --xr-disabled-color: var(--jp-layout-color3, #bdbdbd);\n",
       "  --xr-background-color: var(--jp-layout-color0, white);\n",
       "  --xr-background-color-row-even: var(--jp-layout-color1, white);\n",
       "  --xr-background-color-row-odd: var(--jp-layout-color2, #eeeeee);\n",
       "}\n",
       "\n",
       "html[theme=dark],\n",
       "body[data-theme=dark],\n",
       "body.vscode-dark {\n",
       "  --xr-font-color0: rgba(255, 255, 255, 1);\n",
       "  --xr-font-color2: rgba(255, 255, 255, 0.54);\n",
       "  --xr-font-color3: rgba(255, 255, 255, 0.38);\n",
       "  --xr-border-color: #1F1F1F;\n",
       "  --xr-disabled-color: #515151;\n",
       "  --xr-background-color: #111111;\n",
       "  --xr-background-color-row-even: #111111;\n",
       "  --xr-background-color-row-odd: #313131;\n",
       "}\n",
       "\n",
       ".xr-wrap {\n",
       "  display: block !important;\n",
       "  min-width: 300px;\n",
       "  max-width: 700px;\n",
       "}\n",
       "\n",
       ".xr-text-repr-fallback {\n",
       "  /* fallback to plain text repr when CSS is not injected (untrusted notebook) */\n",
       "  display: none;\n",
       "}\n",
       "\n",
       ".xr-header {\n",
       "  padding-top: 6px;\n",
       "  padding-bottom: 6px;\n",
       "  margin-bottom: 4px;\n",
       "  border-bottom: solid 1px var(--xr-border-color);\n",
       "}\n",
       "\n",
       ".xr-header > div,\n",
       ".xr-header > ul {\n",
       "  display: inline;\n",
       "  margin-top: 0;\n",
       "  margin-bottom: 0;\n",
       "}\n",
       "\n",
       ".xr-obj-type,\n",
       ".xr-array-name {\n",
       "  margin-left: 2px;\n",
       "  margin-right: 10px;\n",
       "}\n",
       "\n",
       ".xr-obj-type {\n",
       "  color: var(--xr-font-color2);\n",
       "}\n",
       "\n",
       ".xr-sections {\n",
       "  padding-left: 0 !important;\n",
       "  display: grid;\n",
       "  grid-template-columns: 150px auto auto 1fr 20px 20px;\n",
       "}\n",
       "\n",
       ".xr-section-item {\n",
       "  display: contents;\n",
       "}\n",
       "\n",
       ".xr-section-item input {\n",
       "  display: none;\n",
       "}\n",
       "\n",
       ".xr-section-item input + label {\n",
       "  color: var(--xr-disabled-color);\n",
       "}\n",
       "\n",
       ".xr-section-item input:enabled + label {\n",
       "  cursor: pointer;\n",
       "  color: var(--xr-font-color2);\n",
       "}\n",
       "\n",
       ".xr-section-item input:enabled + label:hover {\n",
       "  color: var(--xr-font-color0);\n",
       "}\n",
       "\n",
       ".xr-section-summary {\n",
       "  grid-column: 1;\n",
       "  color: var(--xr-font-color2);\n",
       "  font-weight: 500;\n",
       "}\n",
       "\n",
       ".xr-section-summary > span {\n",
       "  display: inline-block;\n",
       "  padding-left: 0.5em;\n",
       "}\n",
       "\n",
       ".xr-section-summary-in:disabled + label {\n",
       "  color: var(--xr-font-color2);\n",
       "}\n",
       "\n",
       ".xr-section-summary-in + label:before {\n",
       "  display: inline-block;\n",
       "  content: '►';\n",
       "  font-size: 11px;\n",
       "  width: 15px;\n",
       "  text-align: center;\n",
       "}\n",
       "\n",
       ".xr-section-summary-in:disabled + label:before {\n",
       "  color: var(--xr-disabled-color);\n",
       "}\n",
       "\n",
       ".xr-section-summary-in:checked + label:before {\n",
       "  content: '▼';\n",
       "}\n",
       "\n",
       ".xr-section-summary-in:checked + label > span {\n",
       "  display: none;\n",
       "}\n",
       "\n",
       ".xr-section-summary,\n",
       ".xr-section-inline-details {\n",
       "  padding-top: 4px;\n",
       "  padding-bottom: 4px;\n",
       "}\n",
       "\n",
       ".xr-section-inline-details {\n",
       "  grid-column: 2 / -1;\n",
       "}\n",
       "\n",
       ".xr-section-details {\n",
       "  display: none;\n",
       "  grid-column: 1 / -1;\n",
       "  margin-bottom: 5px;\n",
       "}\n",
       "\n",
       ".xr-section-summary-in:checked ~ .xr-section-details {\n",
       "  display: contents;\n",
       "}\n",
       "\n",
       ".xr-array-wrap {\n",
       "  grid-column: 1 / -1;\n",
       "  display: grid;\n",
       "  grid-template-columns: 20px auto;\n",
       "}\n",
       "\n",
       ".xr-array-wrap > label {\n",
       "  grid-column: 1;\n",
       "  vertical-align: top;\n",
       "}\n",
       "\n",
       ".xr-preview {\n",
       "  color: var(--xr-font-color3);\n",
       "}\n",
       "\n",
       ".xr-array-preview,\n",
       ".xr-array-data {\n",
       "  padding: 0 5px !important;\n",
       "  grid-column: 2;\n",
       "}\n",
       "\n",
       ".xr-array-data,\n",
       ".xr-array-in:checked ~ .xr-array-preview {\n",
       "  display: none;\n",
       "}\n",
       "\n",
       ".xr-array-in:checked ~ .xr-array-data,\n",
       ".xr-array-preview {\n",
       "  display: inline-block;\n",
       "}\n",
       "\n",
       ".xr-dim-list {\n",
       "  display: inline-block !important;\n",
       "  list-style: none;\n",
       "  padding: 0 !important;\n",
       "  margin: 0;\n",
       "}\n",
       "\n",
       ".xr-dim-list li {\n",
       "  display: inline-block;\n",
       "  padding: 0;\n",
       "  margin: 0;\n",
       "}\n",
       "\n",
       ".xr-dim-list:before {\n",
       "  content: '(';\n",
       "}\n",
       "\n",
       ".xr-dim-list:after {\n",
       "  content: ')';\n",
       "}\n",
       "\n",
       ".xr-dim-list li:not(:last-child):after {\n",
       "  content: ',';\n",
       "  padding-right: 5px;\n",
       "}\n",
       "\n",
       ".xr-has-index {\n",
       "  font-weight: bold;\n",
       "}\n",
       "\n",
       ".xr-var-list,\n",
       ".xr-var-item {\n",
       "  display: contents;\n",
       "}\n",
       "\n",
       ".xr-var-item > div,\n",
       ".xr-var-item label,\n",
       ".xr-var-item > .xr-var-name span {\n",
       "  background-color: var(--xr-background-color-row-even);\n",
       "  margin-bottom: 0;\n",
       "}\n",
       "\n",
       ".xr-var-item > .xr-var-name:hover span {\n",
       "  padding-right: 5px;\n",
       "}\n",
       "\n",
       ".xr-var-list > li:nth-child(odd) > div,\n",
       ".xr-var-list > li:nth-child(odd) > label,\n",
       ".xr-var-list > li:nth-child(odd) > .xr-var-name span {\n",
       "  background-color: var(--xr-background-color-row-odd);\n",
       "}\n",
       "\n",
       ".xr-var-name {\n",
       "  grid-column: 1;\n",
       "}\n",
       "\n",
       ".xr-var-dims {\n",
       "  grid-column: 2;\n",
       "}\n",
       "\n",
       ".xr-var-dtype {\n",
       "  grid-column: 3;\n",
       "  text-align: right;\n",
       "  color: var(--xr-font-color2);\n",
       "}\n",
       "\n",
       ".xr-var-preview {\n",
       "  grid-column: 4;\n",
       "}\n",
       "\n",
       ".xr-index-preview {\n",
       "  grid-column: 2 / 5;\n",
       "  color: var(--xr-font-color2);\n",
       "}\n",
       "\n",
       ".xr-var-name,\n",
       ".xr-var-dims,\n",
       ".xr-var-dtype,\n",
       ".xr-preview,\n",
       ".xr-attrs dt {\n",
       "  white-space: nowrap;\n",
       "  overflow: hidden;\n",
       "  text-overflow: ellipsis;\n",
       "  padding-right: 10px;\n",
       "}\n",
       "\n",
       ".xr-var-name:hover,\n",
       ".xr-var-dims:hover,\n",
       ".xr-var-dtype:hover,\n",
       ".xr-attrs dt:hover {\n",
       "  overflow: visible;\n",
       "  width: auto;\n",
       "  z-index: 1;\n",
       "}\n",
       "\n",
       ".xr-var-attrs,\n",
       ".xr-var-data,\n",
       ".xr-index-data {\n",
       "  display: none;\n",
       "  background-color: var(--xr-background-color) !important;\n",
       "  padding-bottom: 5px !important;\n",
       "}\n",
       "\n",
       ".xr-var-attrs-in:checked ~ .xr-var-attrs,\n",
       ".xr-var-data-in:checked ~ .xr-var-data,\n",
       ".xr-index-data-in:checked ~ .xr-index-data {\n",
       "  display: block;\n",
       "}\n",
       "\n",
       ".xr-var-data > table {\n",
       "  float: right;\n",
       "}\n",
       "\n",
       ".xr-var-name span,\n",
       ".xr-var-data,\n",
       ".xr-index-name div,\n",
       ".xr-index-data,\n",
       ".xr-attrs {\n",
       "  padding-left: 25px !important;\n",
       "}\n",
       "\n",
       ".xr-attrs,\n",
       ".xr-var-attrs,\n",
       ".xr-var-data,\n",
       ".xr-index-data {\n",
       "  grid-column: 1 / -1;\n",
       "}\n",
       "\n",
       "dl.xr-attrs {\n",
       "  padding: 0;\n",
       "  margin: 0;\n",
       "  display: grid;\n",
       "  grid-template-columns: 125px auto;\n",
       "}\n",
       "\n",
       ".xr-attrs dt,\n",
       ".xr-attrs dd {\n",
       "  padding: 0;\n",
       "  margin: 0;\n",
       "  float: left;\n",
       "  padding-right: 10px;\n",
       "  width: auto;\n",
       "}\n",
       "\n",
       ".xr-attrs dt {\n",
       "  font-weight: normal;\n",
       "  grid-column: 1;\n",
       "}\n",
       "\n",
       ".xr-attrs dt:hover span {\n",
       "  display: inline-block;\n",
       "  background: var(--xr-background-color);\n",
       "  padding-right: 10px;\n",
       "}\n",
       "\n",
       ".xr-attrs dd {\n",
       "  grid-column: 2;\n",
       "  white-space: pre-wrap;\n",
       "  word-break: break-all;\n",
       "}\n",
       "\n",
       ".xr-icon-database,\n",
       ".xr-icon-file-text2,\n",
       ".xr-no-icon {\n",
       "  display: inline-block;\n",
       "  vertical-align: middle;\n",
       "  width: 1em;\n",
       "  height: 1.5em !important;\n",
       "  stroke-width: 0;\n",
       "  stroke: currentColor;\n",
       "  fill: currentColor;\n",
       "}\n",
       "</style><pre class='xr-text-repr-fallback'>&lt;xarray.Dataset&gt; Size: 4B\n",
       "Dimensions:  ()\n",
       "Data variables:\n",
       "    t2m      float32 4B 253.9</pre><div class='xr-wrap' style='display:none'><div class='xr-header'><div class='xr-obj-type'>xarray.Dataset</div></div><ul class='xr-sections'><li class='xr-section-item'><input id='section-6b927d93-9691-4d96-a23e-105828d0192f' class='xr-section-summary-in' type='checkbox' disabled ><label for='section-6b927d93-9691-4d96-a23e-105828d0192f' class='xr-section-summary'  title='Expand/collapse section'>Dimensions:</label><div class='xr-section-inline-details'></div><div class='xr-section-details'></div></li><li class='xr-section-item'><input id='section-72bf71a8-d583-47d5-8a33-00dc697ed996' class='xr-section-summary-in' type='checkbox' disabled ><label for='section-72bf71a8-d583-47d5-8a33-00dc697ed996' class='xr-section-summary'  title='Expand/collapse section'>Coordinates: <span>(0)</span></label><div class='xr-section-inline-details'></div><div class='xr-section-details'><ul class='xr-var-list'></ul></div></li><li class='xr-section-item'><input id='section-286d7ec5-5f76-487a-9d4a-1f81513c2ad7' class='xr-section-summary-in' type='checkbox'  checked><label for='section-286d7ec5-5f76-487a-9d4a-1f81513c2ad7' class='xr-section-summary' >Data variables: <span>(1)</span></label><div class='xr-section-inline-details'></div><div class='xr-section-details'><ul class='xr-var-list'><li class='xr-var-item'><div class='xr-var-name'><span>t2m</span></div><div class='xr-var-dims'>()</div><div class='xr-var-dtype'>float32</div><div class='xr-var-preview xr-preview'>253.9</div><input id='attrs-178b7822-f3b8-4a65-9186-91ec3a6d8b18' class='xr-var-attrs-in' type='checkbox' disabled><label for='attrs-178b7822-f3b8-4a65-9186-91ec3a6d8b18' title='Show/Hide attributes'><svg class='icon xr-icon-file-text2'><use xlink:href='#icon-file-text2'></use></svg></label><input id='data-fbffb5a0-1dbd-4dc6-b36c-8017bc3ef034' class='xr-var-data-in' type='checkbox'><label for='data-fbffb5a0-1dbd-4dc6-b36c-8017bc3ef034' title='Show/Hide data repr'><svg class='icon xr-icon-database'><use xlink:href='#icon-database'></use></svg></label><div class='xr-var-attrs'><dl class='xr-attrs'></dl></div><div class='xr-var-data'><pre>array(253.94646, dtype=float32)</pre></div></li></ul></div></li><li class='xr-section-item'><input id='section-2e425cc0-9f1d-473f-9b7e-df8165650f51' class='xr-section-summary-in' type='checkbox' disabled ><label for='section-2e425cc0-9f1d-473f-9b7e-df8165650f51' class='xr-section-summary'  title='Expand/collapse section'>Indexes: <span>(0)</span></label><div class='xr-section-inline-details'></div><div class='xr-section-details'><ul class='xr-var-list'></ul></div></li><li class='xr-section-item'><input id='section-aad28ede-42d0-4601-94c5-b575ccf8a195' class='xr-section-summary-in' type='checkbox' disabled ><label for='section-aad28ede-42d0-4601-94c5-b575ccf8a195' class='xr-section-summary'  title='Expand/collapse section'>Attributes: <span>(0)</span></label><div class='xr-section-inline-details'></div><div class='xr-section-details'><dl class='xr-attrs'></dl></div></li></ul></div></div>"
      ],
      "text/plain": [
       "<xarray.Dataset> Size: 4B\n",
       "Dimensions:  ()\n",
       "Data variables:\n",
       "    t2m      float32 4B 253.9"
      ]
     },
     "execution_count": 2,
     "metadata": {},
     "output_type": "execute_result"
    }
   ],
   "source": [
    "single_value_aggregation_query(\n",
    "    variable=VARIABLE, \n",
    "    min_lat=MIN_LAT, \n",
    "    max_lat=MAX_LAT, \n",
    "    min_lon=MIN_LON, \n",
    "    max_lon=MAX_LON, \n",
    "    start_datetime=START_DATETIME, \n",
    "    end_datetime=END_DATETIME, \n",
    "    aggregation_method=\"mean\"\n",
    ")"
   ]
  },
  {
   "cell_type": "markdown",
   "metadata": {},
   "source": [
    "### 2. Time series query\n",
    "\n",
    "Get the time series for a **certain area** in a **certain period of time**"
   ]
  },
  {
   "cell_type": "code",
   "execution_count": 3,
   "metadata": {},
   "outputs": [
    {
     "data": {
      "text/plain": [
       "[<matplotlib.lines.Line2D at 0x12eb50590>]"
      ]
     },
     "execution_count": 3,
     "metadata": {},
     "output_type": "execute_result"
    },
    {
     "data": {
      "image/png": "[encoded data removed]",
      "text/plain": [
       "<Figure size 640x480 with 1 Axes>"
      ]
     },
     "metadata": {},
     "output_type": "display_data"
    }
   ],
   "source": [
    "ts = time_series_query(\n",
    "    variable=VARIABLE, \n",
    "    min_lat=MIN_LAT,\n",
    "    max_lat=MAX_LAT,\n",
    "    min_lon=MIN_LON,\n",
    "    max_lon=MAX_LON,\n",
    "    start_datetime=START_DATETIME,\n",
    "    end_datetime=END_DATETIME,\n",
    "    time_resolution=\"day\",\n",
    "    aggregation_method=\"mean\"\n",
    ")\n",
    "\n",
    "ts['t2m'].plot()"
   ]
  },
  {
   "cell_type": "markdown",
   "metadata": {},
   "source": [
    "### 3. Heatmap query (single layer)"
   ]
  },
  {
   "cell_type": "code",
   "execution_count": 4,
   "metadata": {},
   "outputs": [
    {
     "data": {
      "text/plain": [
       "<matplotlib.collections.QuadMesh at 0x12ec7b350>"
      ]
     },
     "execution_count": 4,
     "metadata": {},
     "output_type": "execute_result"
    },
    {
     "data": {
      "image/png": "[encoded data removed]",
      "text/plain": [
       "<Figure size 640x480 with 2 Axes>"
      ]
     },
     "metadata": {},
     "output_type": "display_data"
    }
   ],
   "source": [
    "hm = heat_map_query_single_layer(\n",
    "    variable=VARIABLE, \n",
    "    min_lat=MIN_LAT,\n",
    "    max_lat=MAX_LAT,\n",
    "    min_lon=MIN_LON,\n",
    "    max_lon=MAX_LON,\n",
    "    start_datetime=START_DATETIME,\n",
    "    end_datetime=END_DATETIME,\n",
    "    spatial_resolution=0.5,\n",
    "    spatial_agg_method=\"max\",\n",
    ")\n",
    "\n",
    "hm['t2m'].plot(cmap=\"coolwarm\")"
   ]
  },
  {
   "cell_type": "markdown",
   "metadata": {},
   "source": [
    "### 4. Heatmap query (multi layer)"
   ]
  },
  {
   "cell_type": "code",
   "execution_count": 5,
   "metadata": {},
   "outputs": [
    {
     "data": {
      "application/vnd.jupyter.widget-view+json": {
       "model_id": "f87d542f3e6a4e1da206cd0a4c377af9",
       "version_major": 2,
       "version_minor": 0
      },
      "text/plain": [
       "BokehModel(combine_events=True, render_bundle={'docs_json': {'2c6273dd-a613-4acc-8a49-8ca57ddf5c86': {'version…"
      ]
     },
     "execution_count": 5,
     "metadata": {},
     "output_type": "execute_result"
    }
   ],
   "source": [
    "VARIABLE = \"2m_temperature\"\n",
    "MIN_LAT = 60\n",
    "MAX_LAT = 80\n",
    "MIN_LON = 285\n",
    "MAX_LON = 350\n",
    "START_DATETIME = \"2023-01-01 00:00:00\"\n",
    "END_DATETIME = \"2023-01-07 09:00:00\"\n",
    "\n",
    "hmm = heat_map_query_multi_layer(\n",
    "    variable=VARIABLE,\n",
    "    min_lat=MIN_LAT,\n",
    "    max_lat=MAX_LAT,\n",
    "    min_lon=MIN_LON,\n",
    "    max_lon=MAX_LON,\n",
    "    start_datetime=START_DATETIME,\n",
    "    end_datetime=END_DATETIME,\n",
    "    spatial_resolution=2,\n",
    "    spatial_agg_method=\"mean\",\n",
    "    time_resolution=\"day\",\n",
    "    time_agg_method=\"max\",\n",
    ")\n",
    "\n",
    "\n",
    "gv_dataset = gv.Dataset(hmm)\n",
    "gv_dataset.to(gv.Image)\n",
    "gv_image = gv_dataset.to(gv.Image)\n",
    "gv_image.opts(cmap=\"coolwarm\", colorbar=True, tools=[\"hover\"])\n",
    "gv_image = gv_image * gf.coastline\n",
    "\n",
    "pn.panel(gv_image, width=700, height=500).servable()"
   ]
  },
  {
   "cell_type": "markdown",
   "metadata": {},
   "source": [
    "### 5. Value criteria query"
   ]
  },
  {
   "cell_type": "code",
   "execution_count": 6,
   "metadata": {},
   "outputs": [
    {
     "data": {
      "application/vnd.jupyter.widget-view+json": {
       "model_id": "92379c8ea85d45b28d4b30f7625df45f",
       "version_major": 2,
       "version_minor": 0
      },
      "text/plain": [
       "BokehModel(combine_events=True, render_bundle={'docs_json': {'e2ee5af8-235e-4723-9b73-82057fee3bf0': {'version…"
      ]
     },
     "execution_count": 6,
     "metadata": {},
     "output_type": "execute_result"
    }
   ],
   "source": [
    "vc = value_criteria_query(\n",
    "    variable=VARIABLE,\n",
    "    min_lat=MIN_LAT,\n",
    "    max_lat=MAX_LAT,\n",
    "    min_lon=MIN_LON,\n",
    "    max_lon=MAX_LON,\n",
    "    start_datetime=START_DATETIME,\n",
    "    end_datetime=END_DATETIME,\n",
    "    spatial_resolution=2,\n",
    "    spatial_agg_method=\"mean\",\n",
    "    time_resolution=\"day\",\n",
    "    time_agg_method=\"max\",\n",
    "    criteria_predicate=\"<\",\n",
    "    criteria_value=255\n",
    ")\n",
    "\n",
    "\n",
    "gv_dataset = gv.Dataset(vc)\n",
    "gv_dataset.to(gv.Image)\n",
    "gv_image = gv_dataset.to(gv.Image)\n",
    "gv_image.opts(cmap=\"coolwarm\", colorbar=True, tools=[\"hover\"])\n",
    "gv_image = gv_image * gf.coastline\n",
    "\n",
    "pn.panel(gv_image, width=700, height=500).servable()"
   ]
  },
  {
   "cell_type": "markdown",
   "metadata": {},
   "source": [
    "### 6. Area finding query"
   ]
  },
  {
   "cell_type": "code",
   "execution_count": 7,
   "metadata": {},
   "outputs": [
    {
     "data": {
      "text/html": [
       "<div><svg style=\"position: absolute; width: 0; height: 0; overflow: hidden\">\n",
       "<defs>\n",
       "<symbol id=\"icon-database\" viewBox=\"0 0 32 32\">\n",
       "<path d=\"M16 0c-8.837 0-16 2.239-16 5v4c0 2.761 7.163 5 16 5s16-2.239 16-5v-4c0-2.761-7.163-5-16-5z\"></path>\n",
       "<path d=\"M16 17c-8.837 0-16-2.239-16-5v6c0 2.761 7.163 5 16 5s16-2.239 16-5v-6c0 2.761-7.163 5-16 5z\"></path>\n",
       "<path d=\"M16 26c-8.837 0-16-2.239-16-5v6c0 2.761 7.163 5 16 5s16-2.239 16-5v-6c0 2.761-7.163 5-16 5z\"></path>\n",
       "</symbol>\n",
       "<symbol id=\"icon-file-text2\" viewBox=\"0 0 32 32\">\n",
       "<path d=\"M28.681 7.159c-0.694-0.947-1.662-2.053-2.724-3.116s-2.169-2.030-3.116-2.724c-1.612-1.182-2.393-1.319-2.841-1.319h-15.5c-1.378 0-2.5 1.121-2.5 2.5v27c0 1.378 1.122 2.5 2.5 2.5h23c1.378 0 2.5-1.122 2.5-2.5v-19.5c0-0.448-0.137-1.23-1.319-2.841zM24.543 5.457c0.959 0.959 1.712 1.825 2.268 2.543h-4.811v-4.811c0.718 0.556 1.584 1.309 2.543 2.268zM28 29.5c0 0.271-0.229 0.5-0.5 0.5h-23c-0.271 0-0.5-0.229-0.5-0.5v-27c0-0.271 0.229-0.5 0.5-0.5 0 0 15.499-0 15.5 0v7c0 0.552 0.448 1 1 1h7v19.5z\"></path>\n",
       "<path d=\"M23 26h-14c-0.552 0-1-0.448-1-1s0.448-1 1-1h14c0.552 0 1 0.448 1 1s-0.448 1-1 1z\"></path>\n",
       "<path d=\"M23 22h-14c-0.552 0-1-0.448-1-1s0.448-1 1-1h14c0.552 0 1 0.448 1 1s-0.448 1-1 1z\"></path>\n",
       "<path d=\"M23 18h-14c-0.552 0-1-0.448-1-1s0.448-1 1-1h14c0.552 0 1 0.448 1 1s-0.448 1-1 1z\"></path>\n",
       "</symbol>\n",
       "</defs>\n",
       "</svg>\n",
       "<style>/* CSS stylesheet for displaying xarray objects in jupyterlab.\n",
       " *\n",
       " */\n",
       "\n",
       ":root {\n",
       "  --xr-font-color0: var(--jp-content-font-color0, rgba(0, 0, 0, 1));\n",
       "  --xr-font-color2: var(--jp-content-font-color2, rgba(0, 0, 0, 0.54));\n",
       "  --xr-font-color3: var(--jp-content-font-color3, rgba(0, 0, 0, 0.38));\n",
       "  --xr-border-color: var(--jp-border-color2, #e0e0e0);\n",
       "  --xr-disabled-color: var(--jp-layout-color3, #bdbdbd);\n",
       "  --xr-background-color: var(--jp-layout-color0, white);\n",
       "  --xr-background-color-row-even: var(--jp-layout-color1, white);\n",
       "  --xr-background-color-row-odd: var(--jp-layout-color2, #eeeeee);\n",
       "}\n",
       "\n",
       "html[theme=dark],\n",
       "body[data-theme=dark],\n",
       "body.vscode-dark {\n",
       "  --xr-font-color0: rgba(255, 255, 255, 1);\n",
       "  --xr-font-color2: rgba(255, 255, 255, 0.54);\n",
       "  --xr-font-color3: rgba(255, 255, 255, 0.38);\n",
       "  --xr-border-color: #1F1F1F;\n",
       "  --xr-disabled-color: #515151;\n",
       "  --xr-background-color: #111111;\n",
       "  --xr-background-color-row-even: #111111;\n",
       "  --xr-background-color-row-odd: #313131;\n",
       "}\n",
       "\n",
       ".xr-wrap {\n",
       "  display: block !important;\n",
       "  min-width: 300px;\n",
       "  max-width: 700px;\n",
       "}\n",
       "\n",
       ".xr-text-repr-fallback {\n",
       "  /* fallback to plain text repr when CSS is not injected (untrusted notebook) */\n",
       "  display: none;\n",
       "}\n",
       "\n",
       ".xr-header {\n",
       "  padding-top: 6px;\n",
       "  padding-bottom: 6px;\n",
       "  margin-bottom: 4px;\n",
       "  border-bottom: solid 1px var(--xr-border-color);\n",
       "}\n",
       "\n",
       ".xr-header > div,\n",
       ".xr-header > ul {\n",
       "  display: inline;\n",
       "  margin-top: 0;\n",
       "  margin-bottom: 0;\n",
       "}\n",
       "\n",
       ".xr-obj-type,\n",
       ".xr-array-name {\n",
       "  margin-left: 2px;\n",
       "  margin-right: 10px;\n",
       "}\n",
       "\n",
       ".xr-obj-type {\n",
       "  color: var(--xr-font-color2);\n",
       "}\n",
       "\n",
       ".xr-sections {\n",
       "  padding-left: 0 !important;\n",
       "  display: grid;\n",
       "  grid-template-columns: 150px auto auto 1fr 20px 20px;\n",
       "}\n",
       "\n",
       ".xr-section-item {\n",
       "  display: contents;\n",
       "}\n",
       "\n",
       ".xr-section-item input {\n",
       "  display: none;\n",
       "}\n",
       "\n",
       ".xr-section-item input + label {\n",
       "  color: var(--xr-disabled-color);\n",
       "}\n",
       "\n",
       ".xr-section-item input:enabled + label {\n",
       "  cursor: pointer;\n",
       "  color: var(--xr-font-color2);\n",
       "}\n",
       "\n",
       ".xr-section-item input:enabled + label:hover {\n",
       "  color: var(--xr-font-color0);\n",
       "}\n",
       "\n",
       ".xr-section-summary {\n",
       "  grid-column: 1;\n",
       "  color: var(--xr-font-color2);\n",
       "  font-weight: 500;\n",
       "}\n",
       "\n",
       ".xr-section-summary > span {\n",
       "  display: inline-block;\n",
       "  padding-left: 0.5em;\n",
       "}\n",
       "\n",
       ".xr-section-summary-in:disabled + label {\n",
       "  color: var(--xr-font-color2);\n",
       "}\n",
       "\n",
       ".xr-section-summary-in + label:before {\n",
       "  display: inline-block;\n",
       "  content: '►';\n",
       "  font-size: 11px;\n",
       "  width: 15px;\n",
       "  text-align: center;\n",
       "}\n",
       "\n",
       ".xr-section-summary-in:disabled + label:before {\n",
       "  color: var(--xr-disabled-color);\n",
       "}\n",
       "\n",
       ".xr-section-summary-in:checked + label:before {\n",
       "  content: '▼';\n",
       "}\n",
       "\n",
       ".xr-section-summary-in:checked + label > span {\n",
       "  display: none;\n",
       "}\n",
       "\n",
       ".xr-section-summary,\n",
       ".xr-section-inline-details {\n",
       "  padding-top: 4px;\n",
       "  padding-bottom: 4px;\n",
       "}\n",
       "\n",
       ".xr-section-inline-details {\n",
       "  grid-column: 2 / -1;\n",
       "}\n",
       "\n",
       ".xr-section-details {\n",
       "  display: none;\n",
       "  grid-column: 1 / -1;\n",
       "  margin-bottom: 5px;\n",
       "}\n",
       "\n",
       ".xr-section-summary-in:checked ~ .xr-section-details {\n",
       "  display: contents;\n",
       "}\n",
       "\n",
       ".xr-array-wrap {\n",
       "  grid-column: 1 / -1;\n",
       "  display: grid;\n",
       "  grid-template-columns: 20px auto;\n",
       "}\n",
       "\n",
       ".xr-array-wrap > label {\n",
       "  grid-column: 1;\n",
       "  vertical-align: top;\n",
       "}\n",
       "\n",
       ".xr-preview {\n",
       "  color: var(--xr-font-color3);\n",
       "}\n",
       "\n",
       ".xr-array-preview,\n",
       ".xr-array-data {\n",
       "  padding: 0 5px !important;\n",
       "  grid-column: 2;\n",
       "}\n",
       "\n",
       ".xr-array-data,\n",
       ".xr-array-in:checked ~ .xr-array-preview {\n",
       "  display: none;\n",
       "}\n",
       "\n",
       ".xr-array-in:checked ~ .xr-array-data,\n",
       ".xr-array-preview {\n",
       "  display: inline-block;\n",
       "}\n",
       "\n",
       ".xr-dim-list {\n",
       "  display: inline-block !important;\n",
       "  list-style: none;\n",
       "  padding: 0 !important;\n",
       "  margin: 0;\n",
       "}\n",
       "\n",
       ".xr-dim-list li {\n",
       "  display: inline-block;\n",
       "  padding: 0;\n",
       "  margin: 0;\n",
       "}\n",
       "\n",
       ".xr-dim-list:before {\n",
       "  content: '(';\n",
       "}\n",
       "\n",
       ".xr-dim-list:after {\n",
       "  content: ')';\n",
       "}\n",
       "\n",
       ".xr-dim-list li:not(:last-child):after {\n",
       "  content: ',';\n",
       "  padding-right: 5px;\n",
       "}\n",
       "\n",
       ".xr-has-index {\n",
       "  font-weight: bold;\n",
       "}\n",
       "\n",
       ".xr-var-list,\n",
       ".xr-var-item {\n",
       "  display: contents;\n",
       "}\n",
       "\n",
       ".xr-var-item > div,\n",
       ".xr-var-item label,\n",
       ".xr-var-item > .xr-var-name span {\n",
       "  background-color: var(--xr-background-color-row-even);\n",
       "  margin-bottom: 0;\n",
       "}\n",
       "\n",
       ".xr-var-item > .xr-var-name:hover span {\n",
       "  padding-right: 5px;\n",
       "}\n",
       "\n",
       ".xr-var-list > li:nth-child(odd) > div,\n",
       ".xr-var-list > li:nth-child(odd) > label,\n",
       ".xr-var-list > li:nth-child(odd) > .xr-var-name span {\n",
       "  background-color: var(--xr-background-color-row-odd);\n",
       "}\n",
       "\n",
       ".xr-var-name {\n",
       "  grid-column: 1;\n",
       "}\n",
       "\n",
       ".xr-var-dims {\n",
       "  grid-column: 2;\n",
       "}\n",
       "\n",
       ".xr-var-dtype {\n",
       "  grid-column: 3;\n",
       "  text-align: right;\n",
       "  color: var(--xr-font-color2);\n",
       "}\n",
       "\n",
       ".xr-var-preview {\n",
       "  grid-column: 4;\n",
       "}\n",
       "\n",
       ".xr-index-preview {\n",
       "  grid-column: 2 / 5;\n",
       "  color: var(--xr-font-color2);\n",
       "}\n",
       "\n",
       ".xr-var-name,\n",
       ".xr-var-dims,\n",
       ".xr-var-dtype,\n",
       ".xr-preview,\n",
       ".xr-attrs dt {\n",
       "  white-space: nowrap;\n",
       "  overflow: hidden;\n",
       "  text-overflow: ellipsis;\n",
       "  padding-right: 10px;\n",
       "}\n",
       "\n",
       ".xr-var-name:hover,\n",
       ".xr-var-dims:hover,\n",
       ".xr-var-dtype:hover,\n",
       ".xr-attrs dt:hover {\n",
       "  overflow: visible;\n",
       "  width: auto;\n",
       "  z-index: 1;\n",
       "}\n",
       "\n",
       ".xr-var-attrs,\n",
       ".xr-var-data,\n",
       ".xr-index-data {\n",
       "  display: none;\n",
       "  background-color: var(--xr-background-color) !important;\n",
       "  padding-bottom: 5px !important;\n",
       "}\n",
       "\n",
       ".xr-var-attrs-in:checked ~ .xr-var-attrs,\n",
       ".xr-var-data-in:checked ~ .xr-var-data,\n",
       ".xr-index-data-in:checked ~ .xr-index-data {\n",
       "  display: block;\n",
       "}\n",
       "\n",
       ".xr-var-data > table {\n",
       "  float: right;\n",
       "}\n",
       "\n",
       ".xr-var-name span,\n",
       ".xr-var-data,\n",
       ".xr-index-name div,\n",
       ".xr-index-data,\n",
       ".xr-attrs {\n",
       "  padding-left: 25px !important;\n",
       "}\n",
       "\n",
       ".xr-attrs,\n",
       ".xr-var-attrs,\n",
       ".xr-var-data,\n",
       ".xr-index-data {\n",
       "  grid-column: 1 / -1;\n",
       "}\n",
       "\n",
       "dl.xr-attrs {\n",
       "  padding: 0;\n",
       "  margin: 0;\n",
       "  display: grid;\n",
       "  grid-template-columns: 125px auto;\n",
       "}\n",
       "\n",
       ".xr-attrs dt,\n",
       ".xr-attrs dd {\n",
       "  padding: 0;\n",
       "  margin: 0;\n",
       "  float: left;\n",
       "  padding-right: 10px;\n",
       "  width: auto;\n",
       "}\n",
       "\n",
       ".xr-attrs dt {\n",
       "  font-weight: normal;\n",
       "  grid-column: 1;\n",
       "}\n",
       "\n",
       ".xr-attrs dt:hover span {\n",
       "  display: inline-block;\n",
       "  background: var(--xr-background-color);\n",
       "  padding-right: 10px;\n",
       "}\n",
       "\n",
       ".xr-attrs dd {\n",
       "  grid-column: 2;\n",
       "  white-space: pre-wrap;\n",
       "  word-break: break-all;\n",
       "}\n",
       "\n",
       ".xr-icon-database,\n",
       ".xr-icon-file-text2,\n",
       ".xr-no-icon {\n",
       "  display: inline-block;\n",
       "  vertical-align: middle;\n",
       "  width: 1em;\n",
       "  height: 1.5em !important;\n",
       "  stroke-width: 0;\n",
       "  stroke: currentColor;\n",
       "  fill: currentColor;\n",
       "}\n",
       "</style><pre class='xr-text-repr-fallback'>&lt;xarray.Dataset&gt; Size: 10kB\n",
       "Dimensions:       (time: 7, latitude: 10, longitude: 32)\n",
       "Coordinates:\n",
       "  * longitude     (longitude) float32 128B 285.9 287.9 289.9 ... 345.9 347.9\n",
       "  * latitude      (latitude) float32 40B 79.12 77.12 75.12 ... 65.12 63.12 61.12\n",
       "  * time          (time) datetime64[ns] 56B 2023-01-01 2023-01-02 ... 2023-01-07\n",
       "Data variables:\n",
       "    t2m           (time, latitude, longitude) float32 9kB 251.4 251.3 ... nan\n",
       "    spatial_mask  (latitude, longitude) bool 320B True True True ... False False\n",
       "Attributes:\n",
       "    Conventions:  CF-1.6\n",
       "    history:      2024-03-26 20:03:07 GMT by grib_to_netcdf-2.25.1: /opt/ecmw...</pre><div class='xr-wrap' style='display:none'><div class='xr-header'><div class='xr-obj-type'>xarray.Dataset</div></div><ul class='xr-sections'><li class='xr-section-item'><input id='section-35c78d75-f8a1-4210-bd5f-0d76b501a8e0' class='xr-section-summary-in' type='checkbox' disabled ><label for='section-35c78d75-f8a1-4210-bd5f-0d76b501a8e0' class='xr-section-summary'  title='Expand/collapse section'>Dimensions:</label><div class='xr-section-inline-details'><ul class='xr-dim-list'><li><span class='xr-has-index'>time</span>: 7</li><li><span class='xr-has-index'>latitude</span>: 10</li><li><span class='xr-has-index'>longitude</span>: 32</li></ul></div><div class='xr-section-details'></div></li><li class='xr-section-item'><input id='section-2f30710a-0894-4a4f-b258-cad678b57f24' class='xr-section-summary-in' type='checkbox'  checked><label for='section-2f30710a-0894-4a4f-b258-cad678b57f24' class='xr-section-summary' >Coordinates: <span>(3)</span></label><div class='xr-section-inline-details'></div><div class='xr-section-details'><ul class='xr-var-list'><li class='xr-var-item'><div class='xr-var-name'><span class='xr-has-index'>longitude</span></div><div class='xr-var-dims'>(longitude)</div><div class='xr-var-dtype'>float32</div><div class='xr-var-preview xr-preview'>285.9 287.9 289.9 ... 345.9 347.9</div><input id='attrs-81e216fb-c98e-40fa-ab68-efa8c3beaffc' class='xr-var-attrs-in' type='checkbox' ><label for='attrs-81e216fb-c98e-40fa-ab68-efa8c3beaffc' title='Show/Hide attributes'><svg class='icon xr-icon-file-text2'><use xlink:href='#icon-file-text2'></use></svg></label><input id='data-13aa9e95-6055-442b-b04f-5ddbfc669172' class='xr-var-data-in' type='checkbox'><label for='data-13aa9e95-6055-442b-b04f-5ddbfc669172' title='Show/Hide data repr'><svg class='icon xr-icon-database'><use xlink:href='#icon-database'></use></svg></label><div class='xr-var-attrs'><dl class='xr-attrs'><dt><span>units :</span></dt><dd>degrees_east</dd><dt><span>long_name :</span></dt><dd>longitude</dd></dl></div><div class='xr-var-data'><pre>array([285.875, 287.875, 289.875, 291.875, 293.875, 295.875, 297.875, 299.875,\n",
       "       301.875, 303.875, 305.875, 307.875, 309.875, 311.875, 313.875, 315.875,\n",
       "       317.875, 319.875, 321.875, 323.875, 325.875, 327.875, 329.875, 331.875,\n",
       "       333.875, 335.875, 337.875, 339.875, 341.875, 343.875, 345.875, 347.875],\n",
       "      dtype=float32)</pre></div></li><li class='xr-var-item'><div class='xr-var-name'><span class='xr-has-index'>latitude</span></div><div class='xr-var-dims'>(latitude)</div><div class='xr-var-dtype'>float32</div><div class='xr-var-preview xr-preview'>79.12 77.12 75.12 ... 63.12 61.12</div><input id='attrs-321603f2-9dfe-41b2-a46f-63de75ed2191' class='xr-var-attrs-in' type='checkbox' ><label for='attrs-321603f2-9dfe-41b2-a46f-63de75ed2191' title='Show/Hide attributes'><svg class='icon xr-icon-file-text2'><use xlink:href='#icon-file-text2'></use></svg></label><input id='data-734d5d4c-6f23-4b81-828b-f28883fdd270' class='xr-var-data-in' type='checkbox'><label for='data-734d5d4c-6f23-4b81-828b-f28883fdd270' title='Show/Hide data repr'><svg class='icon xr-icon-database'><use xlink:href='#icon-database'></use></svg></label><div class='xr-var-attrs'><dl class='xr-attrs'><dt><span>units :</span></dt><dd>degrees_north</dd><dt><span>long_name :</span></dt><dd>latitude</dd></dl></div><div class='xr-var-data'><pre>array([79.125, 77.125, 75.125, 73.125, 71.125, 69.125, 67.125, 65.125, 63.125,\n",
       "       61.125], dtype=float32)</pre></div></li><li class='xr-var-item'><div class='xr-var-name'><span class='xr-has-index'>time</span></div><div class='xr-var-dims'>(time)</div><div class='xr-var-dtype'>datetime64[ns]</div><div class='xr-var-preview xr-preview'>2023-01-01 ... 2023-01-07</div><input id='attrs-d24c8e7f-4376-4161-a414-138563dfa20a' class='xr-var-attrs-in' type='checkbox' ><label for='attrs-d24c8e7f-4376-4161-a414-138563dfa20a' title='Show/Hide attributes'><svg class='icon xr-icon-file-text2'><use xlink:href='#icon-file-text2'></use></svg></label><input id='data-5e509f3d-93ca-4581-a343-6b11c84aca17' class='xr-var-data-in' type='checkbox'><label for='data-5e509f3d-93ca-4581-a343-6b11c84aca17' title='Show/Hide data repr'><svg class='icon xr-icon-database'><use xlink:href='#icon-database'></use></svg></label><div class='xr-var-attrs'><dl class='xr-attrs'><dt><span>long_name :</span></dt><dd>time</dd></dl></div><div class='xr-var-data'><pre>array([&#x27;2023-01-01T00:00:00.000000000&#x27;, &#x27;2023-01-02T00:00:00.000000000&#x27;,\n",
       "       &#x27;2023-01-03T00:00:00.000000000&#x27;, &#x27;2023-01-04T00:00:00.000000000&#x27;,\n",
       "       &#x27;2023-01-05T00:00:00.000000000&#x27;, &#x27;2023-01-06T00:00:00.000000000&#x27;,\n",
       "       &#x27;2023-01-07T00:00:00.000000000&#x27;], dtype=&#x27;datetime64[ns]&#x27;)</pre></div></li></ul></div></li><li class='xr-section-item'><input id='section-280e3669-7ef6-48a1-bfdc-7aad01bad1a0' class='xr-section-summary-in' type='checkbox'  checked><label for='section-280e3669-7ef6-48a1-bfdc-7aad01bad1a0' class='xr-section-summary' >Data variables: <span>(2)</span></label><div class='xr-section-inline-details'></div><div class='xr-section-details'><ul class='xr-var-list'><li class='xr-var-item'><div class='xr-var-name'><span>t2m</span></div><div class='xr-var-dims'>(time, latitude, longitude)</div><div class='xr-var-dtype'>float32</div><div class='xr-var-preview xr-preview'>251.4 251.3 250.6 ... nan nan nan</div><input id='attrs-19de264b-d98f-4ea1-aec4-8c273413467d' class='xr-var-attrs-in' type='checkbox' ><label for='attrs-19de264b-d98f-4ea1-aec4-8c273413467d' title='Show/Hide attributes'><svg class='icon xr-icon-file-text2'><use xlink:href='#icon-file-text2'></use></svg></label><input id='data-a604f333-f4db-4fa9-a109-30bbd25b0355' class='xr-var-data-in' type='checkbox'><label for='data-a604f333-f4db-4fa9-a109-30bbd25b0355' title='Show/Hide data repr'><svg class='icon xr-icon-database'><use xlink:href='#icon-database'></use></svg></label><div class='xr-var-attrs'><dl class='xr-attrs'><dt><span>units :</span></dt><dd>K</dd><dt><span>long_name :</span></dt><dd>2 metre temperature</dd></dl></div><div class='xr-var-data'><pre>array([[[251.4243 , 251.25333, 250.56984, ...,       nan,       nan,\n",
       "               nan],\n",
       "        [      nan, 252.6553 , 249.34424, ...,       nan,       nan,\n",
       "               nan],\n",
       "        [247.91872, 245.16965, 245.44434, ...,       nan,       nan,\n",
       "               nan],\n",
       "        ...,\n",
       "        [250.78494, 245.70883, 244.10004, ...,       nan,       nan,\n",
       "               nan],\n",
       "        [      nan, 253.24011, 250.50345, ...,       nan,       nan,\n",
       "               nan],\n",
       "        [250.80684, 250.64993,       nan, ...,       nan,       nan,\n",
       "               nan]],\n",
       "\n",
       "       [[      nan,       nan,       nan, ...,       nan,       nan,\n",
       "               nan],\n",
       "        [      nan,       nan, 253.54448, ...,       nan,       nan,\n",
       "               nan],\n",
       "        [250.82338, 249.22586, 248.20671, ...,       nan,       nan,\n",
       "               nan],\n",
       "...\n",
       "        [243.4318 , 239.84152, 243.38779, ...,       nan,       nan,\n",
       "               nan],\n",
       "        [249.42642, 248.06247, 247.41986, ...,       nan,       nan,\n",
       "               nan],\n",
       "        [249.33229, 250.19492, 253.63608, ...,       nan,       nan,\n",
       "               nan]],\n",
       "\n",
       "       [[249.68605, 249.77766, 248.24225, ..., 250.31009, 250.79092,\n",
       "         252.22183],\n",
       "        [251.28348, 250.65063, 249.87758, ..., 254.1416 ,       nan,\n",
       "               nan],\n",
       "        [248.04735, 247.53168, 247.06602, ...,       nan,       nan,\n",
       "               nan],\n",
       "        ...,\n",
       "        [240.82434, 238.0486 , 241.2084 , ...,       nan,       nan,\n",
       "               nan],\n",
       "        [248.56158, 246.23196, 246.64268, ...,       nan,       nan,\n",
       "               nan],\n",
       "        [247.1463 , 249.90752, 253.70183, ...,       nan,       nan,\n",
       "               nan]]], dtype=float32)</pre></div></li><li class='xr-var-item'><div class='xr-var-name'><span>spatial_mask</span></div><div class='xr-var-dims'>(latitude, longitude)</div><div class='xr-var-dtype'>bool</div><div class='xr-var-preview xr-preview'>True True True ... False False</div><input id='attrs-c25b4222-0b16-4584-bcc9-eb3154952826' class='xr-var-attrs-in' type='checkbox' disabled><label for='attrs-c25b4222-0b16-4584-bcc9-eb3154952826' title='Show/Hide attributes'><svg class='icon xr-icon-file-text2'><use xlink:href='#icon-file-text2'></use></svg></label><input id='data-adc851f5-4d04-4a2a-8979-56e742cd835a' class='xr-var-data-in' type='checkbox'><label for='data-adc851f5-4d04-4a2a-8979-56e742cd835a' title='Show/Hide data repr'><svg class='icon xr-icon-database'><use xlink:href='#icon-database'></use></svg></label><div class='xr-var-attrs'><dl class='xr-attrs'></dl></div><div class='xr-var-data'><pre>array([[ True,  True,  True,  True,  True,  True,  True,  True,  True,\n",
       "         True,  True,  True,  True,  True,  True,  True,  True,  True,\n",
       "         True,  True,  True,  True,  True,  True,  True,  True,  True,\n",
       "         True,  True,  True,  True,  True],\n",
       "       [ True,  True,  True,  True,  True,  True,  True,  True,  True,\n",
       "         True,  True,  True,  True,  True,  True,  True,  True,  True,\n",
       "         True,  True,  True,  True,  True,  True,  True,  True,  True,\n",
       "         True,  True,  True, False, False],\n",
       "       [ True,  True,  True,  True,  True,  True,  True,  True,  True,\n",
       "         True,  True,  True,  True,  True,  True,  True,  True,  True,\n",
       "         True,  True,  True,  True,  True,  True,  True,  True,  True,\n",
       "         True, False, False, False, False],\n",
       "       [ True,  True,  True,  True,  True,  True,  True,  True,  True,\n",
       "         True,  True,  True,  True,  True,  True,  True,  True,  True,\n",
       "         True,  True,  True,  True,  True,  True,  True,  True, False,\n",
       "        False, False, False, False, False],\n",
       "       [ True,  True,  True,  True,  True,  True,  True,  True,  True,\n",
       "        False,  True,  True,  True,  True,  True,  True,  True,  True,\n",
       "         True,  True,  True,  True,  True,  True,  True, False, False,\n",
       "        False, False, False, False, False],\n",
       "       [ True,  True,  True,  True,  True,  True,  True,  True,  True,\n",
       "        False, False,  True,  True,  True,  True,  True,  True,  True,\n",
       "         True,  True,  True,  True,  True,  True,  True,  True, False,\n",
       "        False, False, False, False, False],\n",
       "       [ True,  True,  True,  True,  True,  True,  True,  True,  True,\n",
       "        False, False,  True,  True,  True,  True,  True,  True,  True,\n",
       "         True,  True,  True, False, False, False, False, False, False,\n",
       "        False, False, False, False, False],\n",
       "       [ True,  True,  True,  True,  True,  True,  True,  True, False,\n",
       "        False, False,  True,  True,  True,  True,  True,  True,  True,\n",
       "        False, False, False, False, False, False, False, False, False,\n",
       "        False, False, False, False, False],\n",
       "       [ True,  True,  True,  True,  True,  True,  True, False, False,\n",
       "        False, False, False,  True,  True,  True,  True, False, False,\n",
       "        False, False, False, False, False, False, False, False, False,\n",
       "        False, False, False, False, False],\n",
       "       [ True,  True,  True,  True, False, False, False, False, False,\n",
       "        False, False, False, False, False,  True,  True, False, False,\n",
       "        False, False, False, False, False, False, False, False, False,\n",
       "        False, False, False, False, False]])</pre></div></li></ul></div></li><li class='xr-section-item'><input id='section-a5f5f584-ef22-45ff-9c4c-5295b396f93d' class='xr-section-summary-in' type='checkbox'  ><label for='section-a5f5f584-ef22-45ff-9c4c-5295b396f93d' class='xr-section-summary' >Indexes: <span>(3)</span></label><div class='xr-section-inline-details'></div><div class='xr-section-details'><ul class='xr-var-list'><li class='xr-var-item'><div class='xr-index-name'><div>longitude</div></div><div class='xr-index-preview'>PandasIndex</div><div></div><input id='index-17a20f64-c08a-4d0d-8b89-db2cafcaebec' class='xr-index-data-in' type='checkbox'/><label for='index-17a20f64-c08a-4d0d-8b89-db2cafcaebec' title='Show/Hide index repr'><svg class='icon xr-icon-database'><use xlink:href='#icon-database'></use></svg></label><div class='xr-index-data'><pre>PandasIndex(Index([285.875, 287.875, 289.875, 291.875, 293.875, 295.875, 297.875, 299.875,\n",
       "       301.875, 303.875, 305.875, 307.875, 309.875, 311.875, 313.875, 315.875,\n",
       "       317.875, 319.875, 321.875, 323.875, 325.875, 327.875, 329.875, 331.875,\n",
       "       333.875, 335.875, 337.875, 339.875, 341.875, 343.875, 345.875, 347.875],\n",
       "      dtype=&#x27;float32&#x27;, name=&#x27;longitude&#x27;))</pre></div></li><li class='xr-var-item'><div class='xr-index-name'><div>latitude</div></div><div class='xr-index-preview'>PandasIndex</div><div></div><input id='index-4ea9ebf3-469e-4ed8-88e2-de14647489f8' class='xr-index-data-in' type='checkbox'/><label for='index-4ea9ebf3-469e-4ed8-88e2-de14647489f8' title='Show/Hide index repr'><svg class='icon xr-icon-database'><use xlink:href='#icon-database'></use></svg></label><div class='xr-index-data'><pre>PandasIndex(Index([79.125, 77.125, 75.125, 73.125, 71.125, 69.125, 67.125, 65.125, 63.125,\n",
       "       61.125],\n",
       "      dtype=&#x27;float32&#x27;, name=&#x27;latitude&#x27;))</pre></div></li><li class='xr-var-item'><div class='xr-index-name'><div>time</div></div><div class='xr-index-preview'>PandasIndex</div><div></div><input id='index-6193d1a6-9d9c-453f-bf70-09b179e17bb0' class='xr-index-data-in' type='checkbox'/><label for='index-6193d1a6-9d9c-453f-bf70-09b179e17bb0' title='Show/Hide index repr'><svg class='icon xr-icon-database'><use xlink:href='#icon-database'></use></svg></label><div class='xr-index-data'><pre>PandasIndex(DatetimeIndex([&#x27;2023-01-01&#x27;, &#x27;2023-01-02&#x27;, &#x27;2023-01-03&#x27;, &#x27;2023-01-04&#x27;,\n",
       "               &#x27;2023-01-05&#x27;, &#x27;2023-01-06&#x27;, &#x27;2023-01-07&#x27;],\n",
       "              dtype=&#x27;datetime64[ns]&#x27;, name=&#x27;time&#x27;, freq=&#x27;D&#x27;))</pre></div></li></ul></div></li><li class='xr-section-item'><input id='section-3783aa51-8051-4d26-b0df-b7b5cdf65abf' class='xr-section-summary-in' type='checkbox'  checked><label for='section-3783aa51-8051-4d26-b0df-b7b5cdf65abf' class='xr-section-summary' >Attributes: <span>(2)</span></label><div class='xr-section-inline-details'></div><div class='xr-section-details'><dl class='xr-attrs'><dt><span>Conventions :</span></dt><dd>CF-1.6</dd><dt><span>history :</span></dt><dd>2024-03-26 20:03:07 GMT by grib_to_netcdf-2.25.1: /opt/ecmwf/mars-client/bin/grib_to_netcdf.bin -S param -o /cache/data0/adaptor.mars.internal-1711483386.7742817-29612-1-05849e3a-df39-4851-ae31-b33149205a29.nc /cache/tmp/05849e3a-df39-4851-ae31-b33149205a29-adaptor.mars.internal-1711483383.962469-29612-1-tmp.grib</dd></dl></div></li></ul></div></div>"
      ],
      "text/plain": [
       "<xarray.Dataset> Size: 10kB\n",
       "Dimensions:       (time: 7, latitude: 10, longitude: 32)\n",
       "Coordinates:\n",
       "  * longitude     (longitude) float32 128B 285.9 287.9 289.9 ... 345.9 347.9\n",
       "  * latitude      (latitude) float32 40B 79.12 77.12 75.12 ... 65.12 63.12 61.12\n",
       "  * time          (time) datetime64[ns] 56B 2023-01-01 2023-01-02 ... 2023-01-07\n",
       "Data variables:\n",
       "    t2m           (time, latitude, longitude) float32 9kB 251.4 251.3 ... nan\n",
       "    spatial_mask  (latitude, longitude) bool 320B True True True ... False False\n",
       "Attributes:\n",
       "    Conventions:  CF-1.6\n",
       "    history:      2024-03-26 20:03:07 GMT by grib_to_netcdf-2.25.1: /opt/ecmw..."
      ]
     },
     "execution_count": 7,
     "metadata": {},
     "output_type": "execute_result"
    }
   ],
   "source": [
    "af = area_finding_query(\n",
    "    variable=VARIABLE,\n",
    "    min_lat=MIN_LAT,\n",
    "    max_lat=MAX_LAT,\n",
    "    min_lon=MIN_LON,\n",
    "    max_lon=MAX_LON,\n",
    "    start_datetime=START_DATETIME,\n",
    "    end_datetime=END_DATETIME,\n",
    "    spatial_resolution=2,\n",
    "    spatial_agg_method=\"mean\",\n",
    "    time_resolution=\"day\",\n",
    "    time_agg_method=\"max\",\n",
    "    criteria_predicate=\"<\",\n",
    "    criteria_value=255,\n",
    "    any_or_all=\"any\"\n",
    ")\n",
    "af"
   ]
  },
  {
   "cell_type": "markdown",
   "metadata": {},
   "source": [
    "#### 6.1 visualize area finding"
   ]
  },
  {
   "cell_type": "code",
   "execution_count": 8,
   "metadata": {},
   "outputs": [
    {
     "data": {
      "application/vnd.plotly.v1+json": {
       "config": {
        "plotlyServerURL": "https://plot.ly"
       },
       "data": [
        {
         "colorscale": [
          [
           0,
           "#636efa"
          ],
          [
           1,
           "#636efa"
          ]
         ],
         "geojson": {
          "bbox": [
           284.875,
           60.125,
           348.875,
           80.125
          ],
          "features": [
           {
            "bbox": [
             284.875,
             78.125,
             286.875,
             80.125
            ],
            "geometry": {
             "coordinates": [
              [
               [
                284.875,
                78.125
               ],
               [
                284.875,
                80.125
               ],
               [
                286.875,
                80.125
               ],
               [
                286.875,
                78.125
               ],
               [
                284.875,
                78.125
               ]
              ]
             ],
             "type": "Polygon"
            },
            "id": "0",
            "properties": {},
            "type": "Feature"
           },
           {
            "bbox": [
             286.875,
             78.125,
             288.875,
             80.125
            ],
            "geometry": {
             "coordinates": [
              [
               [
                286.875,
                78.125
               ],
               [
                286.875,
                80.125
               ],
               [
                288.875,
                80.125
               ],
               [
                288.875,
                78.125
               ],
               [
                286.875,
                78.125
               ]
              ]
             ],
             "type": "Polygon"
            },
            "id": "1",
            "properties": {},
            "type": "Feature"
           },
           {
            "bbox": [
             288.875,
             78.125,
             290.875,
             80.125
            ],
            "geometry": {
             "coordinates": [
              [
               [
                288.875,
                78.125
               ],
               [
                288.875,
                80.125
               ],
               [
                290.875,
                80.125
               ],
               [
                290.875,
                78.125
               ],
               [
                288.875,
                78.125
               ]
              ]
             ],
             "type": "Polygon"
            },
            "id": "2",
            "properties": {},
            "type": "Feature"
           },
           {
            "bbox": [
             290.875,
             78.125,
             292.875,
             80.125
            ],
            "geometry": {
             "coordinates": [
              [
               [
                290.875,
                78.125
               ],
               [
                290.875,
                80.125
               ],
               [
                292.875,
                80.125
               ],
               [
                292.875,
                78.125
               ],
               [
                290.875,
                78.125
               ]
              ]
             ],
             "type": "Polygon"
            },
            "id": "3",
            "properties": {},
            "type": "Feature"
           },
           {
            "bbox": [
             292.875,
             78.125,
             294.875,
             80.125
            ],
            "geometry": {
             "coordinates": [
              [
               [
                292.875,
                78.125
               ],
               [
                292.875,
                80.125
               ],
               [
                294.875,
                80.125
               ],
               [
                294.875,
                78.125
               ],
               [
                292.875,
                78.125
               ]
              ]
             ],
             "type": "Polygon"
            },
            "id": "4",
            "properties": {},
            "type": "Feature"
           },
           {
            "bbox": [
             294.875,
             78.125,
             296.875,
             80.125
            ],
            "geometry": {
             "coordinates": [
              [
               [
                294.875,
                78.125
               ],
               [
                294.875,
                80.125
               ],
               [
                296.875,
                80.125
               ],
               [
                296.875,
                78.125
               ],
               [
                294.875,
                78.125
               ]
              ]
             ],
             "type": "Polygon"
            },
            "id": "5",
            "properties": {},
            "type": "Feature"
           },
           {
            "bbox": [
             296.875,
             78.125,
             298.875,
             80.125
            ],
            "geometry": {
             "coordinates": [
              [
               [
                296.875,
                78.125
               ],
               [
                296.875,
                80.125
               ],
               [
                298.875,
                80.125
               ],
               [
                298.875,
                78.125
               ],
               [
                296.875,
                78.125
               ]
              ]
             ],
             "type": "Polygon"
            },
            "id": "6",
            "properties": {},
            "type": "Feature"
           },
           {
            "bbox": [
             298.875,
             78.125,
             300.875,
             80.125
            ],
            "geometry": {
             "coordinates": [
              [
               [
                298.875,
                78.125
               ],
               [
                298.875,
                80.125
               ],
               [
                300.875,
                80.125
               ],
               [
                300.875,
                78.125
               ],
               [
                298.875,
                78.125
               ]
              ]
             ],
             "type": "Polygon"
            },
            "id": "7",
            "properties": {},
            "type": "Feature"
           },
           {
            "bbox": [
             300.875,
             78.125,
             302.875,
             80.125
            ],
            "geometry": {
             "coordinates": [
              [
               [
                300.875,
                78.125
               ],
               [
                300.875,
                80.125
               ],
               [
                302.875,
                80.125
               ],
               [
                302.875,
                78.125
               ],
               [
                300.875,
                78.125
               ]
              ]
             ],
             "type": "Polygon"
            },
            "id": "8",
            "properties": {},
            "type": "Feature"
           },
           {
            "bbox": [
             302.875,
             78.125,
             304.875,
             80.125
            ],
            "geometry": {
             "coordinates": [
              [
               [
                302.875,
                78.125
               ],
               [
                302.875,
                80.125
               ],
               [
                304.875,
                80.125
               ],
               [
                304.875,
                78.125
               ],
               [
                302.875,
                78.125
               ]
              ]
             ],
             "type": "Polygon"
            },
            "id": "9",
            "properties": {},
            "type": "Feature"
           },
           {
            "bbox": [
             304.875,
             78.125,
             306.875,
             80.125
            ],
            "geometry": {
             "coordinates": [
              [
               [
                304.875,
                78.125
               ],
               [
                304.875,
                80.125
               ],
               [
                306.875,
                80.125
               ],
               [
                306.875,
                78.125
               ],
               [
                304.875,
                78.125
               ]
              ]
             ],
             "type": "Polygon"
            },
            "id": "10",
            "properties": {},
            "type": "Feature"
           },
           {
            "bbox": [
             306.875,
             78.125,
             308.875,
             80.125
            ],
            "geometry": {
             "coordinates": [
              [
               [
                306.875,
                78.125
               ],
               [
                306.875,
                80.125
               ],
               [
                308.875,
                80.125
               ],
               [
                308.875,
                78.125
               ],
               [
                306.875,
                78.125
               ]
              ]
             ],
             "type": "Polygon"
            },
            "id": "11",
            "properties": {},
            "type": "Feature"
           },
           {
            "bbox": [
             308.875,
             78.125,
             310.875,
             80.125
            ],
            "geometry": {
             "coordinates": [
              [
               [
                308.875,
                78.125
               ],
               [
                308.875,
                80.125
               ],
               [
                310.875,
                80.125
               ],
               [
                310.875,
                78.125
               ],
               [
                308.875,
                78.125
               ]
              ]
             ],
             "type": "Polygon"
            },
            "id": "12",
            "properties": {},
            "type": "Feature"
           },
           {
            "bbox": [
             310.875,
             78.125,
             312.875,
             80.125
            ],
            "geometry": {
             "coordinates": [
              [
               [
                310.875,
                78.125
               ],
               [
                310.875,
                80.125
               ],
               [
                312.875,
                80.125
               ],
               [
                312.875,
                78.125
               ],
               [
                310.875,
                78.125
               ]
              ]
             ],
             "type": "Polygon"
            },
            "id": "13",
            "properties": {},
            "type": "Feature"
           },
           {
            "bbox": [
             312.875,
             78.125,
             314.875,
             80.125
            ],
            "geometry": {
             "coordinates": [
              [
               [
                312.875,
                78.125
               ],
               [
                312.875,
                80.125
               ],
               [
                314.875,
                80.125
               ],
               [
                314.875,
                78.125
               ],
               [
                312.875,
                78.125
               ]
              ]
             ],
             "type": "Polygon"
            },
            "id": "14",
            "properties": {},
            "type": "Feature"
           },
           {
            "bbox": [
             314.875,
             78.125,
             316.875,
             80.125
            ],
            "geometry": {
             "coordinates": [
              [
               [
                314.875,
                78.125
               ],
               [
                314.875,
                80.125
               ],
               [
                316.875,
                80.125
               ],
               [
                316.875,
                78.125
               ],
               [
                314.875,
                78.125
               ]
              ]
             ],
             "type": "Polygon"
            },
            "id": "15",
            "properties": {},
            "type": "Feature"
           },
           {
            "bbox": [
             316.875,
             78.125,
             318.875,
             80.125
            ],
            "geometry": {
             "coordinates": [
              [
               [
                316.875,
                78.125
               ],
               [
                316.875,
                80.125
               ],
               [
                318.875,
                80.125
               ],
               [
                318.875,
                78.125
               ],
               [
                316.875,
                78.125
               ]
              ]
             ],
             "type": "Polygon"
            },
            "id": "16",
            "properties": {},
            "type": "Feature"
           },
           {
            "bbox": [
             318.875,
             78.125,
             320.875,
             80.125
            ],
            "geometry": {
             "coordinates": [
              [
               [
                318.875,
                78.125
               ],
               [
                318.875,
                80.125
               ],
               [
                320.875,
                80.125
               ],
               [
                320.875,
                78.125
               ],
               [
                318.875,
                78.125
               ]
              ]
             ],
             "type": "Polygon"
            },
            "id": "17",
            "properties": {},
            "type": "Feature"
           },
           {
            "bbox": [
             320.875,
             78.125,
             322.875,
             80.125
            ],
            "geometry": {
             "coordinates": [
              [
               [
                320.875,
                78.125
               ],
               [
                320.875,
                80.125
               ],
               [
                322.875,
                80.125
               ],
               [
                322.875,
                78.125
               ],
               [
                320.875,
                78.125
               ]
              ]
             ],
             "type": "Polygon"
            },
            "id": "18",
            "properties": {},
            "type": "Feature"
           },
           {
            "bbox": [
             322.875,
             78.125,
             324.875,
             80.125
            ],
            "geometry": {
             "coordinates": [
              [
               [
                322.875,
                78.125
               ],
               [
                322.875,
                80.125
               ],
               [
                324.875,
                80.125
               ],
               [
                324.875,
                78.125
               ],
               [
                322.875,
                78.125
               ]
              ]
             ],
             "type": "Polygon"
            },
            "id": "19",
            "properties": {},
            "type": "Feature"
           },
           {
            "bbox": [
             324.875,
             78.125,
             326.875,
             80.125
            ],
            "geometry": {
             "coordinates": [
              [
               [
                324.875,
                78.125
               ],
               [
                324.875,
                80.125
               ],
               [
                326.875,
                80.125
               ],
               [
                326.875,
                78.125
               ],
               [
                324.875,
                78.125
               ]
              ]
             ],
             "type": "Polygon"
            },
            "id": "20",
            "properties": {},
            "type": "Feature"
           },
           {
            "bbox": [
             326.875,
             78.125,
             328.875,
             80.125
            ],
            "geometry": {
             "coordinates": [
              [
               [
                326.875,
                78.125
               ],
               [
                326.875,
                80.125
               ],
               [
                328.875,
                80.125
               ],
               [
                328.875,
                78.125
               ],
               [
                326.875,
                78.125
               ]
              ]
             ],
             "type": "Polygon"
            },
            "id": "21",
            "properties": {},
            "type": "Feature"
           },
           {
            "bbox": [
             328.875,
             78.125,
             330.875,
             80.125
            ],
            "geometry": {
             "coordinates": [
              [
               [
                328.875,
                78.125
               ],
               [
                328.875,
                80.125
               ],
               [
                330.875,
                80.125
               ],
               [
                330.875,
                78.125
               ],
               [
                328.875,
                78.125
               ]
              ]
             ],
             "type": "Polygon"
            },
            "id": "22",
            "properties": {},
            "type": "Feature"
           },
           {
            "bbox": [
             330.875,
             78.125,
             332.875,
             80.125
            ],
            "geometry": {
             "coordinates": [
              [
               [
                330.875,
                78.125
               ],
               [
                330.875,
                80.125
               ],
               [
                332.875,
                80.125
               ],
               [
                332.875,
                78.125
               ],
               [
                330.875,
                78.125
               ]
              ]
             ],
             "type": "Polygon"
            },
            "id": "23",
            "properties": {},
            "type": "Feature"
           },
           {
            "bbox": [
             332.875,
             78.125,
             334.875,
             80.125
            ],
            "geometry": {
             "coordinates": [
              [
               [
                332.875,
                78.125
               ],
               [
                332.875,
                80.125
               ],
               [
                334.875,
                80.125
               ],
               [
                334.875,
                78.125
               ],
               [
                332.875,
                78.125
               ]
              ]
             ],
             "type": "Polygon"
            },
            "id": "24",
            "properties": {},
            "type": "Feature"
           },
           {
            "bbox": [
             334.875,
             78.125,
             336.875,
             80.125
            ],
            "geometry": {
             "coordinates": [
              [
               [
                334.875,
                78.125
               ],
               [
                334.875,
                80.125
               ],
               [
                336.875,
                80.125
               ],
               [
                336.875,
                78.125
               ],
               [
                334.875,
                78.125
               ]
              ]
             ],
             "type": "Polygon"
            },
            "id": "25",
            "properties": {},
            "type": "Feature"
           },
           {
            "bbox": [
             336.875,
             78.125,
             338.875,
             80.125
            ],
            "geometry": {
             "coordinates": [
              [
               [
                336.875,
                78.125
               ],
               [
                336.875,
                80.125
               ],
               [
                338.875,
                80.125
               ],
               [
                338.875,
                78.125
               ],
               [
                336.875,
                78.125
               ]
              ]
             ],
             "type": "Polygon"
            },
            "id": "26",
            "properties": {},
            "type": "Feature"
           },
           {
            "bbox": [
             338.875,
             78.125,
             340.875,
             80.125
            ],
            "geometry": {
             "coordinates": [
              [
               [
                338.875,
                78.125
               ],
               [
                338.875,
                80.125
               ],
               [
                340.875,
                80.125
               ],
               [
                340.875,
                78.125
               ],
               [
                338.875,
                78.125
               ]
              ]
             ],
             "type": "Polygon"
            },
            "id": "27",
            "properties": {},
            "type": "Feature"
           },
           {
            "bbox": [
             340.875,
             78.125,
             342.875,
             80.125
            ],
            "geometry": {
             "coordinates": [
              [
               [
                340.875,
                78.125
               ],
               [
                340.875,
                80.125
               ],
               [
                342.875,
                80.125
               ],
               [
                342.875,
                78.125
               ],
               [
                340.875,
                78.125
               ]
              ]
             ],
             "type": "Polygon"
            },
            "id": "28",
            "properties": {},
            "type": "Feature"
           },
           {
            "bbox": [
             342.875,
             78.125,
             344.875,
             80.125
            ],
            "geometry": {
             "coordinates": [
              [
               [
                342.875,
                78.125
               ],
               [
                342.875,
                80.125
               ],
               [
                344.875,
                80.125
               ],
               [
                344.875,
                78.125
               ],
               [
                342.875,
                78.125
               ]
              ]
             ],
             "type": "Polygon"
            },
            "id": "29",
            "properties": {},
            "type": "Feature"
           },
           {
            "bbox": [
             344.875,
             78.125,
             346.875,
             80.125
            ],
            "geometry": {
             "coordinates": [
              [
               [
                344.875,
                78.125
               ],
               [
                344.875,
                80.125
               ],
               [
                346.875,
                80.125
               ],
               [
                346.875,
                78.125
               ],
               [
                344.875,
                78.125
               ]
              ]
             ],
             "type": "Polygon"
            },
            "id": "30",
            "properties": {},
            "type": "Feature"
           },
           {
            "bbox": [
             346.875,
             78.125,
             348.875,
             80.125
            ],
            "geometry": {
             "coordinates": [
              [
               [
                346.875,
                78.125
               ],
               [
                346.875,
                80.125
               ],
               [
                348.875,
                80.125
               ],
               [
                348.875,
                78.125
               ],
               [
                346.875,
                78.125
               ]
              ]
             ],
             "type": "Polygon"
            },
            "id": "31",
            "properties": {},
            "type": "Feature"
           },
           {
            "bbox": [
             284.875,
             76.125,
             286.875,
             78.125
            ],
            "geometry": {
             "coordinates": [
              [
               [
                284.875,
                76.125
               ],
               [
                284.875,
                78.125
               ],
               [
                286.875,
                78.125
               ],
               [
                286.875,
                76.125
               ],
               [
                284.875,
                76.125
               ]
              ]
             ],
             "type": "Polygon"
            },
            "id": "32",
            "properties": {},
            "type": "Feature"
           },
           {
            "bbox": [
             286.875,
             76.125,
             288.875,
             78.125
            ],
            "geometry": {
             "coordinates": [
              [
               [
                286.875,
                76.125
               ],
               [
                286.875,
                78.125
               ],
               [
                288.875,
                78.125
               ],
               [
                288.875,
                76.125
               ],
               [
                286.875,
                76.125
               ]
              ]
             ],
             "type": "Polygon"
            },
            "id": "33",
            "properties": {},
            "type": "Feature"
           },
           {
            "bbox": [
             288.875,
             76.125,
             290.875,
             78.125
            ],
            "geometry": {
             "coordinates": [
              [
               [
                288.875,
                76.125
               ],
               [
                288.875,
                78.125
               ],
               [
                290.875,
                78.125
               ],
               [
                290.875,
                76.125
               ],
               [
                288.875,
                76.125
               ]
              ]
             ],
             "type": "Polygon"
            },
            "id": "34",
            "properties": {},
            "type": "Feature"
           },
           {
            "bbox": [
             290.875,
             76.125,
             292.875,
             78.125
            ],
            "geometry": {
             "coordinates": [
              [
               [
                290.875,
                76.125
               ],
               [
                290.875,
                78.125
               ],
               [
                292.875,
                78.125
               ],
               [
                292.875,
                76.125
               ],
               [
                290.875,
                76.125
               ]
              ]
             ],
             "type": "Polygon"
            },
            "id": "35",
            "properties": {},
            "type": "Feature"
           },
           {
            "bbox": [
             292.875,
             76.125,
             294.875,
             78.125
            ],
            "geometry": {
             "coordinates": [
              [
               [
                292.875,
                76.125
               ],
               [
                292.875,
                78.125
               ],
               [
                294.875,
                78.125
               ],
               [
                294.875,
                76.125
               ],
               [
                292.875,
                76.125
               ]
              ]
             ],
             "type": "Polygon"
            },
            "id": "36",
            "properties": {},
            "type": "Feature"
           },
           {
            "bbox": [
             294.875,
             76.125,
             296.875,
             78.125
            ],
            "geometry": {
             "coordinates": [
              [
               [
                294.875,
                76.125
               ],
               [
                294.875,
                78.125
               ],
               [
                296.875,
                78.125
               ],
               [
                296.875,
                76.125
               ],
               [
                294.875,
                76.125
               ]
              ]
             ],
             "type": "Polygon"
            },
            "id": "37",
            "properties": {},
            "type": "Feature"
           },
           {
            "bbox": [
             296.875,
             76.125,
             298.875,
             78.125
            ],
            "geometry": {
             "coordinates": [
              [
               [
                296.875,
                76.125
               ],
               [
                296.875,
                78.125
               ],
               [
                298.875,
                78.125
               ],
               [
                298.875,
                76.125
               ],
               [
                296.875,
                76.125
               ]
              ]
             ],
             "type": "Polygon"
            },
            "id": "38",
            "properties": {},
            "type": "Feature"
           },
           {
            "bbox": [
             298.875,
             76.125,
             300.875,
             78.125
            ],
            "geometry": {
             "coordinates": [
              [
               [
                298.875,
                76.125
               ],
               [
                298.875,
                78.125
               ],
               [
                300.875,
                78.125
               ],
               [
                300.875,
                76.125
               ],
               [
                298.875,
                76.125
               ]
              ]
             ],
             "type": "Polygon"
            },
            "id": "39",
            "properties": {},
            "type": "Feature"
           },
           {
            "bbox": [
             300.875,
             76.125,
             302.875,
             78.125
            ],
            "geometry": {
             "coordinates": [
              [
               [
                300.875,
                76.125
               ],
               [
                300.875,
                78.125
               ],
               [
                302.875,
                78.125
               ],
               [
                302.875,
                76.125
               ],
               [
                300.875,
                76.125
               ]
              ]
             ],
             "type": "Polygon"
            },
            "id": "40",
            "properties": {},
            "type": "Feature"
           },
           {
            "bbox": [
             302.875,
             76.125,
             304.875,
             78.125
            ],
            "geometry": {
             "coordinates": [
              [
               [
                302.875,
                76.125
               ],
               [
                302.875,
                78.125
               ],
               [
                304.875,
                78.125
               ],
               [
                304.875,
                76.125
               ],
               [
                302.875,
                76.125
               ]
              ]
             ],
             "type": "Polygon"
            },
            "id": "41",
            "properties": {},
            "type": "Feature"
           },
           {
            "bbox": [
             304.875,
             76.125,
             306.875,
             78.125
            ],
            "geometry": {
             "coordinates": [
              [
               [
                304.875,
                76.125
               ],
               [
                304.875,
                78.125
               ],
               [
                306.875,
                78.125
               ],
               [
                306.875,
                76.125
               ],
               [
                304.875,
                76.125
               ]
              ]
             ],
             "type": "Polygon"
            },
            "id": "42",
            "properties": {},
            "type": "Feature"
           },
           {
            "bbox": [
             306.875,
             76.125,
             308.875,
             78.125
            ],
            "geometry": {
             "coordinates": [
              [
               [
                306.875,
                76.125
               ],
               [
                306.875,
                78.125
               ],
               [
                308.875,
                78.125
               ],
               [
                308.875,
                76.125
               ],
               [
                306.875,
                76.125
               ]
              ]
             ],
             "type": "Polygon"
            },
            "id": "43",
            "properties": {},
            "type": "Feature"
           },
           {
            "bbox": [
             308.875,
             76.125,
             310.875,
             78.125
            ],
            "geometry": {
             "coordinates": [
              [
               [
                308.875,
                76.125
               ],
               [
                308.875,
                78.125
               ],
               [
                310.875,
                78.125
               ],
               [
                310.875,
                76.125
               ],
               [
                308.875,
                76.125
               ]
              ]
             ],
             "type": "Polygon"
            },
            "id": "44",
            "properties": {},
            "type": "Feature"
           },
           {
            "bbox": [
             310.875,
             76.125,
             312.875,
             78.125
            ],
            "geometry": {
             "coordinates": [
              [
               [
                310.875,
                76.125
               ],
               [
                310.875,
                78.125
               ],
               [
                312.875,
                78.125
               ],
               [
                312.875,
                76.125
               ],
               [
                310.875,
                76.125
               ]
              ]
             ],
             "type": "Polygon"
            },
            "id": "45",
            "properties": {},
            "type": "Feature"
           },
           {
            "bbox": [
             312.875,
             76.125,
             314.875,
             78.125
            ],
            "geometry": {
             "coordinates": [
              [
               [
                312.875,
                76.125
               ],
               [
                312.875,
                78.125
               ],
               [
                314.875,
                78.125
               ],
               [
                314.875,
                76.125
               ],
               [
                312.875,
                76.125
               ]
              ]
             ],
             "type": "Polygon"
            },
            "id": "46",
            "properties": {},
            "type": "Feature"
           },
           {
            "bbox": [
             314.875,
             76.125,
             316.875,
             78.125
            ],
            "geometry": {
             "coordinates": [
              [
               [
                314.875,
                76.125
               ],
               [
                314.875,
                78.125
               ],
               [
                316.875,
                78.125
               ],
               [
                316.875,
                76.125
               ],
               [
                314.875,
                76.125
               ]
              ]
             ],
             "type": "Polygon"
            },
            "id": "47",
            "properties": {},
            "type": "Feature"
           },
           {
            "bbox": [
             316.875,
             76.125,
             318.875,
             78.125
            ],
            "geometry": {
             "coordinates": [
              [
               [
                316.875,
                76.125
               ],
               [
                316.875,
                78.125
               ],
               [
                318.875,
                78.125
               ],
               [
                318.875,
                76.125
               ],
               [
                316.875,
                76.125
               ]
              ]
             ],
             "type": "Polygon"
            },
            "id": "48",
            "properties": {},
            "type": "Feature"
           },
           {
            "bbox": [
             318.875,
             76.125,
             320.875,
             78.125
            ],
            "geometry": {
             "coordinates": [
              [
               [
                318.875,
                76.125
               ],
               [
                318.875,
                78.125
               ],
               [
                320.875,
                78.125
               ],
               [
                320.875,
                76.125
               ],
               [
                318.875,
                76.125
               ]
              ]
             ],
             "type": "Polygon"
            },
            "id": "49",
            "properties": {},
            "type": "Feature"
           },
           {
            "bbox": [
             320.875,
             76.125,
             322.875,
             78.125
            ],
            "geometry": {
             "coordinates": [
              [
               [
                320.875,
                76.125
               ],
               [
                320.875,
                78.125
               ],
               [
                322.875,
                78.125
               ],
               [
                322.875,
                76.125
               ],
               [
                320.875,
                76.125
               ]
              ]
             ],
             "type": "Polygon"
            },
            "id": "50",
            "properties": {},
            "type": "Feature"
           },
           {
            "bbox": [
             322.875,
             76.125,
             324.875,
             78.125
            ],
            "geometry": {
             "coordinates": [
              [
               [
                322.875,
                76.125
               ],
               [
                322.875,
                78.125
               ],
               [
                324.875,
                78.125
               ],
               [
                324.875,
                76.125
               ],
               [
                322.875,
                76.125
               ]
              ]
             ],
             "type": "Polygon"
            },
            "id": "51",
            "properties": {},
            "type": "Feature"
           },
           {
            "bbox": [
             324.875,
             76.125,
             326.875,
             78.125
            ],
            "geometry": {
             "coordinates": [
              [
               [
                324.875,
                76.125
               ],
               [
                324.875,
                78.125
               ],
               [
                326.875,
                78.125
               ],
               [
                326.875,
                76.125
               ],
               [
                324.875,
                76.125
               ]
              ]
             ],
             "type": "Polygon"
            },
            "id": "52",
            "properties": {},
            "type": "Feature"
           },
           {
            "bbox": [
             326.875,
             76.125,
             328.875,
             78.125
            ],
            "geometry": {
             "coordinates": [
              [
               [
                326.875,
                76.125
               ],
               [
                326.875,
                78.125
               ],
               [
                328.875,
                78.125
               ],
               [
                328.875,
                76.125
               ],
               [
                326.875,
                76.125
               ]
              ]
             ],
             "type": "Polygon"
            },
            "id": "53",
            "properties": {},
            "type": "Feature"
           },
           {
            "bbox": [
             328.875,
             76.125,
             330.875,
             78.125
            ],
            "geometry": {
             "coordinates": [
              [
               [
                328.875,
                76.125
               ],
               [
                328.875,
                78.125
               ],
               [
                330.875,
                78.125
               ],
               [
                330.875,
                76.125
               ],
               [
                328.875,
                76.125
               ]
              ]
             ],
             "type": "Polygon"
            },
            "id": "54",
            "properties": {},
            "type": "Feature"
           },
           {
            "bbox": [
             330.875,
             76.125,
             332.875,
             78.125
            ],
            "geometry": {
             "coordinates": [
              [
               [
                330.875,
                76.125
               ],
               [
                330.875,
                78.125
               ],
               [
                332.875,
                78.125
               ],
               [
                332.875,
                76.125
               ],
               [
                330.875,
                76.125
               ]
              ]
             ],
             "type": "Polygon"
            },
            "id": "55",
            "properties": {},
            "type": "Feature"
           },
           {
            "bbox": [
             332.875,
             76.125,
             334.875,
             78.125
            ],
            "geometry": {
             "coordinates": [
              [
               [
                332.875,
                76.125
               ],
               [
                332.875,
                78.125
               ],
               [
                334.875,
                78.125
               ],
               [
                334.875,
                76.125
               ],
               [
                332.875,
                76.125
               ]
              ]
             ],
             "type": "Polygon"
            },
            "id": "56",
            "properties": {},
            "type": "Feature"
           },
           {
            "bbox": [
             334.875,
             76.125,
             336.875,
             78.125
            ],
            "geometry": {
             "coordinates": [
              [
               [
                334.875,
                76.125
               ],
               [
                334.875,
                78.125
               ],
               [
                336.875,
                78.125
               ],
               [
                336.875,
                76.125
               ],
               [
                334.875,
                76.125
               ]
              ]
             ],
             "type": "Polygon"
            },
            "id": "57",
            "properties": {},
            "type": "Feature"
           },
           {
            "bbox": [
             336.875,
             76.125,
             338.875,
             78.125
            ],
            "geometry": {
             "coordinates": [
              [
               [
                336.875,
                76.125
               ],
               [
                336.875,
                78.125
               ],
               [
                338.875,
                78.125
               ],
               [
                338.875,
                76.125
               ],
               [
                336.875,
                76.125
               ]
              ]
             ],
             "type": "Polygon"
            },
            "id": "58",
            "properties": {},
            "type": "Feature"
           },
           {
            "bbox": [
             338.875,
             76.125,
             340.875,
             78.125
            ],
            "geometry": {
             "coordinates": [
              [
               [
                338.875,
                76.125
               ],
               [
                338.875,
                78.125
               ],
               [
                340.875,
                78.125
               ],
               [
                340.875,
                76.125
               ],
               [
                338.875,
                76.125
               ]
              ]
             ],
             "type": "Polygon"
            },
            "id": "59",
            "properties": {},
            "type": "Feature"
           },
           {
            "bbox": [
             340.875,
             76.125,
             342.875,
             78.125
            ],
            "geometry": {
             "coordinates": [
              [
               [
                340.875,
                76.125
               ],
               [
                340.875,
                78.125
               ],
               [
                342.875,
                78.125
               ],
               [
                342.875,
                76.125
               ],
               [
                340.875,
                76.125
               ]
              ]
             ],
             "type": "Polygon"
            },
            "id": "60",
            "properties": {},
            "type": "Feature"
           },
           {
            "bbox": [
             342.875,
             76.125,
             344.875,
             78.125
            ],
            "geometry": {
             "coordinates": [
              [
               [
                342.875,
                76.125
               ],
               [
                342.875,
                78.125
               ],
               [
                344.875,
                78.125
               ],
               [
                344.875,
                76.125
               ],
               [
                342.875,
                76.125
               ]
              ]
             ],
             "type": "Polygon"
            },
            "id": "61",
            "properties": {},
            "type": "Feature"
           },
           {
            "bbox": [
             344.875,
             76.125,
             346.875,
             78.125
            ],
            "geometry": {
             "coordinates": [
              [
               [
                344.875,
                76.125
               ],
               [
                344.875,
                78.125
               ],
               [
                346.875,
                78.125
               ],
               [
                346.875,
                76.125
               ],
               [
                344.875,
                76.125
               ]
              ]
             ],
             "type": "Polygon"
            },
            "id": "62",
            "properties": {},
            "type": "Feature"
           },
           {
            "bbox": [
             346.875,
             76.125,
             348.875,
             78.125
            ],
            "geometry": {
             "coordinates": [
              [
               [
                346.875,
                76.125
               ],
               [
                346.875,
                78.125
               ],
               [
                348.875,
                78.125
               ],
               [
                348.875,
                76.125
               ],
               [
                346.875,
                76.125
               ]
              ]
             ],
             "type": "Polygon"
            },
            "id": "63",
            "properties": {},
            "type": "Feature"
           },
           {
            "bbox": [
             284.875,
             74.125,
             286.875,
             76.125
            ],
            "geometry": {
             "coordinates": [
              [
               [
                284.875,
                74.125
               ],
               [
                284.875,
                76.125
               ],
               [
                286.875,
                76.125
               ],
               [
                286.875,
                74.125
               ],
               [
                284.875,
                74.125
               ]
              ]
             ],
             "type": "Polygon"
            },
            "id": "64",
            "properties": {},
            "type": "Feature"
           },
           {
            "bbox": [
             286.875,
             74.125,
             288.875,
             76.125
            ],
            "geometry": {
             "coordinates": [
              [
               [
                286.875,
                74.125
               ],
               [
                286.875,
                76.125
               ],
               [
                288.875,
                76.125
               ],
               [
                288.875,
                74.125
               ],
               [
                286.875,
                74.125
               ]
              ]
             ],
             "type": "Polygon"
            },
            "id": "65",
            "properties": {},
            "type": "Feature"
           },
           {
            "bbox": [
             288.875,
             74.125,
             290.875,
             76.125
            ],
            "geometry": {
             "coordinates": [
              [
               [
                288.875,
                74.125
               ],
               [
                288.875,
                76.125
               ],
               [
                290.875,
                76.125
               ],
               [
                290.875,
                74.125
               ],
               [
                288.875,
                74.125
               ]
              ]
             ],
             "type": "Polygon"
            },
            "id": "66",
            "properties": {},
            "type": "Feature"
           },
           {
            "bbox": [
             290.875,
             74.125,
             292.875,
             76.125
            ],
            "geometry": {
             "coordinates": [
              [
               [
                290.875,
                74.125
               ],
               [
                290.875,
                76.125
               ],
               [
                292.875,
                76.125
               ],
               [
                292.875,
                74.125
               ],
               [
                290.875,
                74.125
               ]
              ]
             ],
             "type": "Polygon"
            },
            "id": "67",
            "properties": {},
            "type": "Feature"
           },
           {
            "bbox": [
             292.875,
             74.125,
             294.875,
             76.125
            ],
            "geometry": {
             "coordinates": [
              [
               [
                292.875,
                74.125
               ],
               [
                292.875,
                76.125
               ],
               [
                294.875,
                76.125
               ],
               [
                294.875,
                74.125
               ],
               [
                292.875,
                74.125
               ]
              ]
             ],
             "type": "Polygon"
            },
            "id": "68",
            "properties": {},
            "type": "Feature"
           },
           {
            "bbox": [
             294.875,
             74.125,
             296.875,
             76.125
            ],
            "geometry": {
             "coordinates": [
              [
               [
                294.875,
                74.125
               ],
               [
                294.875,
                76.125
               ],
               [
                296.875,
                76.125
               ],
               [
                296.875,
                74.125
               ],
               [
                294.875,
                74.125
               ]
              ]
             ],
             "type": "Polygon"
            },
            "id": "69",
            "properties": {},
            "type": "Feature"
           },
           {
            "bbox": [
             296.875,
             74.125,
             298.875,
             76.125
            ],
            "geometry": {
             "coordinates": [
              [
               [
                296.875,
                74.125
               ],
               [
                296.875,
                76.125
               ],
               [
                298.875,
                76.125
               ],
               [
                298.875,
                74.125
               ],
               [
                296.875,
                74.125
               ]
              ]
             ],
             "type": "Polygon"
            },
            "id": "70",
            "properties": {},
            "type": "Feature"
           },
           {
            "bbox": [
             298.875,
             74.125,
             300.875,
             76.125
            ],
            "geometry": {
             "coordinates": [
              [
               [
                298.875,
                74.125
               ],
               [
                298.875,
                76.125
               ],
               [
                300.875,
                76.125
               ],
               [
                300.875,
                74.125
               ],
               [
                298.875,
                74.125
               ]
              ]
             ],
             "type": "Polygon"
            },
            "id": "71",
            "properties": {},
            "type": "Feature"
           },
           {
            "bbox": [
             300.875,
             74.125,
             302.875,
             76.125
            ],
            "geometry": {
             "coordinates": [
              [
               [
                300.875,
                74.125
               ],
               [
                300.875,
                76.125
               ],
               [
                302.875,
                76.125
               ],
               [
                302.875,
                74.125
               ],
               [
                300.875,
                74.125
               ]
              ]
             ],
             "type": "Polygon"
            },
            "id": "72",
            "properties": {},
            "type": "Feature"
           },
           {
            "bbox": [
             302.875,
             74.125,
             304.875,
             76.125
            ],
            "geometry": {
             "coordinates": [
              [
               [
                302.875,
                74.125
               ],
               [
                302.875,
                76.125
               ],
               [
                304.875,
                76.125
               ],
               [
                304.875,
                74.125
               ],
               [
                302.875,
                74.125
               ]
              ]
             ],
             "type": "Polygon"
            },
            "id": "73",
            "properties": {},
            "type": "Feature"
           },
           {
            "bbox": [
             304.875,
             74.125,
             306.875,
             76.125
            ],
            "geometry": {
             "coordinates": [
              [
               [
                304.875,
                74.125
               ],
               [
                304.875,
                76.125
               ],
               [
                306.875,
                76.125
               ],
               [
                306.875,
                74.125
               ],
               [
                304.875,
                74.125
               ]
              ]
             ],
             "type": "Polygon"
            },
            "id": "74",
            "properties": {},
            "type": "Feature"
           },
           {
            "bbox": [
             306.875,
             74.125,
             308.875,
             76.125
            ],
            "geometry": {
             "coordinates": [
              [
               [
                306.875,
                74.125
               ],
               [
                306.875,
                76.125
               ],
               [
                308.875,
                76.125
               ],
               [
                308.875,
                74.125
               ],
               [
                306.875,
                74.125
               ]
              ]
             ],
             "type": "Polygon"
            },
            "id": "75",
            "properties": {},
            "type": "Feature"
           },
           {
            "bbox": [
             308.875,
             74.125,
             310.875,
             76.125
            ],
            "geometry": {
             "coordinates": [
              [
               [
                308.875,
                74.125
               ],
               [
                308.875,
                76.125
               ],
               [
                310.875,
                76.125
               ],
               [
                310.875,
                74.125
               ],
               [
                308.875,
                74.125
               ]
              ]
             ],
             "type": "Polygon"
            },
            "id": "76",
            "properties": {},
            "type": "Feature"
           },
           {
            "bbox": [
             310.875,
             74.125,
             312.875,
             76.125
            ],
            "geometry": {
             "coordinates": [
              [
               [
                310.875,
                74.125
               ],
               [
                310.875,
                76.125
               ],
               [
                312.875,
                76.125
               ],
               [
                312.875,
                74.125
               ],
               [
                310.875,
                74.125
               ]
              ]
             ],
             "type": "Polygon"
            },
            "id": "77",
            "properties": {},
            "type": "Feature"
           },
           {
            "bbox": [
             312.875,
             74.125,
             314.875,
             76.125
            ],
            "geometry": {
             "coordinates": [
              [
               [
                312.875,
                74.125
               ],
               [
                312.875,
                76.125
               ],
               [
                314.875,
                76.125
               ],
               [
                314.875,
                74.125
               ],
               [
                312.875,
                74.125
               ]
              ]
             ],
             "type": "Polygon"
            },
            "id": "78",
            "properties": {},
            "type": "Feature"
           },
           {
            "bbox": [
             314.875,
             74.125,
             316.875,
             76.125
            ],
            "geometry": {
             "coordinates": [
              [
               [
                314.875,
                74.125
               ],
               [
                314.875,
                76.125
               ],
               [
                316.875,
                76.125
               ],
               [
                316.875,
                74.125
               ],
               [
                314.875,
                74.125
               ]
              ]
             ],
             "type": "Polygon"
            },
            "id": "79",
            "properties": {},
            "type": "Feature"
           },
           {
            "bbox": [
             316.875,
             74.125,
             318.875,
             76.125
            ],
            "geometry": {
             "coordinates": [
              [
               [
                316.875,
                74.125
               ],
               [
                316.875,
                76.125
               ],
               [
                318.875,
                76.125
               ],
               [
                318.875,
                74.125
               ],
               [
                316.875,
                74.125
               ]
              ]
             ],
             "type": "Polygon"
            },
            "id": "80",
            "properties": {},
            "type": "Feature"
           },
           {
            "bbox": [
             318.875,
             74.125,
             320.875,
             76.125
            ],
            "geometry": {
             "coordinates": [
              [
               [
                318.875,
                74.125
               ],
               [
                318.875,
                76.125
               ],
               [
                320.875,
                76.125
               ],
               [
                320.875,
                74.125
               ],
               [
                318.875,
                74.125
               ]
              ]
             ],
             "type": "Polygon"
            },
            "id": "81",
            "properties": {},
            "type": "Feature"
           },
           {
            "bbox": [
             320.875,
             74.125,
             322.875,
             76.125
            ],
            "geometry": {
             "coordinates": [
              [
               [
                320.875,
                74.125
               ],
               [
                320.875,
                76.125
               ],
               [
                322.875,
                76.125
               ],
               [
                322.875,
                74.125
               ],
               [
                320.875,
                74.125
               ]
              ]
             ],
             "type": "Polygon"
            },
            "id": "82",
            "properties": {},
            "type": "Feature"
           },
           {
            "bbox": [
             322.875,
             74.125,
             324.875,
             76.125
            ],
            "geometry": {
             "coordinates": [
              [
               [
                322.875,
                74.125
               ],
               [
                322.875,
                76.125
               ],
               [
                324.875,
                76.125
               ],
               [
                324.875,
                74.125
               ],
               [
                322.875,
                74.125
               ]
              ]
             ],
             "type": "Polygon"
            },
            "id": "83",
            "properties": {},
            "type": "Feature"
           },
           {
            "bbox": [
             324.875,
             74.125,
             326.875,
             76.125
            ],
            "geometry": {
             "coordinates": [
              [
               [
                324.875,
                74.125
               ],
               [
                324.875,
                76.125
               ],
               [
                326.875,
                76.125
               ],
               [
                326.875,
                74.125
               ],
               [
                324.875,
                74.125
               ]
              ]
             ],
             "type": "Polygon"
            },
            "id": "84",
            "properties": {},
            "type": "Feature"
           },
           {
            "bbox": [
             326.875,
             74.125,
             328.875,
             76.125
            ],
            "geometry": {
             "coordinates": [
              [
               [
                326.875,
                74.125
               ],
               [
                326.875,
                76.125
               ],
               [
                328.875,
                76.125
               ],
               [
                328.875,
                74.125
               ],
               [
                326.875,
                74.125
               ]
              ]
             ],
             "type": "Polygon"
            },
            "id": "85",
            "properties": {},
            "type": "Feature"
           },
           {
            "bbox": [
             328.875,
             74.125,
             330.875,
             76.125
            ],
            "geometry": {
             "coordinates": [
              [
               [
                328.875,
                74.125
               ],
               [
                328.875,
                76.125
               ],
               [
                330.875,
                76.125
               ],
               [
                330.875,
                74.125
               ],
               [
                328.875,
                74.125
               ]
              ]
             ],
             "type": "Polygon"
            },
            "id": "86",
            "properties": {},
            "type": "Feature"
           },
           {
            "bbox": [
             330.875,
             74.125,
             332.875,
             76.125
            ],
            "geometry": {
             "coordinates": [
              [
               [
                330.875,
                74.125
               ],
               [
                330.875,
                76.125
               ],
               [
                332.875,
                76.125
               ],
               [
                332.875,
                74.125
               ],
               [
                330.875,
                74.125
               ]
              ]
             ],
             "type": "Polygon"
            },
            "id": "87",
            "properties": {},
            "type": "Feature"
           },
           {
            "bbox": [
             332.875,
             74.125,
             334.875,
             76.125
            ],
            "geometry": {
             "coordinates": [
              [
               [
                332.875,
                74.125
               ],
               [
                332.875,
                76.125
               ],
               [
                334.875,
                76.125
               ],
               [
                334.875,
                74.125
               ],
               [
                332.875,
                74.125
               ]
              ]
             ],
             "type": "Polygon"
            },
            "id": "88",
            "properties": {},
            "type": "Feature"
           },
           {
            "bbox": [
             334.875,
             74.125,
             336.875,
             76.125
            ],
            "geometry": {
             "coordinates": [
              [
               [
                334.875,
                74.125
               ],
               [
                334.875,
                76.125
               ],
               [
                336.875,
                76.125
               ],
               [
                336.875,
                74.125
               ],
               [
                334.875,
                74.125
               ]
              ]
             ],
             "type": "Polygon"
            },
            "id": "89",
            "properties": {},
            "type": "Feature"
           },
           {
            "bbox": [
             336.875,
             74.125,
             338.875,
             76.125
            ],
            "geometry": {
             "coordinates": [
              [
               [
                336.875,
                74.125
               ],
               [
                336.875,
                76.125
               ],
               [
                338.875,
                76.125
               ],
               [
                338.875,
                74.125
               ],
               [
                336.875,
                74.125
               ]
              ]
             ],
             "type": "Polygon"
            },
            "id": "90",
            "properties": {},
            "type": "Feature"
           },
           {
            "bbox": [
             338.875,
             74.125,
             340.875,
             76.125
            ],
            "geometry": {
             "coordinates": [
              [
               [
                338.875,
                74.125
               ],
               [
                338.875,
                76.125
               ],
               [
                340.875,
                76.125
               ],
               [
                340.875,
                74.125
               ],
               [
                338.875,
                74.125
               ]
              ]
             ],
             "type": "Polygon"
            },
            "id": "91",
            "properties": {},
            "type": "Feature"
           },
           {
            "bbox": [
             340.875,
             74.125,
             342.875,
             76.125
            ],
            "geometry": {
             "coordinates": [
              [
               [
                340.875,
                74.125
               ],
               [
                340.875,
                76.125
               ],
               [
                342.875,
                76.125
               ],
               [
                342.875,
                74.125
               ],
               [
                340.875,
                74.125
               ]
              ]
             ],
             "type": "Polygon"
            },
            "id": "92",
            "properties": {},
            "type": "Feature"
           },
           {
            "bbox": [
             342.875,
             74.125,
             344.875,
             76.125
            ],
            "geometry": {
             "coordinates": [
              [
               [
                342.875,
                74.125
               ],
               [
                342.875,
                76.125
               ],
               [
                344.875,
                76.125
               ],
               [
                344.875,
                74.125
               ],
               [
                342.875,
                74.125
               ]
              ]
             ],
             "type": "Polygon"
            },
            "id": "93",
            "properties": {},
            "type": "Feature"
           },
           {
            "bbox": [
             344.875,
             74.125,
             346.875,
             76.125
            ],
            "geometry": {
             "coordinates": [
              [
               [
                344.875,
                74.125
               ],
               [
                344.875,
                76.125
               ],
               [
                346.875,
                76.125
               ],
               [
                346.875,
                74.125
               ],
               [
                344.875,
                74.125
               ]
              ]
             ],
             "type": "Polygon"
            },
            "id": "94",
            "properties": {},
            "type": "Feature"
           },
           {
            "bbox": [
             346.875,
             74.125,
             348.875,
             76.125
            ],
            "geometry": {
             "coordinates": [
              [
               [
                346.875,
                74.125
               ],
               [
                346.875,
                76.125
               ],
               [
                348.875,
                76.125
               ],
               [
                348.875,
                74.125
               ],
               [
                346.875,
                74.125
               ]
              ]
             ],
             "type": "Polygon"
            },
            "id": "95",
            "properties": {},
            "type": "Feature"
           },
           {
            "bbox": [
             284.875,
             72.125,
             286.875,
             74.125
            ],
            "geometry": {
             "coordinates": [
              [
               [
                284.875,
                72.125
               ],
               [
                284.875,
                74.125
               ],
               [
                286.875,
                74.125
               ],
               [
                286.875,
                72.125
               ],
               [
                284.875,
                72.125
               ]
              ]
             ],
             "type": "Polygon"
            },
            "id": "96",
            "properties": {},
            "type": "Feature"
           },
           {
            "bbox": [
             286.875,
             72.125,
             288.875,
             74.125
            ],
            "geometry": {
             "coordinates": [
              [
               [
                286.875,
                72.125
               ],
               [
                286.875,
                74.125
               ],
               [
                288.875,
                74.125
               ],
               [
                288.875,
                72.125
               ],
               [
                286.875,
                72.125
               ]
              ]
             ],
             "type": "Polygon"
            },
            "id": "97",
            "properties": {},
            "type": "Feature"
           },
           {
            "bbox": [
             288.875,
             72.125,
             290.875,
             74.125
            ],
            "geometry": {
             "coordinates": [
              [
               [
                288.875,
                72.125
               ],
               [
                288.875,
                74.125
               ],
               [
                290.875,
                74.125
               ],
               [
                290.875,
                72.125
               ],
               [
                288.875,
                72.125
               ]
              ]
             ],
             "type": "Polygon"
            },
            "id": "98",
            "properties": {},
            "type": "Feature"
           },
           {
            "bbox": [
             290.875,
             72.125,
             292.875,
             74.125
            ],
            "geometry": {
             "coordinates": [
              [
               [
                290.875,
                72.125
               ],
               [
                290.875,
                74.125
               ],
               [
                292.875,
                74.125
               ],
               [
                292.875,
                72.125
               ],
               [
                290.875,
                72.125
               ]
              ]
             ],
             "type": "Polygon"
            },
            "id": "99",
            "properties": {},
            "type": "Feature"
           },
           {
            "bbox": [
             292.875,
             72.125,
             294.875,
             74.125
            ],
            "geometry": {
             "coordinates": [
              [
               [
                292.875,
                72.125
               ],
               [
                292.875,
                74.125
               ],
               [
                294.875,
                74.125
               ],
               [
                294.875,
                72.125
               ],
               [
                292.875,
                72.125
               ]
              ]
             ],
             "type": "Polygon"
            },
            "id": "100",
            "properties": {},
            "type": "Feature"
           },
           {
            "bbox": [
             294.875,
             72.125,
             296.875,
             74.125
            ],
            "geometry": {
             "coordinates": [
              [
               [
                294.875,
                72.125
               ],
               [
                294.875,
                74.125
               ],
               [
                296.875,
                74.125
               ],
               [
                296.875,
                72.125
               ],
               [
                294.875,
                72.125
               ]
              ]
             ],
             "type": "Polygon"
            },
            "id": "101",
            "properties": {},
            "type": "Feature"
           },
           {
            "bbox": [
             296.875,
             72.125,
             298.875,
             74.125
            ],
            "geometry": {
             "coordinates": [
              [
               [
                296.875,
                72.125
               ],
               [
                296.875,
                74.125
               ],
               [
                298.875,
                74.125
               ],
               [
                298.875,
                72.125
               ],
               [
                296.875,
                72.125
               ]
              ]
             ],
             "type": "Polygon"
            },
            "id": "102",
            "properties": {},
            "type": "Feature"
           },
           {
            "bbox": [
             298.875,
             72.125,
             300.875,
             74.125
            ],
            "geometry": {
             "coordinates": [
              [
               [
                298.875,
                72.125
               ],
               [
                298.875,
                74.125
               ],
               [
                300.875,
                74.125
               ],
               [
                300.875,
                72.125
               ],
               [
                298.875,
                72.125
               ]
              ]
             ],
             "type": "Polygon"
            },
            "id": "103",
            "properties": {},
            "type": "Feature"
           },
           {
            "bbox": [
             300.875,
             72.125,
             302.875,
             74.125
            ],
            "geometry": {
             "coordinates": [
              [
               [
                300.875,
                72.125
               ],
               [
                300.875,
                74.125
               ],
               [
                302.875,
                74.125
               ],
               [
                302.875,
                72.125
               ],
               [
                300.875,
                72.125
               ]
              ]
             ],
             "type": "Polygon"
            },
            "id": "104",
            "properties": {},
            "type": "Feature"
           },
           {
            "bbox": [
             302.875,
             72.125,
             304.875,
             74.125
            ],
            "geometry": {
             "coordinates": [
              [
               [
                302.875,
                72.125
               ],
               [
                302.875,
                74.125
               ],
               [
                304.875,
                74.125
               ],
               [
                304.875,
                72.125
               ],
               [
                302.875,
                72.125
               ]
              ]
             ],
             "type": "Polygon"
            },
            "id": "105",
            "properties": {},
            "type": "Feature"
           },
           {
            "bbox": [
             304.875,
             72.125,
             306.875,
             74.125
            ],
            "geometry": {
             "coordinates": [
              [
               [
                304.875,
                72.125
               ],
               [
                304.875,
                74.125
               ],
               [
                306.875,
                74.125
               ],
               [
                306.875,
                72.125
               ],
               [
                304.875,
                72.125
               ]
              ]
             ],
             "type": "Polygon"
            },
            "id": "106",
            "properties": {},
            "type": "Feature"
           },
           {
            "bbox": [
             306.875,
             72.125,
             308.875,
             74.125
            ],
            "geometry": {
             "coordinates": [
              [
               [
                306.875,
                72.125
               ],
               [
                306.875,
                74.125
               ],
               [
                308.875,
                74.125
               ],
               [
                308.875,
                72.125
               ],
               [
                306.875,
                72.125
               ]
              ]
             ],
             "type": "Polygon"
            },
            "id": "107",
            "properties": {},
            "type": "Feature"
           },
           {
            "bbox": [
             308.875,
             72.125,
             310.875,
             74.125
            ],
            "geometry": {
             "coordinates": [
              [
               [
                308.875,
                72.125
               ],
               [
                308.875,
                74.125
               ],
               [
                310.875,
                74.125
               ],
               [
                310.875,
                72.125
               ],
               [
                308.875,
                72.125
               ]
              ]
             ],
             "type": "Polygon"
            },
            "id": "108",
            "properties": {},
            "type": "Feature"
           },
           {
            "bbox": [
             310.875,
             72.125,
             312.875,
             74.125
            ],
            "geometry": {
             "coordinates": [
              [
               [
                310.875,
                72.125
               ],
               [
                310.875,
                74.125
               ],
               [
                312.875,
                74.125
               ],
               [
                312.875,
                72.125
               ],
               [
                310.875,
                72.125
               ]
              ]
             ],
             "type": "Polygon"
            },
            "id": "109",
            "properties": {},
            "type": "Feature"
           },
           {
            "bbox": [
             312.875,
             72.125,
             314.875,
             74.125
            ],
            "geometry": {
             "coordinates": [
              [
               [
                312.875,
                72.125
               ],
               [
                312.875,
                74.125
               ],
               [
                314.875,
                74.125
               ],
               [
                314.875,
                72.125
               ],
               [
                312.875,
                72.125
               ]
              ]
             ],
             "type": "Polygon"
            },
            "id": "110",
            "properties": {},
            "type": "Feature"
           },
           {
            "bbox": [
             314.875,
             72.125,
             316.875,
             74.125
            ],
            "geometry": {
             "coordinates": [
              [
               [
                314.875,
                72.125
               ],
               [
                314.875,
                74.125
               ],
               [
                316.875,
                74.125
               ],
               [
                316.875,
                72.125
               ],
               [
                314.875,
                72.125
               ]
              ]
             ],
             "type": "Polygon"
            },
            "id": "111",
            "properties": {},
            "type": "Feature"
           },
           {
            "bbox": [
             316.875,
             72.125,
             318.875,
             74.125
            ],
            "geometry": {
             "coordinates": [
              [
               [
                316.875,
                72.125
               ],
               [
                316.875,
                74.125
               ],
               [
                318.875,
                74.125
               ],
               [
                318.875,
                72.125
               ],
               [
                316.875,
                72.125
               ]
              ]
             ],
             "type": "Polygon"
            },
            "id": "112",
            "properties": {},
            "type": "Feature"
           },
           {
            "bbox": [
             318.875,
             72.125,
             320.875,
             74.125
            ],
            "geometry": {
             "coordinates": [
              [
               [
                318.875,
                72.125
               ],
               [
                318.875,
                74.125
               ],
               [
                320.875,
                74.125
               ],
               [
                320.875,
                72.125
               ],
               [
                318.875,
                72.125
               ]
              ]
             ],
             "type": "Polygon"
            },
            "id": "113",
            "properties": {},
            "type": "Feature"
           },
           {
            "bbox": [
             320.875,
             72.125,
             322.875,
             74.125
            ],
            "geometry": {
             "coordinates": [
              [
               [
                320.875,
                72.125
               ],
               [
                320.875,
                74.125
               ],
               [
                322.875,
                74.125
               ],
               [
                322.875,
                72.125
               ],
               [
                320.875,
                72.125
               ]
              ]
             ],
             "type": "Polygon"
            },
            "id": "114",
            "properties": {},
            "type": "Feature"
           },
           {
            "bbox": [
             322.875,
             72.125,
             324.875,
             74.125
            ],
            "geometry": {
             "coordinates": [
              [
               [
                322.875,
                72.125
               ],
               [
                322.875,
                74.125
               ],
               [
                324.875,
                74.125
               ],
               [
                324.875,
                72.125
               ],
               [
                322.875,
                72.125
               ]
              ]
             ],
             "type": "Polygon"
            },
            "id": "115",
            "properties": {},
            "type": "Feature"
           },
           {
            "bbox": [
             324.875,
             72.125,
             326.875,
             74.125
            ],
            "geometry": {
             "coordinates": [
              [
               [
                324.875,
                72.125
               ],
               [
                324.875,
                74.125
               ],
               [
                326.875,
                74.125
               ],
               [
                326.875,
                72.125
               ],
               [
                324.875,
                72.125
               ]
              ]
             ],
             "type": "Polygon"
            },
            "id": "116",
            "properties": {},
            "type": "Feature"
           },
           {
            "bbox": [
             326.875,
             72.125,
             328.875,
             74.125
            ],
            "geometry": {
             "coordinates": [
              [
               [
                326.875,
                72.125
               ],
               [
                326.875,
                74.125
               ],
               [
                328.875,
                74.125
               ],
               [
                328.875,
                72.125
               ],
               [
                326.875,
                72.125
               ]
              ]
             ],
             "type": "Polygon"
            },
            "id": "117",
            "properties": {},
            "type": "Feature"
           },
           {
            "bbox": [
             328.875,
             72.125,
             330.875,
             74.125
            ],
            "geometry": {
             "coordinates": [
              [
               [
                328.875,
                72.125
               ],
               [
                328.875,
                74.125
               ],
               [
                330.875,
                74.125
               ],
               [
                330.875,
                72.125
               ],
               [
                328.875,
                72.125
               ]
              ]
             ],
             "type": "Polygon"
            },
            "id": "118",
            "properties": {},
            "type": "Feature"
           },
           {
            "bbox": [
             330.875,
             72.125,
             332.875,
             74.125
            ],
            "geometry": {
             "coordinates": [
              [
               [
                330.875,
                72.125
               ],
               [
                330.875,
                74.125
               ],
               [
                332.875,
                74.125
               ],
               [
                332.875,
                72.125
               ],
               [
                330.875,
                72.125
               ]
              ]
             ],
             "type": "Polygon"
            },
            "id": "119",
            "properties": {},
            "type": "Feature"
           },
           {
            "bbox": [
             332.875,
             72.125,
             334.875,
             74.125
            ],
            "geometry": {
             "coordinates": [
              [
               [
                332.875,
                72.125
               ],
               [
                332.875,
                74.125
               ],
               [
                334.875,
                74.125
               ],
               [
                334.875,
                72.125
               ],
               [
                332.875,
                72.125
               ]
              ]
             ],
             "type": "Polygon"
            },
            "id": "120",
            "properties": {},
            "type": "Feature"
           },
           {
            "bbox": [
             334.875,
             72.125,
             336.875,
             74.125
            ],
            "geometry": {
             "coordinates": [
              [
               [
                334.875,
                72.125
               ],
               [
                334.875,
                74.125
               ],
               [
                336.875,
                74.125
               ],
               [
                336.875,
                72.125
               ],
               [
                334.875,
                72.125
               ]
              ]
             ],
             "type": "Polygon"
            },
            "id": "121",
            "properties": {},
            "type": "Feature"
           },
           {
            "bbox": [
             336.875,
             72.125,
             338.875,
             74.125
            ],
            "geometry": {
             "coordinates": [
              [
               [
                336.875,
                72.125
               ],
               [
                336.875,
                74.125
               ],
               [
                338.875,
                74.125
               ],
               [
                338.875,
                72.125
               ],
               [
                336.875,
                72.125
               ]
              ]
             ],
             "type": "Polygon"
            },
            "id": "122",
            "properties": {},
            "type": "Feature"
           },
           {
            "bbox": [
             338.875,
             72.125,
             340.875,
             74.125
            ],
            "geometry": {
             "coordinates": [
              [
               [
                338.875,
                72.125
               ],
               [
                338.875,
                74.125
               ],
               [
                340.875,
                74.125
               ],
               [
                340.875,
                72.125
               ],
               [
                338.875,
                72.125
               ]
              ]
             ],
             "type": "Polygon"
            },
            "id": "123",
            "properties": {},
            "type": "Feature"
           },
           {
            "bbox": [
             340.875,
             72.125,
             342.875,
             74.125
            ],
            "geometry": {
             "coordinates": [
              [
               [
                340.875,
                72.125
               ],
               [
                340.875,
                74.125
               ],
               [
                342.875,
                74.125
               ],
               [
                342.875,
                72.125
               ],
               [
                340.875,
                72.125
               ]
              ]
             ],
             "type": "Polygon"
            },
            "id": "124",
            "properties": {},
            "type": "Feature"
           },
           {
            "bbox": [
             342.875,
             72.125,
             344.875,
             74.125
            ],
            "geometry": {
             "coordinates": [
              [
               [
                342.875,
                72.125
               ],
               [
                342.875,
                74.125
               ],
               [
                344.875,
                74.125
               ],
               [
                344.875,
                72.125
               ],
               [
                342.875,
                72.125
               ]
              ]
             ],
             "type": "Polygon"
            },
            "id": "125",
            "properties": {},
            "type": "Feature"
           },
           {
            "bbox": [
             344.875,
             72.125,
             346.875,
             74.125
            ],
            "geometry": {
             "coordinates": [
              [
               [
                344.875,
                72.125
               ],
               [
                344.875,
                74.125
               ],
               [
                346.875,
                74.125
               ],
               [
                346.875,
                72.125
               ],
               [
                344.875,
                72.125
               ]
              ]
             ],
             "type": "Polygon"
            },
            "id": "126",
            "properties": {},
            "type": "Feature"
           },
           {
            "bbox": [
             346.875,
             72.125,
             348.875,
             74.125
            ],
            "geometry": {
             "coordinates": [
              [
               [
                346.875,
                72.125
               ],
               [
                346.875,
                74.125
               ],
               [
                348.875,
                74.125
               ],
               [
                348.875,
                72.125
               ],
               [
                346.875,
                72.125
               ]
              ]
             ],
             "type": "Polygon"
            },
            "id": "127",
            "properties": {},
            "type": "Feature"
           },
           {
            "bbox": [
             284.875,
             70.125,
             286.875,
             72.125
            ],
            "geometry": {
             "coordinates": [
              [
               [
                284.875,
                70.125
               ],
               [
                284.875,
                72.125
               ],
               [
                286.875,
                72.125
               ],
               [
                286.875,
                70.125
               ],
               [
                284.875,
                70.125
               ]
              ]
             ],
             "type": "Polygon"
            },
            "id": "128",
            "properties": {},
            "type": "Feature"
           },
           {
            "bbox": [
             286.875,
             70.125,
             288.875,
             72.125
            ],
            "geometry": {
             "coordinates": [
              [
               [
                286.875,
                70.125
               ],
               [
                286.875,
                72.125
               ],
               [
                288.875,
                72.125
               ],
               [
                288.875,
                70.125
               ],
               [
                286.875,
                70.125
               ]
              ]
             ],
             "type": "Polygon"
            },
            "id": "129",
            "properties": {},
            "type": "Feature"
           },
           {
            "bbox": [
             288.875,
             70.125,
             290.875,
             72.125
            ],
            "geometry": {
             "coordinates": [
              [
               [
                288.875,
                70.125
               ],
               [
                288.875,
                72.125
               ],
               [
                290.875,
                72.125
               ],
               [
                290.875,
                70.125
               ],
               [
                288.875,
                70.125
               ]
              ]
             ],
             "type": "Polygon"
            },
            "id": "130",
            "properties": {},
            "type": "Feature"
           },
           {
            "bbox": [
             290.875,
             70.125,
             292.875,
             72.125
            ],
            "geometry": {
             "coordinates": [
              [
               [
                290.875,
                70.125
               ],
               [
                290.875,
                72.125
               ],
               [
                292.875,
                72.125
               ],
               [
                292.875,
                70.125
               ],
               [
                290.875,
                70.125
               ]
              ]
             ],
             "type": "Polygon"
            },
            "id": "131",
            "properties": {},
            "type": "Feature"
           },
           {
            "bbox": [
             292.875,
             70.125,
             294.875,
             72.125
            ],
            "geometry": {
             "coordinates": [
              [
               [
                292.875,
                70.125
               ],
               [
                292.875,
                72.125
               ],
               [
                294.875,
                72.125
               ],
               [
                294.875,
                70.125
               ],
               [
                292.875,
                70.125
               ]
              ]
             ],
             "type": "Polygon"
            },
            "id": "132",
            "properties": {},
            "type": "Feature"
           },
           {
            "bbox": [
             294.875,
             70.125,
             296.875,
             72.125
            ],
            "geometry": {
             "coordinates": [
              [
               [
                294.875,
                70.125
               ],
               [
                294.875,
                72.125
               ],
               [
                296.875,
                72.125
               ],
               [
                296.875,
                70.125
               ],
               [
                294.875,
                70.125
               ]
              ]
             ],
             "type": "Polygon"
            },
            "id": "133",
            "properties": {},
            "type": "Feature"
           },
           {
            "bbox": [
             296.875,
             70.125,
             298.875,
             72.125
            ],
            "geometry": {
             "coordinates": [
              [
               [
                296.875,
                70.125
               ],
               [
                296.875,
                72.125
               ],
               [
                298.875,
                72.125
               ],
               [
                298.875,
                70.125
               ],
               [
                296.875,
                70.125
               ]
              ]
             ],
             "type": "Polygon"
            },
            "id": "134",
            "properties": {},
            "type": "Feature"
           },
           {
            "bbox": [
             298.875,
             70.125,
             300.875,
             72.125
            ],
            "geometry": {
             "coordinates": [
              [
               [
                298.875,
                70.125
               ],
               [
                298.875,
                72.125
               ],
               [
                300.875,
                72.125
               ],
               [
                300.875,
                70.125
               ],
               [
                298.875,
                70.125
               ]
              ]
             ],
             "type": "Polygon"
            },
            "id": "135",
            "properties": {},
            "type": "Feature"
           },
           {
            "bbox": [
             300.875,
             70.125,
             302.875,
             72.125
            ],
            "geometry": {
             "coordinates": [
              [
               [
                300.875,
                70.125
               ],
               [
                300.875,
                72.125
               ],
               [
                302.875,
                72.125
               ],
               [
                302.875,
                70.125
               ],
               [
                300.875,
                70.125
               ]
              ]
             ],
             "type": "Polygon"
            },
            "id": "136",
            "properties": {},
            "type": "Feature"
           },
           {
            "bbox": [
             302.875,
             70.125,
             304.875,
             72.125
            ],
            "geometry": {
             "coordinates": [
              [
               [
                302.875,
                70.125
               ],
               [
                302.875,
                72.125
               ],
               [
                304.875,
                72.125
               ],
               [
                304.875,
                70.125
               ],
               [
                302.875,
                70.125
               ]
              ]
             ],
             "type": "Polygon"
            },
            "id": "137",
            "properties": {},
            "type": "Feature"
           },
           {
            "bbox": [
             304.875,
             70.125,
             306.875,
             72.125
            ],
            "geometry": {
             "coordinates": [
              [
               [
                304.875,
                70.125
               ],
               [
                304.875,
                72.125
               ],
               [
                306.875,
                72.125
               ],
               [
                306.875,
                70.125
               ],
               [
                304.875,
                70.125
               ]
              ]
             ],
             "type": "Polygon"
            },
            "id": "138",
            "properties": {},
            "type": "Feature"
           },
           {
            "bbox": [
             306.875,
             70.125,
             308.875,
             72.125
            ],
            "geometry": {
             "coordinates": [
              [
               [
                306.875,
                70.125
               ],
               [
                306.875,
                72.125
               ],
               [
                308.875,
                72.125
               ],
               [
                308.875,
                70.125
               ],
               [
                306.875,
                70.125
               ]
              ]
             ],
             "type": "Polygon"
            },
            "id": "139",
            "properties": {},
            "type": "Feature"
           },
           {
            "bbox": [
             308.875,
             70.125,
             310.875,
             72.125
            ],
            "geometry": {
             "coordinates": [
              [
               [
                308.875,
                70.125
               ],
               [
                308.875,
                72.125
               ],
               [
                310.875,
                72.125
               ],
               [
                310.875,
                70.125
               ],
               [
                308.875,
                70.125
               ]
              ]
             ],
             "type": "Polygon"
            },
            "id": "140",
            "properties": {},
            "type": "Feature"
           },
           {
            "bbox": [
             310.875,
             70.125,
             312.875,
             72.125
            ],
            "geometry": {
             "coordinates": [
              [
               [
                310.875,
                70.125
               ],
               [
                310.875,
                72.125
               ],
               [
                312.875,
                72.125
               ],
               [
                312.875,
                70.125
               ],
               [
                310.875,
                70.125
               ]
              ]
             ],
             "type": "Polygon"
            },
            "id": "141",
            "properties": {},
            "type": "Feature"
           },
           {
            "bbox": [
             312.875,
             70.125,
             314.875,
             72.125
            ],
            "geometry": {
             "coordinates": [
              [
               [
                312.875,
                70.125
               ],
               [
                312.875,
                72.125
               ],
               [
                314.875,
                72.125
               ],
               [
                314.875,
                70.125
               ],
               [
                312.875,
                70.125
               ]
              ]
             ],
             "type": "Polygon"
            },
            "id": "142",
            "properties": {},
            "type": "Feature"
           },
           {
            "bbox": [
             314.875,
             70.125,
             316.875,
             72.125
            ],
            "geometry": {
             "coordinates": [
              [
               [
                314.875,
                70.125
               ],
               [
                314.875,
                72.125
               ],
               [
                316.875,
                72.125
               ],
               [
                316.875,
                70.125
               ],
               [
                314.875,
                70.125
               ]
              ]
             ],
             "type": "Polygon"
            },
            "id": "143",
            "properties": {},
            "type": "Feature"
           },
           {
            "bbox": [
             316.875,
             70.125,
             318.875,
             72.125
            ],
            "geometry": {
             "coordinates": [
              [
               [
                316.875,
                70.125
               ],
               [
                316.875,
                72.125
               ],
               [
                318.875,
                72.125
               ],
               [
                318.875,
                70.125
               ],
               [
                316.875,
                70.125
               ]
              ]
             ],
             "type": "Polygon"
            },
            "id": "144",
            "properties": {},
            "type": "Feature"
           },
           {
            "bbox": [
             318.875,
             70.125,
             320.875,
             72.125
            ],
            "geometry": {
             "coordinates": [
              [
               [
                318.875,
                70.125
               ],
               [
                318.875,
                72.125
               ],
               [
                320.875,
                72.125
               ],
               [
                320.875,
                70.125
               ],
               [
                318.875,
                70.125
               ]
              ]
             ],
             "type": "Polygon"
            },
            "id": "145",
            "properties": {},
            "type": "Feature"
           },
           {
            "bbox": [
             320.875,
             70.125,
             322.875,
             72.125
            ],
            "geometry": {
             "coordinates": [
              [
               [
                320.875,
                70.125
               ],
               [
                320.875,
                72.125
               ],
               [
                322.875,
                72.125
               ],
               [
                322.875,
                70.125
               ],
               [
                320.875,
                70.125
               ]
              ]
             ],
             "type": "Polygon"
            },
            "id": "146",
            "properties": {},
            "type": "Feature"
           },
           {
            "bbox": [
             322.875,
             70.125,
             324.875,
             72.125
            ],
            "geometry": {
             "coordinates": [
              [
               [
                322.875,
                70.125
               ],
               [
                322.875,
                72.125
               ],
               [
                324.875,
                72.125
               ],
               [
                324.875,
                70.125
               ],
               [
                322.875,
                70.125
               ]
              ]
             ],
             "type": "Polygon"
            },
            "id": "147",
            "properties": {},
            "type": "Feature"
           },
           {
            "bbox": [
             324.875,
             70.125,
             326.875,
             72.125
            ],
            "geometry": {
             "coordinates": [
              [
               [
                324.875,
                70.125
               ],
               [
                324.875,
                72.125
               ],
               [
                326.875,
                72.125
               ],
               [
                326.875,
                70.125
               ],
               [
                324.875,
                70.125
               ]
              ]
             ],
             "type": "Polygon"
            },
            "id": "148",
            "properties": {},
            "type": "Feature"
           },
           {
            "bbox": [
             326.875,
             70.125,
             328.875,
             72.125
            ],
            "geometry": {
             "coordinates": [
              [
               [
                326.875,
                70.125
               ],
               [
                326.875,
                72.125
               ],
               [
                328.875,
                72.125
               ],
               [
                328.875,
                70.125
               ],
               [
                326.875,
                70.125
               ]
              ]
             ],
             "type": "Polygon"
            },
            "id": "149",
            "properties": {},
            "type": "Feature"
           },
           {
            "bbox": [
             328.875,
             70.125,
             330.875,
             72.125
            ],
            "geometry": {
             "coordinates": [
              [
               [
                328.875,
                70.125
               ],
               [
                328.875,
                72.125
               ],
               [
                330.875,
                72.125
               ],
               [
                330.875,
                70.125
               ],
               [
                328.875,
                70.125
               ]
              ]
             ],
             "type": "Polygon"
            },
            "id": "150",
            "properties": {},
            "type": "Feature"
           },
           {
            "bbox": [
             330.875,
             70.125,
             332.875,
             72.125
            ],
            "geometry": {
             "coordinates": [
              [
               [
                330.875,
                70.125
               ],
               [
                330.875,
                72.125
               ],
               [
                332.875,
                72.125
               ],
               [
                332.875,
                70.125
               ],
               [
                330.875,
                70.125
               ]
              ]
             ],
             "type": "Polygon"
            },
            "id": "151",
            "properties": {},
            "type": "Feature"
           },
           {
            "bbox": [
             332.875,
             70.125,
             334.875,
             72.125
            ],
            "geometry": {
             "coordinates": [
              [
               [
                332.875,
                70.125
               ],
               [
                332.875,
                72.125
               ],
               [
                334.875,
                72.125
               ],
               [
                334.875,
                70.125
               ],
               [
                332.875,
                70.125
               ]
              ]
             ],
             "type": "Polygon"
            },
            "id": "152",
            "properties": {},
            "type": "Feature"
           },
           {
            "bbox": [
             334.875,
             70.125,
             336.875,
             72.125
            ],
            "geometry": {
             "coordinates": [
              [
               [
                334.875,
                70.125
               ],
               [
                334.875,
                72.125
               ],
               [
                336.875,
                72.125
               ],
               [
                336.875,
                70.125
               ],
               [
                334.875,
                70.125
               ]
              ]
             ],
             "type": "Polygon"
            },
            "id": "153",
            "properties": {},
            "type": "Feature"
           },
           {
            "bbox": [
             336.875,
             70.125,
             338.875,
             72.125
            ],
            "geometry": {
             "coordinates": [
              [
               [
                336.875,
                70.125
               ],
               [
                336.875,
                72.125
               ],
               [
                338.875,
                72.125
               ],
               [
                338.875,
                70.125
               ],
               [
                336.875,
                70.125
               ]
              ]
             ],
             "type": "Polygon"
            },
            "id": "154",
            "properties": {},
            "type": "Feature"
           },
           {
            "bbox": [
             338.875,
             70.125,
             340.875,
             72.125
            ],
            "geometry": {
             "coordinates": [
              [
               [
                338.875,
                70.125
               ],
               [
                338.875,
                72.125
               ],
               [
                340.875,
                72.125
               ],
               [
                340.875,
                70.125
               ],
               [
                338.875,
                70.125
               ]
              ]
             ],
             "type": "Polygon"
            },
            "id": "155",
            "properties": {},
            "type": "Feature"
           },
           {
            "bbox": [
             340.875,
             70.125,
             342.875,
             72.125
            ],
            "geometry": {
             "coordinates": [
              [
               [
                340.875,
                70.125
               ],
               [
                340.875,
                72.125
               ],
               [
                342.875,
                72.125
               ],
               [
                342.875,
                70.125
               ],
               [
                340.875,
                70.125
               ]
              ]
             ],
             "type": "Polygon"
            },
            "id": "156",
            "properties": {},
            "type": "Feature"
           },
           {
            "bbox": [
             342.875,
             70.125,
             344.875,
             72.125
            ],
            "geometry": {
             "coordinates": [
              [
               [
                342.875,
                70.125
               ],
               [
                342.875,
                72.125
               ],
               [
                344.875,
                72.125
               ],
               [
                344.875,
                70.125
               ],
               [
                342.875,
                70.125
               ]
              ]
             ],
             "type": "Polygon"
            },
            "id": "157",
            "properties": {},
            "type": "Feature"
           },
           {
            "bbox": [
             344.875,
             70.125,
             346.875,
             72.125
            ],
            "geometry": {
             "coordinates": [
              [
               [
                344.875,
                70.125
               ],
               [
                344.875,
                72.125
               ],
               [
                346.875,
                72.125
               ],
               [
                346.875,
                70.125
               ],
               [
                344.875,
                70.125
               ]
              ]
             ],
             "type": "Polygon"
            },
            "id": "158",
            "properties": {},
            "type": "Feature"
           },
           {
            "bbox": [
             346.875,
             70.125,
             348.875,
             72.125
            ],
            "geometry": {
             "coordinates": [
              [
               [
                346.875,
                70.125
               ],
               [
                346.875,
                72.125
               ],
               [
                348.875,
                72.125
               ],
               [
                348.875,
                70.125
               ],
               [
                346.875,
                70.125
               ]
              ]
             ],
             "type": "Polygon"
            },
            "id": "159",
            "properties": {},
            "type": "Feature"
           },
           {
            "bbox": [
             284.875,
             68.125,
             286.875,
             70.125
            ],
            "geometry": {
             "coordinates": [
              [
               [
                284.875,
                68.125
               ],
               [
                284.875,
                70.125
               ],
               [
                286.875,
                70.125
               ],
               [
                286.875,
                68.125
               ],
               [
                284.875,
                68.125
               ]
              ]
             ],
             "type": "Polygon"
            },
            "id": "160",
            "properties": {},
            "type": "Feature"
           },
           {
            "bbox": [
             286.875,
             68.125,
             288.875,
             70.125
            ],
            "geometry": {
             "coordinates": [
              [
               [
                286.875,
                68.125
               ],
               [
                286.875,
                70.125
               ],
               [
                288.875,
                70.125
               ],
               [
                288.875,
                68.125
               ],
               [
                286.875,
                68.125
               ]
              ]
             ],
             "type": "Polygon"
            },
            "id": "161",
            "properties": {},
            "type": "Feature"
           },
           {
            "bbox": [
             288.875,
             68.125,
             290.875,
             70.125
            ],
            "geometry": {
             "coordinates": [
              [
               [
                288.875,
                68.125
               ],
               [
                288.875,
                70.125
               ],
               [
                290.875,
                70.125
               ],
               [
                290.875,
                68.125
               ],
               [
                288.875,
                68.125
               ]
              ]
             ],
             "type": "Polygon"
            },
            "id": "162",
            "properties": {},
            "type": "Feature"
           },
           {
            "bbox": [
             290.875,
             68.125,
             292.875,
             70.125
            ],
            "geometry": {
             "coordinates": [
              [
               [
                290.875,
                68.125
               ],
               [
                290.875,
                70.125
               ],
               [
                292.875,
                70.125
               ],
               [
                292.875,
                68.125
               ],
               [
                290.875,
                68.125
               ]
              ]
             ],
             "type": "Polygon"
            },
            "id": "163",
            "properties": {},
            "type": "Feature"
           },
           {
            "bbox": [
             292.875,
             68.125,
             294.875,
             70.125
            ],
            "geometry": {
             "coordinates": [
              [
               [
                292.875,
                68.125
               ],
               [
                292.875,
                70.125
               ],
               [
                294.875,
                70.125
               ],
               [
                294.875,
                68.125
               ],
               [
                292.875,
                68.125
               ]
              ]
             ],
             "type": "Polygon"
            },
            "id": "164",
            "properties": {},
            "type": "Feature"
           },
           {
            "bbox": [
             294.875,
             68.125,
             296.875,
             70.125
            ],
            "geometry": {
             "coordinates": [
              [
               [
                294.875,
                68.125
               ],
               [
                294.875,
                70.125
               ],
               [
                296.875,
                70.125
               ],
               [
                296.875,
                68.125
               ],
               [
                294.875,
                68.125
               ]
              ]
             ],
             "type": "Polygon"
            },
            "id": "165",
            "properties": {},
            "type": "Feature"
           },
           {
            "bbox": [
             296.875,
             68.125,
             298.875,
             70.125
            ],
            "geometry": {
             "coordinates": [
              [
               [
                296.875,
                68.125
               ],
               [
                296.875,
                70.125
               ],
               [
                298.875,
                70.125
               ],
               [
                298.875,
                68.125
               ],
               [
                296.875,
                68.125
               ]
              ]
             ],
             "type": "Polygon"
            },
            "id": "166",
            "properties": {},
            "type": "Feature"
           },
           {
            "bbox": [
             298.875,
             68.125,
             300.875,
             70.125
            ],
            "geometry": {
             "coordinates": [
              [
               [
                298.875,
                68.125
               ],
               [
                298.875,
                70.125
               ],
               [
                300.875,
                70.125
               ],
               [
                300.875,
                68.125
               ],
               [
                298.875,
                68.125
               ]
              ]
             ],
             "type": "Polygon"
            },
            "id": "167",
            "properties": {},
            "type": "Feature"
           },
           {
            "bbox": [
             300.875,
             68.125,
             302.875,
             70.125
            ],
            "geometry": {
             "coordinates": [
              [
               [
                300.875,
                68.125
               ],
               [
                300.875,
                70.125
               ],
               [
                302.875,
                70.125
               ],
               [
                302.875,
                68.125
               ],
               [
                300.875,
                68.125
               ]
              ]
             ],
             "type": "Polygon"
            },
            "id": "168",
            "properties": {},
            "type": "Feature"
           },
           {
            "bbox": [
             302.875,
             68.125,
             304.875,
             70.125
            ],
            "geometry": {
             "coordinates": [
              [
               [
                302.875,
                68.125
               ],
               [
                302.875,
                70.125
               ],
               [
                304.875,
                70.125
               ],
               [
                304.875,
                68.125
               ],
               [
                302.875,
                68.125
               ]
              ]
             ],
             "type": "Polygon"
            },
            "id": "169",
            "properties": {},
            "type": "Feature"
           },
           {
            "bbox": [
             304.875,
             68.125,
             306.875,
             70.125
            ],
            "geometry": {
             "coordinates": [
              [
               [
                304.875,
                68.125
               ],
               [
                304.875,
                70.125
               ],
               [
                306.875,
                70.125
               ],
               [
                306.875,
                68.125
               ],
               [
                304.875,
                68.125
               ]
              ]
             ],
             "type": "Polygon"
            },
            "id": "170",
            "properties": {},
            "type": "Feature"
           },
           {
            "bbox": [
             306.875,
             68.125,
             308.875,
             70.125
            ],
            "geometry": {
             "coordinates": [
              [
               [
                306.875,
                68.125
               ],
               [
                306.875,
                70.125
               ],
               [
                308.875,
                70.125
               ],
               [
                308.875,
                68.125
               ],
               [
                306.875,
                68.125
               ]
              ]
             ],
             "type": "Polygon"
            },
            "id": "171",
            "properties": {},
            "type": "Feature"
           },
           {
            "bbox": [
             308.875,
             68.125,
             310.875,
             70.125
            ],
            "geometry": {
             "coordinates": [
              [
               [
                308.875,
                68.125
               ],
               [
                308.875,
                70.125
               ],
               [
                310.875,
                70.125
               ],
               [
                310.875,
                68.125
               ],
               [
                308.875,
                68.125
               ]
              ]
             ],
             "type": "Polygon"
            },
            "id": "172",
            "properties": {},
            "type": "Feature"
           },
           {
            "bbox": [
             310.875,
             68.125,
             312.875,
             70.125
            ],
            "geometry": {
             "coordinates": [
              [
               [
                310.875,
                68.125
               ],
               [
                310.875,
                70.125
               ],
               [
                312.875,
                70.125
               ],
               [
                312.875,
                68.125
               ],
               [
                310.875,
                68.125
               ]
              ]
             ],
             "type": "Polygon"
            },
            "id": "173",
            "properties": {},
            "type": "Feature"
           },
           {
            "bbox": [
             312.875,
             68.125,
             314.875,
             70.125
            ],
            "geometry": {
             "coordinates": [
              [
               [
                312.875,
                68.125
               ],
               [
                312.875,
                70.125
               ],
               [
                314.875,
                70.125
               ],
               [
                314.875,
                68.125
               ],
               [
                312.875,
                68.125
               ]
              ]
             ],
             "type": "Polygon"
            },
            "id": "174",
            "properties": {},
            "type": "Feature"
           },
           {
            "bbox": [
             314.875,
             68.125,
             316.875,
             70.125
            ],
            "geometry": {
             "coordinates": [
              [
               [
                314.875,
                68.125
               ],
               [
                314.875,
                70.125
               ],
               [
                316.875,
                70.125
               ],
               [
                316.875,
                68.125
               ],
               [
                314.875,
                68.125
               ]
              ]
             ],
             "type": "Polygon"
            },
            "id": "175",
            "properties": {},
            "type": "Feature"
           },
           {
            "bbox": [
             316.875,
             68.125,
             318.875,
             70.125
            ],
            "geometry": {
             "coordinates": [
              [
               [
                316.875,
                68.125
               ],
               [
                316.875,
                70.125
               ],
               [
                318.875,
                70.125
               ],
               [
                318.875,
                68.125
               ],
               [
                316.875,
                68.125
               ]
              ]
             ],
             "type": "Polygon"
            },
            "id": "176",
            "properties": {},
            "type": "Feature"
           },
           {
            "bbox": [
             318.875,
             68.125,
             320.875,
             70.125
            ],
            "geometry": {
             "coordinates": [
              [
               [
                318.875,
                68.125
               ],
               [
                318.875,
                70.125
               ],
               [
                320.875,
                70.125
               ],
               [
                320.875,
                68.125
               ],
               [
                318.875,
                68.125
               ]
              ]
             ],
             "type": "Polygon"
            },
            "id": "177",
            "properties": {},
            "type": "Feature"
           },
           {
            "bbox": [
             320.875,
             68.125,
             322.875,
             70.125
            ],
            "geometry": {
             "coordinates": [
              [
               [
                320.875,
                68.125
               ],
               [
                320.875,
                70.125
               ],
               [
                322.875,
                70.125
               ],
               [
                322.875,
                68.125
               ],
               [
                320.875,
                68.125
               ]
              ]
             ],
             "type": "Polygon"
            },
            "id": "178",
            "properties": {},
            "type": "Feature"
           },
           {
            "bbox": [
             322.875,
             68.125,
             324.875,
             70.125
            ],
            "geometry": {
             "coordinates": [
              [
               [
                322.875,
                68.125
               ],
               [
                322.875,
                70.125
               ],
               [
                324.875,
                70.125
               ],
               [
                324.875,
                68.125
               ],
               [
                322.875,
                68.125
               ]
              ]
             ],
             "type": "Polygon"
            },
            "id": "179",
            "properties": {},
            "type": "Feature"
           },
           {
            "bbox": [
             324.875,
             68.125,
             326.875,
             70.125
            ],
            "geometry": {
             "coordinates": [
              [
               [
                324.875,
                68.125
               ],
               [
                324.875,
                70.125
               ],
               [
                326.875,
                70.125
               ],
               [
                326.875,
                68.125
               ],
               [
                324.875,
                68.125
               ]
              ]
             ],
             "type": "Polygon"
            },
            "id": "180",
            "properties": {},
            "type": "Feature"
           },
           {
            "bbox": [
             326.875,
             68.125,
             328.875,
             70.125
            ],
            "geometry": {
             "coordinates": [
              [
               [
                326.875,
                68.125
               ],
               [
                326.875,
                70.125
               ],
               [
                328.875,
                70.125
               ],
               [
                328.875,
                68.125
               ],
               [
                326.875,
                68.125
               ]
              ]
             ],
             "type": "Polygon"
            },
            "id": "181",
            "properties": {},
            "type": "Feature"
           },
           {
            "bbox": [
             328.875,
             68.125,
             330.875,
             70.125
            ],
            "geometry": {
             "coordinates": [
              [
               [
                328.875,
                68.125
               ],
               [
                328.875,
                70.125
               ],
               [
                330.875,
                70.125
               ],
               [
                330.875,
                68.125
               ],
               [
                328.875,
                68.125
               ]
              ]
             ],
             "type": "Polygon"
            },
            "id": "182",
            "properties": {},
            "type": "Feature"
           },
           {
            "bbox": [
             330.875,
             68.125,
             332.875,
             70.125
            ],
            "geometry": {
             "coordinates": [
              [
               [
                330.875,
                68.125
               ],
               [
                330.875,
                70.125
               ],
               [
                332.875,
                70.125
               ],
               [
                332.875,
                68.125
               ],
               [
                330.875,
                68.125
               ]
              ]
             ],
             "type": "Polygon"
            },
            "id": "183",
            "properties": {},
            "type": "Feature"
           },
           {
            "bbox": [
             332.875,
             68.125,
             334.875,
             70.125
            ],
            "geometry": {
             "coordinates": [
              [
               [
                332.875,
                68.125
               ],
               [
                332.875,
                70.125
               ],
               [
                334.875,
                70.125
               ],
               [
                334.875,
                68.125
               ],
               [
                332.875,
                68.125
               ]
              ]
             ],
             "type": "Polygon"
            },
            "id": "184",
            "properties": {},
            "type": "Feature"
           },
           {
            "bbox": [
             334.875,
             68.125,
             336.875,
             70.125
            ],
            "geometry": {
             "coordinates": [
              [
               [
                334.875,
                68.125
               ],
               [
                334.875,
                70.125
               ],
               [
                336.875,
                70.125
               ],
               [
                336.875,
                68.125
               ],
               [
                334.875,
                68.125
               ]
              ]
             ],
             "type": "Polygon"
            },
            "id": "185",
            "properties": {},
            "type": "Feature"
           },
           {
            "bbox": [
             336.875,
             68.125,
             338.875,
             70.125
            ],
            "geometry": {
             "coordinates": [
              [
               [
                336.875,
                68.125
               ],
               [
                336.875,
                70.125
               ],
               [
                338.875,
                70.125
               ],
               [
                338.875,
                68.125
               ],
               [
                336.875,
                68.125
               ]
              ]
             ],
             "type": "Polygon"
            },
            "id": "186",
            "properties": {},
            "type": "Feature"
           },
           {
            "bbox": [
             338.875,
             68.125,
             340.875,
             70.125
            ],
            "geometry": {
             "coordinates": [
              [
               [
                338.875,
                68.125
               ],
               [
                338.875,
                70.125
               ],
               [
                340.875,
                70.125
               ],
               [
                340.875,
                68.125
               ],
               [
                338.875,
                68.125
               ]
              ]
             ],
             "type": "Polygon"
            },
            "id": "187",
            "properties": {},
            "type": "Feature"
           },
           {
            "bbox": [
             340.875,
             68.125,
             342.875,
             70.125
            ],
            "geometry": {
             "coordinates": [
              [
               [
                340.875,
                68.125
               ],
               [
                340.875,
                70.125
               ],
               [
                342.875,
                70.125
               ],
               [
                342.875,
                68.125
               ],
               [
                340.875,
                68.125
               ]
              ]
             ],
             "type": "Polygon"
            },
            "id": "188",
            "properties": {},
            "type": "Feature"
           },
           {
            "bbox": [
             342.875,
             68.125,
             344.875,
             70.125
            ],
            "geometry": {
             "coordinates": [
              [
               [
                342.875,
                68.125
               ],
               [
                342.875,
                70.125
               ],
               [
                344.875,
                70.125
               ],
               [
                344.875,
                68.125
               ],
               [
                342.875,
                68.125
               ]
              ]
             ],
             "type": "Polygon"
            },
            "id": "189",
            "properties": {},
            "type": "Feature"
           },
           {
            "bbox": [
             344.875,
             68.125,
             346.875,
             70.125
            ],
            "geometry": {
             "coordinates": [
              [
               [
                344.875,
                68.125
               ],
               [
                344.875,
                70.125
               ],
               [
                346.875,
                70.125
               ],
               [
                346.875,
                68.125
               ],
               [
                344.875,
                68.125
               ]
              ]
             ],
             "type": "Polygon"
            },
            "id": "190",
            "properties": {},
            "type": "Feature"
           },
           {
            "bbox": [
             346.875,
             68.125,
             348.875,
             70.125
            ],
            "geometry": {
             "coordinates": [
              [
               [
                346.875,
                68.125
               ],
               [
                346.875,
                70.125
               ],
               [
                348.875,
                70.125
               ],
               [
                348.875,
                68.125
               ],
               [
                346.875,
                68.125
               ]
              ]
             ],
             "type": "Polygon"
            },
            "id": "191",
            "properties": {},
            "type": "Feature"
           },
           {
            "bbox": [
             284.875,
             66.125,
             286.875,
             68.125
            ],
            "geometry": {
             "coordinates": [
              [
               [
                284.875,
                66.125
               ],
               [
                284.875,
                68.125
               ],
               [
                286.875,
                68.125
               ],
               [
                286.875,
                66.125
               ],
               [
                284.875,
                66.125
               ]
              ]
             ],
             "type": "Polygon"
            },
            "id": "192",
            "properties": {},
            "type": "Feature"
           },
           {
            "bbox": [
             286.875,
             66.125,
             288.875,
             68.125
            ],
            "geometry": {
             "coordinates": [
              [
               [
                286.875,
                66.125
               ],
               [
                286.875,
                68.125
               ],
               [
                288.875,
                68.125
               ],
               [
                288.875,
                66.125
               ],
               [
                286.875,
                66.125
               ]
              ]
             ],
             "type": "Polygon"
            },
            "id": "193",
            "properties": {},
            "type": "Feature"
           },
           {
            "bbox": [
             288.875,
             66.125,
             290.875,
             68.125
            ],
            "geometry": {
             "coordinates": [
              [
               [
                288.875,
                66.125
               ],
               [
                288.875,
                68.125
               ],
               [
                290.875,
                68.125
               ],
               [
                290.875,
                66.125
               ],
               [
                288.875,
                66.125
               ]
              ]
             ],
             "type": "Polygon"
            },
            "id": "194",
            "properties": {},
            "type": "Feature"
           },
           {
            "bbox": [
             290.875,
             66.125,
             292.875,
             68.125
            ],
            "geometry": {
             "coordinates": [
              [
               [
                290.875,
                66.125
               ],
               [
                290.875,
                68.125
               ],
               [
                292.875,
                68.125
               ],
               [
                292.875,
                66.125
               ],
               [
                290.875,
                66.125
               ]
              ]
             ],
             "type": "Polygon"
            },
            "id": "195",
            "properties": {},
            "type": "Feature"
           },
           {
            "bbox": [
             292.875,
             66.125,
             294.875,
             68.125
            ],
            "geometry": {
             "coordinates": [
              [
               [
                292.875,
                66.125
               ],
               [
                292.875,
                68.125
               ],
               [
                294.875,
                68.125
               ],
               [
                294.875,
                66.125
               ],
               [
                292.875,
                66.125
               ]
              ]
             ],
             "type": "Polygon"
            },
            "id": "196",
            "properties": {},
            "type": "Feature"
           },
           {
            "bbox": [
             294.875,
             66.125,
             296.875,
             68.125
            ],
            "geometry": {
             "coordinates": [
              [
               [
                294.875,
                66.125
               ],
               [
                294.875,
                68.125
               ],
               [
                296.875,
                68.125
               ],
               [
                296.875,
                66.125
               ],
               [
                294.875,
                66.125
               ]
              ]
             ],
             "type": "Polygon"
            },
            "id": "197",
            "properties": {},
            "type": "Feature"
           },
           {
            "bbox": [
             296.875,
             66.125,
             298.875,
             68.125
            ],
            "geometry": {
             "coordinates": [
              [
               [
                296.875,
                66.125
               ],
               [
                296.875,
                68.125
               ],
               [
                298.875,
                68.125
               ],
               [
                298.875,
                66.125
               ],
               [
                296.875,
                66.125
               ]
              ]
             ],
             "type": "Polygon"
            },
            "id": "198",
            "properties": {},
            "type": "Feature"
           },
           {
            "bbox": [
             298.875,
             66.125,
             300.875,
             68.125
            ],
            "geometry": {
             "coordinates": [
              [
               [
                298.875,
                66.125
               ],
               [
                298.875,
                68.125
               ],
               [
                300.875,
                68.125
               ],
               [
                300.875,
                66.125
               ],
               [
                298.875,
                66.125
               ]
              ]
             ],
             "type": "Polygon"
            },
            "id": "199",
            "properties": {},
            "type": "Feature"
           },
           {
            "bbox": [
             300.875,
             66.125,
             302.875,
             68.125
            ],
            "geometry": {
             "coordinates": [
              [
               [
                300.875,
                66.125
               ],
               [
                300.875,
                68.125
               ],
               [
                302.875,
                68.125
               ],
               [
                302.875,
                66.125
               ],
               [
                300.875,
                66.125
               ]
              ]
             ],
             "type": "Polygon"
            },
            "id": "200",
            "properties": {},
            "type": "Feature"
           },
           {
            "bbox": [
             302.875,
             66.125,
             304.875,
             68.125
            ],
            "geometry": {
             "coordinates": [
              [
               [
                302.875,
                66.125
               ],
               [
                302.875,
                68.125
               ],
               [
                304.875,
                68.125
               ],
               [
                304.875,
                66.125
               ],
               [
                302.875,
                66.125
               ]
              ]
             ],
             "type": "Polygon"
            },
            "id": "201",
            "properties": {},
            "type": "Feature"
           },
           {
            "bbox": [
             304.875,
             66.125,
             306.875,
             68.125
            ],
            "geometry": {
             "coordinates": [
              [
               [
                304.875,
                66.125
               ],
               [
                304.875,
                68.125
               ],
               [
                306.875,
                68.125
               ],
               [
                306.875,
                66.125
               ],
               [
                304.875,
                66.125
               ]
              ]
             ],
             "type": "Polygon"
            },
            "id": "202",
            "properties": {},
            "type": "Feature"
           },
           {
            "bbox": [
             306.875,
             66.125,
             308.875,
             68.125
            ],
            "geometry": {
             "coordinates": [
              [
               [
                306.875,
                66.125
               ],
               [
                306.875,
                68.125
               ],
               [
                308.875,
                68.125
               ],
               [
                308.875,
                66.125
               ],
               [
                306.875,
                66.125
               ]
              ]
             ],
             "type": "Polygon"
            },
            "id": "203",
            "properties": {},
            "type": "Feature"
           },
           {
            "bbox": [
             308.875,
             66.125,
             310.875,
             68.125
            ],
            "geometry": {
             "coordinates": [
              [
               [
                308.875,
                66.125
               ],
               [
                308.875,
                68.125
               ],
               [
                310.875,
                68.125
               ],
               [
                310.875,
                66.125
               ],
               [
                308.875,
                66.125
               ]
              ]
             ],
             "type": "Polygon"
            },
            "id": "204",
            "properties": {},
            "type": "Feature"
           },
           {
            "bbox": [
             310.875,
             66.125,
             312.875,
             68.125
            ],
            "geometry": {
             "coordinates": [
              [
               [
                310.875,
                66.125
               ],
               [
                310.875,
                68.125
               ],
               [
                312.875,
                68.125
               ],
               [
                312.875,
                66.125
               ],
               [
                310.875,
                66.125
               ]
              ]
             ],
             "type": "Polygon"
            },
            "id": "205",
            "properties": {},
            "type": "Feature"
           },
           {
            "bbox": [
             312.875,
             66.125,
             314.875,
             68.125
            ],
            "geometry": {
             "coordinates": [
              [
               [
                312.875,
                66.125
               ],
               [
                312.875,
                68.125
               ],
               [
                314.875,
                68.125
               ],
               [
                314.875,
                66.125
               ],
               [
                312.875,
                66.125
               ]
              ]
             ],
             "type": "Polygon"
            },
            "id": "206",
            "properties": {},
            "type": "Feature"
           },
           {
            "bbox": [
             314.875,
             66.125,
             316.875,
             68.125
            ],
            "geometry": {
             "coordinates": [
              [
               [
                314.875,
                66.125
               ],
               [
                314.875,
                68.125
               ],
               [
                316.875,
                68.125
               ],
               [
                316.875,
                66.125
               ],
               [
                314.875,
                66.125
               ]
              ]
             ],
             "type": "Polygon"
            },
            "id": "207",
            "properties": {},
            "type": "Feature"
           },
           {
            "bbox": [
             316.875,
             66.125,
             318.875,
             68.125
            ],
            "geometry": {
             "coordinates": [
              [
               [
                316.875,
                66.125
               ],
               [
                316.875,
                68.125
               ],
               [
                318.875,
                68.125
               ],
               [
                318.875,
                66.125
               ],
               [
                316.875,
                66.125
               ]
              ]
             ],
             "type": "Polygon"
            },
            "id": "208",
            "properties": {},
            "type": "Feature"
           },
           {
            "bbox": [
             318.875,
             66.125,
             320.875,
             68.125
            ],
            "geometry": {
             "coordinates": [
              [
               [
                318.875,
                66.125
               ],
               [
                318.875,
                68.125
               ],
               [
                320.875,
                68.125
               ],
               [
                320.875,
                66.125
               ],
               [
                318.875,
                66.125
               ]
              ]
             ],
             "type": "Polygon"
            },
            "id": "209",
            "properties": {},
            "type": "Feature"
           },
           {
            "bbox": [
             320.875,
             66.125,
             322.875,
             68.125
            ],
            "geometry": {
             "coordinates": [
              [
               [
                320.875,
                66.125
               ],
               [
                320.875,
                68.125
               ],
               [
                322.875,
                68.125
               ],
               [
                322.875,
                66.125
               ],
               [
                320.875,
                66.125
               ]
              ]
             ],
             "type": "Polygon"
            },
            "id": "210",
            "properties": {},
            "type": "Feature"
           },
           {
            "bbox": [
             322.875,
             66.125,
             324.875,
             68.125
            ],
            "geometry": {
             "coordinates": [
              [
               [
                322.875,
                66.125
               ],
               [
                322.875,
                68.125
               ],
               [
                324.875,
                68.125
               ],
               [
                324.875,
                66.125
               ],
               [
                322.875,
                66.125
               ]
              ]
             ],
             "type": "Polygon"
            },
            "id": "211",
            "properties": {},
            "type": "Feature"
           },
           {
            "bbox": [
             324.875,
             66.125,
             326.875,
             68.125
            ],
            "geometry": {
             "coordinates": [
              [
               [
                324.875,
                66.125
               ],
               [
                324.875,
                68.125
               ],
               [
                326.875,
                68.125
               ],
               [
                326.875,
                66.125
               ],
               [
                324.875,
                66.125
               ]
              ]
             ],
             "type": "Polygon"
            },
            "id": "212",
            "properties": {},
            "type": "Feature"
           },
           {
            "bbox": [
             326.875,
             66.125,
             328.875,
             68.125
            ],
            "geometry": {
             "coordinates": [
              [
               [
                326.875,
                66.125
               ],
               [
                326.875,
                68.125
               ],
               [
                328.875,
                68.125
               ],
               [
                328.875,
                66.125
               ],
               [
                326.875,
                66.125
               ]
              ]
             ],
             "type": "Polygon"
            },
            "id": "213",
            "properties": {},
            "type": "Feature"
           },
           {
            "bbox": [
             328.875,
             66.125,
             330.875,
             68.125
            ],
            "geometry": {
             "coordinates": [
              [
               [
                328.875,
                66.125
               ],
               [
                328.875,
                68.125
               ],
               [
                330.875,
                68.125
               ],
               [
                330.875,
                66.125
               ],
               [
                328.875,
                66.125
               ]
              ]
             ],
             "type": "Polygon"
            },
            "id": "214",
            "properties": {},
            "type": "Feature"
           },
           {
            "bbox": [
             330.875,
             66.125,
             332.875,
             68.125
            ],
            "geometry": {
             "coordinates": [
              [
               [
                330.875,
                66.125
               ],
               [
                330.875,
                68.125
               ],
               [
                332.875,
                68.125
               ],
               [
                332.875,
                66.125
               ],
               [
                330.875,
                66.125
               ]
              ]
             ],
             "type": "Polygon"
            },
            "id": "215",
            "properties": {},
            "type": "Feature"
           },
           {
            "bbox": [
             332.875,
             66.125,
             334.875,
             68.125
            ],
            "geometry": {
             "coordinates": [
              [
               [
                332.875,
                66.125
               ],
               [
                332.875,
                68.125
               ],
               [
                334.875,
                68.125
               ],
               [
                334.875,
                66.125
               ],
               [
                332.875,
                66.125
               ]
              ]
             ],
             "type": "Polygon"
            },
            "id": "216",
            "properties": {},
            "type": "Feature"
           },
           {
            "bbox": [
             334.875,
             66.125,
             336.875,
             68.125
            ],
            "geometry": {
             "coordinates": [
              [
               [
                334.875,
                66.125
               ],
               [
                334.875,
                68.125
               ],
               [
                336.875,
                68.125
               ],
               [
                336.875,
                66.125
               ],
               [
                334.875,
                66.125
               ]
              ]
             ],
             "type": "Polygon"
            },
            "id": "217",
            "properties": {},
            "type": "Feature"
           },
           {
            "bbox": [
             336.875,
             66.125,
             338.875,
             68.125
            ],
            "geometry": {
             "coordinates": [
              [
               [
                336.875,
                66.125
               ],
               [
                336.875,
                68.125
               ],
               [
                338.875,
                68.125
               ],
               [
                338.875,
                66.125
               ],
               [
                336.875,
                66.125
               ]
              ]
             ],
             "type": "Polygon"
            },
            "id": "218",
            "properties": {},
            "type": "Feature"
           },
           {
            "bbox": [
             338.875,
             66.125,
             340.875,
             68.125
            ],
            "geometry": {
             "coordinates": [
              [
               [
                338.875,
                66.125
               ],
               [
                338.875,
                68.125
               ],
               [
                340.875,
                68.125
               ],
               [
                340.875,
                66.125
               ],
               [
                338.875,
                66.125
               ]
              ]
             ],
             "type": "Polygon"
            },
            "id": "219",
            "properties": {},
            "type": "Feature"
           },
           {
            "bbox": [
             340.875,
             66.125,
             342.875,
             68.125
            ],
            "geometry": {
             "coordinates": [
              [
               [
                340.875,
                66.125
               ],
               [
                340.875,
                68.125
               ],
               [
                342.875,
                68.125
               ],
               [
                342.875,
                66.125
               ],
               [
                340.875,
                66.125
               ]
              ]
             ],
             "type": "Polygon"
            },
            "id": "220",
            "properties": {},
            "type": "Feature"
           },
           {
            "bbox": [
             342.875,
             66.125,
             344.875,
             68.125
            ],
            "geometry": {
             "coordinates": [
              [
               [
                342.875,
                66.125
               ],
               [
                342.875,
                68.125
               ],
               [
                344.875,
                68.125
               ],
               [
                344.875,
                66.125
               ],
               [
                342.875,
                66.125
               ]
              ]
             ],
             "type": "Polygon"
            },
            "id": "221",
            "properties": {},
            "type": "Feature"
           },
           {
            "bbox": [
             344.875,
             66.125,
             346.875,
             68.125
            ],
            "geometry": {
             "coordinates": [
              [
               [
                344.875,
                66.125
               ],
               [
                344.875,
                68.125
               ],
               [
                346.875,
                68.125
               ],
               [
                346.875,
                66.125
               ],
               [
                344.875,
                66.125
               ]
              ]
             ],
             "type": "Polygon"
            },
            "id": "222",
            "properties": {},
            "type": "Feature"
           },
           {
            "bbox": [
             346.875,
             66.125,
             348.875,
             68.125
            ],
            "geometry": {
             "coordinates": [
              [
               [
                346.875,
                66.125
               ],
               [
                346.875,
                68.125
               ],
               [
                348.875,
                68.125
               ],
               [
                348.875,
                66.125
               ],
               [
                346.875,
                66.125
               ]
              ]
             ],
             "type": "Polygon"
            },
            "id": "223",
            "properties": {},
            "type": "Feature"
           },
           {
            "bbox": [
             284.875,
             64.125,
             286.875,
             66.125
            ],
            "geometry": {
             "coordinates": [
              [
               [
                284.875,
                64.125
               ],
               [
                284.875,
                66.125
               ],
               [
                286.875,
                66.125
               ],
               [
                286.875,
                64.125
               ],
               [
                284.875,
                64.125
               ]
              ]
             ],
             "type": "Polygon"
            },
            "id": "224",
            "properties": {},
            "type": "Feature"
           },
           {
            "bbox": [
             286.875,
             64.125,
             288.875,
             66.125
            ],
            "geometry": {
             "coordinates": [
              [
               [
                286.875,
                64.125
               ],
               [
                286.875,
                66.125
               ],
               [
                288.875,
                66.125
               ],
               [
                288.875,
                64.125
               ],
               [
                286.875,
                64.125
               ]
              ]
             ],
             "type": "Polygon"
            },
            "id": "225",
            "properties": {},
            "type": "Feature"
           },
           {
            "bbox": [
             288.875,
             64.125,
             290.875,
             66.125
            ],
            "geometry": {
             "coordinates": [
              [
               [
                288.875,
                64.125
               ],
               [
                288.875,
                66.125
               ],
               [
                290.875,
                66.125
               ],
               [
                290.875,
                64.125
               ],
               [
                288.875,
                64.125
               ]
              ]
             ],
             "type": "Polygon"
            },
            "id": "226",
            "properties": {},
            "type": "Feature"
           },
           {
            "bbox": [
             290.875,
             64.125,
             292.875,
             66.125
            ],
            "geometry": {
             "coordinates": [
              [
               [
                290.875,
                64.125
               ],
               [
                290.875,
                66.125
               ],
               [
                292.875,
                66.125
               ],
               [
                292.875,
                64.125
               ],
               [
                290.875,
                64.125
               ]
              ]
             ],
             "type": "Polygon"
            },
            "id": "227",
            "properties": {},
            "type": "Feature"
           },
           {
            "bbox": [
             292.875,
             64.125,
             294.875,
             66.125
            ],
            "geometry": {
             "coordinates": [
              [
               [
                292.875,
                64.125
               ],
               [
                292.875,
                66.125
               ],
               [
                294.875,
                66.125
               ],
               [
                294.875,
                64.125
               ],
               [
                292.875,
                64.125
               ]
              ]
             ],
             "type": "Polygon"
            },
            "id": "228",
            "properties": {},
            "type": "Feature"
           },
           {
            "bbox": [
             294.875,
             64.125,
             296.875,
             66.125
            ],
            "geometry": {
             "coordinates": [
              [
               [
                294.875,
                64.125
               ],
               [
                294.875,
                66.125
               ],
               [
                296.875,
                66.125
               ],
               [
                296.875,
                64.125
               ],
               [
                294.875,
                64.125
               ]
              ]
             ],
             "type": "Polygon"
            },
            "id": "229",
            "properties": {},
            "type": "Feature"
           },
           {
            "bbox": [
             296.875,
             64.125,
             298.875,
             66.125
            ],
            "geometry": {
             "coordinates": [
              [
               [
                296.875,
                64.125
               ],
               [
                296.875,
                66.125
               ],
               [
                298.875,
                66.125
               ],
               [
                298.875,
                64.125
               ],
               [
                296.875,
                64.125
               ]
              ]
             ],
             "type": "Polygon"
            },
            "id": "230",
            "properties": {},
            "type": "Feature"
           },
           {
            "bbox": [
             298.875,
             64.125,
             300.875,
             66.125
            ],
            "geometry": {
             "coordinates": [
              [
               [
                298.875,
                64.125
               ],
               [
                298.875,
                66.125
               ],
               [
                300.875,
                66.125
               ],
               [
                300.875,
                64.125
               ],
               [
                298.875,
                64.125
               ]
              ]
             ],
             "type": "Polygon"
            },
            "id": "231",
            "properties": {},
            "type": "Feature"
           },
           {
            "bbox": [
             300.875,
             64.125,
             302.875,
             66.125
            ],
            "geometry": {
             "coordinates": [
              [
               [
                300.875,
                64.125
               ],
               [
                300.875,
                66.125
               ],
               [
                302.875,
                66.125
               ],
               [
                302.875,
                64.125
               ],
               [
                300.875,
                64.125
               ]
              ]
             ],
             "type": "Polygon"
            },
            "id": "232",
            "properties": {},
            "type": "Feature"
           },
           {
            "bbox": [
             302.875,
             64.125,
             304.875,
             66.125
            ],
            "geometry": {
             "coordinates": [
              [
               [
                302.875,
                64.125
               ],
               [
                302.875,
                66.125
               ],
               [
                304.875,
                66.125
               ],
               [
                304.875,
                64.125
               ],
               [
                302.875,
                64.125
               ]
              ]
             ],
             "type": "Polygon"
            },
            "id": "233",
            "properties": {},
            "type": "Feature"
           },
           {
            "bbox": [
             304.875,
             64.125,
             306.875,
             66.125
            ],
            "geometry": {
             "coordinates": [
              [
               [
                304.875,
                64.125
               ],
               [
                304.875,
                66.125
               ],
               [
                306.875,
                66.125
               ],
               [
                306.875,
                64.125
               ],
               [
                304.875,
                64.125
               ]
              ]
             ],
             "type": "Polygon"
            },
            "id": "234",
            "properties": {},
            "type": "Feature"
           },
           {
            "bbox": [
             306.875,
             64.125,
             308.875,
             66.125
            ],
            "geometry": {
             "coordinates": [
              [
               [
                306.875,
                64.125
               ],
               [
                306.875,
                66.125
               ],
               [
                308.875,
                66.125
               ],
               [
                308.875,
                64.125
               ],
               [
                306.875,
                64.125
               ]
              ]
             ],
             "type": "Polygon"
            },
            "id": "235",
            "properties": {},
            "type": "Feature"
           },
           {
            "bbox": [
             308.875,
             64.125,
             310.875,
             66.125
            ],
            "geometry": {
             "coordinates": [
              [
               [
                308.875,
                64.125
               ],
               [
                308.875,
                66.125
               ],
               [
                310.875,
                66.125
               ],
               [
                310.875,
                64.125
               ],
               [
                308.875,
                64.125
               ]
              ]
             ],
             "type": "Polygon"
            },
            "id": "236",
            "properties": {},
            "type": "Feature"
           },
           {
            "bbox": [
             310.875,
             64.125,
             312.875,
             66.125
            ],
            "geometry": {
             "coordinates": [
              [
               [
                310.875,
                64.125
               ],
               [
                310.875,
                66.125
               ],
               [
                312.875,
                66.125
               ],
               [
                312.875,
                64.125
               ],
               [
                310.875,
                64.125
               ]
              ]
             ],
             "type": "Polygon"
            },
            "id": "237",
            "properties": {},
            "type": "Feature"
           },
           {
            "bbox": [
             312.875,
             64.125,
             314.875,
             66.125
            ],
            "geometry": {
             "coordinates": [
              [
               [
                312.875,
                64.125
               ],
               [
                312.875,
                66.125
               ],
               [
                314.875,
                66.125
               ],
               [
                314.875,
                64.125
               ],
               [
                312.875,
                64.125
               ]
              ]
             ],
             "type": "Polygon"
            },
            "id": "238",
            "properties": {},
            "type": "Feature"
           },
           {
            "bbox": [
             314.875,
             64.125,
             316.875,
             66.125
            ],
            "geometry": {
             "coordinates": [
              [
               [
                314.875,
                64.125
               ],
               [
                314.875,
                66.125
               ],
               [
                316.875,
                66.125
               ],
               [
                316.875,
                64.125
               ],
               [
                314.875,
                64.125
               ]
              ]
             ],
             "type": "Polygon"
            },
            "id": "239",
            "properties": {},
            "type": "Feature"
           },
           {
            "bbox": [
             316.875,
             64.125,
             318.875,
             66.125
            ],
            "geometry": {
             "coordinates": [
              [
               [
                316.875,
                64.125
               ],
               [
                316.875,
                66.125
               ],
               [
                318.875,
                66.125
               ],
               [
                318.875,
                64.125
               ],
               [
                316.875,
                64.125
               ]
              ]
             ],
             "type": "Polygon"
            },
            "id": "240",
            "properties": {},
            "type": "Feature"
           },
           {
            "bbox": [
             318.875,
             64.125,
             320.875,
             66.125
            ],
            "geometry": {
             "coordinates": [
              [
               [
                318.875,
                64.125
               ],
               [
                318.875,
                66.125
               ],
               [
                320.875,
                66.125
               ],
               [
                320.875,
                64.125
               ],
               [
                318.875,
                64.125
               ]
              ]
             ],
             "type": "Polygon"
            },
            "id": "241",
            "properties": {},
            "type": "Feature"
           },
           {
            "bbox": [
             320.875,
             64.125,
             322.875,
             66.125
            ],
            "geometry": {
             "coordinates": [
              [
               [
                320.875,
                64.125
               ],
               [
                320.875,
                66.125
               ],
               [
                322.875,
                66.125
               ],
               [
                322.875,
                64.125
               ],
               [
                320.875,
                64.125
               ]
              ]
             ],
             "type": "Polygon"
            },
            "id": "242",
            "properties": {},
            "type": "Feature"
           },
           {
            "bbox": [
             322.875,
             64.125,
             324.875,
             66.125
            ],
            "geometry": {
             "coordinates": [
              [
               [
                322.875,
                64.125
               ],
               [
                322.875,
                66.125
               ],
               [
                324.875,
                66.125
               ],
               [
                324.875,
                64.125
               ],
               [
                322.875,
                64.125
               ]
              ]
             ],
             "type": "Polygon"
            },
            "id": "243",
            "properties": {},
            "type": "Feature"
           },
           {
            "bbox": [
             324.875,
             64.125,
             326.875,
             66.125
            ],
            "geometry": {
             "coordinates": [
              [
               [
                324.875,
                64.125
               ],
               [
                324.875,
                66.125
               ],
               [
                326.875,
                66.125
               ],
               [
                326.875,
                64.125
               ],
               [
                324.875,
                64.125
               ]
              ]
             ],
             "type": "Polygon"
            },
            "id": "244",
            "properties": {},
            "type": "Feature"
           },
           {
            "bbox": [
             326.875,
             64.125,
             328.875,
             66.125
            ],
            "geometry": {
             "coordinates": [
              [
               [
                326.875,
                64.125
               ],
               [
                326.875,
                66.125
               ],
               [
                328.875,
                66.125
               ],
               [
                328.875,
                64.125
               ],
               [
                326.875,
                64.125
               ]
              ]
             ],
             "type": "Polygon"
            },
            "id": "245",
            "properties": {},
            "type": "Feature"
           },
           {
            "bbox": [
             328.875,
             64.125,
             330.875,
             66.125
            ],
            "geometry": {
             "coordinates": [
              [
               [
                328.875,
                64.125
               ],
               [
                328.875,
                66.125
               ],
               [
                330.875,
                66.125
               ],
               [
                330.875,
                64.125
               ],
               [
                328.875,
                64.125
               ]
              ]
             ],
             "type": "Polygon"
            },
            "id": "246",
            "properties": {},
            "type": "Feature"
           },
           {
            "bbox": [
             330.875,
             64.125,
             332.875,
             66.125
            ],
            "geometry": {
             "coordinates": [
              [
               [
                330.875,
                64.125
               ],
               [
                330.875,
                66.125
               ],
               [
                332.875,
                66.125
               ],
               [
                332.875,
                64.125
               ],
               [
                330.875,
                64.125
               ]
              ]
             ],
             "type": "Polygon"
            },
            "id": "247",
            "properties": {},
            "type": "Feature"
           },
           {
            "bbox": [
             332.875,
             64.125,
             334.875,
             66.125
            ],
            "geometry": {
             "coordinates": [
              [
               [
                332.875,
                64.125
               ],
               [
                332.875,
                66.125
               ],
               [
                334.875,
                66.125
               ],
               [
                334.875,
                64.125
               ],
               [
                332.875,
                64.125
               ]
              ]
             ],
             "type": "Polygon"
            },
            "id": "248",
            "properties": {},
            "type": "Feature"
           },
           {
            "bbox": [
             334.875,
             64.125,
             336.875,
             66.125
            ],
            "geometry": {
             "coordinates": [
              [
               [
                334.875,
                64.125
               ],
               [
                334.875,
                66.125
               ],
               [
                336.875,
                66.125
               ],
               [
                336.875,
                64.125
               ],
               [
                334.875,
                64.125
               ]
              ]
             ],
             "type": "Polygon"
            },
            "id": "249",
            "properties": {},
            "type": "Feature"
           },
           {
            "bbox": [
             336.875,
             64.125,
             338.875,
             66.125
            ],
            "geometry": {
             "coordinates": [
              [
               [
                336.875,
                64.125
               ],
               [
                336.875,
                66.125
               ],
               [
                338.875,
                66.125
               ],
               [
                338.875,
                64.125
               ],
               [
                336.875,
                64.125
               ]
              ]
             ],
             "type": "Polygon"
            },
            "id": "250",
            "properties": {},
            "type": "Feature"
           },
           {
            "bbox": [
             338.875,
             64.125,
             340.875,
             66.125
            ],
            "geometry": {
             "coordinates": [
              [
               [
                338.875,
                64.125
               ],
               [
                338.875,
                66.125
               ],
               [
                340.875,
                66.125
               ],
               [
                340.875,
                64.125
               ],
               [
                338.875,
                64.125
               ]
              ]
             ],
             "type": "Polygon"
            },
            "id": "251",
            "properties": {},
            "type": "Feature"
           },
           {
            "bbox": [
             340.875,
             64.125,
             342.875,
             66.125
            ],
            "geometry": {
             "coordinates": [
              [
               [
                340.875,
                64.125
               ],
               [
                340.875,
                66.125
               ],
               [
                342.875,
                66.125
               ],
               [
                342.875,
                64.125
               ],
               [
                340.875,
                64.125
               ]
              ]
             ],
             "type": "Polygon"
            },
            "id": "252",
            "properties": {},
            "type": "Feature"
           },
           {
            "bbox": [
             342.875,
             64.125,
             344.875,
             66.125
            ],
            "geometry": {
             "coordinates": [
              [
               [
                342.875,
                64.125
               ],
               [
                342.875,
                66.125
               ],
               [
                344.875,
                66.125
               ],
               [
                344.875,
                64.125
               ],
               [
                342.875,
                64.125
               ]
              ]
             ],
             "type": "Polygon"
            },
            "id": "253",
            "properties": {},
            "type": "Feature"
           },
           {
            "bbox": [
             344.875,
             64.125,
             346.875,
             66.125
            ],
            "geometry": {
             "coordinates": [
              [
               [
                344.875,
                64.125
               ],
               [
                344.875,
                66.125
               ],
               [
                346.875,
                66.125
               ],
               [
                346.875,
                64.125
               ],
               [
                344.875,
                64.125
               ]
              ]
             ],
             "type": "Polygon"
            },
            "id": "254",
            "properties": {},
            "type": "Feature"
           },
           {
            "bbox": [
             346.875,
             64.125,
             348.875,
             66.125
            ],
            "geometry": {
             "coordinates": [
              [
               [
                346.875,
                64.125
               ],
               [
                346.875,
                66.125
               ],
               [
                348.875,
                66.125
               ],
               [
                348.875,
                64.125
               ],
               [
                346.875,
                64.125
               ]
              ]
             ],
             "type": "Polygon"
            },
            "id": "255",
            "properties": {},
            "type": "Feature"
           },
           {
            "bbox": [
             284.875,
             62.125,
             286.875,
             64.125
            ],
            "geometry": {
             "coordinates": [
              [
               [
                284.875,
                62.125
               ],
               [
                284.875,
                64.125
               ],
               [
                286.875,
                64.125
               ],
               [
                286.875,
                62.125
               ],
               [
                284.875,
                62.125
               ]
              ]
             ],
             "type": "Polygon"
            },
            "id": "256",
            "properties": {},
            "type": "Feature"
           },
           {
            "bbox": [
             286.875,
             62.125,
             288.875,
             64.125
            ],
            "geometry": {
             "coordinates": [
              [
               [
                286.875,
                62.125
               ],
               [
                286.875,
                64.125
               ],
               [
                288.875,
                64.125
               ],
               [
                288.875,
                62.125
               ],
               [
                286.875,
                62.125
               ]
              ]
             ],
             "type": "Polygon"
            },
            "id": "257",
            "properties": {},
            "type": "Feature"
           },
           {
            "bbox": [
             288.875,
             62.125,
             290.875,
             64.125
            ],
            "geometry": {
             "coordinates": [
              [
               [
                288.875,
                62.125
               ],
               [
                288.875,
                64.125
               ],
               [
                290.875,
                64.125
               ],
               [
                290.875,
                62.125
               ],
               [
                288.875,
                62.125
               ]
              ]
             ],
             "type": "Polygon"
            },
            "id": "258",
            "properties": {},
            "type": "Feature"
           },
           {
            "bbox": [
             290.875,
             62.125,
             292.875,
             64.125
            ],
            "geometry": {
             "coordinates": [
              [
               [
                290.875,
                62.125
               ],
               [
                290.875,
                64.125
               ],
               [
                292.875,
                64.125
               ],
               [
                292.875,
                62.125
               ],
               [
                290.875,
                62.125
               ]
              ]
             ],
             "type": "Polygon"
            },
            "id": "259",
            "properties": {},
            "type": "Feature"
           },
           {
            "bbox": [
             292.875,
             62.125,
             294.875,
             64.125
            ],
            "geometry": {
             "coordinates": [
              [
               [
                292.875,
                62.125
               ],
               [
                292.875,
                64.125
               ],
               [
                294.875,
                64.125
               ],
               [
                294.875,
                62.125
               ],
               [
                292.875,
                62.125
               ]
              ]
             ],
             "type": "Polygon"
            },
            "id": "260",
            "properties": {},
            "type": "Feature"
           },
           {
            "bbox": [
             294.875,
             62.125,
             296.875,
             64.125
            ],
            "geometry": {
             "coordinates": [
              [
               [
                294.875,
                62.125
               ],
               [
                294.875,
                64.125
               ],
               [
                296.875,
                64.125
               ],
               [
                296.875,
                62.125
               ],
               [
                294.875,
                62.125
               ]
              ]
             ],
             "type": "Polygon"
            },
            "id": "261",
            "properties": {},
            "type": "Feature"
           },
           {
            "bbox": [
             296.875,
             62.125,
             298.875,
             64.125
            ],
            "geometry": {
             "coordinates": [
              [
               [
                296.875,
                62.125
               ],
               [
                296.875,
                64.125
               ],
               [
                298.875,
                64.125
               ],
               [
                298.875,
                62.125
               ],
               [
                296.875,
                62.125
               ]
              ]
             ],
             "type": "Polygon"
            },
            "id": "262",
            "properties": {},
            "type": "Feature"
           },
           {
            "bbox": [
             298.875,
             62.125,
             300.875,
             64.125
            ],
            "geometry": {
             "coordinates": [
              [
               [
                298.875,
                62.125
               ],
               [
                298.875,
                64.125
               ],
               [
                300.875,
                64.125
               ],
               [
                300.875,
                62.125
               ],
               [
                298.875,
                62.125
               ]
              ]
             ],
             "type": "Polygon"
            },
            "id": "263",
            "properties": {},
            "type": "Feature"
           },
           {
            "bbox": [
             300.875,
             62.125,
             302.875,
             64.125
            ],
            "geometry": {
             "coordinates": [
              [
               [
                300.875,
                62.125
               ],
               [
                300.875,
                64.125
               ],
               [
                302.875,
                64.125
               ],
               [
                302.875,
                62.125
               ],
               [
                300.875,
                62.125
               ]
              ]
             ],
             "type": "Polygon"
            },
            "id": "264",
            "properties": {},
            "type": "Feature"
           },
           {
            "bbox": [
             302.875,
             62.125,
             304.875,
             64.125
            ],
            "geometry": {
             "coordinates": [
              [
               [
                302.875,
                62.125
               ],
               [
                302.875,
                64.125
               ],
               [
                304.875,
                64.125
               ],
               [
                304.875,
                62.125
               ],
               [
                302.875,
                62.125
               ]
              ]
             ],
             "type": "Polygon"
            },
            "id": "265",
            "properties": {},
            "type": "Feature"
           },
           {
            "bbox": [
             304.875,
             62.125,
             306.875,
             64.125
            ],
            "geometry": {
             "coordinates": [
              [
               [
                304.875,
                62.125
               ],
               [
                304.875,
                64.125
               ],
               [
                306.875,
                64.125
               ],
               [
                306.875,
                62.125
               ],
               [
                304.875,
                62.125
               ]
              ]
             ],
             "type": "Polygon"
            },
            "id": "266",
            "properties": {},
            "type": "Feature"
           },
           {
            "bbox": [
             306.875,
             62.125,
             308.875,
             64.125
            ],
            "geometry": {
             "coordinates": [
              [
               [
                306.875,
                62.125
               ],
               [
                306.875,
                64.125
               ],
               [
                308.875,
                64.125
               ],
               [
                308.875,
                62.125
               ],
               [
                306.875,
                62.125
               ]
              ]
             ],
             "type": "Polygon"
            },
            "id": "267",
            "properties": {},
            "type": "Feature"
           },
           {
            "bbox": [
             308.875,
             62.125,
             310.875,
             64.125
            ],
            "geometry": {
             "coordinates": [
              [
               [
                308.875,
                62.125
               ],
               [
                308.875,
                64.125
               ],
               [
                310.875,
                64.125
               ],
               [
                310.875,
                62.125
               ],
               [
                308.875,
                62.125
               ]
              ]
             ],
             "type": "Polygon"
            },
            "id": "268",
            "properties": {},
            "type": "Feature"
           },
           {
            "bbox": [
             310.875,
             62.125,
             312.875,
             64.125
            ],
            "geometry": {
             "coordinates": [
              [
               [
                310.875,
                62.125
               ],
               [
                310.875,
                64.125
               ],
               [
                312.875,
                64.125
               ],
               [
                312.875,
                62.125
               ],
               [
                310.875,
                62.125
               ]
              ]
             ],
             "type": "Polygon"
            },
            "id": "269",
            "properties": {},
            "type": "Feature"
           },
           {
            "bbox": [
             312.875,
             62.125,
             314.875,
             64.125
            ],
            "geometry": {
             "coordinates": [
              [
               [
                312.875,
                62.125
               ],
               [
                312.875,
                64.125
               ],
               [
                314.875,
                64.125
               ],
               [
                314.875,
                62.125
               ],
               [
                312.875,
                62.125
               ]
              ]
             ],
             "type": "Polygon"
            },
            "id": "270",
            "properties": {},
            "type": "Feature"
           },
           {
            "bbox": [
             314.875,
             62.125,
             316.875,
             64.125
            ],
            "geometry": {
             "coordinates": [
              [
               [
                314.875,
                62.125
               ],
               [
                314.875,
                64.125
               ],
               [
                316.875,
                64.125
               ],
               [
                316.875,
                62.125
               ],
               [
                314.875,
                62.125
               ]
              ]
             ],
             "type": "Polygon"
            },
            "id": "271",
            "properties": {},
            "type": "Feature"
           },
           {
            "bbox": [
             316.875,
             62.125,
             318.875,
             64.125
            ],
            "geometry": {
             "coordinates": [
              [
               [
                316.875,
                62.125
               ],
               [
                316.875,
                64.125
               ],
               [
                318.875,
                64.125
               ],
               [
                318.875,
                62.125
               ],
               [
                316.875,
                62.125
               ]
              ]
             ],
             "type": "Polygon"
            },
            "id": "272",
            "properties": {},
            "type": "Feature"
           },
           {
            "bbox": [
             318.875,
             62.125,
             320.875,
             64.125
            ],
            "geometry": {
             "coordinates": [
              [
               [
                318.875,
                62.125
               ],
               [
                318.875,
                64.125
               ],
               [
                320.875,
                64.125
               ],
               [
                320.875,
                62.125
               ],
               [
                318.875,
                62.125
               ]
              ]
             ],
             "type": "Polygon"
            },
            "id": "273",
            "properties": {},
            "type": "Feature"
           },
           {
            "bbox": [
             320.875,
             62.125,
             322.875,
             64.125
            ],
            "geometry": {
             "coordinates": [
              [
               [
                320.875,
                62.125
               ],
               [
                320.875,
                64.125
               ],
               [
                322.875,
                64.125
               ],
               [
                322.875,
                62.125
               ],
               [
                320.875,
                62.125
               ]
              ]
             ],
             "type": "Polygon"
            },
            "id": "274",
            "properties": {},
            "type": "Feature"
           },
           {
            "bbox": [
             322.875,
             62.125,
             324.875,
             64.125
            ],
            "geometry": {
             "coordinates": [
              [
               [
                322.875,
                62.125
               ],
               [
                322.875,
                64.125
               ],
               [
                324.875,
                64.125
               ],
               [
                324.875,
                62.125
               ],
               [
                322.875,
                62.125
               ]
              ]
             ],
             "type": "Polygon"
            },
            "id": "275",
            "properties": {},
            "type": "Feature"
           },
           {
            "bbox": [
             324.875,
             62.125,
             326.875,
             64.125
            ],
            "geometry": {
             "coordinates": [
              [
               [
                324.875,
                62.125
               ],
               [
                324.875,
                64.125
               ],
               [
                326.875,
                64.125
               ],
               [
                326.875,
                62.125
               ],
               [
                324.875,
                62.125
               ]
              ]
             ],
             "type": "Polygon"
            },
            "id": "276",
            "properties": {},
            "type": "Feature"
           },
           {
            "bbox": [
             326.875,
             62.125,
             328.875,
             64.125
            ],
            "geometry": {
             "coordinates": [
              [
               [
                326.875,
                62.125
               ],
               [
                326.875,
                64.125
               ],
               [
                328.875,
                64.125
               ],
               [
                328.875,
                62.125
               ],
               [
                326.875,
                62.125
               ]
              ]
             ],
             "type": "Polygon"
            },
            "id": "277",
            "properties": {},
            "type": "Feature"
           },
           {
            "bbox": [
             328.875,
             62.125,
             330.875,
             64.125
            ],
            "geometry": {
             "coordinates": [
              [
               [
                328.875,
                62.125
               ],
               [
                328.875,
                64.125
               ],
               [
                330.875,
                64.125
               ],
               [
                330.875,
                62.125
               ],
               [
                328.875,
                62.125
               ]
              ]
             ],
             "type": "Polygon"
            },
            "id": "278",
            "properties": {},
            "type": "Feature"
           },
           {
            "bbox": [
             330.875,
             62.125,
             332.875,
             64.125
            ],
            "geometry": {
             "coordinates": [
              [
               [
                330.875,
                62.125
               ],
               [
                330.875,
                64.125
               ],
               [
                332.875,
                64.125
               ],
               [
                332.875,
                62.125
               ],
               [
                330.875,
                62.125
               ]
              ]
             ],
             "type": "Polygon"
            },
            "id": "279",
            "properties": {},
            "type": "Feature"
           },
           {
            "bbox": [
             332.875,
             62.125,
             334.875,
             64.125
            ],
            "geometry": {
             "coordinates": [
              [
               [
                332.875,
                62.125
               ],
               [
                332.875,
                64.125
               ],
               [
                334.875,
                64.125
               ],
               [
                334.875,
                62.125
               ],
               [
                332.875,
                62.125
               ]
              ]
             ],
             "type": "Polygon"
            },
            "id": "280",
            "properties": {},
            "type": "Feature"
           },
           {
            "bbox": [
             334.875,
             62.125,
             336.875,
             64.125
            ],
            "geometry": {
             "coordinates": [
              [
               [
                334.875,
                62.125
               ],
               [
                334.875,
                64.125
               ],
               [
                336.875,
                64.125
               ],
               [
                336.875,
                62.125
               ],
               [
                334.875,
                62.125
               ]
              ]
             ],
             "type": "Polygon"
            },
            "id": "281",
            "properties": {},
            "type": "Feature"
           },
           {
            "bbox": [
             336.875,
             62.125,
             338.875,
             64.125
            ],
            "geometry": {
             "coordinates": [
              [
               [
                336.875,
                62.125
               ],
               [
                336.875,
                64.125
               ],
               [
                338.875,
                64.125
               ],
               [
                338.875,
                62.125
               ],
               [
                336.875,
                62.125
               ]
              ]
             ],
             "type": "Polygon"
            },
            "id": "282",
            "properties": {},
            "type": "Feature"
           },
           {
            "bbox": [
             338.875,
             62.125,
             340.875,
             64.125
            ],
            "geometry": {
             "coordinates": [
              [
               [
                338.875,
                62.125
               ],
               [
                338.875,
                64.125
               ],
               [
                340.875,
                64.125
               ],
               [
                340.875,
                62.125
               ],
               [
                338.875,
                62.125
               ]
              ]
             ],
             "type": "Polygon"
            },
            "id": "283",
            "properties": {},
            "type": "Feature"
           },
           {
            "bbox": [
             340.875,
             62.125,
             342.875,
             64.125
            ],
            "geometry": {
             "coordinates": [
              [
               [
                340.875,
                62.125
               ],
               [
                340.875,
                64.125
               ],
               [
                342.875,
                64.125
               ],
               [
                342.875,
                62.125
               ],
               [
                340.875,
                62.125
               ]
              ]
             ],
             "type": "Polygon"
            },
            "id": "284",
            "properties": {},
            "type": "Feature"
           },
           {
            "bbox": [
             342.875,
             62.125,
             344.875,
             64.125
            ],
            "geometry": {
             "coordinates": [
              [
               [
                342.875,
                62.125
               ],
               [
                342.875,
                64.125
               ],
               [
                344.875,
                64.125
               ],
               [
                344.875,
                62.125
               ],
               [
                342.875,
                62.125
               ]
              ]
             ],
             "type": "Polygon"
            },
            "id": "285",
            "properties": {},
            "type": "Feature"
           },
           {
            "bbox": [
             344.875,
             62.125,
             346.875,
             64.125
            ],
            "geometry": {
             "coordinates": [
              [
               [
                344.875,
                62.125
               ],
               [
                344.875,
                64.125
               ],
               [
                346.875,
                64.125
               ],
               [
                346.875,
                62.125
               ],
               [
                344.875,
                62.125
               ]
              ]
             ],
             "type": "Polygon"
            },
            "id": "286",
            "properties": {},
            "type": "Feature"
           },
           {
            "bbox": [
             346.875,
             62.125,
             348.875,
             64.125
            ],
            "geometry": {
             "coordinates": [
              [
               [
                346.875,
                62.125
               ],
               [
                346.875,
                64.125
               ],
               [
                348.875,
                64.125
               ],
               [
                348.875,
                62.125
               ],
               [
                346.875,
                62.125
               ]
              ]
             ],
             "type": "Polygon"
            },
            "id": "287",
            "properties": {},
            "type": "Feature"
           },
           {
            "bbox": [
             284.875,
             60.125,
             286.875,
             62.125
            ],
            "geometry": {
             "coordinates": [
              [
               [
                284.875,
                60.125
               ],
               [
                284.875,
                62.125
               ],
               [
                286.875,
                62.125
               ],
               [
                286.875,
                60.125
               ],
               [
                284.875,
                60.125
               ]
              ]
             ],
             "type": "Polygon"
            },
            "id": "288",
            "properties": {},
            "type": "Feature"
           },
           {
            "bbox": [
             286.875,
             60.125,
             288.875,
             62.125
            ],
            "geometry": {
             "coordinates": [
              [
               [
                286.875,
                60.125
               ],
               [
                286.875,
                62.125
               ],
               [
                288.875,
                62.125
               ],
               [
                288.875,
                60.125
               ],
               [
                286.875,
                60.125
               ]
              ]
             ],
             "type": "Polygon"
            },
            "id": "289",
            "properties": {},
            "type": "Feature"
           },
           {
            "bbox": [
             288.875,
             60.125,
             290.875,
             62.125
            ],
            "geometry": {
             "coordinates": [
              [
               [
                288.875,
                60.125
               ],
               [
                288.875,
                62.125
               ],
               [
                290.875,
                62.125
               ],
               [
                290.875,
                60.125
               ],
               [
                288.875,
                60.125
               ]
              ]
             ],
             "type": "Polygon"
            },
            "id": "290",
            "properties": {},
            "type": "Feature"
           },
           {
            "bbox": [
             290.875,
             60.125,
             292.875,
             62.125
            ],
            "geometry": {
             "coordinates": [
              [
               [
                290.875,
                60.125
               ],
               [
                290.875,
                62.125
               ],
               [
                292.875,
                62.125
               ],
               [
                292.875,
                60.125
               ],
               [
                290.875,
                60.125
               ]
              ]
             ],
             "type": "Polygon"
            },
            "id": "291",
            "properties": {},
            "type": "Feature"
           },
           {
            "bbox": [
             292.875,
             60.125,
             294.875,
             62.125
            ],
            "geometry": {
             "coordinates": [
              [
               [
                292.875,
                60.125
               ],
               [
                292.875,
                62.125
               ],
               [
                294.875,
                62.125
               ],
               [
                294.875,
                60.125
               ],
               [
                292.875,
                60.125
               ]
              ]
             ],
             "type": "Polygon"
            },
            "id": "292",
            "properties": {},
            "type": "Feature"
           },
           {
            "bbox": [
             294.875,
             60.125,
             296.875,
             62.125
            ],
            "geometry": {
             "coordinates": [
              [
               [
                294.875,
                60.125
               ],
               [
                294.875,
                62.125
               ],
               [
                296.875,
                62.125
               ],
               [
                296.875,
                60.125
               ],
               [
                294.875,
                60.125
               ]
              ]
             ],
             "type": "Polygon"
            },
            "id": "293",
            "properties": {},
            "type": "Feature"
           },
           {
            "bbox": [
             296.875,
             60.125,
             298.875,
             62.125
            ],
            "geometry": {
             "coordinates": [
              [
               [
                296.875,
                60.125
               ],
               [
                296.875,
                62.125
               ],
               [
                298.875,
                62.125
               ],
               [
                298.875,
                60.125
               ],
               [
                296.875,
                60.125
               ]
              ]
             ],
             "type": "Polygon"
            },
            "id": "294",
            "properties": {},
            "type": "Feature"
           },
           {
            "bbox": [
             298.875,
             60.125,
             300.875,
             62.125
            ],
            "geometry": {
             "coordinates": [
              [
               [
                298.875,
                60.125
               ],
               [
                298.875,
                62.125
               ],
               [
                300.875,
                62.125
               ],
               [
                300.875,
                60.125
               ],
               [
                298.875,
                60.125
               ]
              ]
             ],
             "type": "Polygon"
            },
            "id": "295",
            "properties": {},
            "type": "Feature"
           },
           {
            "bbox": [
             300.875,
             60.125,
             302.875,
             62.125
            ],
            "geometry": {
             "coordinates": [
              [
               [
                300.875,
                60.125
               ],
               [
                300.875,
                62.125
               ],
               [
                302.875,
                62.125
               ],
               [
                302.875,
                60.125
               ],
               [
                300.875,
                60.125
               ]
              ]
             ],
             "type": "Polygon"
            },
            "id": "296",
            "properties": {},
            "type": "Feature"
           },
           {
            "bbox": [
             302.875,
             60.125,
             304.875,
             62.125
            ],
            "geometry": {
             "coordinates": [
              [
               [
                302.875,
                60.125
               ],
               [
                302.875,
                62.125
               ],
               [
                304.875,
                62.125
               ],
               [
                304.875,
                60.125
               ],
               [
                302.875,
                60.125
               ]
              ]
             ],
             "type": "Polygon"
            },
            "id": "297",
            "properties": {},
            "type": "Feature"
           },
           {
            "bbox": [
             304.875,
             60.125,
             306.875,
             62.125
            ],
            "geometry": {
             "coordinates": [
              [
               [
                304.875,
                60.125
               ],
               [
                304.875,
                62.125
               ],
               [
                306.875,
                62.125
               ],
               [
                306.875,
                60.125
               ],
               [
                304.875,
                60.125
               ]
              ]
             ],
             "type": "Polygon"
            },
            "id": "298",
            "properties": {},
            "type": "Feature"
           },
           {
            "bbox": [
             306.875,
             60.125,
             308.875,
             62.125
            ],
            "geometry": {
             "coordinates": [
              [
               [
                306.875,
                60.125
               ],
               [
                306.875,
                62.125
               ],
               [
                308.875,
                62.125
               ],
               [
                308.875,
                60.125
               ],
               [
                306.875,
                60.125
               ]
              ]
             ],
             "type": "Polygon"
            },
            "id": "299",
            "properties": {},
            "type": "Feature"
           },
           {
            "bbox": [
             308.875,
             60.125,
             310.875,
             62.125
            ],
            "geometry": {
             "coordinates": [
              [
               [
                308.875,
                60.125
               ],
               [
                308.875,
                62.125
               ],
               [
                310.875,
                62.125
               ],
               [
                310.875,
                60.125
               ],
               [
                308.875,
                60.125
               ]
              ]
             ],
             "type": "Polygon"
            },
            "id": "300",
            "properties": {},
            "type": "Feature"
           },
           {
            "bbox": [
             310.875,
             60.125,
             312.875,
             62.125
            ],
            "geometry": {
             "coordinates": [
              [
               [
                310.875,
                60.125
               ],
               [
                310.875,
                62.125
               ],
               [
                312.875,
                62.125
               ],
               [
                312.875,
                60.125
               ],
               [
                310.875,
                60.125
               ]
              ]
             ],
             "type": "Polygon"
            },
            "id": "301",
            "properties": {},
            "type": "Feature"
           },
           {
            "bbox": [
             312.875,
             60.125,
             314.875,
             62.125
            ],
            "geometry": {
             "coordinates": [
              [
               [
                312.875,
                60.125
               ],
               [
                312.875,
                62.125
               ],
               [
                314.875,
                62.125
               ],
               [
                314.875,
                60.125
               ],
               [
                312.875,
                60.125
               ]
              ]
             ],
             "type": "Polygon"
            },
            "id": "302",
            "properties": {},
            "type": "Feature"
           },
           {
            "bbox": [
             314.875,
             60.125,
             316.875,
             62.125
            ],
            "geometry": {
             "coordinates": [
              [
               [
                314.875,
                60.125
               ],
               [
                314.875,
                62.125
               ],
               [
                316.875,
                62.125
               ],
               [
                316.875,
                60.125
               ],
               [
                314.875,
                60.125
               ]
              ]
             ],
             "type": "Polygon"
            },
            "id": "303",
            "properties": {},
            "type": "Feature"
           },
           {
            "bbox": [
             316.875,
             60.125,
             318.875,
             62.125
            ],
            "geometry": {
             "coordinates": [
              [
               [
                316.875,
                60.125
               ],
               [
                316.875,
                62.125
               ],
               [
                318.875,
                62.125
               ],
               [
                318.875,
                60.125
               ],
               [
                316.875,
                60.125
               ]
              ]
             ],
             "type": "Polygon"
            },
            "id": "304",
            "properties": {},
            "type": "Feature"
           },
           {
            "bbox": [
             318.875,
             60.125,
             320.875,
             62.125
            ],
            "geometry": {
             "coordinates": [
              [
               [
                318.875,
                60.125
               ],
               [
                318.875,
                62.125
               ],
               [
                320.875,
                62.125
               ],
               [
                320.875,
                60.125
               ],
               [
                318.875,
                60.125
               ]
              ]
             ],
             "type": "Polygon"
            },
            "id": "305",
            "properties": {},
            "type": "Feature"
           },
           {
            "bbox": [
             320.875,
             60.125,
             322.875,
             62.125
            ],
            "geometry": {
             "coordinates": [
              [
               [
                320.875,
                60.125
               ],
               [
                320.875,
                62.125
               ],
               [
                322.875,
                62.125
               ],
               [
                322.875,
                60.125
               ],
               [
                320.875,
                60.125
               ]
              ]
             ],
             "type": "Polygon"
            },
            "id": "306",
            "properties": {},
            "type": "Feature"
           },
           {
            "bbox": [
             322.875,
             60.125,
             324.875,
             62.125
            ],
            "geometry": {
             "coordinates": [
              [
               [
                322.875,
                60.125
               ],
               [
                322.875,
                62.125
               ],
               [
                324.875,
                62.125
               ],
               [
                324.875,
                60.125
               ],
               [
                322.875,
                60.125
               ]
              ]
             ],
             "type": "Polygon"
            },
            "id": "307",
            "properties": {},
            "type": "Feature"
           },
           {
            "bbox": [
             324.875,
             60.125,
             326.875,
             62.125
            ],
            "geometry": {
             "coordinates": [
              [
               [
                324.875,
                60.125
               ],
               [
                324.875,
                62.125
               ],
               [
                326.875,
                62.125
               ],
               [
                326.875,
                60.125
               ],
               [
                324.875,
                60.125
               ]
              ]
             ],
             "type": "Polygon"
            },
            "id": "308",
            "properties": {},
            "type": "Feature"
           },
           {
            "bbox": [
             326.875,
             60.125,
             328.875,
             62.125
            ],
            "geometry": {
             "coordinates": [
              [
               [
                326.875,
                60.125
               ],
               [
                326.875,
                62.125
               ],
               [
                328.875,
                62.125
               ],
               [
                328.875,
                60.125
               ],
               [
                326.875,
                60.125
               ]
              ]
             ],
             "type": "Polygon"
            },
            "id": "309",
            "properties": {},
            "type": "Feature"
           },
           {
            "bbox": [
             328.875,
             60.125,
             330.875,
             62.125
            ],
            "geometry": {
             "coordinates": [
              [
               [
                328.875,
                60.125
               ],
               [
                328.875,
                62.125
               ],
               [
                330.875,
                62.125
               ],
               [
                330.875,
                60.125
               ],
               [
                328.875,
                60.125
               ]
              ]
             ],
             "type": "Polygon"
            },
            "id": "310",
            "properties": {},
            "type": "Feature"
           },
           {
            "bbox": [
             330.875,
             60.125,
             332.875,
             62.125
            ],
            "geometry": {
             "coordinates": [
              [
               [
                330.875,
                60.125
               ],
               [
                330.875,
                62.125
               ],
               [
                332.875,
                62.125
               ],
               [
                332.875,
                60.125
               ],
               [
                330.875,
                60.125
               ]
              ]
             ],
             "type": "Polygon"
            },
            "id": "311",
            "properties": {},
            "type": "Feature"
           },
           {
            "bbox": [
             332.875,
             60.125,
             334.875,
             62.125
            ],
            "geometry": {
             "coordinates": [
              [
               [
                332.875,
                60.125
               ],
               [
                332.875,
                62.125
               ],
               [
                334.875,
                62.125
               ],
               [
                334.875,
                60.125
               ],
               [
                332.875,
                60.125
               ]
              ]
             ],
             "type": "Polygon"
            },
            "id": "312",
            "properties": {},
            "type": "Feature"
           },
           {
            "bbox": [
             334.875,
             60.125,
             336.875,
             62.125
            ],
            "geometry": {
             "coordinates": [
              [
               [
                334.875,
                60.125
               ],
               [
                334.875,
                62.125
               ],
               [
                336.875,
                62.125
               ],
               [
                336.875,
                60.125
               ],
               [
                334.875,
                60.125
               ]
              ]
             ],
             "type": "Polygon"
            },
            "id": "313",
            "properties": {},
            "type": "Feature"
           },
           {
            "bbox": [
             336.875,
             60.125,
             338.875,
             62.125
            ],
            "geometry": {
             "coordinates": [
              [
               [
                336.875,
                60.125
               ],
               [
                336.875,
                62.125
               ],
               [
                338.875,
                62.125
               ],
               [
                338.875,
                60.125
               ],
               [
                336.875,
                60.125
               ]
              ]
             ],
             "type": "Polygon"
            },
            "id": "314",
            "properties": {},
            "type": "Feature"
           },
           {
            "bbox": [
             338.875,
             60.125,
             340.875,
             62.125
            ],
            "geometry": {
             "coordinates": [
              [
               [
                338.875,
                60.125
               ],
               [
                338.875,
                62.125
               ],
               [
                340.875,
                62.125
               ],
               [
                340.875,
                60.125
               ],
               [
                338.875,
                60.125
               ]
              ]
             ],
             "type": "Polygon"
            },
            "id": "315",
            "properties": {},
            "type": "Feature"
           },
           {
            "bbox": [
             340.875,
             60.125,
             342.875,
             62.125
            ],
            "geometry": {
             "coordinates": [
              [
               [
                340.875,
                60.125
               ],
               [
                340.875,
                62.125
               ],
               [
                342.875,
                62.125
               ],
               [
                342.875,
                60.125
               ],
               [
                340.875,
                60.125
               ]
              ]
             ],
             "type": "Polygon"
            },
            "id": "316",
            "properties": {},
            "type": "Feature"
           },
           {
            "bbox": [
             342.875,
             60.125,
             344.875,
             62.125
            ],
            "geometry": {
             "coordinates": [
              [
               [
                342.875,
                60.125
               ],
               [
                342.875,
                62.125
               ],
               [
                344.875,
                62.125
               ],
               [
                344.875,
                60.125
               ],
               [
                342.875,
                60.125
               ]
              ]
             ],
             "type": "Polygon"
            },
            "id": "317",
            "properties": {},
            "type": "Feature"
           },
           {
            "bbox": [
             344.875,
             60.125,
             346.875,
             62.125
            ],
            "geometry": {
             "coordinates": [
              [
               [
                344.875,
                60.125
               ],
               [
                344.875,
                62.125
               ],
               [
                346.875,
                62.125
               ],
               [
                346.875,
                60.125
               ],
               [
                344.875,
                60.125
               ]
              ]
             ],
             "type": "Polygon"
            },
            "id": "318",
            "properties": {},
            "type": "Feature"
           },
           {
            "bbox": [
             346.875,
             60.125,
             348.875,
             62.125
            ],
            "geometry": {
             "coordinates": [
              [
               [
                346.875,
                60.125
               ],
               [
                346.875,
                62.125
               ],
               [
                348.875,
                62.125
               ],
               [
                348.875,
                60.125
               ],
               [
                346.875,
                60.125
               ]
              ]
             ],
             "type": "Polygon"
            },
            "id": "319",
            "properties": {},
            "type": "Feature"
           }
          ],
          "type": "FeatureCollection"
         },
         "hovertemplate": "spatial_mask=True<br>index=%{location}<extra></extra>",
         "locations": [
          0,
          1,
          2,
          3,
          4,
          5,
          6,
          7,
          8,
          9,
          10,
          11,
          12,
          13,
          14,
          15,
          16,
          17,
          18,
          19,
          20,
          21,
          22,
          23,
          24,
          25,
          26,
          27,
          28,
          29,
          30,
          31,
          32,
          33,
          34,
          35,
          36,
          37,
          38,
          39,
          40,
          41,
          42,
          43,
          44,
          45,
          46,
          47,
          48,
          49,
          50,
          51,
          52,
          53,
          54,
          55,
          56,
          57,
          58,
          59,
          60,
          61,
          64,
          65,
          66,
          67,
          68,
          69,
          70,
          71,
          72,
          73,
          74,
          75,
          76,
          77,
          78,
          79,
          80,
          81,
          82,
          83,
          84,
          85,
          86,
          87,
          88,
          89,
          90,
          91,
          96,
          97,
          98,
          99,
          100,
          101,
          102,
          103,
          104,
          105,
          106,
          107,
          108,
          109,
          110,
          111,
          112,
          113,
          114,
          115,
          116,
          117,
          118,
          119,
          120,
          121,
          128,
          129,
          130,
          131,
          132,
          133,
          134,
          135,
          136,
          138,
          139,
          140,
          141,
          142,
          143,
          144,
          145,
          146,
          147,
          148,
          149,
          150,
          151,
          152,
          160,
          161,
          162,
          163,
          164,
          165,
          166,
          167,
          168,
          171,
          172,
          173,
          174,
          175,
          176,
          177,
          178,
          179,
          180,
          181,
          182,
          183,
          184,
          185,
          192,
          193,
          194,
          195,
          196,
          197,
          198,
          199,
          200,
          203,
          204,
          205,
          206,
          207,
          208,
          209,
          210,
          211,
          212,
          224,
          225,
          226,
          227,
          228,
          229,
          230,
          231,
          235,
          236,
          237,
          238,
          239,
          240,
          241,
          256,
          257,
          258,
          259,
          260,
          261,
          262,
          268,
          269,
          270,
          271,
          288,
          289,
          290,
          291,
          302,
          303
         ],
         "name": "True",
         "showlegend": true,
         "showscale": false,
         "subplot": "mapbox",
         "type": "choroplethmapbox",
         "z": [
          1,
          1,
          1,
          1,
          1,
          1,
          1,
          1,
          1,
          1,
          1,
          1,
          1,
          1,
          1,
          1,
          1,
          1,
          1,
          1,
          1,
          1,
          1,
          1,
          1,
          1,
          1,
          1,
          1,
          1,
          1,
          1,
          1,
          1,
          1,
          1,
          1,
          1,
          1,
          1,
          1,
          1,
          1,
          1,
          1,
          1,
          1,
          1,
          1,
          1,
          1,
          1,
          1,
          1,
          1,
          1,
          1,
          1,
          1,
          1,
          1,
          1,
          1,
          1,
          1,
          1,
          1,
          1,
          1,
          1,
          1,
          1,
          1,
          1,
          1,
          1,
          1,
          1,
          1,
          1,
          1,
          1,
          1,
          1,
          1,
          1,
          1,
          1,
          1,
          1,
          1,
          1,
          1,
          1,
          1,
          1,
          1,
          1,
          1,
          1,
          1,
          1,
          1,
          1,
          1,
          1,
          1,
          1,
          1,
          1,
          1,
          1,
          1,
          1,
          1,
          1,
          1,
          1,
          1,
          1,
          1,
          1,
          1,
          1,
          1,
          1,
          1,
          1,
          1,
          1,
          1,
          1,
          1,
          1,
          1,
          1,
          1,
          1,
          1,
          1,
          1,
          1,
          1,
          1,
          1,
          1,
          1,
          1,
          1,
          1,
          1,
          1,
          1,
          1,
          1,
          1,
          1,
          1,
          1,
          1,
          1,
          1,
          1,
          1,
          1,
          1,
          1,
          1,
          1,
          1,
          1,
          1,
          1,
          1,
          1,
          1,
          1,
          1,
          1,
          1,
          1,
          1,
          1,
          1,
          1,
          1,
          1,
          1,
          1,
          1,
          1,
          1,
          1,
          1,
          1,
          1,
          1,
          1,
          1,
          1,
          1,
          1,
          1,
          1,
          1,
          1,
          1,
          1,
          1,
          1,
          1,
          1,
          1,
          1,
          1
         ]
        },
        {
         "colorscale": [
          [
           0,
           "#EF553B"
          ],
          [
           1,
           "#EF553B"
          ]
         ],
         "geojson": {
          "bbox": [
           284.875,
           60.125,
           348.875,
           80.125
          ],
          "features": [
           {
            "bbox": [
             284.875,
             78.125,
             286.875,
             80.125
            ],
            "geometry": {
             "coordinates": [
              [
               [
                284.875,
                78.125
               ],
               [
                284.875,
                80.125
               ],
               [
                286.875,
                80.125
               ],
               [
                286.875,
                78.125
               ],
               [
                284.875,
                78.125
               ]
              ]
             ],
             "type": "Polygon"
            },
            "id": "0",
            "properties": {},
            "type": "Feature"
           },
           {
            "bbox": [
             286.875,
             78.125,
             288.875,
             80.125
            ],
            "geometry": {
             "coordinates": [
              [
               [
                286.875,
                78.125
               ],
               [
                286.875,
                80.125
               ],
               [
                288.875,
                80.125
               ],
               [
                288.875,
                78.125
               ],
               [
                286.875,
                78.125
               ]
              ]
             ],
             "type": "Polygon"
            },
            "id": "1",
            "properties": {},
            "type": "Feature"
           },
           {
            "bbox": [
             288.875,
             78.125,
             290.875,
             80.125
            ],
            "geometry": {
             "coordinates": [
              [
               [
                288.875,
                78.125
               ],
               [
                288.875,
                80.125
               ],
               [
                290.875,
                80.125
               ],
               [
                290.875,
                78.125
               ],
               [
                288.875,
                78.125
               ]
              ]
             ],
             "type": "Polygon"
            },
            "id": "2",
            "properties": {},
            "type": "Feature"
           },
           {
            "bbox": [
             290.875,
             78.125,
             292.875,
             80.125
            ],
            "geometry": {
             "coordinates": [
              [
               [
                290.875,
                78.125
               ],
               [
                290.875,
                80.125
               ],
               [
                292.875,
                80.125
               ],
               [
                292.875,
                78.125
               ],
               [
                290.875,
                78.125
               ]
              ]
             ],
             "type": "Polygon"
            },
            "id": "3",
            "properties": {},
            "type": "Feature"
           },
           {
            "bbox": [
             292.875,
             78.125,
             294.875,
             80.125
            ],
            "geometry": {
             "coordinates": [
              [
               [
                292.875,
                78.125
               ],
               [
                292.875,
                80.125
               ],
               [
                294.875,
                80.125
               ],
               [
                294.875,
                78.125
               ],
               [
                292.875,
                78.125
               ]
              ]
             ],
             "type": "Polygon"
            },
            "id": "4",
            "properties": {},
            "type": "Feature"
           },
           {
            "bbox": [
             294.875,
             78.125,
             296.875,
             80.125
            ],
            "geometry": {
             "coordinates": [
              [
               [
                294.875,
                78.125
               ],
               [
                294.875,
                80.125
               ],
               [
                296.875,
                80.125
               ],
               [
                296.875,
                78.125
               ],
               [
                294.875,
                78.125
               ]
              ]
             ],
             "type": "Polygon"
            },
            "id": "5",
            "properties": {},
            "type": "Feature"
           },
           {
            "bbox": [
             296.875,
             78.125,
             298.875,
             80.125
            ],
            "geometry": {
             "coordinates": [
              [
               [
                296.875,
                78.125
               ],
               [
                296.875,
                80.125
               ],
               [
                298.875,
                80.125
               ],
               [
                298.875,
                78.125
               ],
               [
                296.875,
                78.125
               ]
              ]
             ],
             "type": "Polygon"
            },
            "id": "6",
            "properties": {},
            "type": "Feature"
           },
           {
            "bbox": [
             298.875,
             78.125,
             300.875,
             80.125
            ],
            "geometry": {
             "coordinates": [
              [
               [
                298.875,
                78.125
               ],
               [
                298.875,
                80.125
               ],
               [
                300.875,
                80.125
               ],
               [
                300.875,
                78.125
               ],
               [
                298.875,
                78.125
               ]
              ]
             ],
             "type": "Polygon"
            },
            "id": "7",
            "properties": {},
            "type": "Feature"
           },
           {
            "bbox": [
             300.875,
             78.125,
             302.875,
             80.125
            ],
            "geometry": {
             "coordinates": [
              [
               [
                300.875,
                78.125
               ],
               [
                300.875,
                80.125
               ],
               [
                302.875,
                80.125
               ],
               [
                302.875,
                78.125
               ],
               [
                300.875,
                78.125
               ]
              ]
             ],
             "type": "Polygon"
            },
            "id": "8",
            "properties": {},
            "type": "Feature"
           },
           {
            "bbox": [
             302.875,
             78.125,
             304.875,
             80.125
            ],
            "geometry": {
             "coordinates": [
              [
               [
                302.875,
                78.125
               ],
               [
                302.875,
                80.125
               ],
               [
                304.875,
                80.125
               ],
               [
                304.875,
                78.125
               ],
               [
                302.875,
                78.125
               ]
              ]
             ],
             "type": "Polygon"
            },
            "id": "9",
            "properties": {},
            "type": "Feature"
           },
           {
            "bbox": [
             304.875,
             78.125,
             306.875,
             80.125
            ],
            "geometry": {
             "coordinates": [
              [
               [
                304.875,
                78.125
               ],
               [
                304.875,
                80.125
               ],
               [
                306.875,
                80.125
               ],
               [
                306.875,
                78.125
               ],
               [
                304.875,
                78.125
               ]
              ]
             ],
             "type": "Polygon"
            },
            "id": "10",
            "properties": {},
            "type": "Feature"
           },
           {
            "bbox": [
             306.875,
             78.125,
             308.875,
             80.125
            ],
            "geometry": {
             "coordinates": [
              [
               [
                306.875,
                78.125
               ],
               [
                306.875,
                80.125
               ],
               [
                308.875,
                80.125
               ],
               [
                308.875,
                78.125
               ],
               [
                306.875,
                78.125
               ]
              ]
             ],
             "type": "Polygon"
            },
            "id": "11",
            "properties": {},
            "type": "Feature"
           },
           {
            "bbox": [
             308.875,
             78.125,
             310.875,
             80.125
            ],
            "geometry": {
             "coordinates": [
              [
               [
                308.875,
                78.125
               ],
               [
                308.875,
                80.125
               ],
               [
                310.875,
                80.125
               ],
               [
                310.875,
                78.125
               ],
               [
                308.875,
                78.125
               ]
              ]
             ],
             "type": "Polygon"
            },
            "id": "12",
            "properties": {},
            "type": "Feature"
           },
           {
            "bbox": [
             310.875,
             78.125,
             312.875,
             80.125
            ],
            "geometry": {
             "coordinates": [
              [
               [
                310.875,
                78.125
               ],
               [
                310.875,
                80.125
               ],
               [
                312.875,
                80.125
               ],
               [
                312.875,
                78.125
               ],
               [
                310.875,
                78.125
               ]
              ]
             ],
             "type": "Polygon"
            },
            "id": "13",
            "properties": {},
            "type": "Feature"
           },
           {
            "bbox": [
             312.875,
             78.125,
             314.875,
             80.125
            ],
            "geometry": {
             "coordinates": [
              [
               [
                312.875,
                78.125
               ],
               [
                312.875,
                80.125
               ],
               [
                314.875,
                80.125
               ],
               [
                314.875,
                78.125
               ],
               [
                312.875,
                78.125
               ]
              ]
             ],
             "type": "Polygon"
            },
            "id": "14",
            "properties": {},
            "type": "Feature"
           },
           {
            "bbox": [
             314.875,
             78.125,
             316.875,
             80.125
            ],
            "geometry": {
             "coordinates": [
              [
               [
                314.875,
                78.125
               ],
               [
                314.875,
                80.125
               ],
               [
                316.875,
                80.125
               ],
               [
                316.875,
                78.125
               ],
               [
                314.875,
                78.125
               ]
              ]
             ],
             "type": "Polygon"
            },
            "id": "15",
            "properties": {},
            "type": "Feature"
           },
           {
            "bbox": [
             316.875,
             78.125,
             318.875,
             80.125
            ],
            "geometry": {
             "coordinates": [
              [
               [
                316.875,
                78.125
               ],
               [
                316.875,
                80.125
               ],
               [
                318.875,
                80.125
               ],
               [
                318.875,
                78.125
               ],
               [
                316.875,
                78.125
               ]
              ]
             ],
             "type": "Polygon"
            },
            "id": "16",
            "properties": {},
            "type": "Feature"
           },
           {
            "bbox": [
             318.875,
             78.125,
             320.875,
             80.125
            ],
            "geometry": {
             "coordinates": [
              [
               [
                318.875,
                78.125
               ],
               [
                318.875,
                80.125
               ],
               [
                320.875,
                80.125
               ],
               [
                320.875,
                78.125
               ],
               [
                318.875,
                78.125
               ]
              ]
             ],
             "type": "Polygon"
            },
            "id": "17",
            "properties": {},
            "type": "Feature"
           },
           {
            "bbox": [
             320.875,
             78.125,
             322.875,
             80.125
            ],
            "geometry": {
             "coordinates": [
              [
               [
                320.875,
                78.125
               ],
               [
                320.875,
                80.125
               ],
               [
                322.875,
                80.125
               ],
               [
                322.875,
                78.125
               ],
               [
                320.875,
                78.125
               ]
              ]
             ],
             "type": "Polygon"
            },
            "id": "18",
            "properties": {},
            "type": "Feature"
           },
           {
            "bbox": [
             322.875,
             78.125,
             324.875,
             80.125
            ],
            "geometry": {
             "coordinates": [
              [
               [
                322.875,
                78.125
               ],
               [
                322.875,
                80.125
               ],
               [
                324.875,
                80.125
               ],
               [
                324.875,
                78.125
               ],
               [
                322.875,
                78.125
               ]
              ]
             ],
             "type": "Polygon"
            },
            "id": "19",
            "properties": {},
            "type": "Feature"
           },
           {
            "bbox": [
             324.875,
             78.125,
             326.875,
             80.125
            ],
            "geometry": {
             "coordinates": [
              [
               [
                324.875,
                78.125
               ],
               [
                324.875,
                80.125
               ],
               [
                326.875,
                80.125
               ],
               [
                326.875,
                78.125
               ],
               [
                324.875,
                78.125
               ]
              ]
             ],
             "type": "Polygon"
            },
            "id": "20",
            "properties": {},
            "type": "Feature"
           },
           {
            "bbox": [
             326.875,
             78.125,
             328.875,
             80.125
            ],
            "geometry": {
             "coordinates": [
              [
               [
                326.875,
                78.125
               ],
               [
                326.875,
                80.125
               ],
               [
                328.875,
                80.125
               ],
               [
                328.875,
                78.125
               ],
               [
                326.875,
                78.125
               ]
              ]
             ],
             "type": "Polygon"
            },
            "id": "21",
            "properties": {},
            "type": "Feature"
           },
           {
            "bbox": [
             328.875,
             78.125,
             330.875,
             80.125
            ],
            "geometry": {
             "coordinates": [
              [
               [
                328.875,
                78.125
               ],
               [
                328.875,
                80.125
               ],
               [
                330.875,
                80.125
               ],
               [
                330.875,
                78.125
               ],
               [
                328.875,
                78.125
               ]
              ]
             ],
             "type": "Polygon"
            },
            "id": "22",
            "properties": {},
            "type": "Feature"
           },
           {
            "bbox": [
             330.875,
             78.125,
             332.875,
             80.125
            ],
            "geometry": {
             "coordinates": [
              [
               [
                330.875,
                78.125
               ],
               [
                330.875,
                80.125
               ],
               [
                332.875,
                80.125
               ],
               [
                332.875,
                78.125
               ],
               [
                330.875,
                78.125
               ]
              ]
             ],
             "type": "Polygon"
            },
            "id": "23",
            "properties": {},
            "type": "Feature"
           },
           {
            "bbox": [
             332.875,
             78.125,
             334.875,
             80.125
            ],
            "geometry": {
             "coordinates": [
              [
               [
                332.875,
                78.125
               ],
               [
                332.875,
                80.125
               ],
               [
                334.875,
                80.125
               ],
               [
                334.875,
                78.125
               ],
               [
                332.875,
                78.125
               ]
              ]
             ],
             "type": "Polygon"
            },
            "id": "24",
            "properties": {},
            "type": "Feature"
           },
           {
            "bbox": [
             334.875,
             78.125,
             336.875,
             80.125
            ],
            "geometry": {
             "coordinates": [
              [
               [
                334.875,
                78.125
               ],
               [
                334.875,
                80.125
               ],
               [
                336.875,
                80.125
               ],
               [
                336.875,
                78.125
               ],
               [
                334.875,
                78.125
               ]
              ]
             ],
             "type": "Polygon"
            },
            "id": "25",
            "properties": {},
            "type": "Feature"
           },
           {
            "bbox": [
             336.875,
             78.125,
             338.875,
             80.125
            ],
            "geometry": {
             "coordinates": [
              [
               [
                336.875,
                78.125
               ],
               [
                336.875,
                80.125
               ],
               [
                338.875,
                80.125
               ],
               [
                338.875,
                78.125
               ],
               [
                336.875,
                78.125
               ]
              ]
             ],
             "type": "Polygon"
            },
            "id": "26",
            "properties": {},
            "type": "Feature"
           },
           {
            "bbox": [
             338.875,
             78.125,
             340.875,
             80.125
            ],
            "geometry": {
             "coordinates": [
              [
               [
                338.875,
                78.125
               ],
               [
                338.875,
                80.125
               ],
               [
                340.875,
                80.125
               ],
               [
                340.875,
                78.125
               ],
               [
                338.875,
                78.125
               ]
              ]
             ],
             "type": "Polygon"
            },
            "id": "27",
            "properties": {},
            "type": "Feature"
           },
           {
            "bbox": [
             340.875,
             78.125,
             342.875,
             80.125
            ],
            "geometry": {
             "coordinates": [
              [
               [
                340.875,
                78.125
               ],
               [
                340.875,
                80.125
               ],
               [
                342.875,
                80.125
               ],
               [
                342.875,
                78.125
               ],
               [
                340.875,
                78.125
               ]
              ]
             ],
             "type": "Polygon"
            },
            "id": "28",
            "properties": {},
            "type": "Feature"
           },
           {
            "bbox": [
             342.875,
             78.125,
             344.875,
             80.125
            ],
            "geometry": {
             "coordinates": [
              [
               [
                342.875,
                78.125
               ],
               [
                342.875,
                80.125
               ],
               [
                344.875,
                80.125
               ],
               [
                344.875,
                78.125
               ],
               [
                342.875,
                78.125
               ]
              ]
             ],
             "type": "Polygon"
            },
            "id": "29",
            "properties": {},
            "type": "Feature"
           },
           {
            "bbox": [
             344.875,
             78.125,
             346.875,
             80.125
            ],
            "geometry": {
             "coordinates": [
              [
               [
                344.875,
                78.125
               ],
               [
                344.875,
                80.125
               ],
               [
                346.875,
                80.125
               ],
               [
                346.875,
                78.125
               ],
               [
                344.875,
                78.125
               ]
              ]
             ],
             "type": "Polygon"
            },
            "id": "30",
            "properties": {},
            "type": "Feature"
           },
           {
            "bbox": [
             346.875,
             78.125,
             348.875,
             80.125
            ],
            "geometry": {
             "coordinates": [
              [
               [
                346.875,
                78.125
               ],
               [
                346.875,
                80.125
               ],
               [
                348.875,
                80.125
               ],
               [
                348.875,
                78.125
               ],
               [
                346.875,
                78.125
               ]
              ]
             ],
             "type": "Polygon"
            },
            "id": "31",
            "properties": {},
            "type": "Feature"
           },
           {
            "bbox": [
             284.875,
             76.125,
             286.875,
             78.125
            ],
            "geometry": {
             "coordinates": [
              [
               [
                284.875,
                76.125
               ],
               [
                284.875,
                78.125
               ],
               [
                286.875,
                78.125
               ],
               [
                286.875,
                76.125
               ],
               [
                284.875,
                76.125
               ]
              ]
             ],
             "type": "Polygon"
            },
            "id": "32",
            "properties": {},
            "type": "Feature"
           },
           {
            "bbox": [
             286.875,
             76.125,
             288.875,
             78.125
            ],
            "geometry": {
             "coordinates": [
              [
               [
                286.875,
                76.125
               ],
               [
                286.875,
                78.125
               ],
               [
                288.875,
                78.125
               ],
               [
                288.875,
                76.125
               ],
               [
                286.875,
                76.125
               ]
              ]
             ],
             "type": "Polygon"
            },
            "id": "33",
            "properties": {},
            "type": "Feature"
           },
           {
            "bbox": [
             288.875,
             76.125,
             290.875,
             78.125
            ],
            "geometry": {
             "coordinates": [
              [
               [
                288.875,
                76.125
               ],
               [
                288.875,
                78.125
               ],
               [
                290.875,
                78.125
               ],
               [
                290.875,
                76.125
               ],
               [
                288.875,
                76.125
               ]
              ]
             ],
             "type": "Polygon"
            },
            "id": "34",
            "properties": {},
            "type": "Feature"
           },
           {
            "bbox": [
             290.875,
             76.125,
             292.875,
             78.125
            ],
            "geometry": {
             "coordinates": [
              [
               [
                290.875,
                76.125
               ],
               [
                290.875,
                78.125
               ],
               [
                292.875,
                78.125
               ],
               [
                292.875,
                76.125
               ],
               [
                290.875,
                76.125
               ]
              ]
             ],
             "type": "Polygon"
            },
            "id": "35",
            "properties": {},
            "type": "Feature"
           },
           {
            "bbox": [
             292.875,
             76.125,
             294.875,
             78.125
            ],
            "geometry": {
             "coordinates": [
              [
               [
                292.875,
                76.125
               ],
               [
                292.875,
                78.125
               ],
               [
                294.875,
                78.125
               ],
               [
                294.875,
                76.125
               ],
               [
                292.875,
                76.125
               ]
              ]
             ],
             "type": "Polygon"
            },
            "id": "36",
            "properties": {},
            "type": "Feature"
           },
           {
            "bbox": [
             294.875,
             76.125,
             296.875,
             78.125
            ],
            "geometry": {
             "coordinates": [
              [
               [
                294.875,
                76.125
               ],
               [
                294.875,
                78.125
               ],
               [
                296.875,
                78.125
               ],
               [
                296.875,
                76.125
               ],
               [
                294.875,
                76.125
               ]
              ]
             ],
             "type": "Polygon"
            },
            "id": "37",
            "properties": {},
            "type": "Feature"
           },
           {
            "bbox": [
             296.875,
             76.125,
             298.875,
             78.125
            ],
            "geometry": {
             "coordinates": [
              [
               [
                296.875,
                76.125
               ],
               [
                296.875,
                78.125
               ],
               [
                298.875,
                78.125
               ],
               [
                298.875,
                76.125
               ],
               [
                296.875,
                76.125
               ]
              ]
             ],
             "type": "Polygon"
            },
            "id": "38",
            "properties": {},
            "type": "Feature"
           },
           {
            "bbox": [
             298.875,
             76.125,
             300.875,
             78.125
            ],
            "geometry": {
             "coordinates": [
              [
               [
                298.875,
                76.125
               ],
               [
                298.875,
                78.125
               ],
               [
                300.875,
                78.125
               ],
               [
                300.875,
                76.125
               ],
               [
                298.875,
                76.125
               ]
              ]
             ],
             "type": "Polygon"
            },
            "id": "39",
            "properties": {},
            "type": "Feature"
           },
           {
            "bbox": [
             300.875,
             76.125,
             302.875,
             78.125
            ],
            "geometry": {
             "coordinates": [
              [
               [
                300.875,
                76.125
               ],
               [
                300.875,
                78.125
               ],
               [
                302.875,
                78.125
               ],
               [
                302.875,
                76.125
               ],
               [
                300.875,
                76.125
               ]
              ]
             ],
             "type": "Polygon"
            },
            "id": "40",
            "properties": {},
            "type": "Feature"
           },
           {
            "bbox": [
             302.875,
             76.125,
             304.875,
             78.125
            ],
            "geometry": {
             "coordinates": [
              [
               [
                302.875,
                76.125
               ],
               [
                302.875,
                78.125
               ],
               [
                304.875,
                78.125
               ],
               [
                304.875,
                76.125
               ],
               [
                302.875,
                76.125
               ]
              ]
             ],
             "type": "Polygon"
            },
            "id": "41",
            "properties": {},
            "type": "Feature"
           },
           {
            "bbox": [
             304.875,
             76.125,
             306.875,
             78.125
            ],
            "geometry": {
             "coordinates": [
              [
               [
                304.875,
                76.125
               ],
               [
                304.875,
                78.125
               ],
               [
                306.875,
                78.125
               ],
               [
                306.875,
                76.125
               ],
               [
                304.875,
                76.125
               ]
              ]
             ],
             "type": "Polygon"
            },
            "id": "42",
            "properties": {},
            "type": "Feature"
           },
           {
            "bbox": [
             306.875,
             76.125,
             308.875,
             78.125
            ],
            "geometry": {
             "coordinates": [
              [
               [
                306.875,
                76.125
               ],
               [
                306.875,
                78.125
               ],
               [
                308.875,
                78.125
               ],
               [
                308.875,
                76.125
               ],
               [
                306.875,
                76.125
               ]
              ]
             ],
             "type": "Polygon"
            },
            "id": "43",
            "properties": {},
            "type": "Feature"
           },
           {
            "bbox": [
             308.875,
             76.125,
             310.875,
             78.125
            ],
            "geometry": {
             "coordinates": [
              [
               [
                308.875,
                76.125
               ],
               [
                308.875,
                78.125
               ],
               [
                310.875,
                78.125
               ],
               [
                310.875,
                76.125
               ],
               [
                308.875,
                76.125
               ]
              ]
             ],
             "type": "Polygon"
            },
            "id": "44",
            "properties": {},
            "type": "Feature"
           },
           {
            "bbox": [
             310.875,
             76.125,
             312.875,
             78.125
            ],
            "geometry": {
             "coordinates": [
              [
               [
                310.875,
                76.125
               ],
               [
                310.875,
                78.125
               ],
               [
                312.875,
                78.125
               ],
               [
                312.875,
                76.125
               ],
               [
                310.875,
                76.125
               ]
              ]
             ],
             "type": "Polygon"
            },
            "id": "45",
            "properties": {},
            "type": "Feature"
           },
           {
            "bbox": [
             312.875,
             76.125,
             314.875,
             78.125
            ],
            "geometry": {
             "coordinates": [
              [
               [
                312.875,
                76.125
               ],
               [
                312.875,
                78.125
               ],
               [
                314.875,
                78.125
               ],
               [
                314.875,
                76.125
               ],
               [
                312.875,
                76.125
               ]
              ]
             ],
             "type": "Polygon"
            },
            "id": "46",
            "properties": {},
            "type": "Feature"
           },
           {
            "bbox": [
             314.875,
             76.125,
             316.875,
             78.125
            ],
            "geometry": {
             "coordinates": [
              [
               [
                314.875,
                76.125
               ],
               [
                314.875,
                78.125
               ],
               [
                316.875,
                78.125
               ],
               [
                316.875,
                76.125
               ],
               [
                314.875,
                76.125
               ]
              ]
             ],
             "type": "Polygon"
            },
            "id": "47",
            "properties": {},
            "type": "Feature"
           },
           {
            "bbox": [
             316.875,
             76.125,
             318.875,
             78.125
            ],
            "geometry": {
             "coordinates": [
              [
               [
                316.875,
                76.125
               ],
               [
                316.875,
                78.125
               ],
               [
                318.875,
                78.125
               ],
               [
                318.875,
                76.125
               ],
               [
                316.875,
                76.125
               ]
              ]
             ],
             "type": "Polygon"
            },
            "id": "48",
            "properties": {},
            "type": "Feature"
           },
           {
            "bbox": [
             318.875,
             76.125,
             320.875,
             78.125
            ],
            "geometry": {
             "coordinates": [
              [
               [
                318.875,
                76.125
               ],
               [
                318.875,
                78.125
               ],
               [
                320.875,
                78.125
               ],
               [
                320.875,
                76.125
               ],
               [
                318.875,
                76.125
               ]
              ]
             ],
             "type": "Polygon"
            },
            "id": "49",
            "properties": {},
            "type": "Feature"
           },
           {
            "bbox": [
             320.875,
             76.125,
             322.875,
             78.125
            ],
            "geometry": {
             "coordinates": [
              [
               [
                320.875,
                76.125
               ],
               [
                320.875,
                78.125
               ],
               [
                322.875,
                78.125
               ],
               [
                322.875,
                76.125
               ],
               [
                320.875,
                76.125
               ]
              ]
             ],
             "type": "Polygon"
            },
            "id": "50",
            "properties": {},
            "type": "Feature"
           },
           {
            "bbox": [
             322.875,
             76.125,
             324.875,
             78.125
            ],
            "geometry": {
             "coordinates": [
              [
               [
                322.875,
                76.125
               ],
               [
                322.875,
                78.125
               ],
               [
                324.875,
                78.125
               ],
               [
                324.875,
                76.125
               ],
               [
                322.875,
                76.125
               ]
              ]
             ],
             "type": "Polygon"
            },
            "id": "51",
            "properties": {},
            "type": "Feature"
           },
           {
            "bbox": [
             324.875,
             76.125,
             326.875,
             78.125
            ],
            "geometry": {
             "coordinates": [
              [
               [
                324.875,
                76.125
               ],
               [
                324.875,
                78.125
               ],
               [
                326.875,
                78.125
               ],
               [
                326.875,
                76.125
               ],
               [
                324.875,
                76.125
               ]
              ]
             ],
             "type": "Polygon"
            },
            "id": "52",
            "properties": {},
            "type": "Feature"
           },
           {
            "bbox": [
             326.875,
             76.125,
             328.875,
             78.125
            ],
            "geometry": {
             "coordinates": [
              [
               [
                326.875,
                76.125
               ],
               [
                326.875,
                78.125
               ],
               [
                328.875,
                78.125
               ],
               [
                328.875,
                76.125
               ],
               [
                326.875,
                76.125
               ]
              ]
             ],
             "type": "Polygon"
            },
            "id": "53",
            "properties": {},
            "type": "Feature"
           },
           {
            "bbox": [
             328.875,
             76.125,
             330.875,
             78.125
            ],
            "geometry": {
             "coordinates": [
              [
               [
                328.875,
                76.125
               ],
               [
                328.875,
                78.125
               ],
               [
                330.875,
                78.125
               ],
               [
                330.875,
                76.125
               ],
               [
                328.875,
                76.125
               ]
              ]
             ],
             "type": "Polygon"
            },
            "id": "54",
            "properties": {},
            "type": "Feature"
           },
           {
            "bbox": [
             330.875,
             76.125,
             332.875,
             78.125
            ],
            "geometry": {
             "coordinates": [
              [
               [
                330.875,
                76.125
               ],
               [
                330.875,
                78.125
               ],
               [
                332.875,
                78.125
               ],
               [
                332.875,
                76.125
               ],
               [
                330.875,
                76.125
               ]
              ]
             ],
             "type": "Polygon"
            },
            "id": "55",
            "properties": {},
            "type": "Feature"
           },
           {
            "bbox": [
             332.875,
             76.125,
             334.875,
             78.125
            ],
            "geometry": {
             "coordinates": [
              [
               [
                332.875,
                76.125
               ],
               [
                332.875,
                78.125
               ],
               [
                334.875,
                78.125
               ],
               [
                334.875,
                76.125
               ],
               [
                332.875,
                76.125
               ]
              ]
             ],
             "type": "Polygon"
            },
            "id": "56",
            "properties": {},
            "type": "Feature"
           },
           {
            "bbox": [
             334.875,
             76.125,
             336.875,
             78.125
            ],
            "geometry": {
             "coordinates": [
              [
               [
                334.875,
                76.125
               ],
               [
                334.875,
                78.125
               ],
               [
                336.875,
                78.125
               ],
               [
                336.875,
                76.125
               ],
               [
                334.875,
                76.125
               ]
              ]
             ],
             "type": "Polygon"
            },
            "id": "57",
            "properties": {},
            "type": "Feature"
           },
           {
            "bbox": [
             336.875,
             76.125,
             338.875,
             78.125
            ],
            "geometry": {
             "coordinates": [
              [
               [
                336.875,
                76.125
               ],
               [
                336.875,
                78.125
               ],
               [
                338.875,
                78.125
               ],
               [
                338.875,
                76.125
               ],
               [
                336.875,
                76.125
               ]
              ]
             ],
             "type": "Polygon"
            },
            "id": "58",
            "properties": {},
            "type": "Feature"
           },
           {
            "bbox": [
             338.875,
             76.125,
             340.875,
             78.125
            ],
            "geometry": {
             "coordinates": [
              [
               [
                338.875,
                76.125
               ],
               [
                338.875,
                78.125
               ],
               [
                340.875,
                78.125
               ],
               [
                340.875,
                76.125
               ],
               [
                338.875,
                76.125
               ]
              ]
             ],
             "type": "Polygon"
            },
            "id": "59",
            "properties": {},
            "type": "Feature"
           },
           {
            "bbox": [
             340.875,
             76.125,
             342.875,
             78.125
            ],
            "geometry": {
             "coordinates": [
              [
               [
                340.875,
                76.125
               ],
               [
                340.875,
                78.125
               ],
               [
                342.875,
                78.125
               ],
               [
                342.875,
                76.125
               ],
               [
                340.875,
                76.125
               ]
              ]
             ],
             "type": "Polygon"
            },
            "id": "60",
            "properties": {},
            "type": "Feature"
           },
           {
            "bbox": [
             342.875,
             76.125,
             344.875,
             78.125
            ],
            "geometry": {
             "coordinates": [
              [
               [
                342.875,
                76.125
               ],
               [
                342.875,
                78.125
               ],
               [
                344.875,
                78.125
               ],
               [
                344.875,
                76.125
               ],
               [
                342.875,
                76.125
               ]
              ]
             ],
             "type": "Polygon"
            },
            "id": "61",
            "properties": {},
            "type": "Feature"
           },
           {
            "bbox": [
             344.875,
             76.125,
             346.875,
             78.125
            ],
            "geometry": {
             "coordinates": [
              [
               [
                344.875,
                76.125
               ],
               [
                344.875,
                78.125
               ],
               [
                346.875,
                78.125
               ],
               [
                346.875,
                76.125
               ],
               [
                344.875,
                76.125
               ]
              ]
             ],
             "type": "Polygon"
            },
            "id": "62",
            "properties": {},
            "type": "Feature"
           },
           {
            "bbox": [
             346.875,
             76.125,
             348.875,
             78.125
            ],
            "geometry": {
             "coordinates": [
              [
               [
                346.875,
                76.125
               ],
               [
                346.875,
                78.125
               ],
               [
                348.875,
                78.125
               ],
               [
                348.875,
                76.125
               ],
               [
                346.875,
                76.125
               ]
              ]
             ],
             "type": "Polygon"
            },
            "id": "63",
            "properties": {},
            "type": "Feature"
           },
           {
            "bbox": [
             284.875,
             74.125,
             286.875,
             76.125
            ],
            "geometry": {
             "coordinates": [
              [
               [
                284.875,
                74.125
               ],
               [
                284.875,
                76.125
               ],
               [
                286.875,
                76.125
               ],
               [
                286.875,
                74.125
               ],
               [
                284.875,
                74.125
               ]
              ]
             ],
             "type": "Polygon"
            },
            "id": "64",
            "properties": {},
            "type": "Feature"
           },
           {
            "bbox": [
             286.875,
             74.125,
             288.875,
             76.125
            ],
            "geometry": {
             "coordinates": [
              [
               [
                286.875,
                74.125
               ],
               [
                286.875,
                76.125
               ],
               [
                288.875,
                76.125
               ],
               [
                288.875,
                74.125
               ],
               [
                286.875,
                74.125
               ]
              ]
             ],
             "type": "Polygon"
            },
            "id": "65",
            "properties": {},
            "type": "Feature"
           },
           {
            "bbox": [
             288.875,
             74.125,
             290.875,
             76.125
            ],
            "geometry": {
             "coordinates": [
              [
               [
                288.875,
                74.125
               ],
               [
                288.875,
                76.125
               ],
               [
                290.875,
                76.125
               ],
               [
                290.875,
                74.125
               ],
               [
                288.875,
                74.125
               ]
              ]
             ],
             "type": "Polygon"
            },
            "id": "66",
            "properties": {},
            "type": "Feature"
           },
           {
            "bbox": [
             290.875,
             74.125,
             292.875,
             76.125
            ],
            "geometry": {
             "coordinates": [
              [
               [
                290.875,
                74.125
               ],
               [
                290.875,
                76.125
               ],
               [
                292.875,
                76.125
               ],
               [
                292.875,
                74.125
               ],
               [
                290.875,
                74.125
               ]
              ]
             ],
             "type": "Polygon"
            },
            "id": "67",
            "properties": {},
            "type": "Feature"
           },
           {
            "bbox": [
             292.875,
             74.125,
             294.875,
             76.125
            ],
            "geometry": {
             "coordinates": [
              [
               [
                292.875,
                74.125
               ],
               [
                292.875,
                76.125
               ],
               [
                294.875,
                76.125
               ],
               [
                294.875,
                74.125
               ],
               [
                292.875,
                74.125
               ]
              ]
             ],
             "type": "Polygon"
            },
            "id": "68",
            "properties": {},
            "type": "Feature"
           },
           {
            "bbox": [
             294.875,
             74.125,
             296.875,
             76.125
            ],
            "geometry": {
             "coordinates": [
              [
               [
                294.875,
                74.125
               ],
               [
                294.875,
                76.125
               ],
               [
                296.875,
                76.125
               ],
               [
                296.875,
                74.125
               ],
               [
                294.875,
                74.125
               ]
              ]
             ],
             "type": "Polygon"
            },
            "id": "69",
            "properties": {},
            "type": "Feature"
           },
           {
            "bbox": [
             296.875,
             74.125,
             298.875,
             76.125
            ],
            "geometry": {
             "coordinates": [
              [
               [
                296.875,
                74.125
               ],
               [
                296.875,
                76.125
               ],
               [
                298.875,
                76.125
               ],
               [
                298.875,
                74.125
               ],
               [
                296.875,
                74.125
               ]
              ]
             ],
             "type": "Polygon"
            },
            "id": "70",
            "properties": {},
            "type": "Feature"
           },
           {
            "bbox": [
             298.875,
             74.125,
             300.875,
             76.125
            ],
            "geometry": {
             "coordinates": [
              [
               [
                298.875,
                74.125
               ],
               [
                298.875,
                76.125
               ],
               [
                300.875,
                76.125
               ],
               [
                300.875,
                74.125
               ],
               [
                298.875,
                74.125
               ]
              ]
             ],
             "type": "Polygon"
            },
            "id": "71",
            "properties": {},
            "type": "Feature"
           },
           {
            "bbox": [
             300.875,
             74.125,
             302.875,
             76.125
            ],
            "geometry": {
             "coordinates": [
              [
               [
                300.875,
                74.125
               ],
               [
                300.875,
                76.125
               ],
               [
                302.875,
                76.125
               ],
               [
                302.875,
                74.125
               ],
               [
                300.875,
                74.125
               ]
              ]
             ],
             "type": "Polygon"
            },
            "id": "72",
            "properties": {},
            "type": "Feature"
           },
           {
            "bbox": [
             302.875,
             74.125,
             304.875,
             76.125
            ],
            "geometry": {
             "coordinates": [
              [
               [
                302.875,
                74.125
               ],
               [
                302.875,
                76.125
               ],
               [
                304.875,
                76.125
               ],
               [
                304.875,
                74.125
               ],
               [
                302.875,
                74.125
               ]
              ]
             ],
             "type": "Polygon"
            },
            "id": "73",
            "properties": {},
            "type": "Feature"
           },
           {
            "bbox": [
             304.875,
             74.125,
             306.875,
             76.125
            ],
            "geometry": {
             "coordinates": [
              [
               [
                304.875,
                74.125
               ],
               [
                304.875,
                76.125
               ],
               [
                306.875,
                76.125
               ],
               [
                306.875,
                74.125
               ],
               [
                304.875,
                74.125
               ]
              ]
             ],
             "type": "Polygon"
            },
            "id": "74",
            "properties": {},
            "type": "Feature"
           },
           {
            "bbox": [
             306.875,
             74.125,
             308.875,
             76.125
            ],
            "geometry": {
             "coordinates": [
              [
               [
                306.875,
                74.125
               ],
               [
                306.875,
                76.125
               ],
               [
                308.875,
                76.125
               ],
               [
                308.875,
                74.125
               ],
               [
                306.875,
                74.125
               ]
              ]
             ],
             "type": "Polygon"
            },
            "id": "75",
            "properties": {},
            "type": "Feature"
           },
           {
            "bbox": [
             308.875,
             74.125,
             310.875,
             76.125
            ],
            "geometry": {
             "coordinates": [
              [
               [
                308.875,
                74.125
               ],
               [
                308.875,
                76.125
               ],
               [
                310.875,
                76.125
               ],
               [
                310.875,
                74.125
               ],
               [
                308.875,
                74.125
               ]
              ]
             ],
             "type": "Polygon"
            },
            "id": "76",
            "properties": {},
            "type": "Feature"
           },
           {
            "bbox": [
             310.875,
             74.125,
             312.875,
             76.125
            ],
            "geometry": {
             "coordinates": [
              [
               [
                310.875,
                74.125
               ],
               [
                310.875,
                76.125
               ],
               [
                312.875,
                76.125
               ],
               [
                312.875,
                74.125
               ],
               [
                310.875,
                74.125
               ]
              ]
             ],
             "type": "Polygon"
            },
            "id": "77",
            "properties": {},
            "type": "Feature"
           },
           {
            "bbox": [
             312.875,
             74.125,
             314.875,
             76.125
            ],
            "geometry": {
             "coordinates": [
              [
               [
                312.875,
                74.125
               ],
               [
                312.875,
                76.125
               ],
               [
                314.875,
                76.125
               ],
               [
                314.875,
                74.125
               ],
               [
                312.875,
                74.125
               ]
              ]
             ],
             "type": "Polygon"
            },
            "id": "78",
            "properties": {},
            "type": "Feature"
           },
           {
            "bbox": [
             314.875,
             74.125,
             316.875,
             76.125
            ],
            "geometry": {
             "coordinates": [
              [
               [
                314.875,
                74.125
               ],
               [
                314.875,
                76.125
               ],
               [
                316.875,
                76.125
               ],
               [
                316.875,
                74.125
               ],
               [
                314.875,
                74.125
               ]
              ]
             ],
             "type": "Polygon"
            },
            "id": "79",
            "properties": {},
            "type": "Feature"
           },
           {
            "bbox": [
             316.875,
             74.125,
             318.875,
             76.125
            ],
            "geometry": {
             "coordinates": [
              [
               [
                316.875,
                74.125
               ],
               [
                316.875,
                76.125
               ],
               [
                318.875,
                76.125
               ],
               [
                318.875,
                74.125
               ],
               [
                316.875,
                74.125
               ]
              ]
             ],
             "type": "Polygon"
            },
            "id": "80",
            "properties": {},
            "type": "Feature"
           },
           {
            "bbox": [
             318.875,
             74.125,
             320.875,
             76.125
            ],
            "geometry": {
             "coordinates": [
              [
               [
                318.875,
                74.125
               ],
               [
                318.875,
                76.125
               ],
               [
                320.875,
                76.125
               ],
               [
                320.875,
                74.125
               ],
               [
                318.875,
                74.125
               ]
              ]
             ],
             "type": "Polygon"
            },
            "id": "81",
            "properties": {},
            "type": "Feature"
           },
           {
            "bbox": [
             320.875,
             74.125,
             322.875,
             76.125
            ],
            "geometry": {
             "coordinates": [
              [
               [
                320.875,
                74.125
               ],
               [
                320.875,
                76.125
               ],
               [
                322.875,
                76.125
               ],
               [
                322.875,
                74.125
               ],
               [
                320.875,
                74.125
               ]
              ]
             ],
             "type": "Polygon"
            },
            "id": "82",
            "properties": {},
            "type": "Feature"
           },
           {
            "bbox": [
             322.875,
             74.125,
             324.875,
             76.125
            ],
            "geometry": {
             "coordinates": [
              [
               [
                322.875,
                74.125
               ],
               [
                322.875,
                76.125
               ],
               [
                324.875,
                76.125
               ],
               [
                324.875,
                74.125
               ],
               [
                322.875,
                74.125
               ]
              ]
             ],
             "type": "Polygon"
            },
            "id": "83",
            "properties": {},
            "type": "Feature"
           },
           {
            "bbox": [
             324.875,
             74.125,
             326.875,
             76.125
            ],
            "geometry": {
             "coordinates": [
              [
               [
                324.875,
                74.125
               ],
               [
                324.875,
                76.125
               ],
               [
                326.875,
                76.125
               ],
               [
                326.875,
                74.125
               ],
               [
                324.875,
                74.125
               ]
              ]
             ],
             "type": "Polygon"
            },
            "id": "84",
            "properties": {},
            "type": "Feature"
           },
           {
            "bbox": [
             326.875,
             74.125,
             328.875,
             76.125
            ],
            "geometry": {
             "coordinates": [
              [
               [
                326.875,
                74.125
               ],
               [
                326.875,
                76.125
               ],
               [
                328.875,
                76.125
               ],
               [
                328.875,
                74.125
               ],
               [
                326.875,
                74.125
               ]
              ]
             ],
             "type": "Polygon"
            },
            "id": "85",
            "properties": {},
            "type": "Feature"
           },
           {
            "bbox": [
             328.875,
             74.125,
             330.875,
             76.125
            ],
            "geometry": {
             "coordinates": [
              [
               [
                328.875,
                74.125
               ],
               [
                328.875,
                76.125
               ],
               [
                330.875,
                76.125
               ],
               [
                330.875,
                74.125
               ],
               [
                328.875,
                74.125
               ]
              ]
             ],
             "type": "Polygon"
            },
            "id": "86",
            "properties": {},
            "type": "Feature"
           },
           {
            "bbox": [
             330.875,
             74.125,
             332.875,
             76.125
            ],
            "geometry": {
             "coordinates": [
              [
               [
                330.875,
                74.125
               ],
               [
                330.875,
                76.125
               ],
               [
                332.875,
                76.125
               ],
               [
                332.875,
                74.125
               ],
               [
                330.875,
                74.125
               ]
              ]
             ],
             "type": "Polygon"
            },
            "id": "87",
            "properties": {},
            "type": "Feature"
           },
           {
            "bbox": [
             332.875,
             74.125,
             334.875,
             76.125
            ],
            "geometry": {
             "coordinates": [
              [
               [
                332.875,
                74.125
               ],
               [
                332.875,
                76.125
               ],
               [
                334.875,
                76.125
               ],
               [
                334.875,
                74.125
               ],
               [
                332.875,
                74.125
               ]
              ]
             ],
             "type": "Polygon"
            },
            "id": "88",
            "properties": {},
            "type": "Feature"
           },
           {
            "bbox": [
             334.875,
             74.125,
             336.875,
             76.125
            ],
            "geometry": {
             "coordinates": [
              [
               [
                334.875,
                74.125
               ],
               [
                334.875,
                76.125
               ],
               [
                336.875,
                76.125
               ],
               [
                336.875,
                74.125
               ],
               [
                334.875,
                74.125
               ]
              ]
             ],
             "type": "Polygon"
            },
            "id": "89",
            "properties": {},
            "type": "Feature"
           },
           {
            "bbox": [
             336.875,
             74.125,
             338.875,
             76.125
            ],
            "geometry": {
             "coordinates": [
              [
               [
                336.875,
                74.125
               ],
               [
                336.875,
                76.125
               ],
               [
                338.875,
                76.125
               ],
               [
                338.875,
                74.125
               ],
               [
                336.875,
                74.125
               ]
              ]
             ],
             "type": "Polygon"
            },
            "id": "90",
            "properties": {},
            "type": "Feature"
           },
           {
            "bbox": [
             338.875,
             74.125,
             340.875,
             76.125
            ],
            "geometry": {
             "coordinates": [
              [
               [
                338.875,
                74.125
               ],
               [
                338.875,
                76.125
               ],
               [
                340.875,
                76.125
               ],
               [
                340.875,
                74.125
               ],
               [
                338.875,
                74.125
               ]
              ]
             ],
             "type": "Polygon"
            },
            "id": "91",
            "properties": {},
            "type": "Feature"
           },
           {
            "bbox": [
             340.875,
             74.125,
             342.875,
             76.125
            ],
            "geometry": {
             "coordinates": [
              [
               [
                340.875,
                74.125
               ],
               [
                340.875,
                76.125
               ],
               [
                342.875,
                76.125
               ],
               [
                342.875,
                74.125
               ],
               [
                340.875,
                74.125
               ]
              ]
             ],
             "type": "Polygon"
            },
            "id": "92",
            "properties": {},
            "type": "Feature"
           },
           {
            "bbox": [
             342.875,
             74.125,
             344.875,
             76.125
            ],
            "geometry": {
             "coordinates": [
              [
               [
                342.875,
                74.125
               ],
               [
                342.875,
                76.125
               ],
               [
                344.875,
                76.125
               ],
               [
                344.875,
                74.125
               ],
               [
                342.875,
                74.125
               ]
              ]
             ],
             "type": "Polygon"
            },
            "id": "93",
            "properties": {},
            "type": "Feature"
           },
           {
            "bbox": [
             344.875,
             74.125,
             346.875,
             76.125
            ],
            "geometry": {
             "coordinates": [
              [
               [
                344.875,
                74.125
               ],
               [
                344.875,
                76.125
               ],
               [
                346.875,
                76.125
               ],
               [
                346.875,
                74.125
               ],
               [
                344.875,
                74.125
               ]
              ]
             ],
             "type": "Polygon"
            },
            "id": "94",
            "properties": {},
            "type": "Feature"
           },
           {
            "bbox": [
             346.875,
             74.125,
             348.875,
             76.125
            ],
            "geometry": {
             "coordinates": [
              [
               [
                346.875,
                74.125
               ],
               [
                346.875,
                76.125
               ],
               [
                348.875,
                76.125
               ],
               [
                348.875,
                74.125
               ],
               [
                346.875,
                74.125
               ]
              ]
             ],
             "type": "Polygon"
            },
            "id": "95",
            "properties": {},
            "type": "Feature"
           },
           {
            "bbox": [
             284.875,
             72.125,
             286.875,
             74.125
            ],
            "geometry": {
             "coordinates": [
              [
               [
                284.875,
                72.125
               ],
               [
                284.875,
                74.125
               ],
               [
                286.875,
                74.125
               ],
               [
                286.875,
                72.125
               ],
               [
                284.875,
                72.125
               ]
              ]
             ],
             "type": "Polygon"
            },
            "id": "96",
            "properties": {},
            "type": "Feature"
           },
           {
            "bbox": [
             286.875,
             72.125,
             288.875,
             74.125
            ],
            "geometry": {
             "coordinates": [
              [
               [
                286.875,
                72.125
               ],
               [
                286.875,
                74.125
               ],
               [
                288.875,
                74.125
               ],
               [
                288.875,
                72.125
               ],
               [
                286.875,
                72.125
               ]
              ]
             ],
             "type": "Polygon"
            },
            "id": "97",
            "properties": {},
            "type": "Feature"
           },
           {
            "bbox": [
             288.875,
             72.125,
             290.875,
             74.125
            ],
            "geometry": {
             "coordinates": [
              [
               [
                288.875,
                72.125
               ],
               [
                288.875,
                74.125
               ],
               [
                290.875,
                74.125
               ],
               [
                290.875,
                72.125
               ],
               [
                288.875,
                72.125
               ]
              ]
             ],
             "type": "Polygon"
            },
            "id": "98",
            "properties": {},
            "type": "Feature"
           },
           {
            "bbox": [
             290.875,
             72.125,
             292.875,
             74.125
            ],
            "geometry": {
             "coordinates": [
              [
               [
                290.875,
                72.125
               ],
               [
                290.875,
                74.125
               ],
               [
                292.875,
                74.125
               ],
               [
                292.875,
                72.125
               ],
               [
                290.875,
                72.125
               ]
              ]
             ],
             "type": "Polygon"
            },
            "id": "99",
            "properties": {},
            "type": "Feature"
           },
           {
            "bbox": [
             292.875,
             72.125,
             294.875,
             74.125
            ],
            "geometry": {
             "coordinates": [
              [
               [
                292.875,
                72.125
               ],
               [
                292.875,
                74.125
               ],
               [
                294.875,
                74.125
               ],
               [
                294.875,
                72.125
               ],
               [
                292.875,
                72.125
               ]
              ]
             ],
             "type": "Polygon"
            },
            "id": "100",
            "properties": {},
            "type": "Feature"
           },
           {
            "bbox": [
             294.875,
             72.125,
             296.875,
             74.125
            ],
            "geometry": {
             "coordinates": [
              [
               [
                294.875,
                72.125
               ],
               [
                294.875,
                74.125
               ],
               [
                296.875,
                74.125
               ],
               [
                296.875,
                72.125
               ],
               [
                294.875,
                72.125
               ]
              ]
             ],
             "type": "Polygon"
            },
            "id": "101",
            "properties": {},
            "type": "Feature"
           },
           {
            "bbox": [
             296.875,
             72.125,
             298.875,
             74.125
            ],
            "geometry": {
             "coordinates": [
              [
               [
                296.875,
                72.125
               ],
               [
                296.875,
                74.125
               ],
               [
                298.875,
                74.125
               ],
               [
                298.875,
                72.125
               ],
               [
                296.875,
                72.125
               ]
              ]
             ],
             "type": "Polygon"
            },
            "id": "102",
            "properties": {},
            "type": "Feature"
           },
           {
            "bbox": [
             298.875,
             72.125,
             300.875,
             74.125
            ],
            "geometry": {
             "coordinates": [
              [
               [
                298.875,
                72.125
               ],
               [
                298.875,
                74.125
               ],
               [
                300.875,
                74.125
               ],
               [
                300.875,
                72.125
               ],
               [
                298.875,
                72.125
               ]
              ]
             ],
             "type": "Polygon"
            },
            "id": "103",
            "properties": {},
            "type": "Feature"
           },
           {
            "bbox": [
             300.875,
             72.125,
             302.875,
             74.125
            ],
            "geometry": {
             "coordinates": [
              [
               [
                300.875,
                72.125
               ],
               [
                300.875,
                74.125
               ],
               [
                302.875,
                74.125
               ],
               [
                302.875,
                72.125
               ],
               [
                300.875,
                72.125
               ]
              ]
             ],
             "type": "Polygon"
            },
            "id": "104",
            "properties": {},
            "type": "Feature"
           },
           {
            "bbox": [
             302.875,
             72.125,
             304.875,
             74.125
            ],
            "geometry": {
             "coordinates": [
              [
               [
                302.875,
                72.125
               ],
               [
                302.875,
                74.125
               ],
               [
                304.875,
                74.125
               ],
               [
                304.875,
                72.125
               ],
               [
                302.875,
                72.125
               ]
              ]
             ],
             "type": "Polygon"
            },
            "id": "105",
            "properties": {},
            "type": "Feature"
           },
           {
            "bbox": [
             304.875,
             72.125,
             306.875,
             74.125
            ],
            "geometry": {
             "coordinates": [
              [
               [
                304.875,
                72.125
               ],
               [
                304.875,
                74.125
               ],
               [
                306.875,
                74.125
               ],
               [
                306.875,
                72.125
               ],
               [
                304.875,
                72.125
               ]
              ]
             ],
             "type": "Polygon"
            },
            "id": "106",
            "properties": {},
            "type": "Feature"
           },
           {
            "bbox": [
             306.875,
             72.125,
             308.875,
             74.125
            ],
            "geometry": {
             "coordinates": [
              [
               [
                306.875,
                72.125
               ],
               [
                306.875,
                74.125
               ],
               [
                308.875,
                74.125
               ],
               [
                308.875,
                72.125
               ],
               [
                306.875,
                72.125
               ]
              ]
             ],
             "type": "Polygon"
            },
            "id": "107",
            "properties": {},
            "type": "Feature"
           },
           {
            "bbox": [
             308.875,
             72.125,
             310.875,
             74.125
            ],
            "geometry": {
             "coordinates": [
              [
               [
                308.875,
                72.125
               ],
               [
                308.875,
                74.125
               ],
               [
                310.875,
                74.125
               ],
               [
                310.875,
                72.125
               ],
               [
                308.875,
                72.125
               ]
              ]
             ],
             "type": "Polygon"
            },
            "id": "108",
            "properties": {},
            "type": "Feature"
           },
           {
            "bbox": [
             310.875,
             72.125,
             312.875,
             74.125
            ],
            "geometry": {
             "coordinates": [
              [
               [
                310.875,
                72.125
               ],
               [
                310.875,
                74.125
               ],
               [
                312.875,
                74.125
               ],
               [
                312.875,
                72.125
               ],
               [
                310.875,
                72.125
               ]
              ]
             ],
             "type": "Polygon"
            },
            "id": "109",
            "properties": {},
            "type": "Feature"
           },
           {
            "bbox": [
             312.875,
             72.125,
             314.875,
             74.125
            ],
            "geometry": {
             "coordinates": [
              [
               [
                312.875,
                72.125
               ],
               [
                312.875,
                74.125
               ],
               [
                314.875,
                74.125
               ],
               [
                314.875,
                72.125
               ],
               [
                312.875,
                72.125
               ]
              ]
             ],
             "type": "Polygon"
            },
            "id": "110",
            "properties": {},
            "type": "Feature"
           },
           {
            "bbox": [
             314.875,
             72.125,
             316.875,
             74.125
            ],
            "geometry": {
             "coordinates": [
              [
               [
                314.875,
                72.125
               ],
               [
                314.875,
                74.125
               ],
               [
                316.875,
                74.125
               ],
               [
                316.875,
                72.125
               ],
               [
                314.875,
                72.125
               ]
              ]
             ],
             "type": "Polygon"
            },
            "id": "111",
            "properties": {},
            "type": "Feature"
           },
           {
            "bbox": [
             316.875,
             72.125,
             318.875,
             74.125
            ],
            "geometry": {
             "coordinates": [
              [
               [
                316.875,
                72.125
               ],
               [
                316.875,
                74.125
               ],
               [
                318.875,
                74.125
               ],
               [
                318.875,
                72.125
               ],
               [
                316.875,
                72.125
               ]
              ]
             ],
             "type": "Polygon"
            },
            "id": "112",
            "properties": {},
            "type": "Feature"
           },
           {
            "bbox": [
             318.875,
             72.125,
             320.875,
             74.125
            ],
            "geometry": {
             "coordinates": [
              [
               [
                318.875,
                72.125
               ],
               [
                318.875,
                74.125
               ],
               [
                320.875,
                74.125
               ],
               [
                320.875,
                72.125
               ],
               [
                318.875,
                72.125
               ]
              ]
             ],
             "type": "Polygon"
            },
            "id": "113",
            "properties": {},
            "type": "Feature"
           },
           {
            "bbox": [
             320.875,
             72.125,
             322.875,
             74.125
            ],
            "geometry": {
             "coordinates": [
              [
               [
                320.875,
                72.125
               ],
               [
                320.875,
                74.125
               ],
               [
                322.875,
                74.125
               ],
               [
                322.875,
                72.125
               ],
               [
                320.875,
                72.125
               ]
              ]
             ],
             "type": "Polygon"
            },
            "id": "114",
            "properties": {},
            "type": "Feature"
           },
           {
            "bbox": [
             322.875,
             72.125,
             324.875,
             74.125
            ],
            "geometry": {
             "coordinates": [
              [
               [
                322.875,
                72.125
               ],
               [
                322.875,
                74.125
               ],
               [
                324.875,
                74.125
               ],
               [
                324.875,
                72.125
               ],
               [
                322.875,
                72.125
               ]
              ]
             ],
             "type": "Polygon"
            },
            "id": "115",
            "properties": {},
            "type": "Feature"
           },
           {
            "bbox": [
             324.875,
             72.125,
             326.875,
             74.125
            ],
            "geometry": {
             "coordinates": [
              [
               [
                324.875,
                72.125
               ],
               [
                324.875,
                74.125
               ],
               [
                326.875,
                74.125
               ],
               [
                326.875,
                72.125
               ],
               [
                324.875,
                72.125
               ]
              ]
             ],
             "type": "Polygon"
            },
            "id": "116",
            "properties": {},
            "type": "Feature"
           },
           {
            "bbox": [
             326.875,
             72.125,
             328.875,
             74.125
            ],
            "geometry": {
             "coordinates": [
              [
               [
                326.875,
                72.125
               ],
               [
                326.875,
                74.125
               ],
               [
                328.875,
                74.125
               ],
               [
                328.875,
                72.125
               ],
               [
                326.875,
                72.125
               ]
              ]
             ],
             "type": "Polygon"
            },
            "id": "117",
            "properties": {},
            "type": "Feature"
           },
           {
            "bbox": [
             328.875,
             72.125,
             330.875,
             74.125
            ],
            "geometry": {
             "coordinates": [
              [
               [
                328.875,
                72.125
               ],
               [
                328.875,
                74.125
               ],
               [
                330.875,
                74.125
               ],
               [
                330.875,
                72.125
               ],
               [
                328.875,
                72.125
               ]
              ]
             ],
             "type": "Polygon"
            },
            "id": "118",
            "properties": {},
            "type": "Feature"
           },
           {
            "bbox": [
             330.875,
             72.125,
             332.875,
             74.125
            ],
            "geometry": {
             "coordinates": [
              [
               [
                330.875,
                72.125
               ],
               [
                330.875,
                74.125
               ],
               [
                332.875,
                74.125
               ],
               [
                332.875,
                72.125
               ],
               [
                330.875,
                72.125
               ]
              ]
             ],
             "type": "Polygon"
            },
            "id": "119",
            "properties": {},
            "type": "Feature"
           },
           {
            "bbox": [
             332.875,
             72.125,
             334.875,
             74.125
            ],
            "geometry": {
             "coordinates": [
              [
               [
                332.875,
                72.125
               ],
               [
                332.875,
                74.125
               ],
               [
                334.875,
                74.125
               ],
               [
                334.875,
                72.125
               ],
               [
                332.875,
                72.125
               ]
              ]
             ],
             "type": "Polygon"
            },
            "id": "120",
            "properties": {},
            "type": "Feature"
           },
           {
            "bbox": [
             334.875,
             72.125,
             336.875,
             74.125
            ],
            "geometry": {
             "coordinates": [
              [
               [
                334.875,
                72.125
               ],
               [
                334.875,
                74.125
               ],
               [
                336.875,
                74.125
               ],
               [
                336.875,
                72.125
               ],
               [
                334.875,
                72.125
               ]
              ]
             ],
             "type": "Polygon"
            },
            "id": "121",
            "properties": {},
            "type": "Feature"
           },
           {
            "bbox": [
             336.875,
             72.125,
             338.875,
             74.125
            ],
            "geometry": {
             "coordinates": [
              [
               [
                336.875,
                72.125
               ],
               [
                336.875,
                74.125
               ],
               [
                338.875,
                74.125
               ],
               [
                338.875,
                72.125
               ],
               [
                336.875,
                72.125
               ]
              ]
             ],
             "type": "Polygon"
            },
            "id": "122",
            "properties": {},
            "type": "Feature"
           },
           {
            "bbox": [
             338.875,
             72.125,
             340.875,
             74.125
            ],
            "geometry": {
             "coordinates": [
              [
               [
                338.875,
                72.125
               ],
               [
                338.875,
                74.125
               ],
               [
                340.875,
                74.125
               ],
               [
                340.875,
                72.125
               ],
               [
                338.875,
                72.125
               ]
              ]
             ],
             "type": "Polygon"
            },
            "id": "123",
            "properties": {},
            "type": "Feature"
           },
           {
            "bbox": [
             340.875,
             72.125,
             342.875,
             74.125
            ],
            "geometry": {
             "coordinates": [
              [
               [
                340.875,
                72.125
               ],
               [
                340.875,
                74.125
               ],
               [
                342.875,
                74.125
               ],
               [
                342.875,
                72.125
               ],
               [
                340.875,
                72.125
               ]
              ]
             ],
             "type": "Polygon"
            },
            "id": "124",
            "properties": {},
            "type": "Feature"
           },
           {
            "bbox": [
             342.875,
             72.125,
             344.875,
             74.125
            ],
            "geometry": {
             "coordinates": [
              [
               [
                342.875,
                72.125
               ],
               [
                342.875,
                74.125
               ],
               [
                344.875,
                74.125
               ],
               [
                344.875,
                72.125
               ],
               [
                342.875,
                72.125
               ]
              ]
             ],
             "type": "Polygon"
            },
            "id": "125",
            "properties": {},
            "type": "Feature"
           },
           {
            "bbox": [
             344.875,
             72.125,
             346.875,
             74.125
            ],
            "geometry": {
             "coordinates": [
              [
               [
                344.875,
                72.125
               ],
               [
                344.875,
                74.125
               ],
               [
                346.875,
                74.125
               ],
               [
                346.875,
                72.125
               ],
               [
                344.875,
                72.125
               ]
              ]
             ],
             "type": "Polygon"
            },
            "id": "126",
            "properties": {},
            "type": "Feature"
           },
           {
            "bbox": [
             346.875,
             72.125,
             348.875,
             74.125
            ],
            "geometry": {
             "coordinates": [
              [
               [
                346.875,
                72.125
               ],
               [
                346.875,
                74.125
               ],
               [
                348.875,
                74.125
               ],
               [
                348.875,
                72.125
               ],
               [
                346.875,
                72.125
               ]
              ]
             ],
             "type": "Polygon"
            },
            "id": "127",
            "properties": {},
            "type": "Feature"
           },
           {
            "bbox": [
             284.875,
             70.125,
             286.875,
             72.125
            ],
            "geometry": {
             "coordinates": [
              [
               [
                284.875,
                70.125
               ],
               [
                284.875,
                72.125
               ],
               [
                286.875,
                72.125
               ],
               [
                286.875,
                70.125
               ],
               [
                284.875,
                70.125
               ]
              ]
             ],
             "type": "Polygon"
            },
            "id": "128",
            "properties": {},
            "type": "Feature"
           },
           {
            "bbox": [
             286.875,
             70.125,
             288.875,
             72.125
            ],
            "geometry": {
             "coordinates": [
              [
               [
                286.875,
                70.125
               ],
               [
                286.875,
                72.125
               ],
               [
                288.875,
                72.125
               ],
               [
                288.875,
                70.125
               ],
               [
                286.875,
                70.125
               ]
              ]
             ],
             "type": "Polygon"
            },
            "id": "129",
            "properties": {},
            "type": "Feature"
           },
           {
            "bbox": [
             288.875,
             70.125,
             290.875,
             72.125
            ],
            "geometry": {
             "coordinates": [
              [
               [
                288.875,
                70.125
               ],
               [
                288.875,
                72.125
               ],
               [
                290.875,
                72.125
               ],
               [
                290.875,
                70.125
               ],
               [
                288.875,
                70.125
               ]
              ]
             ],
             "type": "Polygon"
            },
            "id": "130",
            "properties": {},
            "type": "Feature"
           },
           {
            "bbox": [
             290.875,
             70.125,
             292.875,
             72.125
            ],
            "geometry": {
             "coordinates": [
              [
               [
                290.875,
                70.125
               ],
               [
                290.875,
                72.125
               ],
               [
                292.875,
                72.125
               ],
               [
                292.875,
                70.125
               ],
               [
                290.875,
                70.125
               ]
              ]
             ],
             "type": "Polygon"
            },
            "id": "131",
            "properties": {},
            "type": "Feature"
           },
           {
            "bbox": [
             292.875,
             70.125,
             294.875,
             72.125
            ],
            "geometry": {
             "coordinates": [
              [
               [
                292.875,
                70.125
               ],
               [
                292.875,
                72.125
               ],
               [
                294.875,
                72.125
               ],
               [
                294.875,
                70.125
               ],
               [
                292.875,
                70.125
               ]
              ]
             ],
             "type": "Polygon"
            },
            "id": "132",
            "properties": {},
            "type": "Feature"
           },
           {
            "bbox": [
             294.875,
             70.125,
             296.875,
             72.125
            ],
            "geometry": {
             "coordinates": [
              [
               [
                294.875,
                70.125
               ],
               [
                294.875,
                72.125
               ],
               [
                296.875,
                72.125
               ],
               [
                296.875,
                70.125
               ],
               [
                294.875,
                70.125
               ]
              ]
             ],
             "type": "Polygon"
            },
            "id": "133",
            "properties": {},
            "type": "Feature"
           },
           {
            "bbox": [
             296.875,
             70.125,
             298.875,
             72.125
            ],
            "geometry": {
             "coordinates": [
              [
               [
                296.875,
                70.125
               ],
               [
                296.875,
                72.125
               ],
               [
                298.875,
                72.125
               ],
               [
                298.875,
                70.125
               ],
               [
                296.875,
                70.125
               ]
              ]
             ],
             "type": "Polygon"
            },
            "id": "134",
            "properties": {},
            "type": "Feature"
           },
           {
            "bbox": [
             298.875,
             70.125,
             300.875,
             72.125
            ],
            "geometry": {
             "coordinates": [
              [
               [
                298.875,
                70.125
               ],
               [
                298.875,
                72.125
               ],
               [
                300.875,
                72.125
               ],
               [
                300.875,
                70.125
               ],
               [
                298.875,
                70.125
               ]
              ]
             ],
             "type": "Polygon"
            },
            "id": "135",
            "properties": {},
            "type": "Feature"
           },
           {
            "bbox": [
             300.875,
             70.125,
             302.875,
             72.125
            ],
            "geometry": {
             "coordinates": [
              [
               [
                300.875,
                70.125
               ],
               [
                300.875,
                72.125
               ],
               [
                302.875,
                72.125
               ],
               [
                302.875,
                70.125
               ],
               [
                300.875,
                70.125
               ]
              ]
             ],
             "type": "Polygon"
            },
            "id": "136",
            "properties": {},
            "type": "Feature"
           },
           {
            "bbox": [
             302.875,
             70.125,
             304.875,
             72.125
            ],
            "geometry": {
             "coordinates": [
              [
               [
                302.875,
                70.125
               ],
               [
                302.875,
                72.125
               ],
               [
                304.875,
                72.125
               ],
               [
                304.875,
                70.125
               ],
               [
                302.875,
                70.125
               ]
              ]
             ],
             "type": "Polygon"
            },
            "id": "137",
            "properties": {},
            "type": "Feature"
           },
           {
            "bbox": [
             304.875,
             70.125,
             306.875,
             72.125
            ],
            "geometry": {
             "coordinates": [
              [
               [
                304.875,
                70.125
               ],
               [
                304.875,
                72.125
               ],
               [
                306.875,
                72.125
               ],
               [
                306.875,
                70.125
               ],
               [
                304.875,
                70.125
               ]
              ]
             ],
             "type": "Polygon"
            },
            "id": "138",
            "properties": {},
            "type": "Feature"
           },
           {
            "bbox": [
             306.875,
             70.125,
             308.875,
             72.125
            ],
            "geometry": {
             "coordinates": [
              [
               [
                306.875,
                70.125
               ],
               [
                306.875,
                72.125
               ],
               [
                308.875,
                72.125
               ],
               [
                308.875,
                70.125
               ],
               [
                306.875,
                70.125
               ]
              ]
             ],
             "type": "Polygon"
            },
            "id": "139",
            "properties": {},
            "type": "Feature"
           },
           {
            "bbox": [
             308.875,
             70.125,
             310.875,
             72.125
            ],
            "geometry": {
             "coordinates": [
              [
               [
                308.875,
                70.125
               ],
               [
                308.875,
                72.125
               ],
               [
                310.875,
                72.125
               ],
               [
                310.875,
                70.125
               ],
               [
                308.875,
                70.125
               ]
              ]
             ],
             "type": "Polygon"
            },
            "id": "140",
            "properties": {},
            "type": "Feature"
           },
           {
            "bbox": [
             310.875,
             70.125,
             312.875,
             72.125
            ],
            "geometry": {
             "coordinates": [
              [
               [
                310.875,
                70.125
               ],
               [
                310.875,
                72.125
               ],
               [
                312.875,
                72.125
               ],
               [
                312.875,
                70.125
               ],
               [
                310.875,
                70.125
               ]
              ]
             ],
             "type": "Polygon"
            },
            "id": "141",
            "properties": {},
            "type": "Feature"
           },
           {
            "bbox": [
             312.875,
             70.125,
             314.875,
             72.125
            ],
            "geometry": {
             "coordinates": [
              [
               [
                312.875,
                70.125
               ],
               [
                312.875,
                72.125
               ],
               [
                314.875,
                72.125
               ],
               [
                314.875,
                70.125
               ],
               [
                312.875,
                70.125
               ]
              ]
             ],
             "type": "Polygon"
            },
            "id": "142",
            "properties": {},
            "type": "Feature"
           },
           {
            "bbox": [
             314.875,
             70.125,
             316.875,
             72.125
            ],
            "geometry": {
             "coordinates": [
              [
               [
                314.875,
                70.125
               ],
               [
                314.875,
                72.125
               ],
               [
                316.875,
                72.125
               ],
               [
                316.875,
                70.125
               ],
               [
                314.875,
                70.125
               ]
              ]
             ],
             "type": "Polygon"
            },
            "id": "143",
            "properties": {},
            "type": "Feature"
           },
           {
            "bbox": [
             316.875,
             70.125,
             318.875,
             72.125
            ],
            "geometry": {
             "coordinates": [
              [
               [
                316.875,
                70.125
               ],
               [
                316.875,
                72.125
               ],
               [
                318.875,
                72.125
               ],
               [
                318.875,
                70.125
               ],
               [
                316.875,
                70.125
               ]
              ]
             ],
             "type": "Polygon"
            },
            "id": "144",
            "properties": {},
            "type": "Feature"
           },
           {
            "bbox": [
             318.875,
             70.125,
             320.875,
             72.125
            ],
            "geometry": {
             "coordinates": [
              [
               [
                318.875,
                70.125
               ],
               [
                318.875,
                72.125
               ],
               [
                320.875,
                72.125
               ],
               [
                320.875,
                70.125
               ],
               [
                318.875,
                70.125
               ]
              ]
             ],
             "type": "Polygon"
            },
            "id": "145",
            "properties": {},
            "type": "Feature"
           },
           {
            "bbox": [
             320.875,
             70.125,
             322.875,
             72.125
            ],
            "geometry": {
             "coordinates": [
              [
               [
                320.875,
                70.125
               ],
               [
                320.875,
                72.125
               ],
               [
                322.875,
                72.125
               ],
               [
                322.875,
                70.125
               ],
               [
                320.875,
                70.125
               ]
              ]
             ],
             "type": "Polygon"
            },
            "id": "146",
            "properties": {},
            "type": "Feature"
           },
           {
            "bbox": [
             322.875,
             70.125,
             324.875,
             72.125
            ],
            "geometry": {
             "coordinates": [
              [
               [
                322.875,
                70.125
               ],
               [
                322.875,
                72.125
               ],
               [
                324.875,
                72.125
               ],
               [
                324.875,
                70.125
               ],
               [
                322.875,
                70.125
               ]
              ]
             ],
             "type": "Polygon"
            },
            "id": "147",
            "properties": {},
            "type": "Feature"
           },
           {
            "bbox": [
             324.875,
             70.125,
             326.875,
             72.125
            ],
            "geometry": {
             "coordinates": [
              [
               [
                324.875,
                70.125
               ],
               [
                324.875,
                72.125
               ],
               [
                326.875,
                72.125
               ],
               [
                326.875,
                70.125
               ],
               [
                324.875,
                70.125
               ]
              ]
             ],
             "type": "Polygon"
            },
            "id": "148",
            "properties": {},
            "type": "Feature"
           },
           {
            "bbox": [
             326.875,
             70.125,
             328.875,
             72.125
            ],
            "geometry": {
             "coordinates": [
              [
               [
                326.875,
                70.125
               ],
               [
                326.875,
                72.125
               ],
               [
                328.875,
                72.125
               ],
               [
                328.875,
                70.125
               ],
               [
                326.875,
                70.125
               ]
              ]
             ],
             "type": "Polygon"
            },
            "id": "149",
            "properties": {},
            "type": "Feature"
           },
           {
            "bbox": [
             328.875,
             70.125,
             330.875,
             72.125
            ],
            "geometry": {
             "coordinates": [
              [
               [
                328.875,
                70.125
               ],
               [
                328.875,
                72.125
               ],
               [
                330.875,
                72.125
               ],
               [
                330.875,
                70.125
               ],
               [
                328.875,
                70.125
               ]
              ]
             ],
             "type": "Polygon"
            },
            "id": "150",
            "properties": {},
            "type": "Feature"
           },
           {
            "bbox": [
             330.875,
             70.125,
             332.875,
             72.125
            ],
            "geometry": {
             "coordinates": [
              [
               [
                330.875,
                70.125
               ],
               [
                330.875,
                72.125
               ],
               [
                332.875,
                72.125
               ],
               [
                332.875,
                70.125
               ],
               [
                330.875,
                70.125
               ]
              ]
             ],
             "type": "Polygon"
            },
            "id": "151",
            "properties": {},
            "type": "Feature"
           },
           {
            "bbox": [
             332.875,
             70.125,
             334.875,
             72.125
            ],
            "geometry": {
             "coordinates": [
              [
               [
                332.875,
                70.125
               ],
               [
                332.875,
                72.125
               ],
               [
                334.875,
                72.125
               ],
               [
                334.875,
                70.125
               ],
               [
                332.875,
                70.125
               ]
              ]
             ],
             "type": "Polygon"
            },
            "id": "152",
            "properties": {},
            "type": "Feature"
           },
           {
            "bbox": [
             334.875,
             70.125,
             336.875,
             72.125
            ],
            "geometry": {
             "coordinates": [
              [
               [
                334.875,
                70.125
               ],
               [
                334.875,
                72.125
               ],
               [
                336.875,
                72.125
               ],
               [
                336.875,
                70.125
               ],
               [
                334.875,
                70.125
               ]
              ]
             ],
             "type": "Polygon"
            },
            "id": "153",
            "properties": {},
            "type": "Feature"
           },
           {
            "bbox": [
             336.875,
             70.125,
             338.875,
             72.125
            ],
            "geometry": {
             "coordinates": [
              [
               [
                336.875,
                70.125
               ],
               [
                336.875,
                72.125
               ],
               [
                338.875,
                72.125
               ],
               [
                338.875,
                70.125
               ],
               [
                336.875,
                70.125
               ]
              ]
             ],
             "type": "Polygon"
            },
            "id": "154",
            "properties": {},
            "type": "Feature"
           },
           {
            "bbox": [
             338.875,
             70.125,
             340.875,
             72.125
            ],
            "geometry": {
             "coordinates": [
              [
               [
                338.875,
                70.125
               ],
               [
                338.875,
                72.125
               ],
               [
                340.875,
                72.125
               ],
               [
                340.875,
                70.125
               ],
               [
                338.875,
                70.125
               ]
              ]
             ],
             "type": "Polygon"
            },
            "id": "155",
            "properties": {},
            "type": "Feature"
           },
           {
            "bbox": [
             340.875,
             70.125,
             342.875,
             72.125
            ],
            "geometry": {
             "coordinates": [
              [
               [
                340.875,
                70.125
               ],
               [
                340.875,
                72.125
               ],
               [
                342.875,
                72.125
               ],
               [
                342.875,
                70.125
               ],
               [
                340.875,
                70.125
               ]
              ]
             ],
             "type": "Polygon"
            },
            "id": "156",
            "properties": {},
            "type": "Feature"
           },
           {
            "bbox": [
             342.875,
             70.125,
             344.875,
             72.125
            ],
            "geometry": {
             "coordinates": [
              [
               [
                342.875,
                70.125
               ],
               [
                342.875,
                72.125
               ],
               [
                344.875,
                72.125
               ],
               [
                344.875,
                70.125
               ],
               [
                342.875,
                70.125
               ]
              ]
             ],
             "type": "Polygon"
            },
            "id": "157",
            "properties": {},
            "type": "Feature"
           },
           {
            "bbox": [
             344.875,
             70.125,
             346.875,
             72.125
            ],
            "geometry": {
             "coordinates": [
              [
               [
                344.875,
                70.125
               ],
               [
                344.875,
                72.125
               ],
               [
                346.875,
                72.125
               ],
               [
                346.875,
                70.125
               ],
               [
                344.875,
                70.125
               ]
              ]
             ],
             "type": "Polygon"
            },
            "id": "158",
            "properties": {},
            "type": "Feature"
           },
           {
            "bbox": [
             346.875,
             70.125,
             348.875,
             72.125
            ],
            "geometry": {
             "coordinates": [
              [
               [
                346.875,
                70.125
               ],
               [
                346.875,
                72.125
               ],
               [
                348.875,
                72.125
               ],
               [
                348.875,
                70.125
               ],
               [
                346.875,
                70.125
               ]
              ]
             ],
             "type": "Polygon"
            },
            "id": "159",
            "properties": {},
            "type": "Feature"
           },
           {
            "bbox": [
             284.875,
             68.125,
             286.875,
             70.125
            ],
            "geometry": {
             "coordinates": [
              [
               [
                284.875,
                68.125
               ],
               [
                284.875,
                70.125
               ],
               [
                286.875,
                70.125
               ],
               [
                286.875,
                68.125
               ],
               [
                284.875,
                68.125
               ]
              ]
             ],
             "type": "Polygon"
            },
            "id": "160",
            "properties": {},
            "type": "Feature"
           },
           {
            "bbox": [
             286.875,
             68.125,
             288.875,
             70.125
            ],
            "geometry": {
             "coordinates": [
              [
               [
                286.875,
                68.125
               ],
               [
                286.875,
                70.125
               ],
               [
                288.875,
                70.125
               ],
               [
                288.875,
                68.125
               ],
               [
                286.875,
                68.125
               ]
              ]
             ],
             "type": "Polygon"
            },
            "id": "161",
            "properties": {},
            "type": "Feature"
           },
           {
            "bbox": [
             288.875,
             68.125,
             290.875,
             70.125
            ],
            "geometry": {
             "coordinates": [
              [
               [
                288.875,
                68.125
               ],
               [
                288.875,
                70.125
               ],
               [
                290.875,
                70.125
               ],
               [
                290.875,
                68.125
               ],
               [
                288.875,
                68.125
               ]
              ]
             ],
             "type": "Polygon"
            },
            "id": "162",
            "properties": {},
            "type": "Feature"
           },
           {
            "bbox": [
             290.875,
             68.125,
             292.875,
             70.125
            ],
            "geometry": {
             "coordinates": [
              [
               [
                290.875,
                68.125
               ],
               [
                290.875,
                70.125
               ],
               [
                292.875,
                70.125
               ],
               [
                292.875,
                68.125
               ],
               [
                290.875,
                68.125
               ]
              ]
             ],
             "type": "Polygon"
            },
            "id": "163",
            "properties": {},
            "type": "Feature"
           },
           {
            "bbox": [
             292.875,
             68.125,
             294.875,
             70.125
            ],
            "geometry": {
             "coordinates": [
              [
               [
                292.875,
                68.125
               ],
               [
                292.875,
                70.125
               ],
               [
                294.875,
                70.125
               ],
               [
                294.875,
                68.125
               ],
               [
                292.875,
                68.125
               ]
              ]
             ],
             "type": "Polygon"
            },
            "id": "164",
            "properties": {},
            "type": "Feature"
           },
           {
            "bbox": [
             294.875,
             68.125,
             296.875,
             70.125
            ],
            "geometry": {
             "coordinates": [
              [
               [
                294.875,
                68.125
               ],
               [
                294.875,
                70.125
               ],
               [
                296.875,
                70.125
               ],
               [
                296.875,
                68.125
               ],
               [
                294.875,
                68.125
               ]
              ]
             ],
             "type": "Polygon"
            },
            "id": "165",
            "properties": {},
            "type": "Feature"
           },
           {
            "bbox": [
             296.875,
             68.125,
             298.875,
             70.125
            ],
            "geometry": {
             "coordinates": [
              [
               [
                296.875,
                68.125
               ],
               [
                296.875,
                70.125
               ],
               [
                298.875,
                70.125
               ],
               [
                298.875,
                68.125
               ],
               [
                296.875,
                68.125
               ]
              ]
             ],
             "type": "Polygon"
            },
            "id": "166",
            "properties": {},
            "type": "Feature"
           },
           {
            "bbox": [
             298.875,
             68.125,
             300.875,
             70.125
            ],
            "geometry": {
             "coordinates": [
              [
               [
                298.875,
                68.125
               ],
               [
                298.875,
                70.125
               ],
               [
                300.875,
                70.125
               ],
               [
                300.875,
                68.125
               ],
               [
                298.875,
                68.125
               ]
              ]
             ],
             "type": "Polygon"
            },
            "id": "167",
            "properties": {},
            "type": "Feature"
           },
           {
            "bbox": [
             300.875,
             68.125,
             302.875,
             70.125
            ],
            "geometry": {
             "coordinates": [
              [
               [
                300.875,
                68.125
               ],
               [
                300.875,
                70.125
               ],
               [
                302.875,
                70.125
               ],
               [
                302.875,
                68.125
               ],
               [
                300.875,
                68.125
               ]
              ]
             ],
             "type": "Polygon"
            },
            "id": "168",
            "properties": {},
            "type": "Feature"
           },
           {
            "bbox": [
             302.875,
             68.125,
             304.875,
             70.125
            ],
            "geometry": {
             "coordinates": [
              [
               [
                302.875,
                68.125
               ],
               [
                302.875,
                70.125
               ],
               [
                304.875,
                70.125
               ],
               [
                304.875,
                68.125
               ],
               [
                302.875,
                68.125
               ]
              ]
             ],
             "type": "Polygon"
            },
            "id": "169",
            "properties": {},
            "type": "Feature"
           },
           {
            "bbox": [
             304.875,
             68.125,
             306.875,
             70.125
            ],
            "geometry": {
             "coordinates": [
              [
               [
                304.875,
                68.125
               ],
               [
                304.875,
                70.125
               ],
               [
                306.875,
                70.125
               ],
               [
                306.875,
                68.125
               ],
               [
                304.875,
                68.125
               ]
              ]
             ],
             "type": "Polygon"
            },
            "id": "170",
            "properties": {},
            "type": "Feature"
           },
           {
            "bbox": [
             306.875,
             68.125,
             308.875,
             70.125
            ],
            "geometry": {
             "coordinates": [
              [
               [
                306.875,
                68.125
               ],
               [
                306.875,
                70.125
               ],
               [
                308.875,
                70.125
               ],
               [
                308.875,
                68.125
               ],
               [
                306.875,
                68.125
               ]
              ]
             ],
             "type": "Polygon"
            },
            "id": "171",
            "properties": {},
            "type": "Feature"
           },
           {
            "bbox": [
             308.875,
             68.125,
             310.875,
             70.125
            ],
            "geometry": {
             "coordinates": [
              [
               [
                308.875,
                68.125
               ],
               [
                308.875,
                70.125
               ],
               [
                310.875,
                70.125
               ],
               [
                310.875,
                68.125
               ],
               [
                308.875,
                68.125
               ]
              ]
             ],
             "type": "Polygon"
            },
            "id": "172",
            "properties": {},
            "type": "Feature"
           },
           {
            "bbox": [
             310.875,
             68.125,
             312.875,
             70.125
            ],
            "geometry": {
             "coordinates": [
              [
               [
                310.875,
                68.125
               ],
               [
                310.875,
                70.125
               ],
               [
                312.875,
                70.125
               ],
               [
                312.875,
                68.125
               ],
               [
                310.875,
                68.125
               ]
              ]
             ],
             "type": "Polygon"
            },
            "id": "173",
            "properties": {},
            "type": "Feature"
           },
           {
            "bbox": [
             312.875,
             68.125,
             314.875,
             70.125
            ],
            "geometry": {
             "coordinates": [
              [
               [
                312.875,
                68.125
               ],
               [
                312.875,
                70.125
               ],
               [
                314.875,
                70.125
               ],
               [
                314.875,
                68.125
               ],
               [
                312.875,
                68.125
               ]
              ]
             ],
             "type": "Polygon"
            },
            "id": "174",
            "properties": {},
            "type": "Feature"
           },
           {
            "bbox": [
             314.875,
             68.125,
             316.875,
             70.125
            ],
            "geometry": {
             "coordinates": [
              [
               [
                314.875,
                68.125
               ],
               [
                314.875,
                70.125
               ],
               [
                316.875,
                70.125
               ],
               [
                316.875,
                68.125
               ],
               [
                314.875,
                68.125
               ]
              ]
             ],
             "type": "Polygon"
            },
            "id": "175",
            "properties": {},
            "type": "Feature"
           },
           {
            "bbox": [
             316.875,
             68.125,
             318.875,
             70.125
            ],
            "geometry": {
             "coordinates": [
              [
               [
                316.875,
                68.125
               ],
               [
                316.875,
                70.125
               ],
               [
                318.875,
                70.125
               ],
               [
                318.875,
                68.125
               ],
               [
                316.875,
                68.125
               ]
              ]
             ],
             "type": "Polygon"
            },
            "id": "176",
            "properties": {},
            "type": "Feature"
           },
           {
            "bbox": [
             318.875,
             68.125,
             320.875,
             70.125
            ],
            "geometry": {
             "coordinates": [
              [
               [
                318.875,
                68.125
               ],
               [
                318.875,
                70.125
               ],
               [
                320.875,
                70.125
               ],
               [
                320.875,
                68.125
               ],
               [
                318.875,
                68.125
               ]
              ]
             ],
             "type": "Polygon"
            },
            "id": "177",
            "properties": {},
            "type": "Feature"
           },
           {
            "bbox": [
             320.875,
             68.125,
             322.875,
             70.125
            ],
            "geometry": {
             "coordinates": [
              [
               [
                320.875,
                68.125
               ],
               [
                320.875,
                70.125
               ],
               [
                322.875,
                70.125
               ],
               [
                322.875,
                68.125
               ],
               [
                320.875,
                68.125
               ]
              ]
             ],
             "type": "Polygon"
            },
            "id": "178",
            "properties": {},
            "type": "Feature"
           },
           {
            "bbox": [
             322.875,
             68.125,
             324.875,
             70.125
            ],
            "geometry": {
             "coordinates": [
              [
               [
                322.875,
                68.125
               ],
               [
                322.875,
                70.125
               ],
               [
                324.875,
                70.125
               ],
               [
                324.875,
                68.125
               ],
               [
                322.875,
                68.125
               ]
              ]
             ],
             "type": "Polygon"
            },
            "id": "179",
            "properties": {},
            "type": "Feature"
           },
           {
            "bbox": [
             324.875,
             68.125,
             326.875,
             70.125
            ],
            "geometry": {
             "coordinates": [
              [
               [
                324.875,
                68.125
               ],
               [
                324.875,
                70.125
               ],
               [
                326.875,
                70.125
               ],
               [
                326.875,
                68.125
               ],
               [
                324.875,
                68.125
               ]
              ]
             ],
             "type": "Polygon"
            },
            "id": "180",
            "properties": {},
            "type": "Feature"
           },
           {
            "bbox": [
             326.875,
             68.125,
             328.875,
             70.125
            ],
            "geometry": {
             "coordinates": [
              [
               [
                326.875,
                68.125
               ],
               [
                326.875,
                70.125
               ],
               [
                328.875,
                70.125
               ],
               [
                328.875,
                68.125
               ],
               [
                326.875,
                68.125
               ]
              ]
             ],
             "type": "Polygon"
            },
            "id": "181",
            "properties": {},
            "type": "Feature"
           },
           {
            "bbox": [
             328.875,
             68.125,
             330.875,
             70.125
            ],
            "geometry": {
             "coordinates": [
              [
               [
                328.875,
                68.125
               ],
               [
                328.875,
                70.125
               ],
               [
                330.875,
                70.125
               ],
               [
                330.875,
                68.125
               ],
               [
                328.875,
                68.125
               ]
              ]
             ],
             "type": "Polygon"
            },
            "id": "182",
            "properties": {},
            "type": "Feature"
           },
           {
            "bbox": [
             330.875,
             68.125,
             332.875,
             70.125
            ],
            "geometry": {
             "coordinates": [
              [
               [
                330.875,
                68.125
               ],
               [
                330.875,
                70.125
               ],
               [
                332.875,
                70.125
               ],
               [
                332.875,
                68.125
               ],
               [
                330.875,
                68.125
               ]
              ]
             ],
             "type": "Polygon"
            },
            "id": "183",
            "properties": {},
            "type": "Feature"
           },
           {
            "bbox": [
             332.875,
             68.125,
             334.875,
             70.125
            ],
            "geometry": {
             "coordinates": [
              [
               [
                332.875,
                68.125
               ],
               [
                332.875,
                70.125
               ],
               [
                334.875,
                70.125
               ],
               [
                334.875,
                68.125
               ],
               [
                332.875,
                68.125
               ]
              ]
             ],
             "type": "Polygon"
            },
            "id": "184",
            "properties": {},
            "type": "Feature"
           },
           {
            "bbox": [
             334.875,
             68.125,
             336.875,
             70.125
            ],
            "geometry": {
             "coordinates": [
              [
               [
                334.875,
                68.125
               ],
               [
                334.875,
                70.125
               ],
               [
                336.875,
                70.125
               ],
               [
                336.875,
                68.125
               ],
               [
                334.875,
                68.125
               ]
              ]
             ],
             "type": "Polygon"
            },
            "id": "185",
            "properties": {},
            "type": "Feature"
           },
           {
            "bbox": [
             336.875,
             68.125,
             338.875,
             70.125
            ],
            "geometry": {
             "coordinates": [
              [
               [
                336.875,
                68.125
               ],
               [
                336.875,
                70.125
               ],
               [
                338.875,
                70.125
               ],
               [
                338.875,
                68.125
               ],
               [
                336.875,
                68.125
               ]
              ]
             ],
             "type": "Polygon"
            },
            "id": "186",
            "properties": {},
            "type": "Feature"
           },
           {
            "bbox": [
             338.875,
             68.125,
             340.875,
             70.125
            ],
            "geometry": {
             "coordinates": [
              [
               [
                338.875,
                68.125
               ],
               [
                338.875,
                70.125
               ],
               [
                340.875,
                70.125
               ],
               [
                340.875,
                68.125
               ],
               [
                338.875,
                68.125
               ]
              ]
             ],
             "type": "Polygon"
            },
            "id": "187",
            "properties": {},
            "type": "Feature"
           },
           {
            "bbox": [
             340.875,
             68.125,
             342.875,
             70.125
            ],
            "geometry": {
             "coordinates": [
              [
               [
                340.875,
                68.125
               ],
               [
                340.875,
                70.125
               ],
               [
                342.875,
                70.125
               ],
               [
                342.875,
                68.125
               ],
               [
                340.875,
                68.125
               ]
              ]
             ],
             "type": "Polygon"
            },
            "id": "188",
            "properties": {},
            "type": "Feature"
           },
           {
            "bbox": [
             342.875,
             68.125,
             344.875,
             70.125
            ],
            "geometry": {
             "coordinates": [
              [
               [
                342.875,
                68.125
               ],
               [
                342.875,
                70.125
               ],
               [
                344.875,
                70.125
               ],
               [
                344.875,
                68.125
               ],
               [
                342.875,
                68.125
               ]
              ]
             ],
             "type": "Polygon"
            },
            "id": "189",
            "properties": {},
            "type": "Feature"
           },
           {
            "bbox": [
             344.875,
             68.125,
             346.875,
             70.125
            ],
            "geometry": {
             "coordinates": [
              [
               [
                344.875,
                68.125
               ],
               [
                344.875,
                70.125
               ],
               [
                346.875,
                70.125
               ],
               [
                346.875,
                68.125
               ],
               [
                344.875,
                68.125
               ]
              ]
             ],
             "type": "Polygon"
            },
            "id": "190",
            "properties": {},
            "type": "Feature"
           },
           {
            "bbox": [
             346.875,
             68.125,
             348.875,
             70.125
            ],
            "geometry": {
             "coordinates": [
              [
               [
                346.875,
                68.125
               ],
               [
                346.875,
                70.125
               ],
               [
                348.875,
                70.125
               ],
               [
                348.875,
                68.125
               ],
               [
                346.875,
                68.125
               ]
              ]
             ],
             "type": "Polygon"
            },
            "id": "191",
            "properties": {},
            "type": "Feature"
           },
           {
            "bbox": [
             284.875,
             66.125,
             286.875,
             68.125
            ],
            "geometry": {
             "coordinates": [
              [
               [
                284.875,
                66.125
               ],
               [
                284.875,
                68.125
               ],
               [
                286.875,
                68.125
               ],
               [
                286.875,
                66.125
               ],
               [
                284.875,
                66.125
               ]
              ]
             ],
             "type": "Polygon"
            },
            "id": "192",
            "properties": {},
            "type": "Feature"
           },
           {
            "bbox": [
             286.875,
             66.125,
             288.875,
             68.125
            ],
            "geometry": {
             "coordinates": [
              [
               [
                286.875,
                66.125
               ],
               [
                286.875,
                68.125
               ],
               [
                288.875,
                68.125
               ],
               [
                288.875,
                66.125
               ],
               [
                286.875,
                66.125
               ]
              ]
             ],
             "type": "Polygon"
            },
            "id": "193",
            "properties": {},
            "type": "Feature"
           },
           {
            "bbox": [
             288.875,
             66.125,
             290.875,
             68.125
            ],
            "geometry": {
             "coordinates": [
              [
               [
                288.875,
                66.125
               ],
               [
                288.875,
                68.125
               ],
               [
                290.875,
                68.125
               ],
               [
                290.875,
                66.125
               ],
               [
                288.875,
                66.125
               ]
              ]
             ],
             "type": "Polygon"
            },
            "id": "194",
            "properties": {},
            "type": "Feature"
           },
           {
            "bbox": [
             290.875,
             66.125,
             292.875,
             68.125
            ],
            "geometry": {
             "coordinates": [
              [
               [
                290.875,
                66.125
               ],
               [
                290.875,
                68.125
               ],
               [
                292.875,
                68.125
               ],
               [
                292.875,
                66.125
               ],
               [
                290.875,
                66.125
               ]
              ]
             ],
             "type": "Polygon"
            },
            "id": "195",
            "properties": {},
            "type": "Feature"
           },
           {
            "bbox": [
             292.875,
             66.125,
             294.875,
             68.125
            ],
            "geometry": {
             "coordinates": [
              [
               [
                292.875,
                66.125
               ],
               [
                292.875,
                68.125
               ],
               [
                294.875,
                68.125
               ],
               [
                294.875,
                66.125
               ],
               [
                292.875,
                66.125
               ]
              ]
             ],
             "type": "Polygon"
            },
            "id": "196",
            "properties": {},
            "type": "Feature"
           },
           {
            "bbox": [
             294.875,
             66.125,
             296.875,
             68.125
            ],
            "geometry": {
             "coordinates": [
              [
               [
                294.875,
                66.125
               ],
               [
                294.875,
                68.125
               ],
               [
                296.875,
                68.125
               ],
               [
                296.875,
                66.125
               ],
               [
                294.875,
                66.125
               ]
              ]
             ],
             "type": "Polygon"
            },
            "id": "197",
            "properties": {},
            "type": "Feature"
           },
           {
            "bbox": [
             296.875,
             66.125,
             298.875,
             68.125
            ],
            "geometry": {
             "coordinates": [
              [
               [
                296.875,
                66.125
               ],
               [
                296.875,
                68.125
               ],
               [
                298.875,
                68.125
               ],
               [
                298.875,
                66.125
               ],
               [
                296.875,
                66.125
               ]
              ]
             ],
             "type": "Polygon"
            },
            "id": "198",
            "properties": {},
            "type": "Feature"
           },
           {
            "bbox": [
             298.875,
             66.125,
             300.875,
             68.125
            ],
            "geometry": {
             "coordinates": [
              [
               [
                298.875,
                66.125
               ],
               [
                298.875,
                68.125
               ],
               [
                300.875,
                68.125
               ],
               [
                300.875,
                66.125
               ],
               [
                298.875,
                66.125
               ]
              ]
             ],
             "type": "Polygon"
            },
            "id": "199",
            "properties": {},
            "type": "Feature"
           },
           {
            "bbox": [
             300.875,
             66.125,
             302.875,
             68.125
            ],
            "geometry": {
             "coordinates": [
              [
               [
                300.875,
                66.125
               ],
               [
                300.875,
                68.125
               ],
               [
                302.875,
                68.125
               ],
               [
                302.875,
                66.125
               ],
               [
                300.875,
                66.125
               ]
              ]
             ],
             "type": "Polygon"
            },
            "id": "200",
            "properties": {},
            "type": "Feature"
           },
           {
            "bbox": [
             302.875,
             66.125,
             304.875,
             68.125
            ],
            "geometry": {
             "coordinates": [
              [
               [
                302.875,
                66.125
               ],
               [
                302.875,
                68.125
               ],
               [
                304.875,
                68.125
               ],
               [
                304.875,
                66.125
               ],
               [
                302.875,
                66.125
               ]
              ]
             ],
             "type": "Polygon"
            },
            "id": "201",
            "properties": {},
            "type": "Feature"
           },
           {
            "bbox": [
             304.875,
             66.125,
             306.875,
             68.125
            ],
            "geometry": {
             "coordinates": [
              [
               [
                304.875,
                66.125
               ],
               [
                304.875,
                68.125
               ],
               [
                306.875,
                68.125
               ],
               [
                306.875,
                66.125
               ],
               [
                304.875,
                66.125
               ]
              ]
             ],
             "type": "Polygon"
            },
            "id": "202",
            "properties": {},
            "type": "Feature"
           },
           {
            "bbox": [
             306.875,
             66.125,
             308.875,
             68.125
            ],
            "geometry": {
             "coordinates": [
              [
               [
                306.875,
                66.125
               ],
               [
                306.875,
                68.125
               ],
               [
                308.875,
                68.125
               ],
               [
                308.875,
                66.125
               ],
               [
                306.875,
                66.125
               ]
              ]
             ],
             "type": "Polygon"
            },
            "id": "203",
            "properties": {},
            "type": "Feature"
           },
           {
            "bbox": [
             308.875,
             66.125,
             310.875,
             68.125
            ],
            "geometry": {
             "coordinates": [
              [
               [
                308.875,
                66.125
               ],
               [
                308.875,
                68.125
               ],
               [
                310.875,
                68.125
               ],
               [
                310.875,
                66.125
               ],
               [
                308.875,
                66.125
               ]
              ]
             ],
             "type": "Polygon"
            },
            "id": "204",
            "properties": {},
            "type": "Feature"
           },
           {
            "bbox": [
             310.875,
             66.125,
             312.875,
             68.125
            ],
            "geometry": {
             "coordinates": [
              [
               [
                310.875,
                66.125
               ],
               [
                310.875,
                68.125
               ],
               [
                312.875,
                68.125
               ],
               [
                312.875,
                66.125
               ],
               [
                310.875,
                66.125
               ]
              ]
             ],
             "type": "Polygon"
            },
            "id": "205",
            "properties": {},
            "type": "Feature"
           },
           {
            "bbox": [
             312.875,
             66.125,
             314.875,
             68.125
            ],
            "geometry": {
             "coordinates": [
              [
               [
                312.875,
                66.125
               ],
               [
                312.875,
                68.125
               ],
               [
                314.875,
                68.125
               ],
               [
                314.875,
                66.125
               ],
               [
                312.875,
                66.125
               ]
              ]
             ],
             "type": "Polygon"
            },
            "id": "206",
            "properties": {},
            "type": "Feature"
           },
           {
            "bbox": [
             314.875,
             66.125,
             316.875,
             68.125
            ],
            "geometry": {
             "coordinates": [
              [
               [
                314.875,
                66.125
               ],
               [
                314.875,
                68.125
               ],
               [
                316.875,
                68.125
               ],
               [
                316.875,
                66.125
               ],
               [
                314.875,
                66.125
               ]
              ]
             ],
             "type": "Polygon"
            },
            "id": "207",
            "properties": {},
            "type": "Feature"
           },
           {
            "bbox": [
             316.875,
             66.125,
             318.875,
             68.125
            ],
            "geometry": {
             "coordinates": [
              [
               [
                316.875,
                66.125
               ],
               [
                316.875,
                68.125
               ],
               [
                318.875,
                68.125
               ],
               [
                318.875,
                66.125
               ],
               [
                316.875,
                66.125
               ]
              ]
             ],
             "type": "Polygon"
            },
            "id": "208",
            "properties": {},
            "type": "Feature"
           },
           {
            "bbox": [
             318.875,
             66.125,
             320.875,
             68.125
            ],
            "geometry": {
             "coordinates": [
              [
               [
                318.875,
                66.125
               ],
               [
                318.875,
                68.125
               ],
               [
                320.875,
                68.125
               ],
               [
                320.875,
                66.125
               ],
               [
                318.875,
                66.125
               ]
              ]
             ],
             "type": "Polygon"
            },
            "id": "209",
            "properties": {},
            "type": "Feature"
           },
           {
            "bbox": [
             320.875,
             66.125,
             322.875,
             68.125
            ],
            "geometry": {
             "coordinates": [
              [
               [
                320.875,
                66.125
               ],
               [
                320.875,
                68.125
               ],
               [
                322.875,
                68.125
               ],
               [
                322.875,
                66.125
               ],
               [
                320.875,
                66.125
               ]
              ]
             ],
             "type": "Polygon"
            },
            "id": "210",
            "properties": {},
            "type": "Feature"
           },
           {
            "bbox": [
             322.875,
             66.125,
             324.875,
             68.125
            ],
            "geometry": {
             "coordinates": [
              [
               [
                322.875,
                66.125
               ],
               [
                322.875,
                68.125
               ],
               [
                324.875,
                68.125
               ],
               [
                324.875,
                66.125
               ],
               [
                322.875,
                66.125
               ]
              ]
             ],
             "type": "Polygon"
            },
            "id": "211",
            "properties": {},
            "type": "Feature"
           },
           {
            "bbox": [
             324.875,
             66.125,
             326.875,
             68.125
            ],
            "geometry": {
             "coordinates": [
              [
               [
                324.875,
                66.125
               ],
               [
                324.875,
                68.125
               ],
               [
                326.875,
                68.125
               ],
               [
                326.875,
                66.125
               ],
               [
                324.875,
                66.125
               ]
              ]
             ],
             "type": "Polygon"
            },
            "id": "212",
            "properties": {},
            "type": "Feature"
           },
           {
            "bbox": [
             326.875,
             66.125,
             328.875,
             68.125
            ],
            "geometry": {
             "coordinates": [
              [
               [
                326.875,
                66.125
               ],
               [
                326.875,
                68.125
               ],
               [
                328.875,
                68.125
               ],
               [
                328.875,
                66.125
               ],
               [
                326.875,
                66.125
               ]
              ]
             ],
             "type": "Polygon"
            },
            "id": "213",
            "properties": {},
            "type": "Feature"
           },
           {
            "bbox": [
             328.875,
             66.125,
             330.875,
             68.125
            ],
            "geometry": {
             "coordinates": [
              [
               [
                328.875,
                66.125
               ],
               [
                328.875,
                68.125
               ],
               [
                330.875,
                68.125
               ],
               [
                330.875,
                66.125
               ],
               [
                328.875,
                66.125
               ]
              ]
             ],
             "type": "Polygon"
            },
            "id": "214",
            "properties": {},
            "type": "Feature"
           },
           {
            "bbox": [
             330.875,
             66.125,
             332.875,
             68.125
            ],
            "geometry": {
             "coordinates": [
              [
               [
                330.875,
                66.125
               ],
               [
                330.875,
                68.125
               ],
               [
                332.875,
                68.125
               ],
               [
                332.875,
                66.125
               ],
               [
                330.875,
                66.125
               ]
              ]
             ],
             "type": "Polygon"
            },
            "id": "215",
            "properties": {},
            "type": "Feature"
           },
           {
            "bbox": [
             332.875,
             66.125,
             334.875,
             68.125
            ],
            "geometry": {
             "coordinates": [
              [
               [
                332.875,
                66.125
               ],
               [
                332.875,
                68.125
               ],
               [
                334.875,
                68.125
               ],
               [
                334.875,
                66.125
               ],
               [
                332.875,
                66.125
               ]
              ]
             ],
             "type": "Polygon"
            },
            "id": "216",
            "properties": {},
            "type": "Feature"
           },
           {
            "bbox": [
             334.875,
             66.125,
             336.875,
             68.125
            ],
            "geometry": {
             "coordinates": [
              [
               [
                334.875,
                66.125
               ],
               [
                334.875,
                68.125
               ],
               [
                336.875,
                68.125
               ],
               [
                336.875,
                66.125
               ],
               [
                334.875,
                66.125
               ]
              ]
             ],
             "type": "Polygon"
            },
            "id": "217",
            "properties": {},
            "type": "Feature"
           },
           {
            "bbox": [
             336.875,
             66.125,
             338.875,
             68.125
            ],
            "geometry": {
             "coordinates": [
              [
               [
                336.875,
                66.125
               ],
               [
                336.875,
                68.125
               ],
               [
                338.875,
                68.125
               ],
               [
                338.875,
                66.125
               ],
               [
                336.875,
                66.125
               ]
              ]
             ],
             "type": "Polygon"
            },
            "id": "218",
            "properties": {},
            "type": "Feature"
           },
           {
            "bbox": [
             338.875,
             66.125,
             340.875,
             68.125
            ],
            "geometry": {
             "coordinates": [
              [
               [
                338.875,
                66.125
               ],
               [
                338.875,
                68.125
               ],
               [
                340.875,
                68.125
               ],
               [
                340.875,
                66.125
               ],
               [
                338.875,
                66.125
               ]
              ]
             ],
             "type": "Polygon"
            },
            "id": "219",
            "properties": {},
            "type": "Feature"
           },
           {
            "bbox": [
             340.875,
             66.125,
             342.875,
             68.125
            ],
            "geometry": {
             "coordinates": [
              [
               [
                340.875,
                66.125
               ],
               [
                340.875,
                68.125
               ],
               [
                342.875,
                68.125
               ],
               [
                342.875,
                66.125
               ],
               [
                340.875,
                66.125
               ]
              ]
             ],
             "type": "Polygon"
            },
            "id": "220",
            "properties": {},
            "type": "Feature"
           },
           {
            "bbox": [
             342.875,
             66.125,
             344.875,
             68.125
            ],
            "geometry": {
             "coordinates": [
              [
               [
                342.875,
                66.125
               ],
               [
                342.875,
                68.125
               ],
               [
                344.875,
                68.125
               ],
               [
                344.875,
                66.125
               ],
               [
                342.875,
                66.125
               ]
              ]
             ],
             "type": "Polygon"
            },
            "id": "221",
            "properties": {},
            "type": "Feature"
           },
           {
            "bbox": [
             344.875,
             66.125,
             346.875,
             68.125
            ],
            "geometry": {
             "coordinates": [
              [
               [
                344.875,
                66.125
               ],
               [
                344.875,
                68.125
               ],
               [
                346.875,
                68.125
               ],
               [
                346.875,
                66.125
               ],
               [
                344.875,
                66.125
               ]
              ]
             ],
             "type": "Polygon"
            },
            "id": "222",
            "properties": {},
            "type": "Feature"
           },
           {
            "bbox": [
             346.875,
             66.125,
             348.875,
             68.125
            ],
            "geometry": {
             "coordinates": [
              [
               [
                346.875,
                66.125
               ],
               [
                346.875,
                68.125
               ],
               [
                348.875,
                68.125
               ],
               [
                348.875,
                66.125
               ],
               [
                346.875,
                66.125
               ]
              ]
             ],
             "type": "Polygon"
            },
            "id": "223",
            "properties": {},
            "type": "Feature"
           },
           {
            "bbox": [
             284.875,
             64.125,
             286.875,
             66.125
            ],
            "geometry": {
             "coordinates": [
              [
               [
                284.875,
                64.125
               ],
               [
                284.875,
                66.125
               ],
               [
                286.875,
                66.125
               ],
               [
                286.875,
                64.125
               ],
               [
                284.875,
                64.125
               ]
              ]
             ],
             "type": "Polygon"
            },
            "id": "224",
            "properties": {},
            "type": "Feature"
           },
           {
            "bbox": [
             286.875,
             64.125,
             288.875,
             66.125
            ],
            "geometry": {
             "coordinates": [
              [
               [
                286.875,
                64.125
               ],
               [
                286.875,
                66.125
               ],
               [
                288.875,
                66.125
               ],
               [
                288.875,
                64.125
               ],
               [
                286.875,
                64.125
               ]
              ]
             ],
             "type": "Polygon"
            },
            "id": "225",
            "properties": {},
            "type": "Feature"
           },
           {
            "bbox": [
             288.875,
             64.125,
             290.875,
             66.125
            ],
            "geometry": {
             "coordinates": [
              [
               [
                288.875,
                64.125
               ],
               [
                288.875,
                66.125
               ],
               [
                290.875,
                66.125
               ],
               [
                290.875,
                64.125
               ],
               [
                288.875,
                64.125
               ]
              ]
             ],
             "type": "Polygon"
            },
            "id": "226",
            "properties": {},
            "type": "Feature"
           },
           {
            "bbox": [
             290.875,
             64.125,
             292.875,
             66.125
            ],
            "geometry": {
             "coordinates": [
              [
               [
                290.875,
                64.125
               ],
               [
                290.875,
                66.125
               ],
               [
                292.875,
                66.125
               ],
               [
                292.875,
                64.125
               ],
               [
                290.875,
                64.125
               ]
              ]
             ],
             "type": "Polygon"
            },
            "id": "227",
            "properties": {},
            "type": "Feature"
           },
           {
            "bbox": [
             292.875,
             64.125,
             294.875,
             66.125
            ],
            "geometry": {
             "coordinates": [
              [
               [
                292.875,
                64.125
               ],
               [
                292.875,
                66.125
               ],
               [
                294.875,
                66.125
               ],
               [
                294.875,
                64.125
               ],
               [
                292.875,
                64.125
               ]
              ]
             ],
             "type": "Polygon"
            },
            "id": "228",
            "properties": {},
            "type": "Feature"
           },
           {
            "bbox": [
             294.875,
             64.125,
             296.875,
             66.125
            ],
            "geometry": {
             "coordinates": [
              [
               [
                294.875,
                64.125
               ],
               [
                294.875,
                66.125
               ],
               [
                296.875,
                66.125
               ],
               [
                296.875,
                64.125
               ],
               [
                294.875,
                64.125
               ]
              ]
             ],
             "type": "Polygon"
            },
            "id": "229",
            "properties": {},
            "type": "Feature"
           },
           {
            "bbox": [
             296.875,
             64.125,
             298.875,
             66.125
            ],
            "geometry": {
             "coordinates": [
              [
               [
                296.875,
                64.125
               ],
               [
                296.875,
                66.125
               ],
               [
                298.875,
                66.125
               ],
               [
                298.875,
                64.125
               ],
               [
                296.875,
                64.125
               ]
              ]
             ],
             "type": "Polygon"
            },
            "id": "230",
            "properties": {},
            "type": "Feature"
           },
           {
            "bbox": [
             298.875,
             64.125,
             300.875,
             66.125
            ],
            "geometry": {
             "coordinates": [
              [
               [
                298.875,
                64.125
               ],
               [
                298.875,
                66.125
               ],
               [
                300.875,
                66.125
               ],
               [
                300.875,
                64.125
               ],
               [
                298.875,
                64.125
               ]
              ]
             ],
             "type": "Polygon"
            },
            "id": "231",
            "properties": {},
            "type": "Feature"
           },
           {
            "bbox": [
             300.875,
             64.125,
             302.875,
             66.125
            ],
            "geometry": {
             "coordinates": [
              [
               [
                300.875,
                64.125
               ],
               [
                300.875,
                66.125
               ],
               [
                302.875,
                66.125
               ],
               [
                302.875,
                64.125
               ],
               [
                300.875,
                64.125
               ]
              ]
             ],
             "type": "Polygon"
            },
            "id": "232",
            "properties": {},
            "type": "Feature"
           },
           {
            "bbox": [
             302.875,
             64.125,
             304.875,
             66.125
            ],
            "geometry": {
             "coordinates": [
              [
               [
                302.875,
                64.125
               ],
               [
                302.875,
                66.125
               ],
               [
                304.875,
                66.125
               ],
               [
                304.875,
                64.125
               ],
               [
                302.875,
                64.125
               ]
              ]
             ],
             "type": "Polygon"
            },
            "id": "233",
            "properties": {},
            "type": "Feature"
           },
           {
            "bbox": [
             304.875,
             64.125,
             306.875,
             66.125
            ],
            "geometry": {
             "coordinates": [
              [
               [
                304.875,
                64.125
               ],
               [
                304.875,
                66.125
               ],
               [
                306.875,
                66.125
               ],
               [
                306.875,
                64.125
               ],
               [
                304.875,
                64.125
               ]
              ]
             ],
             "type": "Polygon"
            },
            "id": "234",
            "properties": {},
            "type": "Feature"
           },
           {
            "bbox": [
             306.875,
             64.125,
             308.875,
             66.125
            ],
            "geometry": {
             "coordinates": [
              [
               [
                306.875,
                64.125
               ],
               [
                306.875,
                66.125
               ],
               [
                308.875,
                66.125
               ],
               [
                308.875,
                64.125
               ],
               [
                306.875,
                64.125
               ]
              ]
             ],
             "type": "Polygon"
            },
            "id": "235",
            "properties": {},
            "type": "Feature"
           },
           {
            "bbox": [
             308.875,
             64.125,
             310.875,
             66.125
            ],
            "geometry": {
             "coordinates": [
              [
               [
                308.875,
                64.125
               ],
               [
                308.875,
                66.125
               ],
               [
                310.875,
                66.125
               ],
               [
                310.875,
                64.125
               ],
               [
                308.875,
                64.125
               ]
              ]
             ],
             "type": "Polygon"
            },
            "id": "236",
            "properties": {},
            "type": "Feature"
           },
           {
            "bbox": [
             310.875,
             64.125,
             312.875,
             66.125
            ],
            "geometry": {
             "coordinates": [
              [
               [
                310.875,
                64.125
               ],
               [
                310.875,
                66.125
               ],
               [
                312.875,
                66.125
               ],
               [
                312.875,
                64.125
               ],
               [
                310.875,
                64.125
               ]
              ]
             ],
             "type": "Polygon"
            },
            "id": "237",
            "properties": {},
            "type": "Feature"
           },
           {
            "bbox": [
             312.875,
             64.125,
             314.875,
             66.125
            ],
            "geometry": {
             "coordinates": [
              [
               [
                312.875,
                64.125
               ],
               [
                312.875,
                66.125
               ],
               [
                314.875,
                66.125
               ],
               [
                314.875,
                64.125
               ],
               [
                312.875,
                64.125
               ]
              ]
             ],
             "type": "Polygon"
            },
            "id": "238",
            "properties": {},
            "type": "Feature"
           },
           {
            "bbox": [
             314.875,
             64.125,
             316.875,
             66.125
            ],
            "geometry": {
             "coordinates": [
              [
               [
                314.875,
                64.125
               ],
               [
                314.875,
                66.125
               ],
               [
                316.875,
                66.125
               ],
               [
                316.875,
                64.125
               ],
               [
                314.875,
                64.125
               ]
              ]
             ],
             "type": "Polygon"
            },
            "id": "239",
            "properties": {},
            "type": "Feature"
           },
           {
            "bbox": [
             316.875,
             64.125,
             318.875,
             66.125
            ],
            "geometry": {
             "coordinates": [
              [
               [
                316.875,
                64.125
               ],
               [
                316.875,
                66.125
               ],
               [
                318.875,
                66.125
               ],
               [
                318.875,
                64.125
               ],
               [
                316.875,
                64.125
               ]
              ]
             ],
             "type": "Polygon"
            },
            "id": "240",
            "properties": {},
            "type": "Feature"
           },
           {
            "bbox": [
             318.875,
             64.125,
             320.875,
             66.125
            ],
            "geometry": {
             "coordinates": [
              [
               [
                318.875,
                64.125
               ],
               [
                318.875,
                66.125
               ],
               [
                320.875,
                66.125
               ],
               [
                320.875,
                64.125
               ],
               [
                318.875,
                64.125
               ]
              ]
             ],
             "type": "Polygon"
            },
            "id": "241",
            "properties": {},
            "type": "Feature"
           },
           {
            "bbox": [
             320.875,
             64.125,
             322.875,
             66.125
            ],
            "geometry": {
             "coordinates": [
              [
               [
                320.875,
                64.125
               ],
               [
                320.875,
                66.125
               ],
               [
                322.875,
                66.125
               ],
               [
                322.875,
                64.125
               ],
               [
                320.875,
                64.125
               ]
              ]
             ],
             "type": "Polygon"
            },
            "id": "242",
            "properties": {},
            "type": "Feature"
           },
           {
            "bbox": [
             322.875,
             64.125,
             324.875,
             66.125
            ],
            "geometry": {
             "coordinates": [
              [
               [
                322.875,
                64.125
               ],
               [
                322.875,
                66.125
               ],
               [
                324.875,
                66.125
               ],
               [
                324.875,
                64.125
               ],
               [
                322.875,
                64.125
               ]
              ]
             ],
             "type": "Polygon"
            },
            "id": "243",
            "properties": {},
            "type": "Feature"
           },
           {
            "bbox": [
             324.875,
             64.125,
             326.875,
             66.125
            ],
            "geometry": {
             "coordinates": [
              [
               [
                324.875,
                64.125
               ],
               [
                324.875,
                66.125
               ],
               [
                326.875,
                66.125
               ],
               [
                326.875,
                64.125
               ],
               [
                324.875,
                64.125
               ]
              ]
             ],
             "type": "Polygon"
            },
            "id": "244",
            "properties": {},
            "type": "Feature"
           },
           {
            "bbox": [
             326.875,
             64.125,
             328.875,
             66.125
            ],
            "geometry": {
             "coordinates": [
              [
               [
                326.875,
                64.125
               ],
               [
                326.875,
                66.125
               ],
               [
                328.875,
                66.125
               ],
               [
                328.875,
                64.125
               ],
               [
                326.875,
                64.125
               ]
              ]
             ],
             "type": "Polygon"
            },
            "id": "245",
            "properties": {},
            "type": "Feature"
           },
           {
            "bbox": [
             328.875,
             64.125,
             330.875,
             66.125
            ],
            "geometry": {
             "coordinates": [
              [
               [
                328.875,
                64.125
               ],
               [
                328.875,
                66.125
               ],
               [
                330.875,
                66.125
               ],
               [
                330.875,
                64.125
               ],
               [
                328.875,
                64.125
               ]
              ]
             ],
             "type": "Polygon"
            },
            "id": "246",
            "properties": {},
            "type": "Feature"
           },
           {
            "bbox": [
             330.875,
             64.125,
             332.875,
             66.125
            ],
            "geometry": {
             "coordinates": [
              [
               [
                330.875,
                64.125
               ],
               [
                330.875,
                66.125
               ],
               [
                332.875,
                66.125
               ],
               [
                332.875,
                64.125
               ],
               [
                330.875,
                64.125
               ]
              ]
             ],
             "type": "Polygon"
            },
            "id": "247",
            "properties": {},
            "type": "Feature"
           },
           {
            "bbox": [
             332.875,
             64.125,
             334.875,
             66.125
            ],
            "geometry": {
             "coordinates": [
              [
               [
                332.875,
                64.125
               ],
               [
                332.875,
                66.125
               ],
               [
                334.875,
                66.125
               ],
               [
                334.875,
                64.125
               ],
               [
                332.875,
                64.125
               ]
              ]
             ],
             "type": "Polygon"
            },
            "id": "248",
            "properties": {},
            "type": "Feature"
           },
           {
            "bbox": [
             334.875,
             64.125,
             336.875,
             66.125
            ],
            "geometry": {
             "coordinates": [
              [
               [
                334.875,
                64.125
               ],
               [
                334.875,
                66.125
               ],
               [
                336.875,
                66.125
               ],
               [
                336.875,
                64.125
               ],
               [
                334.875,
                64.125
               ]
              ]
             ],
             "type": "Polygon"
            },
            "id": "249",
            "properties": {},
            "type": "Feature"
           },
           {
            "bbox": [
             336.875,
             64.125,
             338.875,
             66.125
            ],
            "geometry": {
             "coordinates": [
              [
               [
                336.875,
                64.125
               ],
               [
                336.875,
                66.125
               ],
               [
                338.875,
                66.125
               ],
               [
                338.875,
                64.125
               ],
               [
                336.875,
                64.125
               ]
              ]
             ],
             "type": "Polygon"
            },
            "id": "250",
            "properties": {},
            "type": "Feature"
           },
           {
            "bbox": [
             338.875,
             64.125,
             340.875,
             66.125
            ],
            "geometry": {
             "coordinates": [
              [
               [
                338.875,
                64.125
               ],
               [
                338.875,
                66.125
               ],
               [
                340.875,
                66.125
               ],
               [
                340.875,
                64.125
               ],
               [
                338.875,
                64.125
               ]
              ]
             ],
             "type": "Polygon"
            },
            "id": "251",
            "properties": {},
            "type": "Feature"
           },
           {
            "bbox": [
             340.875,
             64.125,
             342.875,
             66.125
            ],
            "geometry": {
             "coordinates": [
              [
               [
                340.875,
                64.125
               ],
               [
                340.875,
                66.125
               ],
               [
                342.875,
                66.125
               ],
               [
                342.875,
                64.125
               ],
               [
                340.875,
                64.125
               ]
              ]
             ],
             "type": "Polygon"
            },
            "id": "252",
            "properties": {},
            "type": "Feature"
           },
           {
            "bbox": [
             342.875,
             64.125,
             344.875,
             66.125
            ],
            "geometry": {
             "coordinates": [
              [
               [
                342.875,
                64.125
               ],
               [
                342.875,
                66.125
               ],
               [
                344.875,
                66.125
               ],
               [
                344.875,
                64.125
               ],
               [
                342.875,
                64.125
               ]
              ]
             ],
             "type": "Polygon"
            },
            "id": "253",
            "properties": {},
            "type": "Feature"
           },
           {
            "bbox": [
             344.875,
             64.125,
             346.875,
             66.125
            ],
            "geometry": {
             "coordinates": [
              [
               [
                344.875,
                64.125
               ],
               [
                344.875,
                66.125
               ],
               [
                346.875,
                66.125
               ],
               [
                346.875,
                64.125
               ],
               [
                344.875,
                64.125
               ]
              ]
             ],
             "type": "Polygon"
            },
            "id": "254",
            "properties": {},
            "type": "Feature"
           },
           {
            "bbox": [
             346.875,
             64.125,
             348.875,
             66.125
            ],
            "geometry": {
             "coordinates": [
              [
               [
                346.875,
                64.125
               ],
               [
                346.875,
                66.125
               ],
               [
                348.875,
                66.125
               ],
               [
                348.875,
                64.125
               ],
               [
                346.875,
                64.125
               ]
              ]
             ],
             "type": "Polygon"
            },
            "id": "255",
            "properties": {},
            "type": "Feature"
           },
           {
            "bbox": [
             284.875,
             62.125,
             286.875,
             64.125
            ],
            "geometry": {
             "coordinates": [
              [
               [
                284.875,
                62.125
               ],
               [
                284.875,
                64.125
               ],
               [
                286.875,
                64.125
               ],
               [
                286.875,
                62.125
               ],
               [
                284.875,
                62.125
               ]
              ]
             ],
             "type": "Polygon"
            },
            "id": "256",
            "properties": {},
            "type": "Feature"
           },
           {
            "bbox": [
             286.875,
             62.125,
             288.875,
             64.125
            ],
            "geometry": {
             "coordinates": [
              [
               [
                286.875,
                62.125
               ],
               [
                286.875,
                64.125
               ],
               [
                288.875,
                64.125
               ],
               [
                288.875,
                62.125
               ],
               [
                286.875,
                62.125
               ]
              ]
             ],
             "type": "Polygon"
            },
            "id": "257",
            "properties": {},
            "type": "Feature"
           },
           {
            "bbox": [
             288.875,
             62.125,
             290.875,
             64.125
            ],
            "geometry": {
             "coordinates": [
              [
               [
                288.875,
                62.125
               ],
               [
                288.875,
                64.125
               ],
               [
                290.875,
                64.125
               ],
               [
                290.875,
                62.125
               ],
               [
                288.875,
                62.125
               ]
              ]
             ],
             "type": "Polygon"
            },
            "id": "258",
            "properties": {},
            "type": "Feature"
           },
           {
            "bbox": [
             290.875,
             62.125,
             292.875,
             64.125
            ],
            "geometry": {
             "coordinates": [
              [
               [
                290.875,
                62.125
               ],
               [
                290.875,
                64.125
               ],
               [
                292.875,
                64.125
               ],
               [
                292.875,
                62.125
               ],
               [
                290.875,
                62.125
               ]
              ]
             ],
             "type": "Polygon"
            },
            "id": "259",
            "properties": {},
            "type": "Feature"
           },
           {
            "bbox": [
             292.875,
             62.125,
             294.875,
             64.125
            ],
            "geometry": {
             "coordinates": [
              [
               [
                292.875,
                62.125
               ],
               [
                292.875,
                64.125
               ],
               [
                294.875,
                64.125
               ],
               [
                294.875,
                62.125
               ],
               [
                292.875,
                62.125
               ]
              ]
             ],
             "type": "Polygon"
            },
            "id": "260",
            "properties": {},
            "type": "Feature"
           },
           {
            "bbox": [
             294.875,
             62.125,
             296.875,
             64.125
            ],
            "geometry": {
             "coordinates": [
              [
               [
                294.875,
                62.125
               ],
               [
                294.875,
                64.125
               ],
               [
                296.875,
                64.125
               ],
               [
                296.875,
                62.125
               ],
               [
                294.875,
                62.125
               ]
              ]
             ],
             "type": "Polygon"
            },
            "id": "261",
            "properties": {},
            "type": "Feature"
           },
           {
            "bbox": [
             296.875,
             62.125,
             298.875,
             64.125
            ],
            "geometry": {
             "coordinates": [
              [
               [
                296.875,
                62.125
               ],
               [
                296.875,
                64.125
               ],
               [
                298.875,
                64.125
               ],
               [
                298.875,
                62.125
               ],
               [
                296.875,
                62.125
               ]
              ]
             ],
             "type": "Polygon"
            },
            "id": "262",
            "properties": {},
            "type": "Feature"
           },
           {
            "bbox": [
             298.875,
             62.125,
             300.875,
             64.125
            ],
            "geometry": {
             "coordinates": [
              [
               [
                298.875,
                62.125
               ],
               [
                298.875,
                64.125
               ],
               [
                300.875,
                64.125
               ],
               [
                300.875,
                62.125
               ],
               [
                298.875,
                62.125
               ]
              ]
             ],
             "type": "Polygon"
            },
            "id": "263",
            "properties": {},
            "type": "Feature"
           },
           {
            "bbox": [
             300.875,
             62.125,
             302.875,
             64.125
            ],
            "geometry": {
             "coordinates": [
              [
               [
                300.875,
                62.125
               ],
               [
                300.875,
                64.125
               ],
               [
                302.875,
                64.125
               ],
               [
                302.875,
                62.125
               ],
               [
                300.875,
                62.125
               ]
              ]
             ],
             "type": "Polygon"
            },
            "id": "264",
            "properties": {},
            "type": "Feature"
           },
           {
            "bbox": [
             302.875,
             62.125,
             304.875,
             64.125
            ],
            "geometry": {
             "coordinates": [
              [
               [
                302.875,
                62.125
               ],
               [
                302.875,
                64.125
               ],
               [
                304.875,
                64.125
               ],
               [
                304.875,
                62.125
               ],
               [
                302.875,
                62.125
               ]
              ]
             ],
             "type": "Polygon"
            },
            "id": "265",
            "properties": {},
            "type": "Feature"
           },
           {
            "bbox": [
             304.875,
             62.125,
             306.875,
             64.125
            ],
            "geometry": {
             "coordinates": [
              [
               [
                304.875,
                62.125
               ],
               [
                304.875,
                64.125
               ],
               [
                306.875,
                64.125
               ],
               [
                306.875,
                62.125
               ],
               [
                304.875,
                62.125
               ]
              ]
             ],
             "type": "Polygon"
            },
            "id": "266",
            "properties": {},
            "type": "Feature"
           },
           {
            "bbox": [
             306.875,
             62.125,
             308.875,
             64.125
            ],
            "geometry": {
             "coordinates": [
              [
               [
                306.875,
                62.125
               ],
               [
                306.875,
                64.125
               ],
               [
                308.875,
                64.125
               ],
               [
                308.875,
                62.125
               ],
               [
                306.875,
                62.125
               ]
              ]
             ],
             "type": "Polygon"
            },
            "id": "267",
            "properties": {},
            "type": "Feature"
           },
           {
            "bbox": [
             308.875,
             62.125,
             310.875,
             64.125
            ],
            "geometry": {
             "coordinates": [
              [
               [
                308.875,
                62.125
               ],
               [
                308.875,
                64.125
               ],
               [
                310.875,
                64.125
               ],
               [
                310.875,
                62.125
               ],
               [
                308.875,
                62.125
               ]
              ]
             ],
             "type": "Polygon"
            },
            "id": "268",
            "properties": {},
            "type": "Feature"
           },
           {
            "bbox": [
             310.875,
             62.125,
             312.875,
             64.125
            ],
            "geometry": {
             "coordinates": [
              [
               [
                310.875,
                62.125
               ],
               [
                310.875,
                64.125
               ],
               [
                312.875,
                64.125
               ],
               [
                312.875,
                62.125
               ],
               [
                310.875,
                62.125
               ]
              ]
             ],
             "type": "Polygon"
            },
            "id": "269",
            "properties": {},
            "type": "Feature"
           },
           {
            "bbox": [
             312.875,
             62.125,
             314.875,
             64.125
            ],
            "geometry": {
             "coordinates": [
              [
               [
                312.875,
                62.125
               ],
               [
                312.875,
                64.125
               ],
               [
                314.875,
                64.125
               ],
               [
                314.875,
                62.125
               ],
               [
                312.875,
                62.125
               ]
              ]
             ],
             "type": "Polygon"
            },
            "id": "270",
            "properties": {},
            "type": "Feature"
           },
           {
            "bbox": [
             314.875,
             62.125,
             316.875,
             64.125
            ],
            "geometry": {
             "coordinates": [
              [
               [
                314.875,
                62.125
               ],
               [
                314.875,
                64.125
               ],
               [
                316.875,
                64.125
               ],
               [
                316.875,
                62.125
               ],
               [
                314.875,
                62.125
               ]
              ]
             ],
             "type": "Polygon"
            },
            "id": "271",
            "properties": {},
            "type": "Feature"
           },
           {
            "bbox": [
             316.875,
             62.125,
             318.875,
             64.125
            ],
            "geometry": {
             "coordinates": [
              [
               [
                316.875,
                62.125
               ],
               [
                316.875,
                64.125
               ],
               [
                318.875,
                64.125
               ],
               [
                318.875,
                62.125
               ],
               [
                316.875,
                62.125
               ]
              ]
             ],
             "type": "Polygon"
            },
            "id": "272",
            "properties": {},
            "type": "Feature"
           },
           {
            "bbox": [
             318.875,
             62.125,
             320.875,
             64.125
            ],
            "geometry": {
             "coordinates": [
              [
               [
                318.875,
                62.125
               ],
               [
                318.875,
                64.125
               ],
               [
                320.875,
                64.125
               ],
               [
                320.875,
                62.125
               ],
               [
                318.875,
                62.125
               ]
              ]
             ],
             "type": "Polygon"
            },
            "id": "273",
            "properties": {},
            "type": "Feature"
           },
           {
            "bbox": [
             320.875,
             62.125,
             322.875,
             64.125
            ],
            "geometry": {
             "coordinates": [
              [
               [
                320.875,
                62.125
               ],
               [
                320.875,
                64.125
               ],
               [
                322.875,
                64.125
               ],
               [
                322.875,
                62.125
               ],
               [
                320.875,
                62.125
               ]
              ]
             ],
             "type": "Polygon"
            },
            "id": "274",
            "properties": {},
            "type": "Feature"
           },
           {
            "bbox": [
             322.875,
             62.125,
             324.875,
             64.125
            ],
            "geometry": {
             "coordinates": [
              [
               [
                322.875,
                62.125
               ],
               [
                322.875,
                64.125
               ],
               [
                324.875,
                64.125
               ],
               [
                324.875,
                62.125
               ],
               [
                322.875,
                62.125
               ]
              ]
             ],
             "type": "Polygon"
            },
            "id": "275",
            "properties": {},
            "type": "Feature"
           },
           {
            "bbox": [
             324.875,
             62.125,
             326.875,
             64.125
            ],
            "geometry": {
             "coordinates": [
              [
               [
                324.875,
                62.125
               ],
               [
                324.875,
                64.125
               ],
               [
                326.875,
                64.125
               ],
               [
                326.875,
                62.125
               ],
               [
                324.875,
                62.125
               ]
              ]
             ],
             "type": "Polygon"
            },
            "id": "276",
            "properties": {},
            "type": "Feature"
           },
           {
            "bbox": [
             326.875,
             62.125,
             328.875,
             64.125
            ],
            "geometry": {
             "coordinates": [
              [
               [
                326.875,
                62.125
               ],
               [
                326.875,
                64.125
               ],
               [
                328.875,
                64.125
               ],
               [
                328.875,
                62.125
               ],
               [
                326.875,
                62.125
               ]
              ]
             ],
             "type": "Polygon"
            },
            "id": "277",
            "properties": {},
            "type": "Feature"
           },
           {
            "bbox": [
             328.875,
             62.125,
             330.875,
             64.125
            ],
            "geometry": {
             "coordinates": [
              [
               [
                328.875,
                62.125
               ],
               [
                328.875,
                64.125
               ],
               [
                330.875,
                64.125
               ],
               [
                330.875,
                62.125
               ],
               [
                328.875,
                62.125
               ]
              ]
             ],
             "type": "Polygon"
            },
            "id": "278",
            "properties": {},
            "type": "Feature"
           },
           {
            "bbox": [
             330.875,
             62.125,
             332.875,
             64.125
            ],
            "geometry": {
             "coordinates": [
              [
               [
                330.875,
                62.125
               ],
               [
                330.875,
                64.125
               ],
               [
                332.875,
                64.125
               ],
               [
                332.875,
                62.125
               ],
               [
                330.875,
                62.125
               ]
              ]
             ],
             "type": "Polygon"
            },
            "id": "279",
            "properties": {},
            "type": "Feature"
           },
           {
            "bbox": [
             332.875,
             62.125,
             334.875,
             64.125
            ],
            "geometry": {
             "coordinates": [
              [
               [
                332.875,
                62.125
               ],
               [
                332.875,
                64.125
               ],
               [
                334.875,
                64.125
               ],
               [
                334.875,
                62.125
               ],
               [
                332.875,
                62.125
               ]
              ]
             ],
             "type": "Polygon"
            },
            "id": "280",
            "properties": {},
            "type": "Feature"
           },
           {
            "bbox": [
             334.875,
             62.125,
             336.875,
             64.125
            ],
            "geometry": {
             "coordinates": [
              [
               [
                334.875,
                62.125
               ],
               [
                334.875,
                64.125
               ],
               [
                336.875,
                64.125
               ],
               [
                336.875,
                62.125
               ],
               [
                334.875,
                62.125
               ]
              ]
             ],
             "type": "Polygon"
            },
            "id": "281",
            "properties": {},
            "type": "Feature"
           },
           {
            "bbox": [
             336.875,
             62.125,
             338.875,
             64.125
            ],
            "geometry": {
             "coordinates": [
              [
               [
                336.875,
                62.125
               ],
               [
                336.875,
                64.125
               ],
               [
                338.875,
                64.125
               ],
               [
                338.875,
                62.125
               ],
               [
                336.875,
                62.125
               ]
              ]
             ],
             "type": "Polygon"
            },
            "id": "282",
            "properties": {},
            "type": "Feature"
           },
           {
            "bbox": [
             338.875,
             62.125,
             340.875,
             64.125
            ],
            "geometry": {
             "coordinates": [
              [
               [
                338.875,
                62.125
               ],
               [
                338.875,
                64.125
               ],
               [
                340.875,
                64.125
               ],
               [
                340.875,
                62.125
               ],
               [
                338.875,
                62.125
               ]
              ]
             ],
             "type": "Polygon"
            },
            "id": "283",
            "properties": {},
            "type": "Feature"
           },
           {
            "bbox": [
             340.875,
             62.125,
             342.875,
             64.125
            ],
            "geometry": {
             "coordinates": [
              [
               [
                340.875,
                62.125
               ],
               [
                340.875,
                64.125
               ],
               [
                342.875,
                64.125
               ],
               [
                342.875,
                62.125
               ],
               [
                340.875,
                62.125
               ]
              ]
             ],
             "type": "Polygon"
            },
            "id": "284",
            "properties": {},
            "type": "Feature"
           },
           {
            "bbox": [
             342.875,
             62.125,
             344.875,
             64.125
            ],
            "geometry": {
             "coordinates": [
              [
               [
                342.875,
                62.125
               ],
               [
                342.875,
                64.125
               ],
               [
                344.875,
                64.125
               ],
               [
                344.875,
                62.125
               ],
               [
                342.875,
                62.125
               ]
              ]
             ],
             "type": "Polygon"
            },
            "id": "285",
            "properties": {},
            "type": "Feature"
           },
           {
            "bbox": [
             344.875,
             62.125,
             346.875,
             64.125
            ],
            "geometry": {
             "coordinates": [
              [
               [
                344.875,
                62.125
               ],
               [
                344.875,
                64.125
               ],
               [
                346.875,
                64.125
               ],
               [
                346.875,
                62.125
               ],
               [
                344.875,
                62.125
               ]
              ]
             ],
             "type": "Polygon"
            },
            "id": "286",
            "properties": {},
            "type": "Feature"
           },
           {
            "bbox": [
             346.875,
             62.125,
             348.875,
             64.125
            ],
            "geometry": {
             "coordinates": [
              [
               [
                346.875,
                62.125
               ],
               [
                346.875,
                64.125
               ],
               [
                348.875,
                64.125
               ],
               [
                348.875,
                62.125
               ],
               [
                346.875,
                62.125
               ]
              ]
             ],
             "type": "Polygon"
            },
            "id": "287",
            "properties": {},
            "type": "Feature"
           },
           {
            "bbox": [
             284.875,
             60.125,
             286.875,
             62.125
            ],
            "geometry": {
             "coordinates": [
              [
               [
                284.875,
                60.125
               ],
               [
                284.875,
                62.125
               ],
               [
                286.875,
                62.125
               ],
               [
                286.875,
                60.125
               ],
               [
                284.875,
                60.125
               ]
              ]
             ],
             "type": "Polygon"
            },
            "id": "288",
            "properties": {},
            "type": "Feature"
           },
           {
            "bbox": [
             286.875,
             60.125,
             288.875,
             62.125
            ],
            "geometry": {
             "coordinates": [
              [
               [
                286.875,
                60.125
               ],
               [
                286.875,
                62.125
               ],
               [
                288.875,
                62.125
               ],
               [
                288.875,
                60.125
               ],
               [
                286.875,
                60.125
               ]
              ]
             ],
             "type": "Polygon"
            },
            "id": "289",
            "properties": {},
            "type": "Feature"
           },
           {
            "bbox": [
             288.875,
             60.125,
             290.875,
             62.125
            ],
            "geometry": {
             "coordinates": [
              [
               [
                288.875,
                60.125
               ],
               [
                288.875,
                62.125
               ],
               [
                290.875,
                62.125
               ],
               [
                290.875,
                60.125
               ],
               [
                288.875,
                60.125
               ]
              ]
             ],
             "type": "Polygon"
            },
            "id": "290",
            "properties": {},
            "type": "Feature"
           },
           {
            "bbox": [
             290.875,
             60.125,
             292.875,
             62.125
            ],
            "geometry": {
             "coordinates": [
              [
               [
                290.875,
                60.125
               ],
               [
                290.875,
                62.125
               ],
               [
                292.875,
                62.125
               ],
               [
                292.875,
                60.125
               ],
               [
                290.875,
                60.125
               ]
              ]
             ],
             "type": "Polygon"
            },
            "id": "291",
            "properties": {},
            "type": "Feature"
           },
           {
            "bbox": [
             292.875,
             60.125,
             294.875,
             62.125
            ],
            "geometry": {
             "coordinates": [
              [
               [
                292.875,
                60.125
               ],
               [
                292.875,
                62.125
               ],
               [
                294.875,
                62.125
               ],
               [
                294.875,
                60.125
               ],
               [
                292.875,
                60.125
               ]
              ]
             ],
             "type": "Polygon"
            },
            "id": "292",
            "properties": {},
            "type": "Feature"
           },
           {
            "bbox": [
             294.875,
             60.125,
             296.875,
             62.125
            ],
            "geometry": {
             "coordinates": [
              [
               [
                294.875,
                60.125
               ],
               [
                294.875,
                62.125
               ],
               [
                296.875,
                62.125
               ],
               [
                296.875,
                60.125
               ],
               [
                294.875,
                60.125
               ]
              ]
             ],
             "type": "Polygon"
            },
            "id": "293",
            "properties": {},
            "type": "Feature"
           },
           {
            "bbox": [
             296.875,
             60.125,
             298.875,
             62.125
            ],
            "geometry": {
             "coordinates": [
              [
               [
                296.875,
                60.125
               ],
               [
                296.875,
                62.125
               ],
               [
                298.875,
                62.125
               ],
               [
                298.875,
                60.125
               ],
               [
                296.875,
                60.125
               ]
              ]
             ],
             "type": "Polygon"
            },
            "id": "294",
            "properties": {},
            "type": "Feature"
           },
           {
            "bbox": [
             298.875,
             60.125,
             300.875,
             62.125
            ],
            "geometry": {
             "coordinates": [
              [
               [
                298.875,
                60.125
               ],
               [
                298.875,
                62.125
               ],
               [
                300.875,
                62.125
               ],
               [
                300.875,
                60.125
               ],
               [
                298.875,
                60.125
               ]
              ]
             ],
             "type": "Polygon"
            },
            "id": "295",
            "properties": {},
            "type": "Feature"
           },
           {
            "bbox": [
             300.875,
             60.125,
             302.875,
             62.125
            ],
            "geometry": {
             "coordinates": [
              [
               [
                300.875,
                60.125
               ],
               [
                300.875,
                62.125
               ],
               [
                302.875,
                62.125
               ],
               [
                302.875,
                60.125
               ],
               [
                300.875,
                60.125
               ]
              ]
             ],
             "type": "Polygon"
            },
            "id": "296",
            "properties": {},
            "type": "Feature"
           },
           {
            "bbox": [
             302.875,
             60.125,
             304.875,
             62.125
            ],
            "geometry": {
             "coordinates": [
              [
               [
                302.875,
                60.125
               ],
               [
                302.875,
                62.125
               ],
               [
                304.875,
                62.125
               ],
               [
                304.875,
                60.125
               ],
               [
                302.875,
                60.125
               ]
              ]
             ],
             "type": "Polygon"
            },
            "id": "297",
            "properties": {},
            "type": "Feature"
           },
           {
            "bbox": [
             304.875,
             60.125,
             306.875,
             62.125
            ],
            "geometry": {
             "coordinates": [
              [
               [
                304.875,
                60.125
               ],
               [
                304.875,
                62.125
               ],
               [
                306.875,
                62.125
               ],
               [
                306.875,
                60.125
               ],
               [
                304.875,
                60.125
               ]
              ]
             ],
             "type": "Polygon"
            },
            "id": "298",
            "properties": {},
            "type": "Feature"
           },
           {
            "bbox": [
             306.875,
             60.125,
             308.875,
             62.125
            ],
            "geometry": {
             "coordinates": [
              [
               [
                306.875,
                60.125
               ],
               [
                306.875,
                62.125
               ],
               [
                308.875,
                62.125
               ],
               [
                308.875,
                60.125
               ],
               [
                306.875,
                60.125
               ]
              ]
             ],
             "type": "Polygon"
            },
            "id": "299",
            "properties": {},
            "type": "Feature"
           },
           {
            "bbox": [
             308.875,
             60.125,
             310.875,
             62.125
            ],
            "geometry": {
             "coordinates": [
              [
               [
                308.875,
                60.125
               ],
               [
                308.875,
                62.125
               ],
               [
                310.875,
                62.125
               ],
               [
                310.875,
                60.125
               ],
               [
                308.875,
                60.125
               ]
              ]
             ],
             "type": "Polygon"
            },
            "id": "300",
            "properties": {},
            "type": "Feature"
           },
           {
            "bbox": [
             310.875,
             60.125,
             312.875,
             62.125
            ],
            "geometry": {
             "coordinates": [
              [
               [
                310.875,
                60.125
               ],
               [
                310.875,
                62.125
               ],
               [
                312.875,
                62.125
               ],
               [
                312.875,
                60.125
               ],
               [
                310.875,
                60.125
               ]
              ]
             ],
             "type": "Polygon"
            },
            "id": "301",
            "properties": {},
            "type": "Feature"
           },
           {
            "bbox": [
             312.875,
             60.125,
             314.875,
             62.125
            ],
            "geometry": {
             "coordinates": [
              [
               [
                312.875,
                60.125
               ],
               [
                312.875,
                62.125
               ],
               [
                314.875,
                62.125
               ],
               [
                314.875,
                60.125
               ],
               [
                312.875,
                60.125
               ]
              ]
             ],
             "type": "Polygon"
            },
            "id": "302",
            "properties": {},
            "type": "Feature"
           },
           {
            "bbox": [
             314.875,
             60.125,
             316.875,
             62.125
            ],
            "geometry": {
             "coordinates": [
              [
               [
                314.875,
                60.125
               ],
               [
                314.875,
                62.125
               ],
               [
                316.875,
                62.125
               ],
               [
                316.875,
                60.125
               ],
               [
                314.875,
                60.125
               ]
              ]
             ],
             "type": "Polygon"
            },
            "id": "303",
            "properties": {},
            "type": "Feature"
           },
           {
            "bbox": [
             316.875,
             60.125,
             318.875,
             62.125
            ],
            "geometry": {
             "coordinates": [
              [
               [
                316.875,
                60.125
               ],
               [
                316.875,
                62.125
               ],
               [
                318.875,
                62.125
               ],
               [
                318.875,
                60.125
               ],
               [
                316.875,
                60.125
               ]
              ]
             ],
             "type": "Polygon"
            },
            "id": "304",
            "properties": {},
            "type": "Feature"
           },
           {
            "bbox": [
             318.875,
             60.125,
             320.875,
             62.125
            ],
            "geometry": {
             "coordinates": [
              [
               [
                318.875,
                60.125
               ],
               [
                318.875,
                62.125
               ],
               [
                320.875,
                62.125
               ],
               [
                320.875,
                60.125
               ],
               [
                318.875,
                60.125
               ]
              ]
             ],
             "type": "Polygon"
            },
            "id": "305",
            "properties": {},
            "type": "Feature"
           },
           {
            "bbox": [
             320.875,
             60.125,
             322.875,
             62.125
            ],
            "geometry": {
             "coordinates": [
              [
               [
                320.875,
                60.125
               ],
               [
                320.875,
                62.125
               ],
               [
                322.875,
                62.125
               ],
               [
                322.875,
                60.125
               ],
               [
                320.875,
                60.125
               ]
              ]
             ],
             "type": "Polygon"
            },
            "id": "306",
            "properties": {},
            "type": "Feature"
           },
           {
            "bbox": [
             322.875,
             60.125,
             324.875,
             62.125
            ],
            "geometry": {
             "coordinates": [
              [
               [
                322.875,
                60.125
               ],
               [
                322.875,
                62.125
               ],
               [
                324.875,
                62.125
               ],
               [
                324.875,
                60.125
               ],
               [
                322.875,
                60.125
               ]
              ]
             ],
             "type": "Polygon"
            },
            "id": "307",
            "properties": {},
            "type": "Feature"
           },
           {
            "bbox": [
             324.875,
             60.125,
             326.875,
             62.125
            ],
            "geometry": {
             "coordinates": [
              [
               [
                324.875,
                60.125
               ],
               [
                324.875,
                62.125
               ],
               [
                326.875,
                62.125
               ],
               [
                326.875,
                60.125
               ],
               [
                324.875,
                60.125
               ]
              ]
             ],
             "type": "Polygon"
            },
            "id": "308",
            "properties": {},
            "type": "Feature"
           },
           {
            "bbox": [
             326.875,
             60.125,
             328.875,
             62.125
            ],
            "geometry": {
             "coordinates": [
              [
               [
                326.875,
                60.125
               ],
               [
                326.875,
                62.125
               ],
               [
                328.875,
                62.125
               ],
               [
                328.875,
                60.125
               ],
               [
                326.875,
                60.125
               ]
              ]
             ],
             "type": "Polygon"
            },
            "id": "309",
            "properties": {},
            "type": "Feature"
           },
           {
            "bbox": [
             328.875,
             60.125,
             330.875,
             62.125
            ],
            "geometry": {
             "coordinates": [
              [
               [
                328.875,
                60.125
               ],
               [
                328.875,
                62.125
               ],
               [
                330.875,
                62.125
               ],
               [
                330.875,
                60.125
               ],
               [
                328.875,
                60.125
               ]
              ]
             ],
             "type": "Polygon"
            },
            "id": "310",
            "properties": {},
            "type": "Feature"
           },
           {
            "bbox": [
             330.875,
             60.125,
             332.875,
             62.125
            ],
            "geometry": {
             "coordinates": [
              [
               [
                330.875,
                60.125
               ],
               [
                330.875,
                62.125
               ],
               [
                332.875,
                62.125
               ],
               [
                332.875,
                60.125
               ],
               [
                330.875,
                60.125
               ]
              ]
             ],
             "type": "Polygon"
            },
            "id": "311",
            "properties": {},
            "type": "Feature"
           },
           {
            "bbox": [
             332.875,
             60.125,
             334.875,
             62.125
            ],
            "geometry": {
             "coordinates": [
              [
               [
                332.875,
                60.125
               ],
               [
                332.875,
                62.125
               ],
               [
                334.875,
                62.125
               ],
               [
                334.875,
                60.125
               ],
               [
                332.875,
                60.125
               ]
              ]
             ],
             "type": "Polygon"
            },
            "id": "312",
            "properties": {},
            "type": "Feature"
           },
           {
            "bbox": [
             334.875,
             60.125,
             336.875,
             62.125
            ],
            "geometry": {
             "coordinates": [
              [
               [
                334.875,
                60.125
               ],
               [
                334.875,
                62.125
               ],
               [
                336.875,
                62.125
               ],
               [
                336.875,
                60.125
               ],
               [
                334.875,
                60.125
               ]
              ]
             ],
             "type": "Polygon"
            },
            "id": "313",
            "properties": {},
            "type": "Feature"
           },
           {
            "bbox": [
             336.875,
             60.125,
             338.875,
             62.125
            ],
            "geometry": {
             "coordinates": [
              [
               [
                336.875,
                60.125
               ],
               [
                336.875,
                62.125
               ],
               [
                338.875,
                62.125
               ],
               [
                338.875,
                60.125
               ],
               [
                336.875,
                60.125
               ]
              ]
             ],
             "type": "Polygon"
            },
            "id": "314",
            "properties": {},
            "type": "Feature"
           },
           {
            "bbox": [
             338.875,
             60.125,
             340.875,
             62.125
            ],
            "geometry": {
             "coordinates": [
              [
               [
                338.875,
                60.125
               ],
               [
                338.875,
                62.125
               ],
               [
                340.875,
                62.125
               ],
               [
                340.875,
                60.125
               ],
               [
                338.875,
                60.125
               ]
              ]
             ],
             "type": "Polygon"
            },
            "id": "315",
            "properties": {},
            "type": "Feature"
           },
           {
            "bbox": [
             340.875,
             60.125,
             342.875,
             62.125
            ],
            "geometry": {
             "coordinates": [
              [
               [
                340.875,
                60.125
               ],
               [
                340.875,
                62.125
               ],
               [
                342.875,
                62.125
               ],
               [
                342.875,
                60.125
               ],
               [
                340.875,
                60.125
               ]
              ]
             ],
             "type": "Polygon"
            },
            "id": "316",
            "properties": {},
            "type": "Feature"
           },
           {
            "bbox": [
             342.875,
             60.125,
             344.875,
             62.125
            ],
            "geometry": {
             "coordinates": [
              [
               [
                342.875,
                60.125
               ],
               [
                342.875,
                62.125
               ],
               [
                344.875,
                62.125
               ],
               [
                344.875,
                60.125
               ],
               [
                342.875,
                60.125
               ]
              ]
             ],
             "type": "Polygon"
            },
            "id": "317",
            "properties": {},
            "type": "Feature"
           },
           {
            "bbox": [
             344.875,
             60.125,
             346.875,
             62.125
            ],
            "geometry": {
             "coordinates": [
              [
               [
                344.875,
                60.125
               ],
               [
                344.875,
                62.125
               ],
               [
                346.875,
                62.125
               ],
               [
                346.875,
                60.125
               ],
               [
                344.875,
                60.125
               ]
              ]
             ],
             "type": "Polygon"
            },
            "id": "318",
            "properties": {},
            "type": "Feature"
           },
           {
            "bbox": [
             346.875,
             60.125,
             348.875,
             62.125
            ],
            "geometry": {
             "coordinates": [
              [
               [
                346.875,
                60.125
               ],
               [
                346.875,
                62.125
               ],
               [
                348.875,
                62.125
               ],
               [
                348.875,
                60.125
               ],
               [
                346.875,
                60.125
               ]
              ]
             ],
             "type": "Polygon"
            },
            "id": "319",
            "properties": {},
            "type": "Feature"
           }
          ],
          "type": "FeatureCollection"
         },
         "hovertemplate": "spatial_mask=False<br>index=%{location}<extra></extra>",
         "locations": [
          62,
          63,
          92,
          93,
          94,
          95,
          122,
          123,
          124,
          125,
          126,
          127,
          137,
          153,
          154,
          155,
          156,
          157,
          158,
          159,
          169,
          170,
          186,
          187,
          188,
          189,
          190,
          191,
          201,
          202,
          213,
          214,
          215,
          216,
          217,
          218,
          219,
          220,
          221,
          222,
          223,
          232,
          233,
          234,
          242,
          243,
          244,
          245,
          246,
          247,
          248,
          249,
          250,
          251,
          252,
          253,
          254,
          255,
          263,
          264,
          265,
          266,
          267,
          272,
          273,
          274,
          275,
          276,
          277,
          278,
          279,
          280,
          281,
          282,
          283,
          284,
          285,
          286,
          287,
          292,
          293,
          294,
          295,
          296,
          297,
          298,
          299,
          300,
          301,
          304,
          305,
          306,
          307,
          308,
          309,
          310,
          311,
          312,
          313,
          314,
          315,
          316,
          317,
          318,
          319
         ],
         "name": "False",
         "showlegend": true,
         "showscale": false,
         "subplot": "mapbox",
         "type": "choroplethmapbox",
         "z": [
          1,
          1,
          1,
          1,
          1,
          1,
          1,
          1,
          1,
          1,
          1,
          1,
          1,
          1,
          1,
          1,
          1,
          1,
          1,
          1,
          1,
          1,
          1,
          1,
          1,
          1,
          1,
          1,
          1,
          1,
          1,
          1,
          1,
          1,
          1,
          1,
          1,
          1,
          1,
          1,
          1,
          1,
          1,
          1,
          1,
          1,
          1,
          1,
          1,
          1,
          1,
          1,
          1,
          1,
          1,
          1,
          1,
          1,
          1,
          1,
          1,
          1,
          1,
          1,
          1,
          1,
          1,
          1,
          1,
          1,
          1,
          1,
          1,
          1,
          1,
          1,
          1,
          1,
          1,
          1,
          1,
          1,
          1,
          1,
          1,
          1,
          1,
          1,
          1,
          1,
          1,
          1,
          1,
          1,
          1,
          1,
          1,
          1,
          1,
          1,
          1,
          1,
          1,
          1,
          1
         ]
        }
       ],
       "layout": {
        "legend": {
         "title": {
          "text": "spatial_mask"
         },
         "tracegroupgap": 0
        },
        "mapbox": {
         "center": {
          "lat": 69.125,
          "lon": 315.875
         },
         "domain": {
          "x": [
           0,
           1
          ],
          "y": [
           0,
           1
          ]
         },
         "style": "carto-positron",
         "zoom": 1
        },
        "margin": {
         "t": 60
        },
        "template": {
         "data": {
          "bar": [
           {
            "error_x": {
             "color": "#2a3f5f"
            },
            "error_y": {
             "color": "#2a3f5f"
            },
            "marker": {
             "line": {
              "color": "#E5ECF6",
              "width": 0.5
             },
             "pattern": {
              "fillmode": "overlay",
              "size": 10,
              "solidity": 0.2
             }
            },
            "type": "bar"
           }
          ],
          "barpolar": [
           {
            "marker": {
             "line": {
              "color": "#E5ECF6",
              "width": 0.5
             },
             "pattern": {
              "fillmode": "overlay",
              "size": 10,
              "solidity": 0.2
             }
            },
            "type": "barpolar"
           }
          ],
          "carpet": [
           {
            "aaxis": {
             "endlinecolor": "#2a3f5f",
             "gridcolor": "white",
             "linecolor": "white",
             "minorgridcolor": "white",
             "startlinecolor": "#2a3f5f"
            },
            "baxis": {
             "endlinecolor": "#2a3f5f",
             "gridcolor": "white",
             "linecolor": "white",
             "minorgridcolor": "white",
             "startlinecolor": "#2a3f5f"
            },
            "type": "carpet"
           }
          ],
          "choropleth": [
           {
            "colorbar": {
             "outlinewidth": 0,
             "ticks": ""
            },
            "type": "choropleth"
           }
          ],
          "contour": [
           {
            "colorbar": {
             "outlinewidth": 0,
             "ticks": ""
            },
            "colorscale": [
             [
              0,
              "#0d0887"
             ],
             [
              0.1111111111111111,
              "#46039f"
             ],
             [
              0.2222222222222222,
              "#7201a8"
             ],
             [
              0.3333333333333333,
              "#9c179e"
             ],
             [
              0.4444444444444444,
              "#bd3786"
             ],
             [
              0.5555555555555556,
              "#d8576b"
             ],
             [
              0.6666666666666666,
              "#ed7953"
             ],
             [
              0.7777777777777778,
              "#fb9f3a"
             ],
             [
              0.8888888888888888,
              "#fdca26"
             ],
             [
              1,
              "#f0f921"
             ]
            ],
            "type": "contour"
           }
          ],
          "contourcarpet": [
           {
            "colorbar": {
             "outlinewidth": 0,
             "ticks": ""
            },
            "type": "contourcarpet"
           }
          ],
          "heatmap": [
           {
            "colorbar": {
             "outlinewidth": 0,
             "ticks": ""
            },
            "colorscale": [
             [
              0,
              "#0d0887"
             ],
             [
              0.1111111111111111,
              "#46039f"
             ],
             [
              0.2222222222222222,
              "#7201a8"
             ],
             [
              0.3333333333333333,
              "#9c179e"
             ],
             [
              0.4444444444444444,
              "#bd3786"
             ],
             [
              0.5555555555555556,
              "#d8576b"
             ],
             [
              0.6666666666666666,
              "#ed7953"
             ],
             [
              0.7777777777777778,
              "#fb9f3a"
             ],
             [
              0.8888888888888888,
              "#fdca26"
             ],
             [
              1,
              "#f0f921"
             ]
            ],
            "type": "heatmap"
           }
          ],
          "heatmapgl": [
           {
            "colorbar": {
             "outlinewidth": 0,
             "ticks": ""
            },
            "colorscale": [
             [
              0,
              "#0d0887"
             ],
             [
              0.1111111111111111,
              "#46039f"
             ],
             [
              0.2222222222222222,
              "#7201a8"
             ],
             [
              0.3333333333333333,
              "#9c179e"
             ],
             [
              0.4444444444444444,
              "#bd3786"
             ],
             [
              0.5555555555555556,
              "#d8576b"
             ],
             [
              0.6666666666666666,
              "#ed7953"
             ],
             [
              0.7777777777777778,
              "#fb9f3a"
             ],
             [
              0.8888888888888888,
              "#fdca26"
             ],
             [
              1,
              "#f0f921"
             ]
            ],
            "type": "heatmapgl"
           }
          ],
          "histogram": [
           {
            "marker": {
             "pattern": {
              "fillmode": "overlay",
              "size": 10,
              "solidity": 0.2
             }
            },
            "type": "histogram"
           }
          ],
          "histogram2d": [
           {
            "colorbar": {
             "outlinewidth": 0,
             "ticks": ""
            },
            "colorscale": [
             [
              0,
              "#0d0887"
             ],
             [
              0.1111111111111111,
              "#46039f"
             ],
             [
              0.2222222222222222,
              "#7201a8"
             ],
             [
              0.3333333333333333,
              "#9c179e"
             ],
             [
              0.4444444444444444,
              "#bd3786"
             ],
             [
              0.5555555555555556,
              "#d8576b"
             ],
             [
              0.6666666666666666,
              "#ed7953"
             ],
             [
              0.7777777777777778,
              "#fb9f3a"
             ],
             [
              0.8888888888888888,
              "#fdca26"
             ],
             [
              1,
              "#f0f921"
             ]
            ],
            "type": "histogram2d"
           }
          ],
          "histogram2dcontour": [
           {
            "colorbar": {
             "outlinewidth": 0,
             "ticks": ""
            },
            "colorscale": [
             [
              0,
              "#0d0887"
             ],
             [
              0.1111111111111111,
              "#46039f"
             ],
             [
              0.2222222222222222,
              "#7201a8"
             ],
             [
              0.3333333333333333,
              "#9c179e"
             ],
             [
              0.4444444444444444,
              "#bd3786"
             ],
             [
              0.5555555555555556,
              "#d8576b"
             ],
             [
              0.6666666666666666,
              "#ed7953"
             ],
             [
              0.7777777777777778,
              "#fb9f3a"
             ],
             [
              0.8888888888888888,
              "#fdca26"
             ],
             [
              1,
              "#f0f921"
             ]
            ],
            "type": "histogram2dcontour"
           }
          ],
          "mesh3d": [
           {
            "colorbar": {
             "outlinewidth": 0,
             "ticks": ""
            },
            "type": "mesh3d"
           }
          ],
          "parcoords": [
           {
            "line": {
             "colorbar": {
              "outlinewidth": 0,
              "ticks": ""
             }
            },
            "type": "parcoords"
           }
          ],
          "pie": [
           {
            "automargin": true,
            "type": "pie"
           }
          ],
          "scatter": [
           {
            "fillpattern": {
             "fillmode": "overlay",
             "size": 10,
             "solidity": 0.2
            },
            "type": "scatter"
           }
          ],
          "scatter3d": [
           {
            "line": {
             "colorbar": {
              "outlinewidth": 0,
              "ticks": ""
             }
            },
            "marker": {
             "colorbar": {
              "outlinewidth": 0,
              "ticks": ""
             }
            },
            "type": "scatter3d"
           }
          ],
          "scattercarpet": [
           {
            "marker": {
             "colorbar": {
              "outlinewidth": 0,
              "ticks": ""
             }
            },
            "type": "scattercarpet"
           }
          ],
          "scattergeo": [
           {
            "marker": {
             "colorbar": {
              "outlinewidth": 0,
              "ticks": ""
             }
            },
            "type": "scattergeo"
           }
          ],
          "scattergl": [
           {
            "marker": {
             "colorbar": {
              "outlinewidth": 0,
              "ticks": ""
             }
            },
            "type": "scattergl"
           }
          ],
          "scattermapbox": [
           {
            "marker": {
             "colorbar": {
              "outlinewidth": 0,
              "ticks": ""
             }
            },
            "type": "scattermapbox"
           }
          ],
          "scatterpolar": [
           {
            "marker": {
             "colorbar": {
              "outlinewidth": 0,
              "ticks": ""
             }
            },
            "type": "scatterpolar"
           }
          ],
          "scatterpolargl": [
           {
            "marker": {
             "colorbar": {
              "outlinewidth": 0,
              "ticks": ""
             }
            },
            "type": "scatterpolargl"
           }
          ],
          "scatterternary": [
           {
            "marker": {
             "colorbar": {
              "outlinewidth": 0,
              "ticks": ""
             }
            },
            "type": "scatterternary"
           }
          ],
          "surface": [
           {
            "colorbar": {
             "outlinewidth": 0,
             "ticks": ""
            },
            "colorscale": [
             [
              0,
              "#0d0887"
             ],
             [
              0.1111111111111111,
              "#46039f"
             ],
             [
              0.2222222222222222,
              "#7201a8"
             ],
             [
              0.3333333333333333,
              "#9c179e"
             ],
             [
              0.4444444444444444,
              "#bd3786"
             ],
             [
              0.5555555555555556,
              "#d8576b"
             ],
             [
              0.6666666666666666,
              "#ed7953"
             ],
             [
              0.7777777777777778,
              "#fb9f3a"
             ],
             [
              0.8888888888888888,
              "#fdca26"
             ],
             [
              1,
              "#f0f921"
             ]
            ],
            "type": "surface"
           }
          ],
          "table": [
           {
            "cells": {
             "fill": {
              "color": "#EBF0F8"
             },
             "line": {
              "color": "white"
             }
            },
            "header": {
             "fill": {
              "color": "#C8D4E3"
             },
             "line": {
              "color": "white"
             }
            },
            "type": "table"
           }
          ]
         },
         "layout": {
          "annotationdefaults": {
           "arrowcolor": "#2a3f5f",
           "arrowhead": 0,
           "arrowwidth": 1
          },
          "autotypenumbers": "strict",
          "coloraxis": {
           "colorbar": {
            "outlinewidth": 0,
            "ticks": ""
           }
          },
          "colorscale": {
           "diverging": [
            [
             0,
             "#8e0152"
            ],
            [
             0.1,
             "#c51b7d"
            ],
            [
             0.2,
             "#de77ae"
            ],
            [
             0.3,
             "#f1b6da"
            ],
            [
             0.4,
             "#fde0ef"
            ],
            [
             0.5,
             "#f7f7f7"
            ],
            [
             0.6,
             "#e6f5d0"
            ],
            [
             0.7,
             "#b8e186"
            ],
            [
             0.8,
             "#7fbc41"
            ],
            [
             0.9,
             "#4d9221"
            ],
            [
             1,
             "#276419"
            ]
           ],
           "sequential": [
            [
             0,
             "#0d0887"
            ],
            [
             0.1111111111111111,
             "#46039f"
            ],
            [
             0.2222222222222222,
             "#7201a8"
            ],
            [
             0.3333333333333333,
             "#9c179e"
            ],
            [
             0.4444444444444444,
             "#bd3786"
            ],
            [
             0.5555555555555556,
             "#d8576b"
            ],
            [
             0.6666666666666666,
             "#ed7953"
            ],
            [
             0.7777777777777778,
             "#fb9f3a"
            ],
            [
             0.8888888888888888,
             "#fdca26"
            ],
            [
             1,
             "#f0f921"
            ]
           ],
           "sequentialminus": [
            [
             0,
             "#0d0887"
            ],
            [
             0.1111111111111111,
             "#46039f"
            ],
            [
             0.2222222222222222,
             "#7201a8"
            ],
            [
             0.3333333333333333,
             "#9c179e"
            ],
            [
             0.4444444444444444,
             "#bd3786"
            ],
            [
             0.5555555555555556,
             "#d8576b"
            ],
            [
             0.6666666666666666,
             "#ed7953"
            ],
            [
             0.7777777777777778,
             "#fb9f3a"
            ],
            [
             0.8888888888888888,
             "#fdca26"
            ],
            [
             1,
             "#f0f921"
            ]
           ]
          },
          "colorway": [
           "#636efa",
           "#EF553B",
           "#00cc96",
           "#ab63fa",
           "#FFA15A",
           "#19d3f3",
           "#FF6692",
           "#B6E880",
           "#FF97FF",
           "#FECB52"
          ],
          "font": {
           "color": "#2a3f5f"
          },
          "geo": {
           "bgcolor": "white",
           "lakecolor": "white",
           "landcolor": "#E5ECF6",
           "showlakes": true,
           "showland": true,
           "subunitcolor": "white"
          },
          "hoverlabel": {
           "align": "left"
          },
          "hovermode": "closest",
          "mapbox": {
           "style": "light"
          },
          "paper_bgcolor": "white",
          "plot_bgcolor": "#E5ECF6",
          "polar": {
           "angularaxis": {
            "gridcolor": "white",
            "linecolor": "white",
            "ticks": ""
           },
           "bgcolor": "#E5ECF6",
           "radialaxis": {
            "gridcolor": "white",
            "linecolor": "white",
            "ticks": ""
           }
          },
          "scene": {
           "xaxis": {
            "backgroundcolor": "#E5ECF6",
            "gridcolor": "white",
            "gridwidth": 2,
            "linecolor": "white",
            "showbackground": true,
            "ticks": "",
            "zerolinecolor": "white"
           },
           "yaxis": {
            "backgroundcolor": "#E5ECF6",
            "gridcolor": "white",
            "gridwidth": 2,
            "linecolor": "white",
            "showbackground": true,
            "ticks": "",
            "zerolinecolor": "white"
           },
           "zaxis": {
            "backgroundcolor": "#E5ECF6",
            "gridcolor": "white",
            "gridwidth": 2,
            "linecolor": "white",
            "showbackground": true,
            "ticks": "",
            "zerolinecolor": "white"
           }
          },
          "shapedefaults": {
           "line": {
            "color": "#2a3f5f"
           }
          },
          "ternary": {
           "aaxis": {
            "gridcolor": "white",
            "linecolor": "white",
            "ticks": ""
           },
           "baxis": {
            "gridcolor": "white",
            "linecolor": "white",
            "ticks": ""
           },
           "bgcolor": "#E5ECF6",
           "caxis": {
            "gridcolor": "white",
            "linecolor": "white",
            "ticks": ""
           }
          },
          "title": {
           "x": 0.05
          },
          "xaxis": {
           "automargin": true,
           "gridcolor": "white",
           "linecolor": "white",
           "ticks": "",
           "title": {
            "standoff": 15
           },
           "zerolinecolor": "white",
           "zerolinewidth": 2
          },
          "yaxis": {
           "automargin": true,
           "gridcolor": "white",
           "linecolor": "white",
           "ticks": "",
           "title": {
            "standoff": 15
           },
           "zerolinecolor": "white",
           "zerolinewidth": 2
          }
         }
        }
       }
      }
     },
     "metadata": {},
     "output_type": "display_data"
    }
   ],
   "source": [
    "df = af[\"spatial_mask\"].to_dataframe().reset_index()\n",
    "df[\"latitude\"] = df[\"latitude\"] - 1\n",
    "df[\"longitude\"] = df[\"longitude\"] - 1\n",
    "df[\"latitude2\"] = df[\"latitude\"] + 2\n",
    "df[\"longitude2\"] = df[\"longitude\"] + 2\n",
    "gdf = gpd.GeoDataFrame(df, geometry=[Polygon([(x, y), (x, y2), (x2, y2), (x2, y)]) for x, y, x2, y2 in zip(df[\"longitude\"], df[\"latitude\"], df[\"longitude2\"], df[\"latitude2\"])])\n",
    "\n",
    "\n",
    "fig = px.choropleth_mapbox(\n",
    "    gdf,\n",
    "    geojson=gdf.geometry,\n",
    "    locations=gdf.index,\n",
    "    color=\"spatial_mask\",\n",
    "    mapbox_style=\"carto-positron\",\n",
    "    center={\"lat\": gdf[\"latitude\"].mean(), \"lon\": gdf[\"longitude\"].mean()},\n",
    "    zoom=1,\n",
    ")\n",
    "fig.show()"
   ]
  }
 ],
 "metadata": {
  "kernelspec": {
   "display_name": "Python 3 (ipykernel)",
   "language": "python",
   "name": "python3"
  },
  "language_info": {
   "codemirror_mode": {
    "name": "ipython",
    "version": 3
   },
   "file_extension": ".py",
   "mimetype": "text/x-python",
   "name": "python",
   "nbconvert_exporter": "python",
   "pygments_lexer": "ipython3",
   "version": "3.11.8"
  }
 },
 "nbformat": 4,
 "nbformat_minor": 4
}
